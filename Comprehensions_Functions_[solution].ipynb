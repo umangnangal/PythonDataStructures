{
  "cells": [
    {
      "cell_type": "markdown",
      "metadata": {
        "id": "evpcACi-LBK2"
      },
      "source": [
        "# Comprehensions\n",
        "Comprehensions in Python are a succinct and powerful feature for creating and transforming data structures. They provide a concise syntax for generating and modifying iterables such as lists and dictionaries, allowing for efficient operations on iterable objects in just a single line of code.\n",
        "\n",
        "They follow the general syntax `[expression for item in iterable if condition]`"
      ]
    },
    {
      "cell_type": "markdown",
      "metadata": {
        "id": "_SycI1xMdn0v"
      },
      "source": [
        "# Comprehensions"
      ]
    },
    {
      "cell_type": "markdown",
      "metadata": {
        "id": "PGJZRkAENIR_"
      },
      "source": [
        "### Example\n",
        "Creating list comprehensions"
      ]
    },
    {
      "cell_type": "code",
      "execution_count": 165,
      "metadata": {
        "id": "UVzNiZzjN3JC"
      },
      "outputs": [],
      "source": [
        "daily_sales = [120, 105, 133, 89, 74, 112, 115]"
      ]
    },
    {
      "cell_type": "code",
      "execution_count": 166,
      "metadata": {
        "colab": {
          "base_uri": "https://localhost:8080/"
        },
        "id": "N_INuxeON7Rp",
        "outputId": "fd55fe8d-8908-46ee-c7c4-d77253d0e1b1"
      },
      "outputs": [
        {
          "output_type": "execute_result",
          "data": {
            "text/plain": [
              "[120, 105, 133, 89, 74, 112, 115]"
            ]
          },
          "metadata": {},
          "execution_count": 166
        }
      ],
      "source": [
        "daily_sales"
      ]
    },
    {
      "cell_type": "code",
      "execution_count": 167,
      "metadata": {
        "id": "EOQKCqF6_LAR",
        "outputId": "6ac64f0e-36c2-4c37-f54e-89775b66960c",
        "colab": {
          "base_uri": "https://localhost:8080/"
        }
      },
      "outputs": [
        {
          "output_type": "execute_result",
          "data": {
            "text/plain": [
              "[120, 105, 133, 89, 74, 112, 115]"
            ]
          },
          "metadata": {},
          "execution_count": 167
        }
      ],
      "source": [
        "[val for val in daily_sales]"
      ]
    },
    {
      "cell_type": "code",
      "execution_count": 168,
      "metadata": {
        "id": "VhNoH5bgNRHa"
      },
      "outputs": [],
      "source": [
        "rate_val = 5"
      ]
    },
    {
      "cell_type": "code",
      "execution_count": 169,
      "metadata": {
        "colab": {
          "base_uri": "https://localhost:8080/"
        },
        "id": "7dTbe6QMNZ7t",
        "outputId": "835ca6f5-5a13-4072-a291-b94f17f3d57c"
      },
      "outputs": [
        {
          "output_type": "execute_result",
          "data": {
            "text/plain": [
              "[600, 525, 665, 445, 370, 560, 575]"
            ]
          },
          "metadata": {},
          "execution_count": 169
        }
      ],
      "source": [
        "[val * rate_val for val in daily_sales]"
      ]
    },
    {
      "cell_type": "code",
      "execution_count": 170,
      "metadata": {
        "id": "H5ppXkfq_LAR",
        "outputId": "9c14693a-480a-42d3-e3c9-dc0348e6aca0",
        "colab": {
          "base_uri": "https://localhost:8080/"
        }
      },
      "outputs": [
        {
          "output_type": "execute_result",
          "data": {
            "text/plain": [
              "[600, 525, 665, 445, 370, 560, 575]"
            ]
          },
          "metadata": {},
          "execution_count": 170
        }
      ],
      "source": [
        "daily_sales_revenue = [val * rate_val for val in daily_sales]\n",
        "daily_sales_revenue"
      ]
    },
    {
      "cell_type": "code",
      "execution_count": 171,
      "metadata": {
        "id": "Cr1No6F5Ody7"
      },
      "outputs": [],
      "source": [
        "comp_list = [num ** 2 for num in range(1, 6)]"
      ]
    },
    {
      "cell_type": "code",
      "execution_count": 172,
      "metadata": {
        "colab": {
          "base_uri": "https://localhost:8080/"
        },
        "id": "6HnvbxUWNkuf",
        "outputId": "0afb6062-272d-4f6a-f8d9-385ea56871c4"
      },
      "outputs": [
        {
          "output_type": "execute_result",
          "data": {
            "text/plain": [
              "[1, 4, 9, 16, 25]"
            ]
          },
          "metadata": {},
          "execution_count": 172
        }
      ],
      "source": [
        "comp_list"
      ]
    },
    {
      "cell_type": "code",
      "execution_count": 173,
      "metadata": {
        "id": "E5NQ93iuO_kY"
      },
      "outputs": [],
      "source": [
        "my_string = 'Hello'"
      ]
    },
    {
      "cell_type": "code",
      "execution_count": 174,
      "metadata": {
        "id": "up8E4_tBPEAU"
      },
      "outputs": [],
      "source": [
        "comp_list = [char for char in my_string]"
      ]
    },
    {
      "cell_type": "code",
      "execution_count": 175,
      "metadata": {
        "colab": {
          "base_uri": "https://localhost:8080/"
        },
        "id": "aGI_ddRGPKxL",
        "outputId": "e62d5320-872f-4e72-8215-6cb66dcac1be"
      },
      "outputs": [
        {
          "output_type": "execute_result",
          "data": {
            "text/plain": [
              "['H', 'e', 'l', 'l', 'o']"
            ]
          },
          "metadata": {},
          "execution_count": 175
        }
      ],
      "source": [
        "comp_list"
      ]
    },
    {
      "cell_type": "code",
      "execution_count": 176,
      "metadata": {
        "id": "ytuXur2R_LAS"
      },
      "outputs": [],
      "source": [
        "comp_list = [ord(char) for char in my_string]"
      ]
    },
    {
      "cell_type": "code",
      "execution_count": 177,
      "metadata": {
        "id": "1Ssklav1_LAS",
        "outputId": "430dda90-bb04-4995-8900-1975ba03b871",
        "colab": {
          "base_uri": "https://localhost:8080/"
        }
      },
      "outputs": [
        {
          "output_type": "execute_result",
          "data": {
            "text/plain": [
              "[72, 101, 108, 108, 111]"
            ]
          },
          "metadata": {},
          "execution_count": 177
        }
      ],
      "source": [
        "comp_list"
      ]
    },
    {
      "cell_type": "code",
      "source": [
        "# filtering using a conditional\n",
        "comp_list = [char for char in my_string if char in \"aeiou\"]"
      ],
      "metadata": {
        "id": "BykuXGSS2dMP"
      },
      "execution_count": 178,
      "outputs": []
    },
    {
      "cell_type": "code",
      "source": [
        "comp_list"
      ],
      "metadata": {
        "id": "zQGI08NR2otY",
        "colab": {
          "base_uri": "https://localhost:8080/"
        },
        "outputId": "46ea195b-417f-41d0-fb16-47b381118d5d"
      },
      "execution_count": 179,
      "outputs": [
        {
          "output_type": "execute_result",
          "data": {
            "text/plain": [
              "['e', 'o']"
            ]
          },
          "metadata": {},
          "execution_count": 179
        }
      ]
    },
    {
      "cell_type": "markdown",
      "metadata": {
        "id": "EkMUjxdn_LAS"
      },
      "source": [
        "### Quiz\n",
        "Transform the list `[10, 20, 30, 40, 50, 60, 70]` to `[1, 2, 3, 4, 5, 6, 7]` using comprehensions"
      ]
    },
    {
      "cell_type": "code",
      "execution_count": 180,
      "metadata": {
        "id": "30rmgaDB_LAS",
        "outputId": "135c1d2f-322c-47d7-c42e-1e1c365db3dc",
        "colab": {
          "base_uri": "https://localhost:8080/"
        }
      },
      "outputs": [
        {
          "output_type": "execute_result",
          "data": {
            "text/plain": [
              "[1, 2, 3, 4, 5, 6, 7]"
            ]
          },
          "metadata": {},
          "execution_count": 180
        }
      ],
      "source": [
        "my_list = [10, 20, 30, 40, 50, 60, 70]\n",
        "comp_list = [num//10 for num in my_list]\n",
        "comp_list"
      ]
    },
    {
      "cell_type": "markdown",
      "source": [
        "Similarly, we can create comprehensions using other Python data structures as well."
      ],
      "metadata": {
        "id": "AISoBLP-nI_X"
      }
    },
    {
      "cell_type": "markdown",
      "metadata": {
        "id": "Yct3gIc9Ca_D"
      },
      "source": [
        "### Example\n",
        "Dictionary comprehensions"
      ]
    },
    {
      "cell_type": "code",
      "execution_count": 181,
      "metadata": {
        "id": "Hwewnm1nCakb"
      },
      "outputs": [],
      "source": [
        "dict_comp = {i: i for i in range(4)}"
      ]
    },
    {
      "cell_type": "code",
      "execution_count": 182,
      "metadata": {
        "colab": {
          "base_uri": "https://localhost:8080/"
        },
        "id": "fmT1PkXsdh8p",
        "outputId": "b7048ff6-ee71-4085-930e-45582f1421dd"
      },
      "outputs": [
        {
          "output_type": "execute_result",
          "data": {
            "text/plain": [
              "{0: 0, 1: 1, 2: 2, 3: 3}"
            ]
          },
          "metadata": {},
          "execution_count": 182
        }
      ],
      "source": [
        "dict_comp"
      ]
    },
    {
      "cell_type": "code",
      "execution_count": 183,
      "metadata": {
        "colab": {
          "base_uri": "https://localhost:8080/"
        },
        "id": "I4PBSPW0Eb6K",
        "outputId": "d8ffe41b-4a3f-4ea9-9dd3-47f627f74157"
      },
      "outputs": [
        {
          "output_type": "execute_result",
          "data": {
            "text/plain": [
              "dict"
            ]
          },
          "metadata": {},
          "execution_count": 183
        }
      ],
      "source": [
        "type(dict_comp)"
      ]
    },
    {
      "cell_type": "code",
      "execution_count": 184,
      "metadata": {
        "id": "l3-zq-zLEgNC"
      },
      "outputs": [],
      "source": [
        "dict_comp = {num: num * 2 for num in range(3)}"
      ]
    },
    {
      "cell_type": "code",
      "execution_count": 185,
      "metadata": {
        "colab": {
          "base_uri": "https://localhost:8080/"
        },
        "id": "MOCoORw3ExbO",
        "outputId": "95cd16ef-08ba-4cbb-975b-7d190758792e"
      },
      "outputs": [
        {
          "output_type": "execute_result",
          "data": {
            "text/plain": [
              "{0: 0, 1: 2, 2: 4}"
            ]
          },
          "metadata": {},
          "execution_count": 185
        }
      ],
      "source": [
        "dict_comp"
      ]
    },
    {
      "cell_type": "code",
      "execution_count": 186,
      "metadata": {
        "id": "87KCBGgZHNJf"
      },
      "outputs": [],
      "source": [
        "words = ['apple', 'banana', 'kiwi', 'orange', 'grape']"
      ]
    },
    {
      "cell_type": "code",
      "execution_count": 187,
      "metadata": {
        "id": "rkHQ7GAVE40p"
      },
      "outputs": [],
      "source": [
        "dict_comp = {word: len(word) for word in words}"
      ]
    },
    {
      "cell_type": "code",
      "execution_count": 188,
      "metadata": {
        "colab": {
          "base_uri": "https://localhost:8080/"
        },
        "id": "WI1nYD0aHfts",
        "outputId": "350bdf53-b985-4d1f-b5a6-876b6f14d91f"
      },
      "outputs": [
        {
          "output_type": "execute_result",
          "data": {
            "text/plain": [
              "{'apple': 5, 'banana': 6, 'kiwi': 4, 'orange': 6, 'grape': 5}"
            ]
          },
          "metadata": {},
          "execution_count": 188
        }
      ],
      "source": [
        "dict_comp"
      ]
    },
    {
      "cell_type": "code",
      "execution_count": 189,
      "metadata": {
        "id": "LcBEUDtlHu9n"
      },
      "outputs": [],
      "source": [
        "dict_comp = {word: word.upper() for word in words}"
      ]
    },
    {
      "cell_type": "code",
      "execution_count": 190,
      "metadata": {
        "colab": {
          "base_uri": "https://localhost:8080/"
        },
        "id": "TsfSavs-H2tV",
        "outputId": "bd98c08e-4cf2-407b-b23d-deb6535aff1a"
      },
      "outputs": [
        {
          "output_type": "execute_result",
          "data": {
            "text/plain": [
              "{'apple': 'APPLE',\n",
              " 'banana': 'BANANA',\n",
              " 'kiwi': 'KIWI',\n",
              " 'orange': 'ORANGE',\n",
              " 'grape': 'GRAPE'}"
            ]
          },
          "metadata": {},
          "execution_count": 190
        }
      ],
      "source": [
        "dict_comp"
      ]
    },
    {
      "cell_type": "code",
      "source": [
        "# filtering using a conditional\n",
        "dict_comp = {word: word for word in words if 'n' in word}"
      ],
      "metadata": {
        "id": "MqU7jrnp1BK2"
      },
      "execution_count": 191,
      "outputs": []
    },
    {
      "cell_type": "code",
      "source": [
        "dict_comp"
      ],
      "metadata": {
        "colab": {
          "base_uri": "https://localhost:8080/"
        },
        "id": "mlXrMdlO1VyH",
        "outputId": "de46ab3d-1b16-4282-a2a9-038c05489076"
      },
      "execution_count": 192,
      "outputs": [
        {
          "output_type": "execute_result",
          "data": {
            "text/plain": [
              "{'banana': 'banana', 'orange': 'orange'}"
            ]
          },
          "metadata": {},
          "execution_count": 192
        }
      ]
    },
    {
      "cell_type": "markdown",
      "metadata": {
        "id": "diHS0eZdIshI"
      },
      "source": [
        "# Functions\n",
        "In Python, a function is a block of organized, reusable code that performs a specific task. Functions help in modularizing code, making it more readable, and promoting code reusability."
      ]
    },
    {
      "cell_type": "markdown",
      "metadata": {
        "id": "xBaa7CTnJSi4"
      },
      "source": [
        "## Built-in functions\n",
        "So far in earlier sessions, you have come across several built-in functions and functions such as `len`, `print`, `ord`, `int`, `sorted` and so on\n",
        "\n",
        "Built-in functions in Python are functions that are available as part of the Python standard library. These functions are always accessible and don't require importing any additional modules."
      ]
    },
    {
      "cell_type": "markdown",
      "metadata": {
        "id": "nGuAJYoKKV9O"
      },
      "source": [
        "### Example\n",
        "Built-in functions"
      ]
    },
    {
      "cell_type": "code",
      "execution_count": 193,
      "metadata": {
        "colab": {
          "base_uri": "https://localhost:8080/"
        },
        "id": "LLiit23K9LEI",
        "outputId": "75144361-3c05-4dca-e97c-ffcddd57f36e"
      },
      "outputs": [
        {
          "output_type": "stream",
          "name": "stdout",
          "text": [
            "This a built-in function\n"
          ]
        }
      ],
      "source": [
        "print('This a built-in function')"
      ]
    },
    {
      "cell_type": "code",
      "execution_count": 194,
      "metadata": {
        "colab": {
          "base_uri": "https://localhost:8080/"
        },
        "id": "rB1hAfjqLOHd",
        "outputId": "3f240c64-9459-4021-fd1a-fc3d67420e40"
      },
      "outputs": [
        {
          "output_type": "execute_result",
          "data": {
            "text/plain": [
              "12"
            ]
          },
          "metadata": {},
          "execution_count": 194
        }
      ],
      "source": [
        "len('Harry Potter')"
      ]
    },
    {
      "cell_type": "code",
      "execution_count": 195,
      "metadata": {
        "colab": {
          "base_uri": "https://localhost:8080/"
        },
        "id": "ux7OQ4O-LVKu",
        "outputId": "2afef641-c83c-413e-ab78-d9139f743402"
      },
      "outputs": [
        {
          "output_type": "execute_result",
          "data": {
            "text/plain": [
              "65"
            ]
          },
          "metadata": {},
          "execution_count": 195
        }
      ],
      "source": [
        "ord('A')"
      ]
    },
    {
      "cell_type": "code",
      "execution_count": 196,
      "metadata": {
        "colab": {
          "base_uri": "https://localhost:8080/"
        },
        "id": "k_fjQeS0LZjv",
        "outputId": "43cbcfe8-b4a7-4c87-aa60-93ebe8d41ba6"
      },
      "outputs": [
        {
          "output_type": "execute_result",
          "data": {
            "text/plain": [
              "[1, 2, 3, 4, 5]"
            ]
          },
          "metadata": {},
          "execution_count": 196
        }
      ],
      "source": [
        "sorted([5, 4, 3, 2, 1])"
      ]
    },
    {
      "cell_type": "code",
      "execution_count": 197,
      "metadata": {
        "colab": {
          "base_uri": "https://localhost:8080/"
        },
        "id": "T1JHE_MTLe-4",
        "outputId": "8ca6e6f8-3f00-4b96-8ac5-c48bda676728"
      },
      "outputs": [
        {
          "output_type": "execute_result",
          "data": {
            "text/plain": [
              "40"
            ]
          },
          "metadata": {},
          "execution_count": 197
        }
      ],
      "source": [
        "abs(-40)"
      ]
    },
    {
      "cell_type": "markdown",
      "metadata": {
        "id": "R7LywiInLlJ_"
      },
      "source": [
        "Notice that you were not required to write a logic for the above functions. You only have to call them to access their functionality."
      ]
    },
    {
      "cell_type": "markdown",
      "metadata": {
        "id": "HUlhcGfTMtSC"
      },
      "source": [
        "Python has an extensive list of built-in functions that perform a variety of tasks. You are encouraged to explore these further."
      ]
    },
    {
      "cell_type": "markdown",
      "metadata": {
        "id": "OebxpA0-Nk8j"
      },
      "source": [
        "## User-defined functions"
      ]
    },
    {
      "cell_type": "markdown",
      "metadata": {
        "id": "8r5I2FdyNyGG"
      },
      "source": [
        "### Example\n",
        "Defining a function"
      ]
    },
    {
      "cell_type": "code",
      "execution_count": 198,
      "metadata": {
        "id": "SlIaJbBlOHeP"
      },
      "outputs": [],
      "source": [
        "# Defining a function\n",
        "def printer_function():\n",
        "    print('This a simple function')"
      ]
    },
    {
      "cell_type": "code",
      "execution_count": 199,
      "metadata": {
        "colab": {
          "base_uri": "https://localhost:8080/",
          "height": 104
        },
        "id": "V-duYZmDPe8k",
        "outputId": "0cb90c1f-08a5-437b-f561-4df815b23c25"
      },
      "outputs": [
        {
          "output_type": "execute_result",
          "data": {
            "text/plain": [
              "<function __main__.printer_function()>"
            ],
            "text/html": [
              "<div style=\"max-width:800px; border: 1px solid var(--colab-border-color);\"><style>\n",
              "      pre.function-repr-contents {\n",
              "        overflow-x: auto;\n",
              "        padding: 8px 12px;\n",
              "        max-height: 500px;\n",
              "      }\n",
              "\n",
              "      pre.function-repr-contents.function-repr-contents-collapsed {\n",
              "        cursor: pointer;\n",
              "        max-height: 100px;\n",
              "      }\n",
              "    </style>\n",
              "    <pre style=\"white-space: initial; background:\n",
              "         var(--colab-secondary-surface-color); padding: 8px 12px;\n",
              "         border-bottom: 1px solid var(--colab-border-color);\"><b>printer_function</b><br/>def printer_function()</pre><pre class=\"function-repr-contents function-repr-contents-collapsed\" style=\"\"><a class=\"filepath\" style=\"display:none\" href=\"#\">/content/&lt;ipython-input-198-bd3acb1a3ea1&gt;</a>&lt;no docstring&gt;</pre></div>"
            ]
          },
          "metadata": {},
          "execution_count": 199
        }
      ],
      "source": [
        "printer_function"
      ]
    },
    {
      "cell_type": "code",
      "execution_count": 200,
      "metadata": {
        "colab": {
          "base_uri": "https://localhost:8080/"
        },
        "id": "g4MIsT43PNdV",
        "outputId": "2b522722-6b93-4ec3-cc86-089545100994"
      },
      "outputs": [
        {
          "output_type": "stream",
          "name": "stdout",
          "text": [
            "This a simple function\n"
          ]
        }
      ],
      "source": [
        "# Calling the function\n",
        "printer_function()"
      ]
    },
    {
      "cell_type": "code",
      "execution_count": 201,
      "metadata": {
        "id": "L84M9cpoRBze"
      },
      "outputs": [],
      "source": [
        "# def printer_function:\n",
        "#     print('This a simple function')"
      ]
    },
    {
      "cell_type": "code",
      "execution_count": 202,
      "metadata": {
        "id": "xYn92YAgP0EJ"
      },
      "outputs": [],
      "source": [
        "# def printer_function():\n",
        "# print('This a simple function')"
      ]
    },
    {
      "cell_type": "markdown",
      "metadata": {
        "id": "UDWHIcqzP9xG"
      },
      "source": [
        "Notice similar to conditional and looping structures, functions require an indentation when writing the logic statements"
      ]
    },
    {
      "cell_type": "code",
      "execution_count": 203,
      "metadata": {
        "id": "1my7jiX2P81i"
      },
      "outputs": [],
      "source": [
        "def greet():\n",
        "    print('Hello there!')"
      ]
    },
    {
      "cell_type": "code",
      "execution_count": 204,
      "metadata": {
        "colab": {
          "base_uri": "https://localhost:8080/"
        },
        "id": "WAlSXfZmQ1LL",
        "outputId": "54c01152-275e-4c35-b690-76519b496971"
      },
      "outputs": [
        {
          "output_type": "stream",
          "name": "stdout",
          "text": [
            "Hello there!\n"
          ]
        }
      ],
      "source": [
        "greet()"
      ]
    },
    {
      "cell_type": "markdown",
      "metadata": {
        "id": "sQZkh13pd6c0"
      },
      "source": [
        "### Example\n",
        "Practical considerations while defining functions: Adding docstring in function definition. A docstring in Python is a multiline comment that occurs as the first statement in a function. Its purpose is to provide documentation for the function."
      ]
    },
    {
      "cell_type": "code",
      "execution_count": 205,
      "metadata": {
        "id": "I52RqrZseFvM"
      },
      "outputs": [],
      "source": [
        "def greeting():\n",
        "    \"\"\"\n",
        "    This function prints a greeting message\n",
        "    \"\"\"\n",
        "    print('Hello!')"
      ]
    },
    {
      "cell_type": "code",
      "execution_count": 206,
      "metadata": {
        "colab": {
          "base_uri": "https://localhost:8080/"
        },
        "id": "MlpRWKXFfiwo",
        "outputId": "220c482e-70ee-4281-98f2-23d20d18e255"
      },
      "outputs": [
        {
          "output_type": "stream",
          "name": "stdout",
          "text": [
            "Hello!\n"
          ]
        }
      ],
      "source": [
        "greeting()"
      ]
    },
    {
      "cell_type": "code",
      "execution_count": 207,
      "metadata": {
        "colab": {
          "base_uri": "https://localhost:8080/"
        },
        "id": "42vktwgDeV9W",
        "outputId": "41a85a97-b752-44db-cf00-5272ebec97de"
      },
      "outputs": [
        {
          "output_type": "stream",
          "name": "stdout",
          "text": [
            "Help on function greeting in module __main__:\n",
            "\n",
            "greeting()\n",
            "    This function prints a greeting message\n",
            "\n"
          ]
        }
      ],
      "source": [
        "help(greeting)"
      ]
    },
    {
      "cell_type": "markdown",
      "metadata": {
        "id": "P9Gm8_3nBAHP"
      },
      "source": [
        "Note that `help` is also a function"
      ]
    },
    {
      "cell_type": "code",
      "execution_count": 208,
      "metadata": {
        "id": "tOsFLmQXfVUl"
      },
      "outputs": [],
      "source": [
        "def add():\n",
        "    \"\"\"\n",
        "    This function calculates and prints the sum of 10 and 30\n",
        "    \"\"\"\n",
        "    a = 10\n",
        "    b = 30\n",
        "    print(a + b)"
      ]
    },
    {
      "cell_type": "code",
      "execution_count": 209,
      "metadata": {
        "colab": {
          "base_uri": "https://localhost:8080/"
        },
        "id": "sm12ifYZfgml",
        "outputId": "2126eab2-687a-4a72-88ad-26388eaf9e4f"
      },
      "outputs": [
        {
          "output_type": "stream",
          "name": "stdout",
          "text": [
            "40\n"
          ]
        }
      ],
      "source": [
        "add()"
      ]
    },
    {
      "cell_type": "code",
      "execution_count": 210,
      "metadata": {
        "colab": {
          "base_uri": "https://localhost:8080/"
        },
        "id": "uxjJes4NfncO",
        "outputId": "ab47c50a-53bc-495e-a131-53fe272dae5e"
      },
      "outputs": [
        {
          "output_type": "stream",
          "name": "stdout",
          "text": [
            "Help on function add in module __main__:\n",
            "\n",
            "add()\n",
            "    This function calculates and prints the sum of 10 and 30\n",
            "\n"
          ]
        }
      ],
      "source": [
        "help(add)"
      ]
    },
    {
      "cell_type": "markdown",
      "metadata": {
        "id": "uP0TPffZf6FJ"
      },
      "source": [
        "### Example\n",
        "Practical considerations while defining functions: Using the `pass` statement. The `pass` statement is a `null` operation, and it does nothing when executed. It is often used as a placeholder before writing the code in a function."
      ]
    },
    {
      "cell_type": "code",
      "execution_count": 211,
      "metadata": {
        "id": "vadOofIfgXLn"
      },
      "outputs": [],
      "source": [
        "def my_function():\n",
        "    pass"
      ]
    },
    {
      "cell_type": "code",
      "execution_count": 212,
      "metadata": {
        "id": "VtW1Hrr_suok"
      },
      "outputs": [],
      "source": [
        "my_function()"
      ]
    },
    {
      "cell_type": "markdown",
      "metadata": {
        "id": "TRcLYWMigm2v"
      },
      "source": [
        "### Quiz\n",
        "Create a function that calculates and prints the square of 10. Add a docstring to help describe the function."
      ]
    },
    {
      "cell_type": "code",
      "execution_count": 213,
      "metadata": {
        "id": "7RJLHhhqg2Sf"
      },
      "outputs": [],
      "source": [
        "def num_squared():\n",
        "    \"\"\"\n",
        "    This function calculates and prints the square of 10\n",
        "    \"\"\"\n",
        "    num = 10\n",
        "    print('The square of', num, 'is', num ** 2)"
      ]
    },
    {
      "cell_type": "code",
      "execution_count": 214,
      "metadata": {
        "colab": {
          "base_uri": "https://localhost:8080/"
        },
        "id": "kLLy3tnLhTgy",
        "outputId": "0039cddf-0c37-43a5-acfb-50f6c2fd361d"
      },
      "outputs": [
        {
          "output_type": "stream",
          "name": "stdout",
          "text": [
            "The square of 10 is 100\n"
          ]
        }
      ],
      "source": [
        "num_squared()"
      ]
    },
    {
      "cell_type": "code",
      "execution_count": 215,
      "metadata": {
        "colab": {
          "base_uri": "https://localhost:8080/"
        },
        "id": "2c5FoTvHhYZw",
        "outputId": "a36606a4-d9ae-4657-d9be-44fb3b926923"
      },
      "outputs": [
        {
          "output_type": "stream",
          "name": "stdout",
          "text": [
            "Help on function num_squared in module __main__:\n",
            "\n",
            "num_squared()\n",
            "    This function calculates and prints the square of 10\n",
            "\n"
          ]
        }
      ],
      "source": [
        "help(num_squared)"
      ]
    },
    {
      "cell_type": "markdown",
      "metadata": {
        "id": "aJpIgFRKpQkk"
      },
      "source": [
        "## Function scope\n",
        "In Python, the concepts of global and local scope are crucial for understanding how variables are accessed and modified within functions"
      ]
    },
    {
      "cell_type": "markdown",
      "metadata": {
        "id": "C3K80I3gBAHU"
      },
      "source": [
        "**Global scope**:\n",
        "- Variables outside functions have global scope\n",
        "- Accessible throughout the code\n",
        "- Declared at the top level of a script or module"
      ]
    },
    {
      "cell_type": "markdown",
      "metadata": {
        "id": "28EVd9EPq6-c"
      },
      "source": [
        "### Example\n",
        "Global variable"
      ]
    },
    {
      "cell_type": "code",
      "execution_count": 216,
      "metadata": {
        "id": "5tiNEIYWpVKV"
      },
      "outputs": [],
      "source": [
        "global_variable = 10\n",
        "\n",
        "def some_function():\n",
        "    print(global_variable)"
      ]
    },
    {
      "cell_type": "code",
      "execution_count": 217,
      "metadata": {
        "colab": {
          "base_uri": "https://localhost:8080/"
        },
        "id": "9xbo8pDYqN1w",
        "outputId": "8cffa02c-44da-4246-ebeb-42055cb1b43b"
      },
      "outputs": [
        {
          "output_type": "stream",
          "name": "stdout",
          "text": [
            "10\n"
          ]
        }
      ],
      "source": [
        "some_function()"
      ]
    },
    {
      "cell_type": "markdown",
      "metadata": {
        "id": "agKN8BCXqQIO"
      },
      "source": [
        "**Local scope**:\n",
        "- Variables inside functions have local scope\n",
        "- Accessible only within that function\n",
        "- Created and destroyed when the function is called and exits"
      ]
    },
    {
      "cell_type": "code",
      "execution_count": 218,
      "metadata": {
        "id": "8YA4mEQpqNyA"
      },
      "outputs": [],
      "source": [
        "def another_function():\n",
        "    local_variable = 5\n",
        "    print(local_variable)"
      ]
    },
    {
      "cell_type": "code",
      "execution_count": 219,
      "metadata": {
        "colab": {
          "base_uri": "https://localhost:8080/"
        },
        "id": "Vtk10MfBqLI_",
        "outputId": "2b03626c-aaad-4610-d4fd-60c437269667"
      },
      "outputs": [
        {
          "output_type": "stream",
          "name": "stdout",
          "text": [
            "5\n"
          ]
        }
      ],
      "source": [
        "another_function()"
      ]
    },
    {
      "cell_type": "code",
      "execution_count": 220,
      "metadata": {
        "id": "k6Dfp4wJqeVZ"
      },
      "outputs": [],
      "source": [
        "# print(local_variable)"
      ]
    },
    {
      "cell_type": "markdown",
      "metadata": {
        "id": "NQewhqvcqiBq"
      },
      "source": [
        "### Example\n",
        "Modifying a global variable inside a function requires using the `global` keyword"
      ]
    },
    {
      "cell_type": "code",
      "execution_count": 221,
      "metadata": {
        "id": "TgaMFC2xqkJe"
      },
      "outputs": [],
      "source": [
        "global_variable = 10"
      ]
    },
    {
      "cell_type": "code",
      "execution_count": 222,
      "metadata": {
        "colab": {
          "base_uri": "https://localhost:8080/"
        },
        "id": "BGRRdy20qtc1",
        "outputId": "5fb537e9-da1c-4fdd-b3e5-f35aedd0524d"
      },
      "outputs": [
        {
          "output_type": "execute_result",
          "data": {
            "text/plain": [
              "10"
            ]
          },
          "metadata": {},
          "execution_count": 222
        }
      ],
      "source": [
        "global_variable"
      ]
    },
    {
      "cell_type": "code",
      "execution_count": 223,
      "metadata": {
        "id": "Cp1SNybfqqQD"
      },
      "outputs": [],
      "source": [
        "def modify_global():\n",
        "    global global_variable\n",
        "    global_variable = 20"
      ]
    },
    {
      "cell_type": "code",
      "execution_count": 224,
      "metadata": {
        "id": "vEhUFXOeqsM9"
      },
      "outputs": [],
      "source": [
        "modify_global()"
      ]
    },
    {
      "cell_type": "code",
      "execution_count": 225,
      "metadata": {
        "colab": {
          "base_uri": "https://localhost:8080/"
        },
        "id": "4WSkbmdvqyF0",
        "outputId": "4691295c-3434-4a02-c1bc-24277758a6dd"
      },
      "outputs": [
        {
          "output_type": "execute_result",
          "data": {
            "text/plain": [
              "20"
            ]
          },
          "metadata": {},
          "execution_count": 225
        }
      ],
      "source": [
        "global_variable"
      ]
    },
    {
      "cell_type": "markdown",
      "metadata": {
        "id": "Jb5Uhi33rCPe"
      },
      "source": [
        "Modifying a global variable without using the global keyword doesn't change its value outside the function scope"
      ]
    },
    {
      "cell_type": "code",
      "execution_count": 226,
      "metadata": {
        "id": "abdZjd6Uq_it"
      },
      "outputs": [],
      "source": [
        "global_variable = 10"
      ]
    },
    {
      "cell_type": "code",
      "execution_count": 227,
      "metadata": {
        "id": "FiyQpAtFrKYj"
      },
      "outputs": [],
      "source": [
        "def modify_global():\n",
        "    global_variable = 20"
      ]
    },
    {
      "cell_type": "code",
      "execution_count": 228,
      "metadata": {
        "id": "DH6SfDO3rNOP"
      },
      "outputs": [],
      "source": [
        "modify_global()"
      ]
    },
    {
      "cell_type": "code",
      "execution_count": 229,
      "metadata": {
        "colab": {
          "base_uri": "https://localhost:8080/"
        },
        "id": "68FvbPSprOpU",
        "outputId": "7a7761a9-43db-4875-e3d3-47d7b043531b"
      },
      "outputs": [
        {
          "output_type": "execute_result",
          "data": {
            "text/plain": [
              "10"
            ]
          },
          "metadata": {},
          "execution_count": 229
        }
      ],
      "source": [
        "global_variable"
      ]
    },
    {
      "cell_type": "markdown",
      "metadata": {
        "id": "mm1KTwBSreK5"
      },
      "source": [
        "### Quiz\n",
        "Save the string `'2024B4A3'` in a global variable `ID`. Then define a function called `append_string` that appends the string `'737G'` to the string stored in `ID` by changing the `ID` variable itself."
      ]
    },
    {
      "cell_type": "code",
      "execution_count": 230,
      "metadata": {
        "id": "lwXbWc-MrtiP"
      },
      "outputs": [],
      "source": [
        "ID = '2024B4A3'"
      ]
    },
    {
      "cell_type": "code",
      "execution_count": 231,
      "metadata": {
        "id": "8Dq9Bsz7r00g"
      },
      "outputs": [],
      "source": [
        "def append_string():\n",
        "    '''This function appends a string at the end of the global variable ID'''\n",
        "    global ID\n",
        "    ID = ID + '737G'"
      ]
    },
    {
      "cell_type": "code",
      "execution_count": 232,
      "metadata": {
        "id": "d3yQx7oHsPfv"
      },
      "outputs": [],
      "source": [
        "append_string()"
      ]
    },
    {
      "cell_type": "code",
      "execution_count": 233,
      "metadata": {
        "colab": {
          "base_uri": "https://localhost:8080/",
          "height": 35
        },
        "id": "mXFXr6mWr9XP",
        "outputId": "afc7ca8c-f543-4fa6-bedb-b84192242368"
      },
      "outputs": [
        {
          "output_type": "execute_result",
          "data": {
            "text/plain": [
              "'2024B4A3737G'"
            ],
            "application/vnd.google.colaboratory.intrinsic+json": {
              "type": "string"
            }
          },
          "metadata": {},
          "execution_count": 233
        }
      ],
      "source": [
        "ID"
      ]
    },
    {
      "cell_type": "markdown",
      "metadata": {
        "id": "1FJq_cSqcnG-"
      },
      "source": [
        "## Returning values"
      ]
    },
    {
      "cell_type": "markdown",
      "metadata": {
        "id": "kQeX_n2Dht22"
      },
      "source": [
        "### Example\n",
        "Notice so far when you we called the functions, you were printing values using the `print` funtion. However, one of the essential features of function is the ability to return values using the `return` statement. You have used this functionality while accessing Python's built-in functions.\n",
        "\n",
        "Note that the docstring is used to specify the return type of the function as well"
      ]
    },
    {
      "cell_type": "code",
      "execution_count": 234,
      "metadata": {
        "id": "vX3rHTkRk2YW"
      },
      "outputs": [],
      "source": [
        "def add():\n",
        "    '''\n",
        "    Returns the sum of 4 and 3\n",
        "    return: The sum of 4 and 3\n",
        "    rtype: int\n",
        "    '''\n",
        "\n",
        "    a = 4\n",
        "    b = 3\n",
        "\n",
        "    return a + b"
      ]
    },
    {
      "cell_type": "code",
      "execution_count": 235,
      "metadata": {
        "id": "IausEbRPlAMI"
      },
      "outputs": [],
      "source": [
        "val = add()"
      ]
    },
    {
      "cell_type": "code",
      "execution_count": 236,
      "metadata": {
        "colab": {
          "base_uri": "https://localhost:8080/"
        },
        "id": "JH8NL0Nxsq4X",
        "outputId": "b0cc9d6e-08d1-4d71-b34e-0d92c6c86c97"
      },
      "outputs": [
        {
          "output_type": "execute_result",
          "data": {
            "text/plain": [
              "7"
            ]
          },
          "metadata": {},
          "execution_count": 236
        }
      ],
      "source": [
        "val"
      ]
    },
    {
      "cell_type": "markdown",
      "metadata": {
        "id": "-7EsPwmatVRa"
      },
      "source": [
        "You can return multiple values as a tuple"
      ]
    },
    {
      "cell_type": "code",
      "execution_count": 237,
      "metadata": {
        "id": "sBAaGJjrlUE3"
      },
      "outputs": [],
      "source": [
        "def return_vals():\n",
        "    '''\n",
        "    Returns a float and a string value\n",
        "    return: a number\n",
        "    rtype: float\n",
        "    return: a phrase\n",
        "    rtype: string\n",
        "    '''\n",
        "    a = 1.2\n",
        "    b = 'some string'\n",
        "\n",
        "    return a, b"
      ]
    },
    {
      "cell_type": "code",
      "execution_count": 238,
      "metadata": {
        "id": "rxPbFbSQlrDI"
      },
      "outputs": [],
      "source": [
        "values = return_vals()"
      ]
    },
    {
      "cell_type": "code",
      "execution_count": 239,
      "metadata": {
        "colab": {
          "base_uri": "https://localhost:8080/"
        },
        "id": "Bv_PJJTvtaYu",
        "outputId": "24f377e3-b78f-489f-c080-15db67faa38f"
      },
      "outputs": [
        {
          "output_type": "execute_result",
          "data": {
            "text/plain": [
              "(1.2, 'some string')"
            ]
          },
          "metadata": {},
          "execution_count": 239
        }
      ],
      "source": [
        "values"
      ]
    },
    {
      "cell_type": "code",
      "execution_count": 240,
      "metadata": {
        "colab": {
          "base_uri": "https://localhost:8080/"
        },
        "id": "k9c7otVNlura",
        "outputId": "9ebe88de-ed7f-4039-d4b2-6d5f5393b2b0"
      },
      "outputs": [
        {
          "output_type": "execute_result",
          "data": {
            "text/plain": [
              "tuple"
            ]
          },
          "metadata": {},
          "execution_count": 240
        }
      ],
      "source": [
        "type(return_vals())"
      ]
    },
    {
      "cell_type": "code",
      "execution_count": 241,
      "metadata": {
        "id": "zavCiLJgtdx_"
      },
      "outputs": [],
      "source": [
        "float_value, string_value = return_vals()"
      ]
    },
    {
      "cell_type": "code",
      "execution_count": 242,
      "metadata": {
        "colab": {
          "base_uri": "https://localhost:8080/"
        },
        "id": "Gq1lRXuQthwc",
        "outputId": "cc8abe81-e2e6-470f-c431-2546156cf95a"
      },
      "outputs": [
        {
          "output_type": "stream",
          "name": "stdout",
          "text": [
            "1.2 <class 'float'>\n"
          ]
        }
      ],
      "source": [
        "print(float_value, type(float_value))"
      ]
    },
    {
      "cell_type": "code",
      "execution_count": 243,
      "metadata": {
        "colab": {
          "base_uri": "https://localhost:8080/"
        },
        "id": "KQs3AQo-tjOY",
        "outputId": "93d0e438-44e4-4244-f9b0-e35ae16512c4"
      },
      "outputs": [
        {
          "output_type": "stream",
          "name": "stdout",
          "text": [
            "some string <class 'str'>\n"
          ]
        }
      ],
      "source": [
        "print(string_value, type(string_value))"
      ]
    },
    {
      "cell_type": "markdown",
      "metadata": {
        "id": "-FtcrdCFmAvr"
      },
      "source": [
        "### Quiz\n",
        "Write a function that returns the sum and product of the numbers 2 and 3"
      ]
    },
    {
      "cell_type": "code",
      "execution_count": 244,
      "metadata": {
        "id": "Tgaw8rgFmksO"
      },
      "outputs": [],
      "source": [
        "def return_numbers():\n",
        "    \"\"\"\n",
        "    Calculates the sum and product of 2 and 3 and returns the two values.\n",
        "    Returns:\n",
        "    - int: The sum of the two random numbers\n",
        "    - int: The product of the two random numbers\n",
        "    \"\"\"\n",
        "    # Declare the two numbers\n",
        "    num1 = 2\n",
        "    num2 = 3\n",
        "\n",
        "    # Calculate sum and product\n",
        "    summation = num1 + num2\n",
        "    product = num1 * num2\n",
        "\n",
        "    # Return both values\n",
        "    return summation, product"
      ]
    },
    {
      "cell_type": "code",
      "execution_count": 245,
      "metadata": {
        "id": "gMnOmOAMmp7h"
      },
      "outputs": [],
      "source": [
        "# Example usage\n",
        "result_sum, result_product = return_numbers()"
      ]
    },
    {
      "cell_type": "code",
      "execution_count": 246,
      "metadata": {
        "colab": {
          "base_uri": "https://localhost:8080/"
        },
        "id": "ykDnwC2nywxH",
        "outputId": "5e6a9926-e054-4052-d9f5-ebf60cfa483a"
      },
      "outputs": [
        {
          "output_type": "stream",
          "name": "stdout",
          "text": [
            "Sum: 5, Product: 6\n"
          ]
        }
      ],
      "source": [
        "print(f\"Sum: {result_sum}, Product: {result_product}\")"
      ]
    },
    {
      "cell_type": "markdown",
      "metadata": {
        "id": "1VUl9XkKc27y"
      },
      "source": [
        "## Functions with parameters"
      ]
    },
    {
      "cell_type": "markdown",
      "metadata": {
        "id": "s-D8VFEine5_"
      },
      "source": [
        "**Parameters** are variables listed in the function definition. They are placeholders for values that a function will receive when it is called.\n",
        "\n",
        "**Arguments** are the actual values or expressions that are passed to a function when it is called."
      ]
    },
    {
      "cell_type": "markdown",
      "source": [
        "### Example\n",
        "So far we have been using static values within our functions. Let's utilize another important feature of functions, which to accept dynamic data at the time of invocation."
      ],
      "metadata": {
        "id": "G-Qf-WloT0wu"
      }
    },
    {
      "cell_type": "code",
      "execution_count": 247,
      "metadata": {
        "id": "uncfFgGyopGr"
      },
      "outputs": [],
      "source": [
        "def greeting(user):\n",
        "    \"\"\"\n",
        "    Generate a friendly greeting.\n",
        "\n",
        "    :param user: The name of the user.\n",
        "    :type user: str\n",
        "    :return: A greeting message.\n",
        "    :rtype: str\n",
        "    \"\"\"\n",
        "    return 'Hello there, ' + user"
      ]
    },
    {
      "cell_type": "code",
      "execution_count": 248,
      "metadata": {
        "id": "RftqsbxHo8aa"
      },
      "outputs": [],
      "source": [
        "greet_sujata = greeting('Sujata')"
      ]
    },
    {
      "cell_type": "code",
      "execution_count": 249,
      "metadata": {
        "colab": {
          "base_uri": "https://localhost:8080/"
        },
        "id": "E7rSVAd_zOjZ",
        "outputId": "75976d77-4568-47b9-aed2-306f35c1deb0"
      },
      "outputs": [
        {
          "output_type": "stream",
          "name": "stdout",
          "text": [
            "Hello there, Sujata\n"
          ]
        }
      ],
      "source": [
        "print(greet_sujata)"
      ]
    },
    {
      "cell_type": "code",
      "execution_count": 250,
      "metadata": {
        "colab": {
          "base_uri": "https://localhost:8080/",
          "height": 35
        },
        "id": "hJclHzczpDXl",
        "outputId": "f8a6f40d-09e6-446e-cb7c-8a0530c019e7"
      },
      "outputs": [
        {
          "output_type": "execute_result",
          "data": {
            "text/plain": [
              "'Hello there, Manish'"
            ],
            "application/vnd.google.colaboratory.intrinsic+json": {
              "type": "string"
            }
          },
          "metadata": {},
          "execution_count": 250
        }
      ],
      "source": [
        "greeting('Manish')"
      ]
    },
    {
      "cell_type": "code",
      "execution_count": 251,
      "metadata": {
        "colab": {
          "base_uri": "https://localhost:8080/",
          "height": 35
        },
        "id": "rXyc8sXXpHit",
        "outputId": "c3e9a9ac-ca57-4839-c03e-de37c42ca4a5"
      },
      "outputs": [
        {
          "output_type": "execute_result",
          "data": {
            "text/plain": [
              "'Hello there, Liam'"
            ],
            "application/vnd.google.colaboratory.intrinsic+json": {
              "type": "string"
            }
          },
          "metadata": {},
          "execution_count": 251
        }
      ],
      "source": [
        "name = 'Liam'\n",
        "greeting(name)"
      ]
    },
    {
      "cell_type": "code",
      "execution_count": 252,
      "metadata": {
        "id": "hjokwsK3ph0S"
      },
      "outputs": [],
      "source": [
        "def add(a, b):\n",
        "    return a + b"
      ]
    },
    {
      "cell_type": "code",
      "execution_count": 253,
      "metadata": {
        "colab": {
          "base_uri": "https://localhost:8080/"
        },
        "id": "VuhcSi3ipk85",
        "outputId": "59011509-00ef-4ce5-c6dd-9c2e53d63cec"
      },
      "outputs": [
        {
          "output_type": "execute_result",
          "data": {
            "text/plain": [
              "1200"
            ]
          },
          "metadata": {},
          "execution_count": 253
        }
      ],
      "source": [
        "add(1000, 200)"
      ]
    },
    {
      "cell_type": "code",
      "execution_count": 254,
      "metadata": {
        "colab": {
          "base_uri": "https://localhost:8080/"
        },
        "id": "oOJGRWswpnIt",
        "outputId": "f9a06506-565a-4ea1-c47a-9634f39b474e"
      },
      "outputs": [
        {
          "output_type": "execute_result",
          "data": {
            "text/plain": [
              "0"
            ]
          },
          "metadata": {},
          "execution_count": 254
        }
      ],
      "source": [
        "add(-1, 1)"
      ]
    },
    {
      "cell_type": "code",
      "execution_count": 255,
      "metadata": {
        "id": "CRWvvuPxppUa"
      },
      "outputs": [],
      "source": [
        "# add(10, 10, 10)"
      ]
    },
    {
      "cell_type": "markdown",
      "metadata": {
        "id": "0iMJW-Mi0Znl"
      },
      "source": [
        "Function call needs to have the same number of arguments as parameters that are defined, if there is no default value defined. We will look at default arguments later."
      ]
    },
    {
      "cell_type": "code",
      "execution_count": 256,
      "metadata": {
        "id": "eTURQGLZS6Fb"
      },
      "outputs": [],
      "source": [
        "def divide(a, b):\n",
        "    \"\"\"\n",
        "    Divide two numbers.\n",
        "\n",
        "    :param a: The numerator\n",
        "    :type a: float\n",
        "    :param b: The denominator (must be non-zero)\n",
        "    :type b: float\n",
        "    :return: The result of the division\n",
        "    :rtype: float\n",
        "    :raises ZeroDivisionError: If the denominator is 0\n",
        "    \"\"\"\n",
        "    if b == 0:\n",
        "        raise ZeroDivisionError(\"Cannot divide by zero\")\n",
        "\n",
        "    return a / b"
      ]
    },
    {
      "cell_type": "markdown",
      "metadata": {
        "id": "-Rvq7tR20yFy"
      },
      "source": [
        "Note that we can use the `raise` keyword to raise an error if one of the arguments do do not adhere to the specifications of the function. You can read more abour the behaviour of the raise command on your own."
      ]
    },
    {
      "cell_type": "code",
      "execution_count": 257,
      "metadata": {
        "colab": {
          "base_uri": "https://localhost:8080/"
        },
        "id": "9a9C8H_k3GCk",
        "outputId": "f102d9ed-aee5-4ca9-b35f-e0cadf77caf7"
      },
      "outputs": [
        {
          "output_type": "execute_result",
          "data": {
            "text/plain": [
              "1.5"
            ]
          },
          "metadata": {},
          "execution_count": 257
        }
      ],
      "source": [
        "divide(3, 2)"
      ]
    },
    {
      "cell_type": "code",
      "execution_count": 258,
      "metadata": {
        "colab": {
          "base_uri": "https://localhost:8080/"
        },
        "id": "doUsfBs_3KTX",
        "outputId": "6a04df62-0f32-4fa8-84fb-0510974f0278"
      },
      "outputs": [
        {
          "output_type": "execute_result",
          "data": {
            "text/plain": [
              "0.8"
            ]
          },
          "metadata": {},
          "execution_count": 258
        }
      ],
      "source": [
        "divide(4, 5)"
      ]
    },
    {
      "cell_type": "code",
      "execution_count": 259,
      "metadata": {
        "id": "vnPb6itj3MfX"
      },
      "outputs": [],
      "source": [
        "# divide(4, 0)"
      ]
    },
    {
      "cell_type": "code",
      "execution_count": 260,
      "metadata": {
        "colab": {
          "base_uri": "https://localhost:8080/"
        },
        "id": "E9-pOh8p3P8f",
        "outputId": "3615ac48-0c4a-4ead-ce9f-202d05c3642c"
      },
      "outputs": [
        {
          "output_type": "execute_result",
          "data": {
            "text/plain": [
              "0.0"
            ]
          },
          "metadata": {},
          "execution_count": 260
        }
      ],
      "source": [
        "divide(0, 4)"
      ]
    },
    {
      "cell_type": "code",
      "execution_count": 261,
      "metadata": {
        "id": "5LvBmoG23R27"
      },
      "outputs": [],
      "source": [
        "# divide('a', 3)"
      ]
    },
    {
      "cell_type": "markdown",
      "metadata": {
        "id": "lzEfikX-TOBY"
      },
      "source": [
        "Function call needs to adhere to the required data types"
      ]
    },
    {
      "cell_type": "code",
      "execution_count": 262,
      "metadata": {
        "colab": {
          "base_uri": "https://localhost:8080/",
          "height": 35
        },
        "id": "XsC9Qqj33XxE",
        "outputId": "1f1e1cc5-d84a-4f41-e45c-b2d88da7d335"
      },
      "outputs": [
        {
          "output_type": "execute_result",
          "data": {
            "text/plain": [
              "'ab'"
            ],
            "application/vnd.google.colaboratory.intrinsic+json": {
              "type": "string"
            }
          },
          "metadata": {},
          "execution_count": 262
        }
      ],
      "source": [
        "add('a', 'b')"
      ]
    },
    {
      "cell_type": "markdown",
      "metadata": {
        "id": "ihBUOLFO3Z-h"
      },
      "source": [
        "The `+` operator is overloaded in that it can work with strings and numeric data types both. But that is not the case for the `/` operator."
      ]
    },
    {
      "cell_type": "markdown",
      "metadata": {
        "id": "u3zlttyXp7t4"
      },
      "source": [
        "### Quiz\n",
        "Create a function that takes two numbers and returns their product. Make sure that you write the docstring for the function."
      ]
    },
    {
      "cell_type": "code",
      "execution_count": 263,
      "metadata": {
        "id": "iV9Q_kdDqH7n"
      },
      "outputs": [],
      "source": [
        "def multiply(x, y):\n",
        "    \"\"\"\n",
        "    Multiply two numbers.\n",
        "\n",
        "    :param x: The first number\n",
        "    :type x: float\n",
        "    :param y: The second number\n",
        "    :type y: float\n",
        "    :return: The result of the multiplication\n",
        "    :rtype: float\n",
        "    \"\"\"\n",
        "    return x * y"
      ]
    },
    {
      "cell_type": "code",
      "execution_count": 264,
      "metadata": {
        "colab": {
          "base_uri": "https://localhost:8080/"
        },
        "id": "XiAPBcU5qNRY",
        "outputId": "5ff86246-c755-4b8d-c175-c38b8a6856b2"
      },
      "outputs": [
        {
          "output_type": "execute_result",
          "data": {
            "text/plain": [
              "15"
            ]
          },
          "metadata": {},
          "execution_count": 264
        }
      ],
      "source": [
        "multiply(5, 3)"
      ]
    },
    {
      "cell_type": "code",
      "execution_count": 265,
      "metadata": {
        "colab": {
          "base_uri": "https://localhost:8080/"
        },
        "id": "PepdG0YkqU6V",
        "outputId": "f89c2ecf-b9d1-4722-d37d-191e8e4fecac"
      },
      "outputs": [
        {
          "output_type": "execute_result",
          "data": {
            "text/plain": [
              "2000000"
            ]
          },
          "metadata": {},
          "execution_count": 265
        }
      ],
      "source": [
        "prod_res = multiply(1_000_000, 2)\n",
        "prod_res"
      ]
    },
    {
      "cell_type": "markdown",
      "metadata": {
        "id": "w0eWPAf1NmED"
      },
      "source": [
        "### Example\n",
        "So far we have been passing values of arguments without specifying the names of the arguments. These arguments are called **positional arguments**. As the name suggests, the order and position in which these arguments are passed is critical.\n",
        "\n",
        "Whereas, when we pass the value of an argument by assigning it to the name of the parameter, these kinds of arguments are called **keyword arguments**. We don't need to worry about the order and positioning of the arguments in this case."
      ]
    },
    {
      "cell_type": "code",
      "execution_count": 266,
      "metadata": {
        "id": "6t2_LFK9Ohki"
      },
      "outputs": [],
      "source": [
        "def print_person_info(name, age, city):\n",
        "    \"\"\"\n",
        "    Print information about a person.\n",
        "\n",
        "    Parameters:\n",
        "    - name (str): The name of the person\n",
        "    - age (int): The age of the person\n",
        "    - city (str): The city where the person lives\n",
        "    \"\"\"\n",
        "    print(f\"Name: {name}, Age: {age}, City: {city}\")"
      ]
    },
    {
      "cell_type": "code",
      "execution_count": 267,
      "metadata": {
        "colab": {
          "base_uri": "https://localhost:8080/"
        },
        "id": "N2yymAqPPQIq",
        "outputId": "a4563138-416f-4974-863b-b3f01e164416"
      },
      "outputs": [
        {
          "output_type": "stream",
          "name": "stdout",
          "text": [
            "Name: John, Age: 25, City: New York\n"
          ]
        }
      ],
      "source": [
        "# Using positional arguments\n",
        "print_person_info(\"John\", 25, \"New York\")"
      ]
    },
    {
      "cell_type": "code",
      "execution_count": 268,
      "metadata": {
        "colab": {
          "base_uri": "https://localhost:8080/"
        },
        "id": "mIpY4eSePxZZ",
        "outputId": "eddc7c84-ef22-42d1-f127-4b8872442501"
      },
      "outputs": [
        {
          "output_type": "stream",
          "name": "stdout",
          "text": [
            "Name: Alice, Age: 30, City: Los Angeles\n"
          ]
        }
      ],
      "source": [
        "# Using keyword arguments\n",
        "print_person_info(age = 30, name = \"Alice\", city = \"Los Angeles\")"
      ]
    },
    {
      "cell_type": "code",
      "execution_count": 269,
      "metadata": {
        "colab": {
          "base_uri": "https://localhost:8080/"
        },
        "id": "6bt5qFAYPyUk",
        "outputId": "d8c03c79-ace2-47b1-de1e-05955c9f040f"
      },
      "outputs": [
        {
          "output_type": "stream",
          "name": "stdout",
          "text": [
            "Name: Bob, Age: 22, City: Chicago\n"
          ]
        }
      ],
      "source": [
        "# Mixing positional and keyword arguments\n",
        "print_person_info(\"Bob\", city = \"Chicago\", age = 22)"
      ]
    },
    {
      "cell_type": "code",
      "execution_count": 270,
      "metadata": {
        "id": "jVKZEnRPP4yg"
      },
      "outputs": [],
      "source": [
        "# Positional arguments need to come before keyword arguments\n",
        "# print_person_info(name = \"Wu\", \"Hong Kong\", \"35\")"
      ]
    },
    {
      "cell_type": "markdown",
      "metadata": {
        "id": "-_Lu_EJ0dI2W"
      },
      "source": [
        "## Functions with default arguments\n",
        "We can specify default values for parameters in Python functions which can be overriden manually"
      ]
    },
    {
      "cell_type": "markdown",
      "metadata": {
        "id": "OzUrrciyy5Cf"
      },
      "source": [
        "### Example\n",
        "Functions with default arguments"
      ]
    },
    {
      "cell_type": "code",
      "execution_count": 271,
      "metadata": {
        "id": "L-colpnuz3xf"
      },
      "outputs": [],
      "source": [
        "def add_five(x, y = 5):\n",
        "    \"\"\"\n",
        "    Add a value to another, with a default value of 5.\n",
        "\n",
        "    :param x: The first number\n",
        "    :type x: int or float\n",
        "    :param y: The value to add (default is 5)\n",
        "    :type y: int or float\n",
        "    :return: The result of adding x and y\n",
        "    :rtype: int or float\n",
        "    \"\"\"\n",
        "    return x + y"
      ]
    },
    {
      "cell_type": "code",
      "execution_count": 272,
      "metadata": {
        "colab": {
          "base_uri": "https://localhost:8080/"
        },
        "id": "NbC0W7hr1mA_",
        "outputId": "cd5ee8fa-cfc4-4ebd-a866-de5b41b3f78d"
      },
      "outputs": [
        {
          "output_type": "execute_result",
          "data": {
            "text/plain": [
              "15"
            ]
          },
          "metadata": {},
          "execution_count": 272
        }
      ],
      "source": [
        "add_five(10)"
      ]
    },
    {
      "cell_type": "code",
      "execution_count": 273,
      "metadata": {
        "id": "xbFcLeBFBAHd",
        "outputId": "be3883d8-2f1e-4c8d-c756-6ed5fe0e0f9c",
        "colab": {
          "base_uri": "https://localhost:8080/"
        }
      },
      "outputs": [
        {
          "output_type": "execute_result",
          "data": {
            "text/plain": [
              "35"
            ]
          },
          "metadata": {},
          "execution_count": 273
        }
      ],
      "source": [
        "add_five(10, 25)"
      ]
    },
    {
      "cell_type": "code",
      "execution_count": 274,
      "metadata": {
        "id": "XGyTcLF71q0j"
      },
      "outputs": [],
      "source": [
        "def greet(name, greeting = 'Hello'): return f'{greeting}, {name}!'"
      ]
    },
    {
      "cell_type": "code",
      "execution_count": 275,
      "metadata": {
        "colab": {
          "base_uri": "https://localhost:8080/",
          "height": 35
        },
        "id": "Vvh8k2BXtKPU",
        "outputId": "b5f062f5-d455-4696-802e-64b3f971f7b5"
      },
      "outputs": [
        {
          "output_type": "execute_result",
          "data": {
            "text/plain": [
              "'Hello, Malik!'"
            ],
            "application/vnd.google.colaboratory.intrinsic+json": {
              "type": "string"
            }
          },
          "metadata": {},
          "execution_count": 275
        }
      ],
      "source": [
        "greet(name = 'Malik')"
      ]
    },
    {
      "cell_type": "code",
      "execution_count": 276,
      "metadata": {
        "colab": {
          "base_uri": "https://localhost:8080/",
          "height": 35
        },
        "id": "HJqC07zctTeI",
        "outputId": "c1196e44-42a4-437d-d7e4-aaf0ead30079"
      },
      "outputs": [
        {
          "output_type": "execute_result",
          "data": {
            "text/plain": [
              "'Hi, Bob!'"
            ],
            "application/vnd.google.colaboratory.intrinsic+json": {
              "type": "string"
            }
          },
          "metadata": {},
          "execution_count": 276
        }
      ],
      "source": [
        "greet(name = 'Bob', greeting = 'Hi')"
      ]
    },
    {
      "cell_type": "code",
      "execution_count": 277,
      "metadata": {
        "id": "hGB7RY68tgtt"
      },
      "outputs": [],
      "source": [
        "def calculate(x, y, operation = 'add'):\n",
        "    if operation == 'add': return x + y\n",
        "    elif operation == 'subtract': return x - y"
      ]
    },
    {
      "cell_type": "code",
      "execution_count": 278,
      "metadata": {
        "colab": {
          "base_uri": "https://localhost:8080/"
        },
        "id": "GhxbDe2ot0n0",
        "outputId": "b33f1c06-31d3-482b-8d0a-e6056bb35d73"
      },
      "outputs": [
        {
          "output_type": "execute_result",
          "data": {
            "text/plain": [
              "40"
            ]
          },
          "metadata": {},
          "execution_count": 278
        }
      ],
      "source": [
        "calculate(10, 30)"
      ]
    },
    {
      "cell_type": "code",
      "execution_count": 279,
      "metadata": {
        "colab": {
          "base_uri": "https://localhost:8080/"
        },
        "id": "ZlMQFnTdt3e-",
        "outputId": "5e714a13-8014-434b-e124-2d470bb767e6"
      },
      "outputs": [
        {
          "output_type": "execute_result",
          "data": {
            "text/plain": [
              "-20"
            ]
          },
          "metadata": {},
          "execution_count": 279
        }
      ],
      "source": [
        "calculate(10, 30, 'subtract')"
      ]
    },
    {
      "cell_type": "code",
      "execution_count": 280,
      "metadata": {
        "id": "vF4vFVF5t-yK"
      },
      "outputs": [],
      "source": [
        "def power(base, exponent=2): return base ** exponent"
      ]
    },
    {
      "cell_type": "code",
      "execution_count": 281,
      "metadata": {
        "colab": {
          "base_uri": "https://localhost:8080/"
        },
        "id": "Wh0BGdNzuFGw",
        "outputId": "bad0a4e5-baaf-4641-e8c9-72bfeb3cee46"
      },
      "outputs": [
        {
          "output_type": "execute_result",
          "data": {
            "text/plain": [
              "16"
            ]
          },
          "metadata": {},
          "execution_count": 281
        }
      ],
      "source": [
        "power(4)"
      ]
    },
    {
      "cell_type": "code",
      "execution_count": 282,
      "metadata": {
        "colab": {
          "base_uri": "https://localhost:8080/"
        },
        "id": "dSs6xDOVuHEY",
        "outputId": "f5c9dfbe-7c08-408a-caa2-533abc7df68c"
      },
      "outputs": [
        {
          "output_type": "execute_result",
          "data": {
            "text/plain": [
              "27"
            ]
          },
          "metadata": {},
          "execution_count": 282
        }
      ],
      "source": [
        "power(3, 3)"
      ]
    },
    {
      "cell_type": "markdown",
      "metadata": {
        "id": "y7HDkDE-dP-H"
      },
      "source": [
        "## Passing data structures to functions"
      ]
    },
    {
      "cell_type": "markdown",
      "metadata": {
        "id": "VfUNlq3typRF"
      },
      "source": [
        "### Example\n",
        "Passing lists as arguments"
      ]
    },
    {
      "cell_type": "code",
      "execution_count": 283,
      "metadata": {
        "id": "35vk8ypMpDUt"
      },
      "outputs": [],
      "source": [
        "def mean(data): return sum(data) / len(data)"
      ]
    },
    {
      "cell_type": "code",
      "execution_count": 284,
      "metadata": {
        "id": "4yCLA-u6pOc_"
      },
      "outputs": [],
      "source": [
        "my_data = [1, 2, 3, 4, 5, 6, 7, 8, 9, 10, 11, 12, 13, 14, 15, 16, 17, 18, 19, 20]"
      ]
    },
    {
      "cell_type": "code",
      "execution_count": 285,
      "metadata": {
        "colab": {
          "base_uri": "https://localhost:8080/"
        },
        "id": "CkpGEzXUpbs5",
        "outputId": "53f9c1a4-5aed-4061-fcfd-5988a4d69001"
      },
      "outputs": [
        {
          "output_type": "execute_result",
          "data": {
            "text/plain": [
              "10.5"
            ]
          },
          "metadata": {},
          "execution_count": 285
        }
      ],
      "source": [
        "mean(my_data)"
      ]
    },
    {
      "cell_type": "code",
      "execution_count": 286,
      "metadata": {
        "id": "Mo-iR1BLproY"
      },
      "outputs": [],
      "source": [
        "def find_max(my_list): return sorted(my_list)[-1]"
      ]
    },
    {
      "cell_type": "code",
      "execution_count": 287,
      "metadata": {
        "id": "iT--17Impz3O"
      },
      "outputs": [],
      "source": [
        "my_data = [15, 2, 8, 19, 4, 12, 6, 17, 1, 10, 11, 7, 20, 14, 5, 3, 9, 18, 13, 16]"
      ]
    },
    {
      "cell_type": "code",
      "execution_count": 288,
      "metadata": {
        "colab": {
          "base_uri": "https://localhost:8080/"
        },
        "id": "75Ckuqipp_Wy",
        "outputId": "8bce351e-8fd2-499b-b007-77f9aacdcab9"
      },
      "outputs": [
        {
          "output_type": "execute_result",
          "data": {
            "text/plain": [
              "20"
            ]
          },
          "metadata": {},
          "execution_count": 288
        }
      ],
      "source": [
        "find_max(my_data)"
      ]
    },
    {
      "cell_type": "markdown",
      "metadata": {
        "id": "DToIq_Z_w2tz"
      },
      "source": [
        "### Example\n",
        "Passing dictionaries as arguments"
      ]
    },
    {
      "cell_type": "code",
      "execution_count": 289,
      "metadata": {
        "id": "TTsPfb39QCAs"
      },
      "outputs": [],
      "source": [
        "def display_user_info(user_info):\n",
        "    print('User Information: ')\n",
        "    for key, value in user_info.items(): print(f'{key.capitalize()}: {value}')"
      ]
    },
    {
      "cell_type": "code",
      "execution_count": 290,
      "metadata": {
        "id": "sBEJW7kVQXC5"
      },
      "outputs": [],
      "source": [
        "user_data = {'name': 'Ranjiv Alvester', 'age': 25, 'email': 'ranjiv@example.com'}"
      ]
    },
    {
      "cell_type": "code",
      "execution_count": 291,
      "metadata": {
        "colab": {
          "base_uri": "https://localhost:8080/"
        },
        "id": "eFgwMuq5Qa9o",
        "outputId": "ff4f0818-79fe-45a1-fff8-94e5fa7cb5d3"
      },
      "outputs": [
        {
          "output_type": "stream",
          "name": "stdout",
          "text": [
            "User Information: \n",
            "Name: Ranjiv Alvester\n",
            "Age: 25\n",
            "Email: ranjiv@example.com\n"
          ]
        }
      ],
      "source": [
        "display_user_info(user_data)"
      ]
    },
    {
      "cell_type": "code",
      "execution_count": 292,
      "metadata": {
        "id": "GiXWbyMuL0DL"
      },
      "outputs": [],
      "source": [
        "def calc_tot_price(cart):\n",
        "    total_price = sum(cart.values())\n",
        "    return total_price"
      ]
    },
    {
      "cell_type": "code",
      "execution_count": 293,
      "metadata": {
        "id": "qUWVbVx8PpxU"
      },
      "outputs": [],
      "source": [
        "shopping_cart = {'item1': 10.99, 'item2': 5.99, 'item3': 7.49}"
      ]
    },
    {
      "cell_type": "code",
      "execution_count": 294,
      "metadata": {
        "colab": {
          "base_uri": "https://localhost:8080/"
        },
        "id": "pVsgloXoPvEo",
        "outputId": "4b7a6957-8232-4aab-b72f-2829c1b430dd"
      },
      "outputs": [
        {
          "output_type": "execute_result",
          "data": {
            "text/plain": [
              "{'item1': 10.99, 'item2': 5.99, 'item3': 7.49}"
            ]
          },
          "metadata": {},
          "execution_count": 294
        }
      ],
      "source": [
        "shopping_cart"
      ]
    },
    {
      "cell_type": "code",
      "execution_count": 295,
      "metadata": {
        "colab": {
          "base_uri": "https://localhost:8080/"
        },
        "id": "oPXDjnNvPxde",
        "outputId": "061d515d-9583-4332-df80-1d75b879111d"
      },
      "outputs": [
        {
          "output_type": "execute_result",
          "data": {
            "text/plain": [
              "24.47"
            ]
          },
          "metadata": {},
          "execution_count": 295
        }
      ],
      "source": [
        "calc_tot_price(shopping_cart)"
      ]
    },
    {
      "cell_type": "markdown",
      "metadata": {
        "id": "1PGF7foeRsIY"
      },
      "source": [
        "### Quiz\n",
        "Create a function the accepts a dictionary containing student names as key and their corresponding scores as values. Each student may have multiple scores."
      ]
    },
    {
      "cell_type": "code",
      "execution_count": 296,
      "metadata": {
        "id": "qOkQl1YZxBnf"
      },
      "outputs": [],
      "source": [
        "def find_mark_avg(students_data):\n",
        "    average_marks = {}\n",
        "    for name, mark in students_data.items():\n",
        "        avg_mark = sum(students_data[name]) / len(students_data[name])\n",
        "        average_marks[name] = round(avg_mark, 2)\n",
        "    return average_marks"
      ]
    },
    {
      "cell_type": "code",
      "execution_count": 297,
      "metadata": {
        "id": "wc4Ebxn8Stm6"
      },
      "outputs": [],
      "source": [
        "students_data = {'Surendara': [90, 85, 92], 'Bob': [78, 80, 75], 'Priya': [88, 90, 92, 85]}"
      ]
    },
    {
      "cell_type": "code",
      "execution_count": 298,
      "metadata": {
        "colab": {
          "base_uri": "https://localhost:8080/"
        },
        "id": "W2UkLCX2xoiy",
        "outputId": "c5a89f93-bb35-4ef5-94c2-c53854f7569b"
      },
      "outputs": [
        {
          "output_type": "execute_result",
          "data": {
            "text/plain": [
              "{'Surendara': 89.0, 'Bob': 77.67, 'Priya': 88.75}"
            ]
          },
          "metadata": {},
          "execution_count": 298
        }
      ],
      "source": [
        "find_mark_avg(students_data)"
      ]
    },
    {
      "cell_type": "markdown",
      "metadata": {
        "id": "aTYR8UrxcQbL"
      },
      "source": [
        "## Lambda functions"
      ]
    },
    {
      "cell_type": "markdown",
      "metadata": {
        "id": "-I5tOcoJdfk8"
      },
      "source": [
        "### Example\n",
        "Lambda functions, also known as anonymous functions, are a concise way to create small, one-time-use functions in Python. They are defined using the `lambda` keyword."
      ]
    },
    {
      "cell_type": "code",
      "execution_count": 299,
      "metadata": {
        "colab": {
          "base_uri": "https://localhost:8080/"
        },
        "id": "s21o8ccKzLSF",
        "outputId": "9026b937-f185-4e00-8e5d-c3f0b82b98d9"
      },
      "outputs": [
        {
          "output_type": "execute_result",
          "data": {
            "text/plain": [
              "<function __main__.<lambda>(x)>"
            ]
          },
          "metadata": {},
          "execution_count": 299
        }
      ],
      "source": [
        "lambda x: x * 2"
      ]
    },
    {
      "cell_type": "markdown",
      "metadata": {
        "id": "ODOPyYchgI3y"
      },
      "source": [
        "Lambda functions are called *anonymous* because they don't have a formal name assigned to them at the time of definition. While they are often assigned to variables for later use, the function itself is not given a name in the same way regular functions are defined using the `def` keyword. Note that the functions defined using the `def` keyword cannot be assigned to variables."
      ]
    },
    {
      "cell_type": "code",
      "execution_count": 300,
      "metadata": {
        "id": "YCjTsxSfgViT"
      },
      "outputs": [],
      "source": [
        "double = lambda x: x * 2"
      ]
    },
    {
      "cell_type": "code",
      "execution_count": 301,
      "metadata": {
        "colab": {
          "base_uri": "https://localhost:8080/"
        },
        "id": "C80_V4zpgZKw",
        "outputId": "eff868a0-cead-4741-cb67-9f8690beff79"
      },
      "outputs": [
        {
          "output_type": "execute_result",
          "data": {
            "text/plain": [
              "4"
            ]
          },
          "metadata": {},
          "execution_count": 301
        }
      ],
      "source": [
        "double(2)"
      ]
    },
    {
      "cell_type": "code",
      "execution_count": 302,
      "metadata": {
        "id": "FoNN-8ElgrZz"
      },
      "outputs": [],
      "source": [
        "add = lambda x, y: x + y"
      ]
    },
    {
      "cell_type": "code",
      "execution_count": 303,
      "metadata": {
        "id": "TJVPfWItgxFr"
      },
      "outputs": [],
      "source": [
        "# add(2)"
      ]
    },
    {
      "cell_type": "code",
      "execution_count": 304,
      "metadata": {
        "colab": {
          "base_uri": "https://localhost:8080/"
        },
        "id": "w26X-Ocig3z9",
        "outputId": "a7220b19-2f3f-44e4-ae19-a855fa599b62"
      },
      "outputs": [
        {
          "output_type": "execute_result",
          "data": {
            "text/plain": [
              "6"
            ]
          },
          "metadata": {},
          "execution_count": 304
        }
      ],
      "source": [
        "add(2, 4)"
      ]
    },
    {
      "cell_type": "code",
      "execution_count": 305,
      "metadata": {
        "id": "MyPaD6B5g8Bs"
      },
      "outputs": [],
      "source": [
        "square = lambda x: x ** 2"
      ]
    },
    {
      "cell_type": "code",
      "execution_count": 306,
      "metadata": {
        "colab": {
          "base_uri": "https://localhost:8080/"
        },
        "id": "U6VLNHCFhJQx",
        "outputId": "1c836164-aa56-41f6-9429-2077b442581f"
      },
      "outputs": [
        {
          "output_type": "execute_result",
          "data": {
            "text/plain": [
              "100"
            ]
          },
          "metadata": {},
          "execution_count": 306
        }
      ],
      "source": [
        "square(10)"
      ]
    },
    {
      "cell_type": "code",
      "execution_count": 307,
      "metadata": {
        "id": "argAVah9hNMg"
      },
      "outputs": [],
      "source": [
        "sqrt = lambda y: y ** 0.5"
      ]
    },
    {
      "cell_type": "code",
      "execution_count": 308,
      "metadata": {
        "colab": {
          "base_uri": "https://localhost:8080/"
        },
        "id": "Muf97cYzhURm",
        "outputId": "7c898db4-e737-4926-e98d-5f3769266a59"
      },
      "outputs": [
        {
          "output_type": "execute_result",
          "data": {
            "text/plain": [
              "5.0"
            ]
          },
          "metadata": {},
          "execution_count": 308
        }
      ],
      "source": [
        "sqrt(25)"
      ]
    },
    {
      "cell_type": "code",
      "execution_count": 309,
      "metadata": {
        "id": "EoyJUSwCheqc"
      },
      "outputs": [],
      "source": [
        "cap = lambda some_string: some_string.upper()"
      ]
    },
    {
      "cell_type": "code",
      "execution_count": 310,
      "metadata": {
        "colab": {
          "base_uri": "https://localhost:8080/",
          "height": 35
        },
        "id": "jG3no96ihl3S",
        "outputId": "b3b994fc-57ff-416c-e7d4-0ab4e8e3cf78"
      },
      "outputs": [
        {
          "output_type": "execute_result",
          "data": {
            "text/plain": [
              "'I LIKE PYTHON!'"
            ],
            "application/vnd.google.colaboratory.intrinsic+json": {
              "type": "string"
            }
          },
          "metadata": {},
          "execution_count": 310
        }
      ],
      "source": [
        "cap('i like python!')"
      ]
    },
    {
      "cell_type": "code",
      "execution_count": 311,
      "metadata": {
        "id": "Yh-xCheMjH2A"
      },
      "outputs": [],
      "source": [
        "sum_list = lambda some_list: sum(some_list)"
      ]
    },
    {
      "cell_type": "code",
      "execution_count": 312,
      "metadata": {
        "id": "inrcA9mjjMkp"
      },
      "outputs": [],
      "source": [
        "my_list = [1, 2, 3, 4, 5]"
      ]
    },
    {
      "cell_type": "code",
      "execution_count": 313,
      "metadata": {
        "colab": {
          "base_uri": "https://localhost:8080/"
        },
        "id": "jsoG0uZqjQqD",
        "outputId": "ae9c84fc-7a6f-4c2e-f536-21a0fa0cb9d4"
      },
      "outputs": [
        {
          "output_type": "execute_result",
          "data": {
            "text/plain": [
              "15"
            ]
          },
          "metadata": {},
          "execution_count": 313
        }
      ],
      "source": [
        "sum_list(my_list)"
      ]
    },
    {
      "cell_type": "markdown",
      "metadata": {
        "id": "ZjKXiiGEiSOb"
      },
      "source": [
        "### Quiz\n",
        "Create a lambda function that takes a list and returns the number of elements in a list"
      ]
    },
    {
      "cell_type": "code",
      "execution_count": 314,
      "metadata": {
        "id": "hWrvGA1ujsph"
      },
      "outputs": [],
      "source": [
        "len_list = lambda some_list: len(some_list)"
      ]
    },
    {
      "cell_type": "code",
      "execution_count": 315,
      "metadata": {
        "id": "sypha9SGjx5O"
      },
      "outputs": [],
      "source": [
        "my_list = [1, 2, 3.5, 4, 5.8, 6, 7, 8.2, 9, 10]"
      ]
    },
    {
      "cell_type": "code",
      "execution_count": 316,
      "metadata": {
        "colab": {
          "base_uri": "https://localhost:8080/"
        },
        "id": "ZDV9bRd1j8j_",
        "outputId": "1ad5fd60-6e46-4d6f-bb8b-8f8719a29b7e"
      },
      "outputs": [
        {
          "output_type": "execute_result",
          "data": {
            "text/plain": [
              "10"
            ]
          },
          "metadata": {},
          "execution_count": 316
        }
      ],
      "source": [
        "len_list(my_list)"
      ]
    },
    {
      "cell_type": "markdown",
      "metadata": {
        "id": "YYSQ5dk0k4Ge"
      },
      "source": [
        "## Higher-order functions\n",
        "In Python, functions are first-class objects, and this means they can be treated like any other object (such as integers, strings, lists, etc.).\n",
        "\n",
        "A higher-order function is a function that takes one or more functions as arguments or returns a function as its result"
      ]
    },
    {
      "cell_type": "markdown",
      "metadata": {
        "id": "Hibb9oeTShj6"
      },
      "source": [
        "### Example\n",
        "You can pass functions as arguments to other functions. This allows you to abstract over actions, making your code more flexible and modular."
      ]
    },
    {
      "cell_type": "code",
      "execution_count": 317,
      "metadata": {
        "id": "ZGLnx8J9SqHj"
      },
      "outputs": [],
      "source": [
        "def apply_operation(operation, x, y):\n",
        "    \"\"\"\n",
        "    Apply a binary operation on two operands.\n",
        "\n",
        "    Parameters:\n",
        "    - operation: A binary function taking two arguments\n",
        "    - x, y: Operands on which the operation is applied\n",
        "\n",
        "    Returns:\n",
        "    The result of applying the operation on x and y\n",
        "    \"\"\"\n",
        "    return operation(x, y)\n",
        "\n",
        "def add(x, y):\n",
        "    \"\"\"\n",
        "    Add two numbers.\n",
        "\n",
        "    Parameters:\n",
        "    - x, y: Numbers to be added\n",
        "\n",
        "    Returns:\n",
        "    The sum of x and y\n",
        "    \"\"\"\n",
        "    return x + y\n",
        "\n",
        "def multiply(x, y):\n",
        "    \"\"\"\n",
        "    Multiply two numbers.\n",
        "\n",
        "    Parameters:\n",
        "    - x, y: Numbers to be multiplied\n",
        "\n",
        "    Returns:\n",
        "    The product of x and y\n",
        "    \"\"\"\n",
        "    return x * y"
      ]
    },
    {
      "cell_type": "code",
      "execution_count": 318,
      "metadata": {
        "id": "MFFWK2ICSsPZ"
      },
      "outputs": [],
      "source": [
        "# Example usage of apply_operation with add\n",
        "result_add = apply_operation(add, 2, 3)"
      ]
    },
    {
      "cell_type": "code",
      "execution_count": 319,
      "metadata": {
        "colab": {
          "base_uri": "https://localhost:8080/"
        },
        "id": "Vo7qfStDTHB5",
        "outputId": "9f65fb0d-df74-47e5-ccba-c2d6e05d07e7"
      },
      "outputs": [
        {
          "output_type": "stream",
          "name": "stdout",
          "text": [
            "5\n"
          ]
        }
      ],
      "source": [
        "print(result_add)"
      ]
    },
    {
      "cell_type": "code",
      "execution_count": 320,
      "metadata": {
        "id": "8zsNW047S_y3"
      },
      "outputs": [],
      "source": [
        "# Example usage of apply_operation with multiply\n",
        "result_multiply = apply_operation(multiply, 2, 3)"
      ]
    },
    {
      "cell_type": "code",
      "execution_count": 321,
      "metadata": {
        "colab": {
          "base_uri": "https://localhost:8080/"
        },
        "id": "Cc3Bug6KTJ4F",
        "outputId": "b9421392-0e84-456d-dc1d-772dd9407280"
      },
      "outputs": [
        {
          "output_type": "stream",
          "name": "stdout",
          "text": [
            "6\n"
          ]
        }
      ],
      "source": [
        "print(result_multiply)"
      ]
    },
    {
      "cell_type": "markdown",
      "metadata": {
        "id": "Vl6vsR71lqWb"
      },
      "source": [
        "### Example\n",
        "The `map` function"
      ]
    },
    {
      "cell_type": "code",
      "execution_count": 322,
      "metadata": {
        "id": "IsOp3K6QlvYp"
      },
      "outputs": [],
      "source": [
        "def square(x): return x ** 2"
      ]
    },
    {
      "cell_type": "code",
      "execution_count": 323,
      "metadata": {
        "id": "Ty7VdBt8l0Zr"
      },
      "outputs": [],
      "source": [
        "my_list = [1, 2, 3, 4, 5]"
      ]
    },
    {
      "cell_type": "code",
      "execution_count": 324,
      "metadata": {
        "colab": {
          "base_uri": "https://localhost:8080/"
        },
        "id": "GF_PT_dUl4Wd",
        "outputId": "9f6fa621-612a-4b6d-f526-b5f4743bad03"
      },
      "outputs": [
        {
          "output_type": "execute_result",
          "data": {
            "text/plain": [
              "<map at 0x7e355832d600>"
            ]
          },
          "metadata": {},
          "execution_count": 324
        }
      ],
      "source": [
        "squared_list = map(square, my_list)\n",
        "squared_list"
      ]
    },
    {
      "cell_type": "markdown",
      "metadata": {
        "id": "SJc3vKoJmLwB"
      },
      "source": [
        "Notice the `map` function in Python returns a map object, which is an iterator. The map object contains the results of applying a given function to each item in an iterable. Therefore to access the iterable, you should convert the object into a list or a tuple."
      ]
    },
    {
      "cell_type": "code",
      "execution_count": 325,
      "metadata": {
        "id": "7LG37ExnmKZN"
      },
      "outputs": [],
      "source": [
        "squared_list = list(squared_list)"
      ]
    },
    {
      "cell_type": "code",
      "execution_count": 326,
      "metadata": {
        "colab": {
          "base_uri": "https://localhost:8080/"
        },
        "id": "WixvkRJzmeF2",
        "outputId": "53bbdd81-c456-426f-8cb8-3d06fe537db7"
      },
      "outputs": [
        {
          "output_type": "execute_result",
          "data": {
            "text/plain": [
              "[1, 4, 9, 16, 25]"
            ]
          },
          "metadata": {},
          "execution_count": 326
        }
      ],
      "source": [
        "squared_list"
      ]
    },
    {
      "cell_type": "code",
      "execution_count": 327,
      "metadata": {
        "colab": {
          "base_uri": "https://localhost:8080/"
        },
        "id": "EMq5qAkvnZe3",
        "outputId": "c8daf575-9ec0-459b-82cf-1ef5555c3bce"
      },
      "outputs": [
        {
          "output_type": "execute_result",
          "data": {
            "text/plain": [
              "[1, 2, 3, 4, 5]"
            ]
          },
          "metadata": {},
          "execution_count": 327
        }
      ],
      "source": [
        "my_list"
      ]
    },
    {
      "cell_type": "code",
      "execution_count": 328,
      "metadata": {
        "colab": {
          "base_uri": "https://localhost:8080/"
        },
        "id": "-uU3EbTSnHt0",
        "outputId": "ac63e6da-b3b4-4a1d-aea8-6efb692c2cad"
      },
      "outputs": [
        {
          "output_type": "execute_result",
          "data": {
            "text/plain": [
              "[2, 4, 6, 8, 10]"
            ]
          },
          "metadata": {},
          "execution_count": 328
        }
      ],
      "source": [
        "doubled_list = list(map(lambda x: x * 2, my_list))\n",
        "doubled_list"
      ]
    }
  ],
  "metadata": {
    "colab": {
      "provenance": [],
      "toc_visible": true
    },
    "kernelspec": {
      "display_name": "Python 3 (ipykernel)",
      "language": "python",
      "name": "python3"
    },
    "language_info": {
      "codemirror_mode": {
        "name": "ipython",
        "version": 3
      },
      "file_extension": ".py",
      "mimetype": "text/x-python",
      "name": "python",
      "nbconvert_exporter": "python",
      "pygments_lexer": "ipython3",
      "version": "3.11.4"
    }
  },
  "nbformat": 4,
  "nbformat_minor": 0
}