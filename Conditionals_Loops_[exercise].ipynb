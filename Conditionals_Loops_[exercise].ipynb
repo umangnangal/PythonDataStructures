{
 "cells": [
  {
   "cell_type": "markdown",
   "metadata": {
    "id": "abYpioLyK_XC"
   },
   "source": [
    "# Conditionals\n",
    "In Python, conditional statements are used to control the flow of the execution of a program based on certain conditions. The primary conditional statements in Python are:\n",
    "- `if` statement\n",
    "- `if-else` statement\n",
    "- `if-elif-else` statement\n",
    "- `match-case` statement"
   ]
  },
  {
   "cell_type": "markdown",
   "metadata": {
    "id": "0bXXk8D_LKhJ"
   },
   "source": [
    "## The `if` statement\n",
    "Used to execute a block of code if a specified condition is true"
   ]
  },
  {
   "cell_type": "markdown",
   "metadata": {
    "id": "lgJPKyfcOjOw"
   },
   "source": [
    "### Example\n",
    "Boolean values"
   ]
  },
  {
   "cell_type": "code",
   "execution_count": null,
   "metadata": {
    "id": "LcW8kmKWy9R0"
   },
   "outputs": [],
   "source": [
    "x = 10"
   ]
  },
  {
   "cell_type": "code",
   "execution_count": null,
   "metadata": {
    "colab": {
     "base_uri": "https://localhost:8080/"
    },
    "executionInfo": {
     "elapsed": 30,
     "status": "ok",
     "timestamp": 1723110089117,
     "user": {
      "displayName": "Sohan Hedge",
      "userId": "03545084746990477806"
     },
     "user_tz": -330
    },
    "id": "WzlxElqrv4I9",
    "outputId": "bb59e7b6-003c-47ce-ccce-fd70bf3a0a86"
   },
   "outputs": [
    {
     "data": {
      "text/plain": [
       "True"
      ]
     },
     "execution_count": 2,
     "metadata": {},
     "output_type": "execute_result"
    }
   ],
   "source": [
    "x > 5"
   ]
  },
  {
   "cell_type": "code",
   "execution_count": null,
   "metadata": {
    "id": "SLlB9QNdv4JA"
   },
   "outputs": [],
   "source": [
    "bool_val = x > 5"
   ]
  },
  {
   "cell_type": "code",
   "execution_count": null,
   "metadata": {
    "colab": {
     "base_uri": "https://localhost:8080/"
    },
    "executionInfo": {
     "elapsed": 25,
     "status": "ok",
     "timestamp": 1723110089117,
     "user": {
      "displayName": "Sohan Hedge",
      "userId": "03545084746990477806"
     },
     "user_tz": -330
    },
    "id": "enrHIg-yv4JB",
    "outputId": "e2855c19-2a09-484b-a91b-ae5e1652dbdb"
   },
   "outputs": [
    {
     "name": "stdout",
     "output_type": "stream",
     "text": [
      "x is greater than 5\n"
     ]
    }
   ],
   "source": [
    "if bool_val: print('x is greater than 5')"
   ]
  },
  {
   "cell_type": "code",
   "execution_count": null,
   "metadata": {
    "colab": {
     "base_uri": "https://localhost:8080/"
    },
    "executionInfo": {
     "elapsed": 19,
     "status": "ok",
     "timestamp": 1723110089117,
     "user": {
      "displayName": "Sohan Hedge",
      "userId": "03545084746990477806"
     },
     "user_tz": -330
    },
    "id": "Yh0KI8UNv4JB",
    "outputId": "3748851a-55f7-47c9-ae96-b00722e3e8f2"
   },
   "outputs": [
    {
     "name": "stdout",
     "output_type": "stream",
     "text": [
      "x is greater than 5\n"
     ]
    }
   ],
   "source": [
    "if x > 5: print('x is greater than 5')"
   ]
  },
  {
   "cell_type": "code",
   "execution_count": null,
   "metadata": {
    "id": "PircO4Ikv4JC"
   },
   "outputs": [],
   "source": [
    "if x < 0: print('This will not be printed')"
   ]
  },
  {
   "cell_type": "code",
   "execution_count": null,
   "metadata": {
    "colab": {
     "base_uri": "https://localhost:8080/"
    },
    "executionInfo": {
     "elapsed": 16,
     "status": "ok",
     "timestamp": 1723110089118,
     "user": {
      "displayName": "Sohan Hedge",
      "userId": "03545084746990477806"
     },
     "user_tz": -330
    },
    "id": "agWiqg0RL8Kj",
    "outputId": "496b151b-4563-401a-caf8-67fe70f629df",
    "scrolled": true
   },
   "outputs": [
    {
     "name": "stdout",
     "output_type": "stream",
     "text": [
      "This statement will always be printed\n"
     ]
    }
   ],
   "source": [
    "if True: print('This statement will always be printed')"
   ]
  },
  {
   "cell_type": "code",
   "execution_count": null,
   "metadata": {
    "id": "fY1oArPOv4JD"
   },
   "outputs": [],
   "source": [
    "if False: print('This statement will never be printed')"
   ]
  },
  {
   "cell_type": "code",
   "execution_count": null,
   "metadata": {
    "colab": {
     "base_uri": "https://localhost:8080/"
    },
    "executionInfo": {
     "elapsed": 12,
     "status": "ok",
     "timestamp": 1723110089118,
     "user": {
      "displayName": "Sohan Hedge",
      "userId": "03545084746990477806"
     },
     "user_tz": -330
    },
    "id": "va9_dp51r7Vk",
    "outputId": "822da6a2-f782-4eb7-ba27-4ae7d6985104"
   },
   "outputs": [
    {
     "name": "stdout",
     "output_type": "stream",
     "text": [
      "It's a sunny day!\n"
     ]
    }
   ],
   "source": [
    "is_sunny = True\n",
    "if is_sunny: print(\"It's a sunny day!\")"
   ]
  },
  {
   "cell_type": "code",
   "execution_count": null,
   "metadata": {
    "colab": {
     "base_uri": "https://localhost:8080/"
    },
    "executionInfo": {
     "elapsed": 9,
     "status": "ok",
     "timestamp": 1723110089118,
     "user": {
      "displayName": "Sohan Hedge",
      "userId": "03545084746990477806"
     },
     "user_tz": -330
    },
    "id": "4WjfMkBcv4JD",
    "outputId": "d0eb41e9-ac3e-4ecd-fd13-d2ac53366312"
   },
   "outputs": [
    {
     "data": {
      "text/plain": [
       "True"
      ]
     },
     "execution_count": 10,
     "metadata": {},
     "output_type": "execute_result"
    }
   ],
   "source": [
    "x > 5 and x < 15"
   ]
  },
  {
   "cell_type": "code",
   "execution_count": null,
   "metadata": {
    "id": "LPS3llZhv4JF"
   },
   "outputs": [],
   "source": [
    "bool_val = x > 5 and x < 15"
   ]
  },
  {
   "cell_type": "code",
   "execution_count": null,
   "metadata": {
    "colab": {
     "base_uri": "https://localhost:8080/"
    },
    "executionInfo": {
     "elapsed": 2,
     "status": "ok",
     "timestamp": 1723110148922,
     "user": {
      "displayName": "Sohan Hedge",
      "userId": "03545084746990477806"
     },
     "user_tz": -330
    },
    "id": "Ooa7GI06v4JF",
    "outputId": "2bfbc81a-15ac-4a0b-b54f-8618078b6c90"
   },
   "outputs": [
    {
     "name": "stdout",
     "output_type": "stream",
     "text": [
      "x is greater than 5\n"
     ]
    }
   ],
   "source": [
    "if bool_val: print('x is greater than 5')"
   ]
  },
  {
   "cell_type": "code",
   "execution_count": null,
   "metadata": {
    "colab": {
     "base_uri": "https://localhost:8080/"
    },
    "executionInfo": {
     "elapsed": 4,
     "status": "ok",
     "timestamp": 1723110151826,
     "user": {
      "displayName": "Sohan Hedge",
      "userId": "03545084746990477806"
     },
     "user_tz": -330
    },
    "id": "2TSihqyev4JF",
    "outputId": "9bf7a9b8-baca-42c3-a734-70e327da3390"
   },
   "outputs": [
    {
     "name": "stdout",
     "output_type": "stream",
     "text": [
      "x is greater than 5\n"
     ]
    }
   ],
   "source": [
    "if x > 5 and x < 15: print('x is greater than 5')"
   ]
  },
  {
   "cell_type": "code",
   "execution_count": null,
   "metadata": {
    "colab": {
     "base_uri": "https://localhost:8080/"
    },
    "executionInfo": {
     "elapsed": 4,
     "status": "ok",
     "timestamp": 1723110151827,
     "user": {
      "displayName": "Sohan Hedge",
      "userId": "03545084746990477806"
     },
     "user_tz": -330
    },
    "id": "_iy3LGIAv4JF",
    "outputId": "4e27560c-128b-4611-f90f-6f5e35862e61"
   },
   "outputs": [
    {
     "name": "stdout",
     "output_type": "stream",
     "text": [
      "x is greater than 5\n"
     ]
    }
   ],
   "source": [
    "if (x > 5) and (x < 15): print('x is greater than 5')"
   ]
  },
  {
   "cell_type": "code",
   "execution_count": null,
   "metadata": {
    "id": "Md5d1aXd1ki7"
   },
   "outputs": [],
   "source": [
    "temperature = 25"
   ]
  },
  {
   "cell_type": "code",
   "execution_count": null,
   "metadata": {
    "colab": {
     "base_uri": "https://localhost:8080/"
    },
    "executionInfo": {
     "elapsed": 4,
     "status": "ok",
     "timestamp": 1723110155523,
     "user": {
      "displayName": "Sohan Hedge",
      "userId": "03545084746990477806"
     },
     "user_tz": -330
    },
    "id": "KQ6xynWOv4JG",
    "outputId": "984b1b5b-823f-4d60-e08a-502ba933599d"
   },
   "outputs": [
    {
     "name": "stdout",
     "output_type": "stream",
     "text": [
      "It is pleasant outside\n"
     ]
    }
   ],
   "source": [
    "if temperature > 30: print('It is hot outside!')\n",
    "if temperature == 25: print('It is pleasant outside')\n",
    "if temperature < 10: print('It is cold outside')"
   ]
  },
  {
   "cell_type": "code",
   "execution_count": null,
   "metadata": {
    "colab": {
     "base_uri": "https://localhost:8080/"
    },
    "executionInfo": {
     "elapsed": 2,
     "status": "ok",
     "timestamp": 1723110156138,
     "user": {
      "displayName": "Sohan Hedge",
      "userId": "03545084746990477806"
     },
     "user_tz": -330
    },
    "id": "D_Wdb9dFv4JG",
    "outputId": "b6b4366b-62f4-45d6-d3b2-9a9f5d566ecf"
   },
   "outputs": [
    {
     "name": "stdout",
     "output_type": "stream",
     "text": [
      "x is greater than 5\n"
     ]
    }
   ],
   "source": [
    "x = 10\n",
    "if x > 5:\n",
    "    print('x is greater than 5')"
   ]
  },
  {
   "cell_type": "code",
   "execution_count": null,
   "metadata": {
    "id": "Bo0lwhD8v4JG"
   },
   "outputs": [],
   "source": [
    "temperature = 25\n",
    "if temperature > 30:\n",
    "    print(\"It's hot outside!\")\n",
    "if temperature < 10:\n",
    "    print(\"It's cold outside!\")"
   ]
  },
  {
   "cell_type": "code",
   "execution_count": null,
   "metadata": {
    "id": "lt3u6GRRzVmE"
   },
   "outputs": [],
   "source": [
    "# grade = 35\n",
    "# if grade <= 50:\n",
    "# print('Will cause an error since this line is not proprely indented!')"
   ]
  },
  {
   "cell_type": "code",
   "execution_count": null,
   "metadata": {
    "colab": {
     "base_uri": "https://localhost:8080/"
    },
    "executionInfo": {
     "elapsed": 2,
     "status": "ok",
     "timestamp": 1723110161839,
     "user": {
      "displayName": "Sohan Hedge",
      "userId": "03545084746990477806"
     },
     "user_tz": -330
    },
    "id": "-At_h-2Rv4JG",
    "outputId": "215df743-6023-4547-9952-5494f06418ac"
   },
   "outputs": [
    {
     "name": "stdout",
     "output_type": "stream",
     "text": [
      "No error now!\n"
     ]
    }
   ],
   "source": [
    "grade = 35\n",
    "if grade <= 50: print('No error now!')"
   ]
  },
  {
   "cell_type": "code",
   "execution_count": null,
   "metadata": {
    "colab": {
     "base_uri": "https://localhost:8080/"
    },
    "executionInfo": {
     "elapsed": 4,
     "status": "ok",
     "timestamp": 1723110162907,
     "user": {
      "displayName": "Sohan Hedge",
      "userId": "03545084746990477806"
     },
     "user_tz": -330
    },
    "id": "AWLGRyIZv4JH",
    "outputId": "eba9c554-6679-4ceb-988a-613b453f1f3f"
   },
   "outputs": [
    {
     "name": "stdout",
     "output_type": "stream",
     "text": [
      "No error now!\n"
     ]
    }
   ],
   "source": [
    "grade = 35\n",
    "if grade <= 50:\n",
    "    print('No error now!')"
   ]
  },
  {
   "cell_type": "code",
   "execution_count": null,
   "metadata": {
    "colab": {
     "base_uri": "https://localhost:8080/"
    },
    "executionInfo": {
     "elapsed": 417,
     "status": "ok",
     "timestamp": 1723110582366,
     "user": {
      "displayName": "Sohan Hedge",
      "userId": "03545084746990477806"
     },
     "user_tz": -330
    },
    "id": "r1lqhBxzv4JH",
    "outputId": "674a4e9c-c401-4a40-903e-a6b87dc1d3e7"
   },
   "outputs": [
    {
     "name": "stdout",
     "output_type": "stream",
     "text": [
      "The GPA is 2.5\n"
     ]
    }
   ],
   "source": [
    "if grade > 25:\n",
    "    GPA = 25 / 10\n",
    "    print(f'The GPA is {GPA}')"
   ]
  },
  {
   "cell_type": "markdown",
   "metadata": {
    "id": "a8cnYI8UMspV"
   },
   "source": [
    "### Example\n",
    "Boolean interpretation of numerics and strings"
   ]
  },
  {
   "cell_type": "code",
   "execution_count": null,
   "metadata": {
    "id": "--IC8YC3v4JH"
   },
   "outputs": [],
   "source": [
    "if 1: print('This statement will always be printed')"
   ]
  },
  {
   "cell_type": "code",
   "execution_count": null,
   "metadata": {
    "id": "k7ow4T59v4JH"
   },
   "outputs": [],
   "source": [
    "if 0: print('This statement will never be printed')"
   ]
  },
  {
   "cell_type": "code",
   "execution_count": null,
   "metadata": {
    "id": "VvKNd6-4NMQy"
   },
   "outputs": [],
   "source": [
    "if 34: print('This statement will always be printed')"
   ]
  },
  {
   "cell_type": "code",
   "execution_count": null,
   "metadata": {
    "id": "f9TfvK9Yplm2"
   },
   "outputs": [],
   "source": [
    "if 34.56: print('This statement will always be printed')"
   ]
  },
  {
   "cell_type": "code",
   "execution_count": null,
   "metadata": {
    "id": "Y_az2FJ8v4JT"
   },
   "outputs": [],
   "source": [
    "if -2: print('This statement will always be printed')"
   ]
  },
  {
   "cell_type": "code",
   "execution_count": null,
   "metadata": {
    "id": "Z3AkhJ-HzyVa"
   },
   "outputs": [],
   "source": [
    "if '': print('This statement will always be printed')"
   ]
  },
  {
   "cell_type": "code",
   "execution_count": null,
   "metadata": {
    "id": "G7WkcgLbz6DR"
   },
   "outputs": [],
   "source": [
    "if \"\": print('This statement will never be printed')"
   ]
  },
  {
   "cell_type": "code",
   "execution_count": null,
   "metadata": {
    "id": "vNMEOnqxz8yj"
   },
   "outputs": [],
   "source": [
    "if ' ': print('This statement will always be printed')"
   ]
  },
  {
   "cell_type": "code",
   "execution_count": null,
   "metadata": {
    "id": "Bxj9tfLzztsr"
   },
   "outputs": [],
   "source": [
    "if 'monday': print('This statement will always be printed')"
   ]
  },
  {
   "cell_type": "markdown",
   "metadata": {
    "id": "Yevdpt2uNU-q"
   },
   "source": [
    "### Example\n",
    "Compound conditions"
   ]
  },
  {
   "cell_type": "code",
   "execution_count": null,
   "metadata": {
    "id": "kaM2EdADv4JT"
   },
   "outputs": [],
   "source": [
    "is_sunny = True\n",
    "temperature = 28"
   ]
  },
  {
   "cell_type": "code",
   "execution_count": null,
   "metadata": {
    "id": "-2IOcdAHs0oW"
   },
   "outputs": [],
   "source": [
    "if is_sunny and temperature > 25: print('It is a warm and sunny day!')"
   ]
  },
  {
   "cell_type": "code",
   "execution_count": null,
   "metadata": {
    "id": "hOYp-_rexe7-"
   },
   "outputs": [],
   "source": [
    "if is_sunny or temperature > 25: print('It is a pleasant day!')"
   ]
  },
  {
   "cell_type": "markdown",
   "metadata": {
    "id": "KuZzYsA6tc5f"
   },
   "source": [
    "### Example\n",
    "Conditions on variables"
   ]
  },
  {
   "cell_type": "code",
   "execution_count": null,
   "metadata": {
    "id": "-xJF_Xu9NcPr"
   },
   "outputs": [],
   "source": [
    "name = 'Akhil'\n",
    "if len(name) >= 5: print('Name has 5 or more characters')"
   ]
  },
  {
   "cell_type": "markdown",
   "metadata": {
    "id": "FWxHd6t5xpQ0"
   },
   "source": [
    "### Example\n",
    "Negation"
   ]
  },
  {
   "cell_type": "code",
   "execution_count": null,
   "metadata": {
    "id": "2NVSNv9qyuJH"
   },
   "outputs": [],
   "source": [
    "customer_age = 70\n",
    "if customer_age >= 65: print('Customer is eligible for a senior discount')"
   ]
  },
  {
   "cell_type": "code",
   "execution_count": null,
   "metadata": {
    "id": "ggUESz2YywDd"
   },
   "outputs": [],
   "source": [
    "customer_age = 35\n",
    "if not customer_age >= 65: print('Customer is not eligible for a senior discount')"
   ]
  },
  {
   "cell_type": "markdown",
   "metadata": {
    "id": "UQ30eoYu10MR"
   },
   "source": [
    "### Quiz\n",
    "Suppose that the value of a variable `customer_type` is `'new'` and the value of a variable `customer_income` is `5345662`. Store these values in the right variables and then write `if` statements to check whether the customer is a new customer and whether their income is above $4500000$ INR. If so, then print the statement `'target for business loan'`."
   ]
  },
  {
   "cell_type": "code",
   "execution_count": null,
   "metadata": {
    "id": "SthnbDo418Xx"
   },
   "outputs": [],
   "source": [
    "### YOUR CODE HERE ###"
   ]
  },
  {
   "cell_type": "markdown",
   "metadata": {
    "id": "BYoWdWtgVVHi"
   },
   "source": [
    "## The `if-else` statement\n",
    "The `if-else` statement allows you to execute one block of code if the condition is true and another block of code if the condition is false"
   ]
  },
  {
   "cell_type": "markdown",
   "metadata": {
    "id": "tlvdvJo63O3Y"
   },
   "source": [
    "### Example\n",
    "Creating `if-else` statements"
   ]
  },
  {
   "cell_type": "code",
   "execution_count": null,
   "metadata": {
    "id": "MFystgr1SwjB"
   },
   "outputs": [],
   "source": [
    "if True: print('This will always be printed!')\n",
    "else: print('This will never be printed!')"
   ]
  },
  {
   "cell_type": "code",
   "execution_count": null,
   "metadata": {
    "id": "usnOdWiqTCWw"
   },
   "outputs": [],
   "source": [
    "if False: print('This will never be printed!')\n",
    "else: print('This will always be printed!')"
   ]
  },
  {
   "cell_type": "code",
   "execution_count": null,
   "metadata": {
    "id": "m6HEPmyhv4JV"
   },
   "outputs": [],
   "source": [
    "customer_age = 70\n",
    "if customer_age >= 65: print('Customer is eligible for a senior discount')\n",
    "else: print('Customer is not eligible for a senior discount')"
   ]
  },
  {
   "cell_type": "code",
   "execution_count": null,
   "metadata": {
    "id": "KBoXHzdEv4JV"
   },
   "outputs": [],
   "source": [
    "customer_age = 45\n",
    "if customer_age >= 65:\n",
    "    print('Customer is eligible for a senior discount')\n",
    "else:\n",
    "    print('Customer is not eligible for a senior discount')"
   ]
  },
  {
   "cell_type": "code",
   "execution_count": null,
   "metadata": {
    "id": "-hDyEpo84KuT"
   },
   "outputs": [],
   "source": [
    "# score = int(input('Enter score: '))\n",
    "score = 20\n",
    "\n",
    "if score > 35: print('pass')\n",
    "else: print('fail')"
   ]
  },
  {
   "cell_type": "code",
   "execution_count": null,
   "metadata": {
    "id": "GThff_Mev4JV"
   },
   "outputs": [],
   "source": [
    "score = 20\n",
    "print('pass') if score > 35 else print('fail')"
   ]
  },
  {
   "cell_type": "code",
   "execution_count": null,
   "metadata": {
    "id": "ge448Pj1v4JW"
   },
   "outputs": [],
   "source": [
    "score = 45\n",
    "print('pass') if score > 35 else print('fail')"
   ]
  },
  {
   "cell_type": "code",
   "execution_count": null,
   "metadata": {
    "id": "ryrXuxe9v4JW"
   },
   "outputs": [],
   "source": [
    "score = 20\n",
    "status = 'pass' if score > 35 else 'fail'\n",
    "status"
   ]
  },
  {
   "cell_type": "code",
   "execution_count": null,
   "metadata": {
    "id": "Zn-h09Swv4JW"
   },
   "outputs": [],
   "source": [
    "score = 45\n",
    "status = 'pass' if score > 35 else 'fail'\n",
    "status"
   ]
  },
  {
   "cell_type": "markdown",
   "metadata": {
    "id": "is8wszXRuR8r"
   },
   "source": [
    "### Quiz\n",
    "Suppose that the value of a variable `customer_type` is `'new'` and the value of a variable `customer_income` is `3267678`. Store these values in the right variables and then write `if-else` statements to check whether the customer is a new customer and whether their income is above $4500000$ INR. If so, then print the statement `'target for business loan'`. If not, then print `'explore opportunities other than for business loans'`"
   ]
  },
  {
   "cell_type": "code",
   "execution_count": null,
   "metadata": {
    "id": "-bb4I3dkueJj"
   },
   "outputs": [],
   "source": [
    "### YOUR CODE HERE ###"
   ]
  },
  {
   "cell_type": "markdown",
   "metadata": {
    "id": "eZSO-5ZZOg05"
   },
   "source": [
    "## The `if-elif-else` statement\n",
    "The command `elif` means \"else if\" and is used to check multiple conditions. It comes after an initial `if` statement and before the optional `else` statement."
   ]
  },
  {
   "cell_type": "markdown",
   "metadata": {
    "id": "bh8nU4xoaPSs"
   },
   "source": [
    "### Example\n",
    "Creating `if-elif-else` statements"
   ]
  },
  {
   "cell_type": "code",
   "execution_count": null,
   "metadata": {
    "id": "LF2LL3wWCEAh"
   },
   "outputs": [],
   "source": [
    "current_color = 'green'\n",
    "\n",
    "if current_color == 'red': print('stop')\n",
    "elif current_color == 'yellow': print('wait')\n",
    "elif current_color == 'green': print('go')\n",
    "else: print('invalid colour')"
   ]
  },
  {
   "cell_type": "code",
   "execution_count": null,
   "metadata": {
    "id": "tA5hHMFBv4JX"
   },
   "outputs": [],
   "source": [
    "# sales = int(input('Enter monthly sales units: '))\n",
    "sales = 54\n",
    "\n",
    "if sales >= 100: print('excellent')\n",
    "elif sales >= 50 and sales < 100: print('good')\n",
    "elif sales >= 25 and sales < 50: print('acceptable')\n",
    "else: print('bad')"
   ]
  },
  {
   "cell_type": "code",
   "execution_count": null,
   "metadata": {
    "id": "o25VpqcAv4JX"
   },
   "outputs": [],
   "source": [
    "# sales = int(input('Enter monthly sales units: '))\n",
    "sales = 54\n",
    "\n",
    "if sales >= 100: print('excellent')\n",
    "elif sales >= 50 and sales <= 99: print('good')\n",
    "elif sales >= 25 and sales <= 49: print('acceptable')\n",
    "else: print('bad')"
   ]
  },
  {
   "cell_type": "markdown",
   "metadata": {
    "id": "cKMMrhOfzfy9"
   },
   "source": [
    "### Quiz\n",
    "Write `if-elif-else` statements for the following set of rules on a variable called `attendance`:\n",
    "- If attendance is perfect ($30$ days), label the employee as `outstanding`\n",
    "- If attendance is between $25$ and $29$ days (inclusive), label the employee as `satisfactory`\n",
    "- If attendance is between $20$ and $24$ days (inclusive), label the employee as `fair`\n",
    "- If attendance is below $20$ days, label the employee as `poor`"
   ]
  },
  {
   "cell_type": "code",
   "execution_count": null,
   "metadata": {
    "id": "pfmcBvxB0add"
   },
   "outputs": [],
   "source": [
    "### YOUR CODE HERE ###"
   ]
  },
  {
   "cell_type": "markdown",
   "metadata": {
    "id": "9qaWFaTPUR6x"
   },
   "source": [
    "## Nested `if` statements\n",
    "Nested `if` statements involve placing one `if` statement inside another. They are useful when you need to check multiple conditions, and the execution of one condition depends on the outcome of another."
   ]
  },
  {
   "cell_type": "markdown",
   "metadata": {
    "id": "32rRF8c4agGP"
   },
   "source": [
    "### Example\n",
    "Creating nested `if` statements"
   ]
  },
  {
   "cell_type": "code",
   "execution_count": null,
   "metadata": {
    "id": "T6f7HsAUEEBw"
   },
   "outputs": [],
   "source": [
    "# credit_score = int(input('Please enter your credit score: '))\n",
    "# income = int(input('Please enter your income: '))\n",
    "credit_score = 450\n",
    "income = 60000\n",
    "if credit_score >= 700:\n",
    "    if income >= 50000:\n",
    "        print('credit card appoved')\n",
    "    else:\n",
    "        print('insufficient income')\n",
    "else: print('low credit score')"
   ]
  },
  {
   "cell_type": "code",
   "execution_count": null,
   "metadata": {
    "id": "rm-h6xG9_pk4"
   },
   "outputs": [],
   "source": [
    "# credit_score = int(input('Please enter your credit score: '))\n",
    "# income = int(input('Please enter your income: '))\n",
    "credit_score = 450\n",
    "income = 60000\n",
    "print_text = 'credit card approved'\n",
    "if credit_score < 700: print_text = 'low credit score'\n",
    "elif income < 50000: print_text = 'insufficient income'\n",
    "print(print_text)"
   ]
  },
  {
   "cell_type": "code",
   "execution_count": null,
   "metadata": {
    "id": "sr43WIzDHIJ0"
   },
   "outputs": [],
   "source": [
    "# user_location = input('Please enter your location: ')\n",
    "# payment_method = input('Please enter your payment method: ')\n",
    "# is_credit_card_valid = input('Is your credit card valid: ')\n",
    "user_location = 'local'\n",
    "payment_method = 'credit_card'\n",
    "is_credit_card_valid = 'yes'\n",
    "if user_location == 'local':\n",
    "    if payment_method == 'credit card':\n",
    "        if is_credit_card_valid == 'yes':\n",
    "            print('Your order is processed successfuly!')\n",
    "        else:\n",
    "            print('Sorry, your credit card is invalid.')\n",
    "    else:\n",
    "        print('Your order is processed successfuly!')\n",
    "elif user_location == 'international':\n",
    "    print('Please provide other payment method.')"
   ]
  },
  {
   "cell_type": "markdown",
   "metadata": {
    "id": "zYRVeB1v_pk4"
   },
   "source": [
    "### Quiz\n",
    "Write nested `if` statements for the following set of rules on two variables called `Python_Skill` and `Math_Skill`:\n",
    "- If skill in Python is `'good'` and skill in math is `'good'`, then print `'recommend advanced data structures topics'`\n",
    "- If skill in Python is `'good'` and skill in math is not `'good'`, then print `'recommend application development topics'`\n",
    "- If skill in Python is not `'good'` and skill in math is `'good'`, then print `'recommend data analytics tools topics'`\n",
    "- If skill in Python is not `'good'` and skill in math is not `'good'`, then print `'recommend other topics'`"
   ]
  },
  {
   "cell_type": "code",
   "execution_count": null,
   "metadata": {
    "id": "rTucAh29_pk4"
   },
   "outputs": [],
   "source": [
    "### YOUR CODE HERE ###"
   ]
  },
  {
   "cell_type": "markdown",
   "metadata": {
    "id": "fskwr0yBaq0s"
   },
   "source": [
    "## The `match-case` statement\n",
    "The `match-case` statement in Python provides a more flexible way to perform pattern matching. The `match-case` statement was introduced in Python 3.10."
   ]
  },
  {
   "cell_type": "markdown",
   "metadata": {
    "id": "gkgefrDLavtz"
   },
   "source": [
    "### Example\n",
    "Creating `match-case` statements"
   ]
  },
  {
   "cell_type": "code",
   "execution_count": 5,
   "metadata": {
    "id": "O-lQqRZwn0cC"
   },
   "outputs": [
    {
     "name": "stdout",
     "output_type": "stream",
     "text": [
      "invalid order type\n"
     ]
    }
   ],
   "source": [
    "order_type = 'online'\n",
    "match order_type:\n",
    "    case 'online':\n",
    "        print('process online order')\n",
    "    case 'in-store':\n",
    "        print('process in-store order')\n",
    "    case 'phone':\n",
    "        print('process phone order')\n",
    "    case _:\n",
    "        print('invalid order type')"
   ]
  },
  {
   "cell_type": "code",
   "execution_count": 7,
   "metadata": {
    "id": "0CjBDFareX7e"
   },
   "outputs": [
    {
     "name": "stdout",
     "output_type": "stream",
     "text": [
      "Essential expense\n"
     ]
    }
   ],
   "source": [
    "expense_category = 'Groceries'\n",
    "\n",
    "match expense_category:\n",
    "    case 'Groceries' | 'Utilities': \n",
    "        print('Essential expense')\n",
    "    case 'Dining out' | 'Entertainment': \n",
    "        print('Non-essential expense')\n",
    "    case _: \n",
    "        print('Other expense')"
   ]
  },
  {
   "cell_type": "markdown",
   "metadata": {
    "id": "rRxbcbiSLKEZ"
   },
   "source": [
    "# The `while` loop\n",
    "While loops are used to execute a block of statements repeatedly until a given condition is satisfied"
   ]
  },
  {
   "cell_type": "markdown",
   "metadata": {
    "id": "V13q1gLneeIq"
   },
   "source": [
    "## Creating while loops"
   ]
  },
  {
   "cell_type": "markdown",
   "metadata": {
    "id": "2uCgZtus_pk5"
   },
   "source": [
    "### Example\n",
    "Interaction between `while` loops and Boolean conditions"
   ]
  },
  {
   "cell_type": "code",
   "execution_count": 9,
   "metadata": {
    "id": "e2n4ZtJR_pk5"
   },
   "outputs": [],
   "source": [
    "while 0: \n",
    "    print('This will not be printed even once.')"
   ]
  },
  {
   "cell_type": "code",
   "execution_count": 11,
   "metadata": {
    "id": "ph2j7iSR_pk5"
   },
   "outputs": [],
   "source": [
    "while False: \n",
    "    print('This will not be printed even once.')"
   ]
  },
  {
   "cell_type": "code",
   "execution_count": 13,
   "metadata": {
    "id": "slOR6kzb_pk5"
   },
   "outputs": [],
   "source": [
    "# while 1: print('This will be printed infinite times.')"
   ]
  },
  {
   "cell_type": "code",
   "execution_count": null,
   "metadata": {
    "id": "1r1cTHKn_pk5"
   },
   "outputs": [],
   "source": [
    "# while True: print('This will be printed infinite times.')"
   ]
  },
  {
   "cell_type": "markdown",
   "metadata": {
    "id": "I61sd8LpamWi"
   },
   "source": [
    "### Example\n",
    "Creating `while` loops with Boolean conditions"
   ]
  },
  {
   "cell_type": "code",
   "execution_count": null,
   "metadata": {
    "id": "7NmBpnvsoTRa"
   },
   "outputs": [],
   "source": [
    "count = 5\n",
    "while count > 0:\n",
    "    count = count -1\n",
    "    print(count)"
   ]
  },
  {
   "cell_type": "code",
   "execution_count": null,
   "metadata": {
    "id": "_JfqFcXj_pk5"
   },
   "outputs": [],
   "source": [
    "count = 0\n",
    "while count < 10:\n",
    "    count += 1\n",
    "    print('This is statement number', count)"
   ]
  },
  {
   "cell_type": "code",
   "execution_count": null,
   "metadata": {
    "id": "VHcKh_xZh2NI"
   },
   "outputs": [],
   "source": [
    "# user_input = input(\"Enter a sentence: \")\n",
    "user_input = 'python'\n",
    "index = 0\n",
    "while index < len(user_input):\n",
    "    print('character:', user_input[index])\n",
    "    index += 1"
   ]
  },
  {
   "cell_type": "markdown",
   "metadata": {
    "id": "o1nhWKYz_pk5"
   },
   "source": [
    "### Example\n",
    "Creating `while` loops with conditions and `break` statements"
   ]
  },
  {
   "cell_type": "code",
   "execution_count": null,
   "metadata": {
    "id": "ObZy2zjAc4F7"
   },
   "outputs": [],
   "source": [
    "is_running = True\n",
    "count = 0\n",
    "while is_running:\n",
    "    print('This is statement number', count)\n",
    "    count += 1\n",
    "    if count >= 5:\n",
    "        is_running = False"
   ]
  },
  {
   "cell_type": "code",
   "execution_count": null,
   "metadata": {
    "id": "G3wxukPV_pk6"
   },
   "outputs": [],
   "source": [
    "a = 0\n",
    "while True:\n",
    "    a += 1\n",
    "    if a > 4: break\n",
    "    print('The value of the variable a =', a)"
   ]
  },
  {
   "cell_type": "code",
   "execution_count": null,
   "metadata": {
    "id": "6IlDrWIj_pk6"
   },
   "outputs": [],
   "source": [
    "temperature = 0\n",
    "while True:\n",
    "    temperature = temperature + 1\n",
    "    if temperature > 15:\n",
    "        print('the machine is heating up')\n",
    "        break\n",
    "    print('the machine is performing nominally')"
   ]
  },
  {
   "cell_type": "markdown",
   "metadata": {
    "id": "l610fQd6ab9d"
   },
   "source": [
    "### Example\n",
    "Creating nested `while` loops"
   ]
  },
  {
   "cell_type": "code",
   "execution_count": null,
   "metadata": {
    "id": "kVLaA9iSpvqR"
   },
   "outputs": [],
   "source": [
    "row = 1\n",
    "while row <= 3:\n",
    "    col = 1\n",
    "    while col <= 3:\n",
    "        print(f'({row}, {col})')\n",
    "        col += 1\n",
    "    row += 1"
   ]
  },
  {
   "cell_type": "markdown",
   "metadata": {
    "id": "BHkbwrpmhJ25"
   },
   "source": [
    "## Using `while` loops to iterate over sequences"
   ]
  },
  {
   "cell_type": "markdown",
   "metadata": {
    "id": "7LRBNkrZcSGB"
   },
   "source": [
    "### Example\n",
    "Creating `while` loops with string conditions"
   ]
  },
  {
   "cell_type": "code",
   "execution_count": null,
   "metadata": {
    "id": "p2gwiKD0cyxi"
   },
   "outputs": [],
   "source": [
    "word = 'python'\n",
    "while word: print(word); word = word[1:]"
   ]
  },
  {
   "cell_type": "markdown",
   "metadata": {
    "id": "65qFpA1K_pk6"
   },
   "source": [
    "### Example\n",
    "Creating `while` loops with `list` conditions"
   ]
  },
  {
   "cell_type": "code",
   "execution_count": null,
   "metadata": {
    "id": "qIJdLCtc_pk6"
   },
   "outputs": [],
   "source": [
    "while_list = ['Amanda', 'Bhushan', 'Chitra', 'Damian', 'Eshan']\n",
    "while while_list: print(while_list.pop())"
   ]
  },
  {
   "cell_type": "code",
   "execution_count": null,
   "metadata": {
    "id": "6VBTluQO_pk7"
   },
   "outputs": [],
   "source": [
    "while_list"
   ]
  },
  {
   "cell_type": "code",
   "execution_count": null,
   "metadata": {
    "id": "VlPOk1Y1_pk7"
   },
   "outputs": [],
   "source": [
    "# while_list = ['Amanda', 'Bhushan', 'Chitra', 'Damian', 'Eshan']\n",
    "# while while_list: print('Why did you do this?')"
   ]
  },
  {
   "cell_type": "markdown",
   "metadata": {
    "id": "wycFvY6EbRWc"
   },
   "source": [
    "### Example\n",
    "Creating `while` loops on iterables with `break` conditions"
   ]
  },
  {
   "cell_type": "code",
   "execution_count": 2,
   "metadata": {
    "colab": {
     "base_uri": "https://localhost:8080/"
    },
    "executionInfo": {
     "elapsed": 13,
     "status": "ok",
     "timestamp": 1723178818300,
     "user": {
      "displayName": "Sohan Hedge",
      "userId": "03545084746990477806"
     },
     "user_tz": -330
    },
    "id": "KUE2VXYdpujR",
    "outputId": "38d2b936-0afa-4cae-cd0c-eeaf70c1376b"
   },
   "outputs": [
    {
     "name": "stdout",
     "output_type": "stream",
     "text": [
      "orange not found in the shopping list\n"
     ]
    }
   ],
   "source": [
    "shopping_list = ['apple', 'banana', 'chocolate', 'milk']\n",
    "item_to_find = 'orange'\n",
    "\n",
    "while shopping_list:\n",
    "    item = shopping_list.pop()\n",
    "    if item == item_to_find:\n",
    "        print(f'{item_to_find} found in the shopping list')\n",
    "        break\n",
    "else:\n",
    "    print(f'{item_to_find} not found in the shopping list')"
   ]
  },
  {
   "cell_type": "code",
   "execution_count": null,
   "metadata": {
    "id": "D9RhNpXk_pk7"
   },
   "outputs": [],
   "source": [
    "shopping_list"
   ]
  },
  {
   "cell_type": "markdown",
   "metadata": {
    "id": "H8btesSCMq2u"
   },
   "source": [
    "### Quiz\n",
    "You are working on a program that needs to display a countdown from 10 to 1, followed by the message \"Liftoff!\". Use a while loop to implement this countdown. Write the Python code to achieve this."
   ]
  },
  {
   "cell_type": "code",
   "execution_count": null,
   "metadata": {
    "id": "j6XlalakM9Hc"
   },
   "outputs": [],
   "source": [
    "### YOUR CODE HERE ###"
   ]
  },
  {
   "cell_type": "markdown",
   "metadata": {
    "id": "TViSGmQzfUwk"
   },
   "source": [
    "# The `for` loop\n",
    "`for` loops are used to iterate over iterables"
   ]
  },
  {
   "cell_type": "markdown",
   "metadata": {
    "id": "Nx3ZQHqIb4pD"
   },
   "source": [
    "## Creating `for` loops"
   ]
  },
  {
   "cell_type": "markdown",
   "metadata": {
    "id": "aBcixDKt_pk8"
   },
   "source": [
    "### Example\n",
    "Creating `for` loops with `lists` and other iterables"
   ]
  },
  {
   "cell_type": "code",
   "execution_count": 3,
   "metadata": {
    "colab": {
     "base_uri": "https://localhost:8080/"
    },
    "executionInfo": {
     "elapsed": 641,
     "status": "ok",
     "timestamp": 1723178851030,
     "user": {
      "displayName": "Sohan Hedge",
      "userId": "03545084746990477806"
     },
     "user_tz": -330
    },
    "id": "6XaTiglS_pk8",
    "outputId": "a276b667-cbc1-4c6d-d163-8ffc0c55de55"
   },
   "outputs": [
    {
     "name": "stdout",
     "output_type": "stream",
     "text": [
      "Aravind\n",
      "Charlie\n",
      "Dinesh\n",
      "Parveen\n",
      "Ram\n",
      "Subhadra\n",
      "Zareena\n"
     ]
    }
   ],
   "source": [
    "names = ['Aravind', 'Charlie', 'Dinesh', 'Parveen', 'Ram', 'Subhadra', 'Zareena']\n",
    "for name in names: print(name)"
   ]
  },
  {
   "cell_type": "code",
   "execution_count": 4,
   "metadata": {
    "colab": {
     "base_uri": "https://localhost:8080/"
    },
    "executionInfo": {
     "elapsed": 11,
     "status": "ok",
     "timestamp": 1723178855884,
     "user": {
      "displayName": "Sohan Hedge",
      "userId": "03545084746990477806"
     },
     "user_tz": -330
    },
    "id": "GnWpBCz1_pk8",
    "outputId": "e90f0195-dc93-4d13-f4d5-cdf8401b347d"
   },
   "outputs": [
    {
     "name": "stdout",
     "output_type": "stream",
     "text": [
      "Aravind\n",
      "Charlie\n",
      "Dinesh\n",
      "Parveen\n",
      "Ram\n",
      "Subhadra\n",
      "Zareena\n"
     ]
    }
   ],
   "source": [
    "names = ('Aravind', 'Charlie', 'Dinesh', 'Parveen', 'Ram', 'Subhadra', 'Zareena')\n",
    "for name in names: print(name)"
   ]
  },
  {
   "cell_type": "code",
   "execution_count": null,
   "metadata": {
    "id": "3lIwNnY-_pk8"
   },
   "outputs": [],
   "source": [
    "names = {'Aravind', 'Charlie', 'Dinesh', 'Parveen', 'Ram', 'Subhadra', 'Zareena'}\n",
    "for name in names: print(name)"
   ]
  },
  {
   "cell_type": "code",
   "execution_count": 5,
   "metadata": {
    "colab": {
     "base_uri": "https://localhost:8080/"
    },
    "executionInfo": {
     "elapsed": 404,
     "status": "ok",
     "timestamp": 1723178878588,
     "user": {
      "displayName": "Sohan Hedge",
      "userId": "03545084746990477806"
     },
     "user_tz": -330
    },
    "id": "7W9eV58P_pk8",
    "outputId": "2fdb16ca-410d-4b76-a1ce-976b225c79e2"
   },
   "outputs": [
    {
     "name": "stdout",
     "output_type": "stream",
     "text": [
      "Aravind\n",
      "Charlie\n",
      "Dinesh\n",
      "Parveen\n",
      "Ram\n",
      "Subhadra\n",
      "Zareena\n"
     ]
    }
   ],
   "source": [
    "names = {'Aravind': 26765, 'Charlie': 34431, 'Dinesh': 65587, 'Parveen': 45809,\n",
    "         'Ram': 87987, 'Subhadra': 54019, 'Zareena': 21298}\n",
    "for name in names: print(name)"
   ]
  },
  {
   "cell_type": "code",
   "execution_count": 6,
   "metadata": {
    "colab": {
     "base_uri": "https://localhost:8080/"
    },
    "executionInfo": {
     "elapsed": 404,
     "status": "ok",
     "timestamp": 1723178896584,
     "user": {
      "displayName": "Sohan Hedge",
      "userId": "03545084746990477806"
     },
     "user_tz": -330
    },
    "id": "tNU2R8Bv_pk8",
    "outputId": "41c17b36-1967-4c36-9e01-a7fdc060d39f"
   },
   "outputs": [
    {
     "name": "stdout",
     "output_type": "stream",
     "text": [
      "Aravind\n",
      "Charlie\n",
      "Dinesh\n",
      "Parveen\n",
      "Ram\n",
      "Subhadra\n",
      "Zareena\n"
     ]
    }
   ],
   "source": [
    "names = {'Aravind': 26765, 'Charlie': 34431, 'Dinesh': 65587, 'Parveen': 45809,\n",
    "         'Ram': 87987, 'Subhadra': 54019, 'Zareena': 21298}\n",
    "for name in names.keys(): print(name)"
   ]
  },
  {
   "cell_type": "code",
   "execution_count": null,
   "metadata": {
    "id": "KYhGzbKB_pk8"
   },
   "outputs": [],
   "source": [
    "names = {'Aravind': 26765, 'Charlie': 34431, 'Dinesh': 65587, 'Parveen': 45809,\n",
    "         'Ram': 87987, 'Subhadra': 54019, 'Zareena': 21298}\n",
    "for val in names.values(): print(val)"
   ]
  },
  {
   "cell_type": "code",
   "execution_count": 7,
   "metadata": {
    "colab": {
     "base_uri": "https://localhost:8080/"
    },
    "executionInfo": {
     "elapsed": 498,
     "status": "ok",
     "timestamp": 1723178913047,
     "user": {
      "displayName": "Sohan Hedge",
      "userId": "03545084746990477806"
     },
     "user_tz": -330
    },
    "id": "vdTicmhF_pk8",
    "outputId": "97033543-0841-4b11-97d9-4f0cd6770b23"
   },
   "outputs": [
    {
     "name": "stdout",
     "output_type": "stream",
     "text": [
      "('Aravind', 26765)\n",
      "('Charlie', 34431)\n",
      "('Dinesh', 65587)\n",
      "('Parveen', 45809)\n",
      "('Ram', 87987)\n",
      "('Subhadra', 54019)\n",
      "('Zareena', 21298)\n"
     ]
    }
   ],
   "source": [
    "names = {'Aravind': 26765, 'Charlie': 34431, 'Dinesh': 65587, 'Parveen': 45809,\n",
    "         'Ram': 87987, 'Subhadra': 54019, 'Zareena': 21298}\n",
    "for item in names.items(): print(item)"
   ]
  },
  {
   "cell_type": "code",
   "execution_count": null,
   "metadata": {
    "id": "9gBLFNyxgcf7"
   },
   "outputs": [],
   "source": [
    "for i in range(5): print('Current value =', i)"
   ]
  },
  {
   "cell_type": "code",
   "execution_count": null,
   "metadata": {
    "id": "cS1LBjMef1VL"
   },
   "outputs": [],
   "source": [
    "for _ in range(5): print('This will be printed 5 times.')"
   ]
  },
  {
   "cell_type": "code",
   "execution_count": null,
   "metadata": {
    "id": "VnKWH_IA_pk9"
   },
   "outputs": [],
   "source": [
    "num_list = [0, 2, 4, 6, 8, 10]\n",
    "for num in num_list: print(num * 100)"
   ]
  },
  {
   "cell_type": "code",
   "execution_count": null,
   "metadata": {
    "id": "n47bAMk1sK6M"
   },
   "outputs": [],
   "source": [
    "word = 'Python'\n",
    "for char in word: print(char)"
   ]
  },
  {
   "cell_type": "markdown",
   "metadata": {
    "id": "YSUuAYXtb4ff"
   },
   "source": [
    "### Example\n",
    "Creating nested `for` loops"
   ]
  },
  {
   "cell_type": "code",
   "execution_count": null,
   "metadata": {
    "id": "eTxCqAqoqKoe"
   },
   "outputs": [],
   "source": [
    "for i in range(1, 4):\n",
    "    for j in range(1, 4):\n",
    "        print(f'{i} * {j} = {i * j}')"
   ]
  },
  {
   "cell_type": "markdown",
   "metadata": {
    "id": "2KiLXK5acFhF"
   },
   "source": [
    "### Example\n",
    "Creating `for` loops with conditionals and `break` statements"
   ]
  },
  {
   "cell_type": "code",
   "execution_count": null,
   "metadata": {
    "id": "xtJJbfaJ_pk9"
   },
   "outputs": [],
   "source": [
    "for n in range(0, 16, 2):\n",
    "    if n <= 6: print('first half')\n",
    "    else: print('second half')"
   ]
  },
  {
   "cell_type": "code",
   "execution_count": null,
   "metadata": {
    "id": "MvD1IjYJ_pk9"
   },
   "outputs": [],
   "source": [
    "names = {'Aravind': 26765, 'Charlie': 34431, 'Dinesh': 65587, 'Parveen': 45809,\n",
    "         'Ram': 87987, 'Subhadra': 54019, 'Zareena': 21298}\n",
    "required_name = 'Dinesh'\n",
    "for name in names.keys():\n",
    "    if name == required_name:\n",
    "        print(f'The employee {name} has a compensation of {names[name]}')\n",
    "        break"
   ]
  },
  {
   "cell_type": "code",
   "execution_count": null,
   "metadata": {
    "id": "d8Co3sfpqOSA"
   },
   "outputs": [],
   "source": [
    "# search_item = input('Please enter search item: ')\n",
    "search_item = 'camera'\n",
    "products = ['laptop', 'phone', 'tablet', 'printer', 'camera']\n",
    "\n",
    "for product in products:\n",
    "    if product == search_item:\n",
    "        print(f'{search_item} found in inventory')\n",
    "        break\n",
    "else:\n",
    "    print(f'{search_item} not found in inventory')"
   ]
  },
  {
   "cell_type": "markdown",
   "metadata": {
    "id": "LiN3LmaCrIQ3"
   },
   "source": [
    "### Quiz\n",
    "Consider the following list of user ratings of a product on a scale of 1 to 10:\n",
    "```\n",
    "ratings_list = [2, 7, 4, 8, 4, 3, 9, 2, -1, 9, 3, 0, 4, 2, -2, -3, 5, 4, 8, 9]\n",
    "```\n",
    "Some of these ratings are invalid. Use `for` loop statements with conditionals and `break` statememnts to find the index of the first occurence of an invalid rating."
   ]
  },
  {
   "cell_type": "code",
   "execution_count": null,
   "metadata": {
    "id": "LR_iyw77rH5p"
   },
   "outputs": [],
   "source": [
    "### YOUR CODE HERE ###"
   ]
  },
  {
   "cell_type": "markdown",
   "metadata": {
    "id": "QhNkZseT_pk-"
   },
   "source": [
    "### Example\n",
    "Using `for` loops to iteratively compute over variables"
   ]
  },
  {
   "cell_type": "code",
   "execution_count": null,
   "metadata": {
    "id": "czY1__-c_pk-"
   },
   "outputs": [],
   "source": [
    "total_sales = 0\n",
    "sales_values = {'Q1': 15546, 'Q2': 17623, 'Q3': 21109, 'Q4': 18972}\n",
    "for val in sales_values.values():\n",
    "    total_sales += val\n",
    "total_sales"
   ]
  },
  {
   "cell_type": "markdown",
   "metadata": {
    "id": "u7LVp1docU5R"
   },
   "source": [
    "### Example\n",
    "Using `continue` statements in `for` loops with conditionals to loop back to the beginning instead of breaking"
   ]
  },
  {
   "cell_type": "code",
   "execution_count": null,
   "metadata": {
    "id": "2bI4VaWXRJ5q"
   },
   "outputs": [],
   "source": [
    "names = ('Aravind', 'Charlie', 'Rohit', 'Dinesh', 'Parveen', 'Ram', 'Subhadra', 'Zareena', 'Rahul')\n",
    "for name in names:\n",
    "    if name[0] == 'R':\n",
    "        print(f'The name {name} starts with the letter R')\n",
    "        continue\n",
    "    print(f'The name {name} does not start with the letter R')"
   ]
  },
  {
   "cell_type": "markdown",
   "metadata": {
    "id": "4S7H7gNjcVBO"
   },
   "source": [
    "### Example\n",
    "Using `pass` statements in `for` loops with conditionals as placeholders"
   ]
  },
  {
   "cell_type": "code",
   "execution_count": null,
   "metadata": {
    "id": "toournL7qRt2"
   },
   "outputs": [],
   "source": [
    "names = ('Aravind', 'Charlie', 'Rohit', 'Dinesh', 'Parveen', 'Ram', 'Subhadra', 'Zareena', 'Rahul')\n",
    "for name in names:\n",
    "    if name[0] == 'R': pass\n",
    "    else: print(f'The name {name} does not start with the letter R')"
   ]
  }
 ],
 "metadata": {
  "colab": {
   "provenance": [
    {
     "file_id": "1utptVXHaRqXxXIVbbzIltKAmfZpboXrL",
     "timestamp": 1722220975575
    }
   ],
   "toc_visible": true
  },
  "kernelspec": {
   "display_name": "Python 3 (ipykernel)",
   "language": "python",
   "name": "python3"
  },
  "language_info": {
   "codemirror_mode": {
    "name": "ipython",
    "version": 3
   },
   "file_extension": ".py",
   "mimetype": "text/x-python",
   "name": "python",
   "nbconvert_exporter": "python",
   "pygments_lexer": "ipython3",
   "version": "3.12.4"
  }
 },
 "nbformat": 4,
 "nbformat_minor": 4
}
