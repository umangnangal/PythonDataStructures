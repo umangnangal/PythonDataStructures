{
 "cells": [
  {
   "cell_type": "markdown",
   "id": "a959ef40-edd8-49c2-9def-11bed7887a30",
   "metadata": {},
   "source": [
    "# Understanding literal_eval function from ast module/package"
   ]
  },
  {
   "cell_type": "code",
   "execution_count": 3,
   "id": "bb6f1535-56df-4309-bdb0-a6a31e98ff7d",
   "metadata": {},
   "outputs": [],
   "source": [
    "import ast"
   ]
  },
  {
   "cell_type": "code",
   "execution_count": 5,
   "id": "2985c353-fcb3-493f-bfe6-184aa7234428",
   "metadata": {},
   "outputs": [
    {
     "name": "stdin",
     "output_type": "stream",
     "text": [
      "Enter space separated list here:  [1,2,3,4,5,6]\n"
     ]
    }
   ],
   "source": [
    "a = input(\"Enter comma separated list here: \")"
   ]
  },
  {
   "cell_type": "code",
   "execution_count": 7,
   "id": "21c9c766-dd75-4d98-b02b-e4656d03a479",
   "metadata": {},
   "outputs": [
    {
     "data": {
      "text/plain": [
       "'[1,2,3,4,5,6]'"
      ]
     },
     "execution_count": 7,
     "metadata": {},
     "output_type": "execute_result"
    }
   ],
   "source": [
    "a"
   ]
  },
  {
   "cell_type": "code",
   "execution_count": 9,
   "id": "ad3238fa-abd6-49d4-93a0-d836ebf13437",
   "metadata": {},
   "outputs": [
    {
     "data": {
      "text/plain": [
       "str"
      ]
     },
     "execution_count": 9,
     "metadata": {},
     "output_type": "execute_result"
    }
   ],
   "source": [
    "type(a)"
   ]
  },
  {
   "cell_type": "code",
   "execution_count": 11,
   "id": "b45fe203-7314-4876-9680-e7bb34f25960",
   "metadata": {},
   "outputs": [
    {
     "name": "stdin",
     "output_type": "stream",
     "text": [
      "Enter comma separated list here:  [1,2,3,4,5,6]\n"
     ]
    }
   ],
   "source": [
    "b = ast.literal_eval(input(\"Enter comma separated list here: \"))"
   ]
  },
  {
   "cell_type": "code",
   "execution_count": 13,
   "id": "d8597fc9-176a-4aa8-afed-2b8f1063a1a0",
   "metadata": {},
   "outputs": [
    {
     "data": {
      "text/plain": [
       "[1, 2, 3, 4, 5, 6]"
      ]
     },
     "execution_count": 13,
     "metadata": {},
     "output_type": "execute_result"
    }
   ],
   "source": [
    "b"
   ]
  },
  {
   "cell_type": "code",
   "execution_count": 15,
   "id": "0ea2c4a3-c944-4554-9070-8780c94719e5",
   "metadata": {},
   "outputs": [
    {
     "data": {
      "text/plain": [
       "list"
      ]
     },
     "execution_count": 15,
     "metadata": {},
     "output_type": "execute_result"
    }
   ],
   "source": [
    "type(b)"
   ]
  },
  {
   "cell_type": "markdown",
   "id": "6093b08d-c174-4bc3-a476-75b02d24e558",
   "metadata": {},
   "source": [
    "### One more example (using dictionary)"
   ]
  },
  {
   "cell_type": "code",
   "execution_count": 28,
   "id": "03a9f38d-43b0-4408-a004-854b52888aad",
   "metadata": {},
   "outputs": [
    {
     "name": "stdin",
     "output_type": "stream",
     "text": [
      "Enter the name and age as a dict:  {\"name\": \"Umang\", \"Age\": 28}\n"
     ]
    }
   ],
   "source": [
    "a = input(\"Enter the name and age as a dict: \")"
   ]
  },
  {
   "cell_type": "code",
   "execution_count": 30,
   "id": "e3770d91-bd1b-4351-9f55-023c7a8c8996",
   "metadata": {},
   "outputs": [
    {
     "data": {
      "text/plain": [
       "'{\"name\": \"Umang\", \"Age\": 28}'"
      ]
     },
     "execution_count": 30,
     "metadata": {},
     "output_type": "execute_result"
    }
   ],
   "source": [
    "a"
   ]
  },
  {
   "cell_type": "code",
   "execution_count": 36,
   "id": "a5d1aa9b-c022-4c60-b717-5b440645fdec",
   "metadata": {},
   "outputs": [
    {
     "name": "stdin",
     "output_type": "stream",
     "text": [
      "Enter the name and age as a dict:  {\"name\": \"Umang\", \"Age\": 28}\n"
     ]
    }
   ],
   "source": [
    "b = ast.literal_eval(input(\"Enter the name and age as a dict: \"))"
   ]
  },
  {
   "cell_type": "code",
   "execution_count": 44,
   "id": "7e1a74ed-f155-403d-9c1b-a99913087829",
   "metadata": {},
   "outputs": [
    {
     "data": {
      "text/plain": [
       "{'name': 'Umang', 'Age': 28}"
      ]
     },
     "execution_count": 44,
     "metadata": {},
     "output_type": "execute_result"
    }
   ],
   "source": [
    "b"
   ]
  },
  {
   "cell_type": "code",
   "execution_count": 52,
   "id": "0ffd1b05-a8fa-4ada-8ca7-3a178b0f6d2b",
   "metadata": {},
   "outputs": [
    {
     "data": {
      "text/plain": [
       "dict"
      ]
     },
     "execution_count": 52,
     "metadata": {},
     "output_type": "execute_result"
    }
   ],
   "source": [
    "type(b)"
   ]
  },
  {
   "cell_type": "code",
   "execution_count": 46,
   "id": "3c16476c-96ce-4f77-b651-bfb95900259f",
   "metadata": {},
   "outputs": [
    {
     "data": {
      "text/plain": [
       "dict_keys(['name', 'Age'])"
      ]
     },
     "execution_count": 46,
     "metadata": {},
     "output_type": "execute_result"
    }
   ],
   "source": [
    "b.keys()"
   ]
  },
  {
   "cell_type": "code",
   "execution_count": 48,
   "id": "b48e9322-9250-4737-bac4-5f54cee42a59",
   "metadata": {},
   "outputs": [
    {
     "data": {
      "text/plain": [
       "dict_values(['Umang', 28])"
      ]
     },
     "execution_count": 48,
     "metadata": {},
     "output_type": "execute_result"
    }
   ],
   "source": [
    "b.values()"
   ]
  },
  {
   "cell_type": "code",
   "execution_count": 50,
   "id": "e071309e-e50e-41e8-9b91-065e2e4a15f3",
   "metadata": {},
   "outputs": [
    {
     "data": {
      "text/plain": [
       "dict_items([('name', 'Umang'), ('Age', 28)])"
      ]
     },
     "execution_count": 50,
     "metadata": {},
     "output_type": "execute_result"
    }
   ],
   "source": [
    "b.items()"
   ]
  },
  {
   "cell_type": "markdown",
   "id": "5ffc34e6-6045-4562-9c45-d56c956d0d0d",
   "metadata": {},
   "source": [
    "# Sum of angles in a Triangle"
   ]
  },
  {
   "cell_type": "code",
   "execution_count": 23,
   "id": "36948570-ffa6-4539-b7ef-182a0d9a23da",
   "metadata": {},
   "outputs": [
    {
     "name": "stdout",
     "output_type": "stream",
     "text": [
      "180\n"
     ]
    }
   ],
   "source": [
    "a = 30\n",
    "b = 60\n",
    "c = 90\n",
    "sum_of_angles = a + b + c\n",
    "print(sum_of_angles)"
   ]
  },
  {
   "cell_type": "markdown",
   "id": "6df92b52-17e0-48ab-ad24-1a0a71207545",
   "metadata": {},
   "source": [
    "# Things to ponder"
   ]
  },
  {
   "cell_type": "code",
   "execution_count": 55,
   "id": "4b51e55a-08b5-496f-914e-1ac397fa2215",
   "metadata": {},
   "outputs": [
    {
     "name": "stdout",
     "output_type": "stream",
     "text": [
      "[1, 2, 3, 4, 5]\n",
      "[1, 2, 3, 4, 5]\n"
     ]
    }
   ],
   "source": [
    "# Consider a list a\n",
    "a = [1,2,3,4,5]\n",
    "\n",
    "# Assigning b = a\n",
    "b = a\n",
    "\n",
    "print(a)\n",
    "print(b)\n",
    "\n",
    "# It can be seen that both a and b are the same as expected"
   ]
  },
  {
   "cell_type": "code",
   "execution_count": 57,
   "id": "d7552c4f-6f1f-44d2-af9f-2c22bd72d751",
   "metadata": {},
   "outputs": [
    {
     "data": {
      "text/plain": [
       "True"
      ]
     },
     "execution_count": 57,
     "metadata": {},
     "output_type": "execute_result"
    }
   ],
   "source": [
    "a == b"
   ]
  },
  {
   "cell_type": "code",
   "execution_count": 61,
   "id": "35847a1d-8a07-4bab-89e9-b1d67c23d96c",
   "metadata": {},
   "outputs": [],
   "source": [
    "# Now lets change an element of list b\n",
    "b[0] = 9"
   ]
  },
  {
   "cell_type": "code",
   "execution_count": 63,
   "id": "76791a5b-95b9-488f-92bf-312931f1efd2",
   "metadata": {},
   "outputs": [
    {
     "data": {
      "text/plain": [
       "[9, 2, 3, 4, 5]"
      ]
     },
     "execution_count": 63,
     "metadata": {},
     "output_type": "execute_result"
    }
   ],
   "source": [
    "# What do you think will the value of list a now?\n",
    "a"
   ]
  },
  {
   "cell_type": "markdown",
   "id": "da6655fd-e184-4e3d-93d2-a80f70b1813c",
   "metadata": {},
   "source": [
    "### Why did list a change? Think about this. Will discuss this next week."
   ]
  },
  {
   "cell_type": "code",
   "execution_count": null,
   "id": "2b20314e-b07e-4b8f-96e3-7bf353da5304",
   "metadata": {},
   "outputs": [],
   "source": []
  }
 ],
 "metadata": {
  "kernelspec": {
   "display_name": "Python 3 (ipykernel)",
   "language": "python",
   "name": "python3"
  },
  "language_info": {
   "codemirror_mode": {
    "name": "ipython",
    "version": 3
   },
   "file_extension": ".py",
   "mimetype": "text/x-python",
   "name": "python",
   "nbconvert_exporter": "python",
   "pygments_lexer": "ipython3",
   "version": "3.12.4"
  }
 },
 "nbformat": 4,
 "nbformat_minor": 5
}
