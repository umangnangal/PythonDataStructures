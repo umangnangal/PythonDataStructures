{
 "cells": [
  {
   "cell_type": "markdown",
   "metadata": {
    "id": "w8_oixjyXVnc"
   },
   "source": [
    "# Python basics\n",
    "This section covers the foundational aspects of Python programming, including how to declare variables, basic arithmetic operations, and the fundamental concepts needed to start coding in Python."
   ]
  },
  {
   "cell_type": "markdown",
   "metadata": {
    "id": "gJ_9DHWlXqpl"
   },
   "source": [
    "### Example\n",
    "Creating variables"
   ]
  },
  {
   "cell_type": "code",
   "execution_count": null,
   "metadata": {
    "colab": {
     "base_uri": "https://localhost:8080/"
    },
    "executionInfo": {
     "elapsed": 435,
     "status": "ok",
     "timestamp": 1722403475952,
     "user": {
      "displayName": "Sudarshanan Raghavan",
      "userId": "18093698647292025641"
     },
     "user_tz": -330
    },
    "id": "ETd-DyUVW_k_",
    "outputId": "a3c1dad6-646a-44b9-f4cf-a4a2f6b5d1f5"
   },
   "outputs": [
    {
     "data": {
      "text/plain": [
       "1"
      ]
     },
     "execution_count": 38,
     "metadata": {},
     "output_type": "execute_result"
    }
   ],
   "source": [
    "1"
   ]
  },
  {
   "cell_type": "code",
   "execution_count": null,
   "metadata": {
    "colab": {
     "base_uri": "https://localhost:8080/"
    },
    "executionInfo": {
     "elapsed": 46,
     "status": "ok",
     "timestamp": 1722403478446,
     "user": {
      "displayName": "Sudarshanan Raghavan",
      "userId": "18093698647292025641"
     },
     "user_tz": -330
    },
    "id": "f_ytatESbkdU",
    "outputId": "537baa56-995c-47f3-d6a3-c1a35b8bc421"
   },
   "outputs": [
    {
     "name": "stdout",
     "output_type": "stream",
     "text": [
      "1\n"
     ]
    }
   ],
   "source": [
    "print(1)"
   ]
  },
  {
   "cell_type": "code",
   "execution_count": null,
   "metadata": {
    "id": "MUk90PMJX1Dd"
   },
   "outputs": [],
   "source": [
    "a = 1"
   ]
  },
  {
   "cell_type": "code",
   "execution_count": null,
   "metadata": {
    "colab": {
     "base_uri": "https://localhost:8080/"
    },
    "executionInfo": {
     "elapsed": 45,
     "status": "ok",
     "timestamp": 1722403478446,
     "user": {
      "displayName": "Sudarshanan Raghavan",
      "userId": "18093698647292025641"
     },
     "user_tz": -330
    },
    "id": "leJSO3cjbmWu",
    "outputId": "3792cdc9-2269-486f-9b17-99c8032fa260"
   },
   "outputs": [
    {
     "name": "stdout",
     "output_type": "stream",
     "text": [
      "1\n"
     ]
    }
   ],
   "source": [
    "print(a)"
   ]
  },
  {
   "cell_type": "code",
   "execution_count": null,
   "metadata": {
    "colab": {
     "base_uri": "https://localhost:8080/"
    },
    "executionInfo": {
     "elapsed": 44,
     "status": "ok",
     "timestamp": 1722403478447,
     "user": {
      "displayName": "Sudarshanan Raghavan",
      "userId": "18093698647292025641"
     },
     "user_tz": -330
    },
    "id": "t-pSYeOEX-Ll",
    "outputId": "7aac8673-0526-491c-f09f-e7ca28043d4f"
   },
   "outputs": [
    {
     "data": {
      "text/plain": [
       "1"
      ]
     },
     "execution_count": 42,
     "metadata": {},
     "output_type": "execute_result"
    }
   ],
   "source": [
    "a"
   ]
  },
  {
   "cell_type": "code",
   "execution_count": null,
   "metadata": {
    "id": "_mFcA09GYC7V"
   },
   "outputs": [],
   "source": [
    "b = 2"
   ]
  },
  {
   "cell_type": "code",
   "execution_count": null,
   "metadata": {
    "colab": {
     "base_uri": "https://localhost:8080/"
    },
    "executionInfo": {
     "elapsed": 42,
     "status": "ok",
     "timestamp": 1722403478447,
     "user": {
      "displayName": "Sudarshanan Raghavan",
      "userId": "18093698647292025641"
     },
     "user_tz": -330
    },
    "id": "p7dGvcf4YEpE",
    "outputId": "f709ff92-c0e6-4907-999e-f33ed8f1a4a2"
   },
   "outputs": [
    {
     "name": "stdout",
     "output_type": "stream",
     "text": [
      "2\n"
     ]
    }
   ],
   "source": [
    "print(b)"
   ]
  },
  {
   "cell_type": "code",
   "execution_count": null,
   "metadata": {
    "colab": {
     "base_uri": "https://localhost:8080/"
    },
    "executionInfo": {
     "elapsed": 40,
     "status": "ok",
     "timestamp": 1722403478447,
     "user": {
      "displayName": "Sudarshanan Raghavan",
      "userId": "18093698647292025641"
     },
     "user_tz": -330
    },
    "id": "W45Mf7KfcGCK",
    "outputId": "e5f932c1-27b3-425e-9902-3ea1dc7ac197"
   },
   "outputs": [
    {
     "data": {
      "text/plain": [
       "2"
      ]
     },
     "execution_count": 45,
     "metadata": {},
     "output_type": "execute_result"
    }
   ],
   "source": [
    "b"
   ]
  },
  {
   "cell_type": "code",
   "execution_count": null,
   "metadata": {
    "id": "LUUIIVErY6v4"
   },
   "outputs": [],
   "source": [
    "b = a"
   ]
  },
  {
   "cell_type": "code",
   "execution_count": null,
   "metadata": {
    "colab": {
     "base_uri": "https://localhost:8080/"
    },
    "executionInfo": {
     "elapsed": 38,
     "status": "ok",
     "timestamp": 1722403478447,
     "user": {
      "displayName": "Sudarshanan Raghavan",
      "userId": "18093698647292025641"
     },
     "user_tz": -330
    },
    "id": "W2SLepEnY8bs",
    "outputId": "5b47c5dc-6433-42c2-cb27-3912477fa7f6"
   },
   "outputs": [
    {
     "data": {
      "text/plain": [
       "1"
      ]
     },
     "execution_count": 47,
     "metadata": {},
     "output_type": "execute_result"
    }
   ],
   "source": [
    "b"
   ]
  },
  {
   "cell_type": "code",
   "execution_count": null,
   "metadata": {
    "id": "xiHeGlidkU03"
   },
   "outputs": [],
   "source": [
    "# print(y)"
   ]
  },
  {
   "cell_type": "code",
   "execution_count": null,
   "metadata": {
    "colab": {
     "base_uri": "https://localhost:8080/"
    },
    "executionInfo": {
     "elapsed": 37,
     "status": "ok",
     "timestamp": 1722403478447,
     "user": {
      "displayName": "Sudarshanan Raghavan",
      "userId": "18093698647292025641"
     },
     "user_tz": -330
    },
    "id": "2WeRTfeGdLX2",
    "outputId": "80e30bc7-c7d7-42e0-ea08-b2bcf650056f"
   },
   "outputs": [
    {
     "data": {
      "text/plain": [
       "100"
      ]
     },
     "execution_count": 49,
     "metadata": {},
     "output_type": "execute_result"
    }
   ],
   "source": [
    "y = 100\n",
    "y"
   ]
  },
  {
   "cell_type": "code",
   "execution_count": null,
   "metadata": {
    "colab": {
     "base_uri": "https://localhost:8080/"
    },
    "executionInfo": {
     "elapsed": 36,
     "status": "ok",
     "timestamp": 1722403478447,
     "user": {
      "displayName": "Sudarshanan Raghavan",
      "userId": "18093698647292025641"
     },
     "user_tz": -330
    },
    "id": "XZTpgmHPdh6X",
    "outputId": "2cb6c8bd-0506-4ef4-86ff-2dc8461b2089"
   },
   "outputs": [
    {
     "name": "stdout",
     "output_type": "stream",
     "text": [
      "10\n"
     ]
    }
   ],
   "source": [
    "z = 10\n",
    "print(z)"
   ]
  },
  {
   "cell_type": "code",
   "execution_count": null,
   "metadata": {
    "id": "wG2xcT38cbHz"
   },
   "outputs": [],
   "source": [
    "l = 'A'"
   ]
  },
  {
   "cell_type": "code",
   "execution_count": null,
   "metadata": {
    "colab": {
     "base_uri": "https://localhost:8080/",
     "height": 35
    },
    "executionInfo": {
     "elapsed": 35,
     "status": "ok",
     "timestamp": 1722403478447,
     "user": {
      "displayName": "Sudarshanan Raghavan",
      "userId": "18093698647292025641"
     },
     "user_tz": -330
    },
    "id": "vTWJqxPOcdcV",
    "outputId": "22d096d4-db19-4d95-8c3f-3f382abf57b3"
   },
   "outputs": [
    {
     "data": {
      "application/vnd.google.colaboratory.intrinsic+json": {
       "type": "string"
      },
      "text/plain": [
       "'A'"
      ]
     },
     "execution_count": 52,
     "metadata": {},
     "output_type": "execute_result"
    }
   ],
   "source": [
    "l"
   ]
  },
  {
   "cell_type": "markdown",
   "metadata": {
    "id": "2T559Wp0cfKO"
   },
   "source": [
    "In Python, literals are used to represent fixed values in your source code. They are constants that represent specific values, and they are used to initialize variables or to specify values directly in your code. For example, `1`, `'A'`, `10` and so on.\n",
    "\n",
    "Note that you will learn about the different types of literals (data types) you can store in variables in the upcoming sections."
   ]
  },
  {
   "cell_type": "markdown",
   "metadata": {
    "id": "2NyY8QQ9c0TO"
   },
   "source": [
    "### Example\n",
    "Rules to follow for naming variables\n",
    "\n",
    "*   A variable name cannot contain spaces\n",
    "*   A variable name cannot start with a digit\n",
    "* A variable name can only contain alpha-numeric characters and underscores (`a-z, A-Z, 0-9, and _ `)\n",
    "* A variable name cannot be a Python keyword\n",
    "* Variable names are case-sensitive\n",
    "\n",
    "\n"
   ]
  },
  {
   "cell_type": "code",
   "execution_count": null,
   "metadata": {
    "id": "Gf9PWB-kbOer"
   },
   "outputs": [],
   "source": [
    "age = 25"
   ]
  },
  {
   "cell_type": "code",
   "execution_count": null,
   "metadata": {
    "colab": {
     "base_uri": "https://localhost:8080/"
    },
    "executionInfo": {
     "elapsed": 33,
     "status": "ok",
     "timestamp": 1722403478447,
     "user": {
      "displayName": "Sudarshanan Raghavan",
      "userId": "18093698647292025641"
     },
     "user_tz": -330
    },
    "id": "Y2fbkwcfb6dF",
    "outputId": "57fd795b-d1d4-48fc-a33c-84abc2eec58d"
   },
   "outputs": [
    {
     "data": {
      "text/plain": [
       "25"
      ]
     },
     "execution_count": 54,
     "metadata": {},
     "output_type": "execute_result"
    }
   ],
   "source": [
    "age"
   ]
  },
  {
   "cell_type": "code",
   "execution_count": null,
   "metadata": {
    "id": "WGL6Hz70d3be"
   },
   "outputs": [],
   "source": [
    "# my age = 25"
   ]
  },
  {
   "cell_type": "code",
   "execution_count": null,
   "metadata": {
    "id": "l7b5_ww2eJVW"
   },
   "outputs": [],
   "source": [
    "# my-age = 25"
   ]
  },
  {
   "cell_type": "code",
   "execution_count": null,
   "metadata": {
    "id": "p90QydLSgbE-"
   },
   "outputs": [],
   "source": [
    "# my:age = 25"
   ]
  },
  {
   "cell_type": "code",
   "execution_count": null,
   "metadata": {
    "id": "hfUSPs_zge4s"
   },
   "outputs": [],
   "source": [
    "# print(my:age)"
   ]
  },
  {
   "cell_type": "code",
   "execution_count": null,
   "metadata": {
    "id": "yMWaWcmIeWig"
   },
   "outputs": [],
   "source": [
    "my_age = 25"
   ]
  },
  {
   "cell_type": "code",
   "execution_count": null,
   "metadata": {
    "colab": {
     "base_uri": "https://localhost:8080/"
    },
    "executionInfo": {
     "elapsed": 32,
     "status": "ok",
     "timestamp": 1722403478448,
     "user": {
      "displayName": "Sudarshanan Raghavan",
      "userId": "18093698647292025641"
     },
     "user_tz": -330
    },
    "id": "btIcBK-Keb3j",
    "outputId": "74f283ff-c551-435c-8b51-52a5c2661bdb"
   },
   "outputs": [
    {
     "data": {
      "text/plain": [
       "25"
      ]
     },
     "execution_count": 60,
     "metadata": {},
     "output_type": "execute_result"
    }
   ],
   "source": [
    "my_age"
   ]
  },
  {
   "cell_type": "code",
   "execution_count": null,
   "metadata": {
    "id": "6bRGjz9pembE"
   },
   "outputs": [],
   "source": [
    "# 2nd_place = 'Manoj'"
   ]
  },
  {
   "cell_type": "code",
   "execution_count": null,
   "metadata": {
    "id": "29tU6ov0ey_w"
   },
   "outputs": [],
   "source": [
    "place_2nd = 'Akhil'"
   ]
  },
  {
   "cell_type": "code",
   "execution_count": null,
   "metadata": {
    "colab": {
     "base_uri": "https://localhost:8080/",
     "height": 35
    },
    "executionInfo": {
     "elapsed": 30,
     "status": "ok",
     "timestamp": 1722403478448,
     "user": {
      "displayName": "Sudarshanan Raghavan",
      "userId": "18093698647292025641"
     },
     "user_tz": -330
    },
    "id": "ei3on7E9e6rk",
    "outputId": "f40c8261-8e10-4eac-f795-0c877e7279fe"
   },
   "outputs": [
    {
     "data": {
      "application/vnd.google.colaboratory.intrinsic+json": {
       "type": "string"
      },
      "text/plain": [
       "'Akhil'"
      ]
     },
     "execution_count": 63,
     "metadata": {},
     "output_type": "execute_result"
    }
   ],
   "source": [
    "place_2nd"
   ]
  },
  {
   "cell_type": "code",
   "execution_count": null,
   "metadata": {
    "id": "mRgMyMszf_lK"
   },
   "outputs": [],
   "source": [
    "# &var = 'no'"
   ]
  },
  {
   "cell_type": "code",
   "execution_count": null,
   "metadata": {
    "id": "34fHRCwyfvtV"
   },
   "outputs": [],
   "source": [
    "_var = 'yes'"
   ]
  },
  {
   "cell_type": "code",
   "execution_count": null,
   "metadata": {
    "colab": {
     "base_uri": "https://localhost:8080/",
     "height": 35
    },
    "executionInfo": {
     "elapsed": 29,
     "status": "ok",
     "timestamp": 1722403478448,
     "user": {
      "displayName": "Sudarshanan Raghavan",
      "userId": "18093698647292025641"
     },
     "user_tz": -330
    },
    "id": "vNahKRyhfzmW",
    "outputId": "d9bc91c4-fac7-4b9e-912b-969d18feb7c7"
   },
   "outputs": [
    {
     "data": {
      "application/vnd.google.colaboratory.intrinsic+json": {
       "type": "string"
      },
      "text/plain": [
       "'yes'"
      ]
     },
     "execution_count": 66,
     "metadata": {},
     "output_type": "execute_result"
    }
   ],
   "source": [
    "_var"
   ]
  },
  {
   "cell_type": "code",
   "execution_count": null,
   "metadata": {
    "id": "wYxLOY5JfACA"
   },
   "outputs": [],
   "source": [
    "# break = 'Sunday'"
   ]
  },
  {
   "cell_type": "code",
   "execution_count": null,
   "metadata": {
    "id": "SDMcfzVXfdVO"
   },
   "outputs": [],
   "source": [
    "count = 5.5"
   ]
  },
  {
   "cell_type": "code",
   "execution_count": null,
   "metadata": {
    "id": "UBd1DADFfjeS"
   },
   "outputs": [],
   "source": [
    "# Count"
   ]
  },
  {
   "cell_type": "code",
   "execution_count": null,
   "metadata": {
    "colab": {
     "base_uri": "https://localhost:8080/"
    },
    "executionInfo": {
     "elapsed": 29,
     "status": "ok",
     "timestamp": 1722403478449,
     "user": {
      "displayName": "Sudarshanan Raghavan",
      "userId": "18093698647292025641"
     },
     "user_tz": -330
    },
    "id": "lJfF3kUgfoII",
    "outputId": "9c48209c-00eb-4159-9db4-eaaa061c0dfa"
   },
   "outputs": [
    {
     "data": {
      "text/plain": [
       "5.5"
      ]
     },
     "execution_count": 70,
     "metadata": {},
     "output_type": "execute_result"
    }
   ],
   "source": [
    "count"
   ]
  },
  {
   "cell_type": "markdown",
   "metadata": {
    "id": "oNkk7X-Vi5R6"
   },
   "source": [
    "### Example\n",
    "Getting user inputs using the `input()` function"
   ]
  },
  {
   "cell_type": "code",
   "execution_count": null,
   "metadata": {
    "id": "tfHnzklNgdJC"
   },
   "outputs": [],
   "source": [
    "name = 'Me'"
   ]
  },
  {
   "cell_type": "code",
   "execution_count": null,
   "metadata": {
    "id": "or4zpsqxi3KI"
   },
   "outputs": [],
   "source": [
    "# name = input()"
   ]
  },
  {
   "cell_type": "code",
   "execution_count": null,
   "metadata": {
    "colab": {
     "base_uri": "https://localhost:8080/",
     "height": 35
    },
    "executionInfo": {
     "elapsed": 27,
     "status": "ok",
     "timestamp": 1722403478449,
     "user": {
      "displayName": "Sudarshanan Raghavan",
      "userId": "18093698647292025641"
     },
     "user_tz": -330
    },
    "id": "cTROZHjjjxE7",
    "outputId": "00059851-4e61-4b0a-a5f9-b818a33556b1"
   },
   "outputs": [
    {
     "data": {
      "application/vnd.google.colaboratory.intrinsic+json": {
       "type": "string"
      },
      "text/plain": [
       "'Me'"
      ]
     },
     "execution_count": 73,
     "metadata": {},
     "output_type": "execute_result"
    }
   ],
   "source": [
    "name"
   ]
  },
  {
   "cell_type": "code",
   "execution_count": null,
   "metadata": {
    "id": "HqOfpDwfllSO"
   },
   "outputs": [],
   "source": [
    "# age = input('Enter your age: ')"
   ]
  },
  {
   "cell_type": "code",
   "execution_count": null,
   "metadata": {
    "colab": {
     "base_uri": "https://localhost:8080/"
    },
    "executionInfo": {
     "elapsed": 26,
     "status": "ok",
     "timestamp": 1722403478449,
     "user": {
      "displayName": "Sudarshanan Raghavan",
      "userId": "18093698647292025641"
     },
     "user_tz": -330
    },
    "id": "oIPpadJMgdJD",
    "outputId": "1d0d6bd0-0061-47e2-8be2-d646023c347b"
   },
   "outputs": [
    {
     "data": {
      "text/plain": [
       "25"
      ]
     },
     "execution_count": 75,
     "metadata": {},
     "output_type": "execute_result"
    }
   ],
   "source": [
    "age"
   ]
  },
  {
   "cell_type": "markdown",
   "metadata": {
    "id": "K7K9AdnVmbqh"
   },
   "source": [
    "### Quiz\n",
    "Create two separate variables to accept users' name and the country they are from"
   ]
  },
  {
   "cell_type": "code",
   "execution_count": null,
   "metadata": {
    "id": "gu85bpjFgdJE"
   },
   "outputs": [],
   "source": [
    "name = 'Me'\n",
    "country = 'Here'"
   ]
  },
  {
   "cell_type": "code",
   "execution_count": null,
   "metadata": {
    "id": "sW2vkF8WnTTk"
   },
   "outputs": [],
   "source": [
    "# name = input('Please enter your name: ')"
   ]
  },
  {
   "cell_type": "code",
   "execution_count": null,
   "metadata": {
    "id": "r2nr63ZznvZm"
   },
   "outputs": [],
   "source": [
    "# country = input('Please enter your country: ')"
   ]
  },
  {
   "cell_type": "code",
   "execution_count": null,
   "metadata": {
    "colab": {
     "base_uri": "https://localhost:8080/"
    },
    "executionInfo": {
     "elapsed": 24,
     "status": "ok",
     "timestamp": 1722403478449,
     "user": {
      "displayName": "Sudarshanan Raghavan",
      "userId": "18093698647292025641"
     },
     "user_tz": -330
    },
    "id": "L1oqy-fb4D_M",
    "outputId": "a5ed2060-7d2f-463d-a32b-ba121fafa38d"
   },
   "outputs": [
    {
     "name": "stdout",
     "output_type": "stream",
     "text": [
      "Me Here\n"
     ]
    }
   ],
   "source": [
    "print(name, country)"
   ]
  },
  {
   "cell_type": "markdown",
   "metadata": {
    "id": "WUrg62Lop0uw"
   },
   "source": [
    "### Example\n",
    "Printing values using the `print()` function"
   ]
  },
  {
   "cell_type": "code",
   "execution_count": null,
   "metadata": {
    "colab": {
     "base_uri": "https://localhost:8080/"
    },
    "executionInfo": {
     "elapsed": 22,
     "status": "ok",
     "timestamp": 1722403478449,
     "user": {
      "displayName": "Sudarshanan Raghavan",
      "userId": "18093698647292025641"
     },
     "user_tz": -330
    },
    "id": "OcRepbcmqmgb",
    "outputId": "04a9eafc-6c9a-441a-9a2f-ae6cd0e5da68"
   },
   "outputs": [
    {
     "name": "stdout",
     "output_type": "stream",
     "text": [
      "Hello!\n"
     ]
    }
   ],
   "source": [
    "print('Hello!')"
   ]
  },
  {
   "cell_type": "code",
   "execution_count": null,
   "metadata": {
    "colab": {
     "base_uri": "https://localhost:8080/"
    },
    "executionInfo": {
     "elapsed": 20,
     "status": "ok",
     "timestamp": 1722403478449,
     "user": {
      "displayName": "Sudarshanan Raghavan",
      "userId": "18093698647292025641"
     },
     "user_tz": -330
    },
    "id": "QXEo4e5vgdJF",
    "outputId": "6a2c3d56-2928-464f-c072-a5f36b59ec23"
   },
   "outputs": [
    {
     "name": "stdout",
     "output_type": "stream",
     "text": [
      "10\n"
     ]
    }
   ],
   "source": [
    "print(10)"
   ]
  },
  {
   "cell_type": "code",
   "execution_count": null,
   "metadata": {
    "colab": {
     "base_uri": "https://localhost:8080/"
    },
    "executionInfo": {
     "elapsed": 19,
     "status": "ok",
     "timestamp": 1722403478449,
     "user": {
      "displayName": "Sudarshanan Raghavan",
      "userId": "18093698647292025641"
     },
     "user_tz": -330
    },
    "id": "H3umpSBArSqY",
    "outputId": "6e9c0c59-6816-4916-9753-134a8d32ec0c"
   },
   "outputs": [
    {
     "name": "stdout",
     "output_type": "stream",
     "text": [
      "Alex\n"
     ]
    }
   ],
   "source": [
    "name = 'Alex'\n",
    "print(name)"
   ]
  },
  {
   "cell_type": "code",
   "execution_count": null,
   "metadata": {
    "colab": {
     "base_uri": "https://localhost:8080/"
    },
    "executionInfo": {
     "elapsed": 19,
     "status": "ok",
     "timestamp": 1722403478450,
     "user": {
      "displayName": "Sudarshanan Raghavan",
      "userId": "18093698647292025641"
     },
     "user_tz": -330
    },
    "id": "Wo4-IjxTr8Vp",
    "outputId": "fe038710-5ebc-4acd-83d0-e1b38dc3c4f8"
   },
   "outputs": [
    {
     "name": "stdout",
     "output_type": "stream",
     "text": [
      "Age:  22\n"
     ]
    }
   ],
   "source": [
    "age = 22\n",
    "print('Age: ', age)"
   ]
  },
  {
   "cell_type": "markdown",
   "metadata": {
    "id": "lXJ7rkmwsJp1"
   },
   "source": [
    "### Example\n",
    "The `import` command\n"
   ]
  },
  {
   "cell_type": "code",
   "execution_count": null,
   "metadata": {
    "id": "w1e3gBPDuWLF"
   },
   "outputs": [],
   "source": [
    "import math"
   ]
  },
  {
   "cell_type": "code",
   "execution_count": null,
   "metadata": {
    "id": "Tt9ub4mXyL1E"
   },
   "outputs": [],
   "source": [
    "x = 100"
   ]
  },
  {
   "cell_type": "code",
   "execution_count": null,
   "metadata": {
    "id": "6Bhe4ou-ygHm"
   },
   "outputs": [],
   "source": [
    "# sqrt_of_x = sqrt(x)"
   ]
  },
  {
   "cell_type": "code",
   "execution_count": null,
   "metadata": {
    "id": "sZ_PtuHBymKu"
   },
   "outputs": [],
   "source": [
    "sqrt_of_x = math.sqrt(x)"
   ]
  },
  {
   "cell_type": "code",
   "execution_count": null,
   "metadata": {
    "colab": {
     "base_uri": "https://localhost:8080/"
    },
    "executionInfo": {
     "elapsed": 17,
     "status": "ok",
     "timestamp": 1722403478450,
     "user": {
      "displayName": "Sudarshanan Raghavan",
      "userId": "18093698647292025641"
     },
     "user_tz": -330
    },
    "id": "n6eUNn3hyq7Q",
    "outputId": "04b290ab-046f-437b-da8b-6a0cda54a906"
   },
   "outputs": [
    {
     "data": {
      "text/plain": [
       "10.0"
      ]
     },
     "execution_count": 88,
     "metadata": {},
     "output_type": "execute_result"
    }
   ],
   "source": [
    "sqrt_of_x"
   ]
  },
  {
   "cell_type": "code",
   "execution_count": null,
   "metadata": {
    "id": "e89O86go25LO"
   },
   "outputs": [],
   "source": [
    "from math import sqrt"
   ]
  },
  {
   "cell_type": "code",
   "execution_count": null,
   "metadata": {
    "colab": {
     "base_uri": "https://localhost:8080/"
    },
    "executionInfo": {
     "elapsed": 16,
     "status": "ok",
     "timestamp": 1722403478450,
     "user": {
      "displayName": "Sudarshanan Raghavan",
      "userId": "18093698647292025641"
     },
     "user_tz": -330
    },
    "id": "6c2FWo6f284q",
    "outputId": "4663763f-f049-45cd-c5f5-bd3a6966e2e5"
   },
   "outputs": [
    {
     "data": {
      "text/plain": [
       "10.0"
      ]
     },
     "execution_count": 90,
     "metadata": {},
     "output_type": "execute_result"
    }
   ],
   "source": [
    "sqrt_of_x = sqrt(x)\n",
    "sqrt_of_x"
   ]
  },
  {
   "cell_type": "markdown",
   "metadata": {
    "id": "ilBpR-5g4Qmo"
   },
   "source": [
    "### Example\n",
    "In the below example, the `math` module is used to import the `log()` function for computing the natural logarithms.\n",
    "\n",
    "You can also import `e` from the `math` package. Look at the documentation of the `math` library [here](https://docs.python.org/3/library/math.html)."
   ]
  },
  {
   "cell_type": "code",
   "execution_count": null,
   "metadata": {
    "id": "fxqMCm6b5IGT"
   },
   "outputs": [],
   "source": [
    "from math import log"
   ]
  },
  {
   "cell_type": "code",
   "execution_count": null,
   "metadata": {
    "colab": {
     "base_uri": "https://localhost:8080/"
    },
    "executionInfo": {
     "elapsed": 134,
     "status": "ok",
     "timestamp": 1722403479511,
     "user": {
      "displayName": "Sudarshanan Raghavan",
      "userId": "18093698647292025641"
     },
     "user_tz": -330
    },
    "id": "eodgWNzG5WAi",
    "outputId": "a1796349-3b4b-4b43-e84d-644a72f43b95"
   },
   "outputs": [
    {
     "data": {
      "text/plain": [
       "2.302585092994046"
      ]
     },
     "execution_count": 92,
     "metadata": {},
     "output_type": "execute_result"
    }
   ],
   "source": [
    "log(10)"
   ]
  },
  {
   "cell_type": "code",
   "execution_count": null,
   "metadata": {
    "colab": {
     "base_uri": "https://localhost:8080/"
    },
    "executionInfo": {
     "elapsed": 129,
     "status": "ok",
     "timestamp": 1722403479511,
     "user": {
      "displayName": "Sudarshanan Raghavan",
      "userId": "18093698647292025641"
     },
     "user_tz": -330
    },
    "id": "Zeub4o9V5YE-",
    "outputId": "b5e2ec18-07af-4cbb-a069-f891ddce65bc"
   },
   "outputs": [
    {
     "data": {
      "text/plain": [
       "0.9969486348916096"
      ]
     },
     "execution_count": 93,
     "metadata": {},
     "output_type": "execute_result"
    }
   ],
   "source": [
    "log(2.71)"
   ]
  },
  {
   "cell_type": "code",
   "execution_count": null,
   "metadata": {
    "id": "HEAnG1MW5Z-7"
   },
   "outputs": [],
   "source": [
    "from math import e"
   ]
  },
  {
   "cell_type": "code",
   "execution_count": null,
   "metadata": {
    "colab": {
     "base_uri": "https://localhost:8080/"
    },
    "executionInfo": {
     "elapsed": 127,
     "status": "ok",
     "timestamp": 1722403479511,
     "user": {
      "displayName": "Sudarshanan Raghavan",
      "userId": "18093698647292025641"
     },
     "user_tz": -330
    },
    "id": "iUXROcXk5cSu",
    "outputId": "99bb5eca-74e6-46cf-f40f-53d844a3d5bd"
   },
   "outputs": [
    {
     "data": {
      "text/plain": [
       "1.0"
      ]
     },
     "execution_count": 95,
     "metadata": {},
     "output_type": "execute_result"
    }
   ],
   "source": [
    "log(e)"
   ]
  },
  {
   "cell_type": "markdown",
   "metadata": {
    "id": "17QsqMmOFIKk"
   },
   "source": [
    "### Example\n",
    "Importing packages under different names"
   ]
  },
  {
   "cell_type": "code",
   "execution_count": null,
   "metadata": {
    "id": "d5karDo0FIK_"
   },
   "outputs": [],
   "source": [
    "from datetime import datetime as dt"
   ]
  },
  {
   "cell_type": "code",
   "execution_count": null,
   "metadata": {
    "id": "ILTaDsI1FIK_"
   },
   "outputs": [],
   "source": [
    "current_datetime = dt.now()"
   ]
  },
  {
   "cell_type": "code",
   "execution_count": null,
   "metadata": {
    "colab": {
     "base_uri": "https://localhost:8080/"
    },
    "executionInfo": {
     "elapsed": 125,
     "status": "ok",
     "timestamp": 1722403479511,
     "user": {
      "displayName": "Sudarshanan Raghavan",
      "userId": "18093698647292025641"
     },
     "user_tz": -330
    },
    "id": "qd4qqLIoFILA",
    "outputId": "e73d3765-e922-4ab4-d124-87147e1baf3e"
   },
   "outputs": [
    {
     "name": "stdout",
     "output_type": "stream",
     "text": [
      "The current date and time is: 2024-07-31 05:24:36.533718\n"
     ]
    }
   ],
   "source": [
    "print('The current date and time is:', current_datetime)"
   ]
  },
  {
   "cell_type": "markdown",
   "metadata": {
    "id": "g2tah-jBo1C1"
   },
   "source": [
    "###Example\n",
    "Comments are used to annotate code and provide additional information. Comments are not executed by the Python interpreter."
   ]
  },
  {
   "cell_type": "code",
   "execution_count": null,
   "metadata": {
    "id": "IIcOK87AzVOf"
   },
   "outputs": [],
   "source": [
    "#"
   ]
  },
  {
   "cell_type": "code",
   "execution_count": null,
   "metadata": {
    "id": "6hjl0LQXzwE0"
   },
   "outputs": [],
   "source": [
    "# this is a comment and it will not be interepreted"
   ]
  },
  {
   "cell_type": "code",
   "execution_count": null,
   "metadata": {
    "id": "oSvG6z3Sz4cU"
   },
   "outputs": [],
   "source": [
    "# importing the 'math' module\n",
    "import math"
   ]
  },
  {
   "cell_type": "code",
   "execution_count": null,
   "metadata": {
    "id": "B_2wGjwP0oF9"
   },
   "outputs": [],
   "source": [
    "b = 3"
   ]
  },
  {
   "cell_type": "code",
   "execution_count": null,
   "metadata": {
    "colab": {
     "base_uri": "https://localhost:8080/"
    },
    "executionInfo": {
     "elapsed": 122,
     "status": "ok",
     "timestamp": 1722403479511,
     "user": {
      "displayName": "Sudarshanan Raghavan",
      "userId": "18093698647292025641"
     },
     "user_tz": -330
    },
    "id": "G_KVJx1O3FtT",
    "outputId": "0268bc8e-70d9-418c-bd49-68bf84a6b73d"
   },
   "outputs": [
    {
     "data": {
      "text/plain": [
       "3"
      ]
     },
     "execution_count": 103,
     "metadata": {},
     "output_type": "execute_result"
    }
   ],
   "source": [
    "'''\n",
    "This is a multi-line comment\n",
    "The value of 'b' is printed by the variable\n",
    "'''\n",
    "b"
   ]
  },
  {
   "cell_type": "markdown",
   "metadata": {
    "id": "oz7UR1Fsy0Ep"
   },
   "source": [
    "# Python data types\n",
    "This section introduces the different data types available in Python, such as integers, floats, strings. It explains how to work with these data types and perform various operations on them."
   ]
  },
  {
   "cell_type": "markdown",
   "metadata": {
    "id": "wBDPTMKIy6El"
   },
   "source": [
    "### Example\n",
    "Integers"
   ]
  },
  {
   "cell_type": "code",
   "execution_count": null,
   "metadata": {
    "colab": {
     "base_uri": "https://localhost:8080/"
    },
    "executionInfo": {
     "elapsed": 120,
     "status": "ok",
     "timestamp": 1722403479511,
     "user": {
      "displayName": "Sudarshanan Raghavan",
      "userId": "18093698647292025641"
     },
     "user_tz": -330
    },
    "id": "imRI75iuzA5z",
    "outputId": "79ce0aa6-ad9a-4e9b-8fe7-bcdc02c7d3a1"
   },
   "outputs": [
    {
     "data": {
      "text/plain": [
       "20"
      ]
     },
     "execution_count": 104,
     "metadata": {},
     "output_type": "execute_result"
    }
   ],
   "source": [
    "x = 20\n",
    "x"
   ]
  },
  {
   "cell_type": "code",
   "execution_count": null,
   "metadata": {
    "colab": {
     "base_uri": "https://localhost:8080/"
    },
    "executionInfo": {
     "elapsed": 119,
     "status": "ok",
     "timestamp": 1722403479512,
     "user": {
      "displayName": "Sudarshanan Raghavan",
      "userId": "18093698647292025641"
     },
     "user_tz": -330
    },
    "id": "2BnDyDiDzDyI",
    "outputId": "140cd9b0-a4a1-402c-cca7-29c95b49ea5d"
   },
   "outputs": [
    {
     "data": {
      "text/plain": [
       "int"
      ]
     },
     "execution_count": 105,
     "metadata": {},
     "output_type": "execute_result"
    }
   ],
   "source": [
    "type(x)"
   ]
  },
  {
   "cell_type": "code",
   "execution_count": null,
   "metadata": {
    "colab": {
     "base_uri": "https://localhost:8080/"
    },
    "executionInfo": {
     "elapsed": 118,
     "status": "ok",
     "timestamp": 1722403479512,
     "user": {
      "displayName": "Sudarshanan Raghavan",
      "userId": "18093698647292025641"
     },
     "user_tz": -330
    },
    "id": "VeCDEfXR0CRw",
    "outputId": "9711a068-6e94-4042-b1bf-d733bd65e338"
   },
   "outputs": [
    {
     "data": {
      "text/plain": [
       "-4"
      ]
     },
     "execution_count": 106,
     "metadata": {},
     "output_type": "execute_result"
    }
   ],
   "source": [
    "y = -4\n",
    "y"
   ]
  },
  {
   "cell_type": "code",
   "execution_count": null,
   "metadata": {
    "colab": {
     "base_uri": "https://localhost:8080/"
    },
    "executionInfo": {
     "elapsed": 116,
     "status": "ok",
     "timestamp": 1722403479512,
     "user": {
      "displayName": "Sudarshanan Raghavan",
      "userId": "18093698647292025641"
     },
     "user_tz": -330
    },
    "id": "vn1Ys1Bw0G2y",
    "outputId": "3e5a0a35-068e-4ece-e7a9-7009ab33d536"
   },
   "outputs": [
    {
     "data": {
      "text/plain": [
       "int"
      ]
     },
     "execution_count": 107,
     "metadata": {},
     "output_type": "execute_result"
    }
   ],
   "source": [
    "type(y)"
   ]
  },
  {
   "cell_type": "markdown",
   "metadata": {
    "id": "KXh8gDlcpbbo"
   },
   "source": [
    "### Example\n",
    "Float variables"
   ]
  },
  {
   "cell_type": "code",
   "execution_count": null,
   "metadata": {
    "colab": {
     "base_uri": "https://localhost:8080/"
    },
    "executionInfo": {
     "elapsed": 114,
     "status": "ok",
     "timestamp": 1722403479512,
     "user": {
      "displayName": "Sudarshanan Raghavan",
      "userId": "18093698647292025641"
     },
     "user_tz": -330
    },
    "id": "cJnLH1tW4USG",
    "outputId": "89934213-a595-451b-f896-4f4dc22a9a4a"
   },
   "outputs": [
    {
     "data": {
      "text/plain": [
       "10.0"
      ]
     },
     "execution_count": 108,
     "metadata": {},
     "output_type": "execute_result"
    }
   ],
   "source": [
    "my_float = 10.0\n",
    "my_float"
   ]
  },
  {
   "cell_type": "code",
   "execution_count": null,
   "metadata": {
    "colab": {
     "base_uri": "https://localhost:8080/"
    },
    "executionInfo": {
     "elapsed": 113,
     "status": "ok",
     "timestamp": 1722403479512,
     "user": {
      "displayName": "Sudarshanan Raghavan",
      "userId": "18093698647292025641"
     },
     "user_tz": -330
    },
    "id": "PmEZpG_l4xo1",
    "outputId": "9493cc0d-6492-49a1-dc48-ec3a56d99bca"
   },
   "outputs": [
    {
     "data": {
      "text/plain": [
       "float"
      ]
     },
     "execution_count": 109,
     "metadata": {},
     "output_type": "execute_result"
    }
   ],
   "source": [
    "type(my_float)"
   ]
  },
  {
   "cell_type": "code",
   "execution_count": null,
   "metadata": {
    "colab": {
     "base_uri": "https://localhost:8080/"
    },
    "executionInfo": {
     "elapsed": 111,
     "status": "ok",
     "timestamp": 1722403479512,
     "user": {
      "displayName": "Sudarshanan Raghavan",
      "userId": "18093698647292025641"
     },
     "user_tz": -330
    },
    "id": "62fxztws43YU",
    "outputId": "e6ee8f04-06ca-42ba-942a-1225ebc3fc89"
   },
   "outputs": [
    {
     "data": {
      "text/plain": [
       "-5.45"
      ]
     },
     "execution_count": 110,
     "metadata": {},
     "output_type": "execute_result"
    }
   ],
   "source": [
    "my_float = -5.45\n",
    "my_float"
   ]
  },
  {
   "cell_type": "code",
   "execution_count": null,
   "metadata": {
    "colab": {
     "base_uri": "https://localhost:8080/"
    },
    "executionInfo": {
     "elapsed": 110,
     "status": "ok",
     "timestamp": 1722403479512,
     "user": {
      "displayName": "Sudarshanan Raghavan",
      "userId": "18093698647292025641"
     },
     "user_tz": -330
    },
    "id": "uTAz6mTF4-tC",
    "outputId": "5e2992f5-a080-488d-ca44-d0a9f8dadc8d"
   },
   "outputs": [
    {
     "data": {
      "text/plain": [
       "float"
      ]
     },
     "execution_count": 111,
     "metadata": {},
     "output_type": "execute_result"
    }
   ],
   "source": [
    "type(my_float)"
   ]
  },
  {
   "cell_type": "code",
   "execution_count": null,
   "metadata": {
    "colab": {
     "base_uri": "https://localhost:8080/"
    },
    "executionInfo": {
     "elapsed": 109,
     "status": "ok",
     "timestamp": 1722403479512,
     "user": {
      "displayName": "Sudarshanan Raghavan",
      "userId": "18093698647292025641"
     },
     "user_tz": -330
    },
    "id": "GKx2m4ip5HNw",
    "outputId": "e642da36-a547-4d7c-d8a2-438f24e63f79"
   },
   "outputs": [
    {
     "data": {
      "text/plain": [
       "0.404"
      ]
     },
     "execution_count": 112,
     "metadata": {},
     "output_type": "execute_result"
    }
   ],
   "source": [
    "my_float = 0.404\n",
    "my_float"
   ]
  },
  {
   "cell_type": "code",
   "execution_count": null,
   "metadata": {
    "colab": {
     "base_uri": "https://localhost:8080/"
    },
    "executionInfo": {
     "elapsed": 107,
     "status": "ok",
     "timestamp": 1722403479512,
     "user": {
      "displayName": "Sudarshanan Raghavan",
      "userId": "18093698647292025641"
     },
     "user_tz": -330
    },
    "id": "bIvVZawT6GFQ",
    "outputId": "08ed8ce2-083a-4db6-eb7a-962ec5cf3723"
   },
   "outputs": [
    {
     "data": {
      "text/plain": [
       "float"
      ]
     },
     "execution_count": 113,
     "metadata": {},
     "output_type": "execute_result"
    }
   ],
   "source": [
    "type(my_float)"
   ]
  },
  {
   "cell_type": "code",
   "execution_count": null,
   "metadata": {
    "colab": {
     "base_uri": "https://localhost:8080/"
    },
    "executionInfo": {
     "elapsed": 104,
     "status": "ok",
     "timestamp": 1722403479512,
     "user": {
      "displayName": "Sudarshanan Raghavan",
      "userId": "18093698647292025641"
     },
     "user_tz": -330
    },
    "id": "vlP4_zq24xL7",
    "outputId": "25f003da-5b46-4c8f-b0c3-16caebe04800"
   },
   "outputs": [
    {
     "data": {
      "text/plain": [
       "-1000000000.0"
      ]
     },
     "execution_count": 114,
     "metadata": {},
     "output_type": "execute_result"
    }
   ],
   "source": [
    "x = -1000000000.0\n",
    "x"
   ]
  },
  {
   "cell_type": "code",
   "execution_count": null,
   "metadata": {
    "colab": {
     "base_uri": "https://localhost:8080/"
    },
    "executionInfo": {
     "elapsed": 102,
     "status": "ok",
     "timestamp": 1722403479512,
     "user": {
      "displayName": "Sudarshanan Raghavan",
      "userId": "18093698647292025641"
     },
     "user_tz": -330
    },
    "id": "-D2Nnx5D4zCM",
    "outputId": "59023887-1f14-4572-f808-febc21d610a2"
   },
   "outputs": [
    {
     "data": {
      "text/plain": [
       "float"
      ]
     },
     "execution_count": 115,
     "metadata": {},
     "output_type": "execute_result"
    }
   ],
   "source": [
    "type(x)"
   ]
  },
  {
   "cell_type": "code",
   "execution_count": null,
   "metadata": {
    "colab": {
     "base_uri": "https://localhost:8080/"
    },
    "executionInfo": {
     "elapsed": 100,
     "status": "ok",
     "timestamp": 1722403479512,
     "user": {
      "displayName": "Sudarshanan Raghavan",
      "userId": "18093698647292025641"
     },
     "user_tz": -330
    },
    "id": "5nUmUoqm6MEt",
    "outputId": "fde6cb9d-6782-4ced-abf4-80b6e6958fcb"
   },
   "outputs": [
    {
     "data": {
      "text/plain": [
       "-1000000000.0"
      ]
     },
     "execution_count": 116,
     "metadata": {},
     "output_type": "execute_result"
    }
   ],
   "source": [
    "x = -1_000_000_000.0\n",
    "x"
   ]
  },
  {
   "cell_type": "code",
   "execution_count": null,
   "metadata": {
    "colab": {
     "base_uri": "https://localhost:8080/"
    },
    "executionInfo": {
     "elapsed": 98,
     "status": "ok",
     "timestamp": 1722403479512,
     "user": {
      "displayName": "Sudarshanan Raghavan",
      "userId": "18093698647292025641"
     },
     "user_tz": -330
    },
    "id": "rBRcXA246PrQ",
    "outputId": "8b183d1d-227e-4a52-e68d-41b5c1727e10"
   },
   "outputs": [
    {
     "data": {
      "text/plain": [
       "float"
      ]
     },
     "execution_count": 117,
     "metadata": {},
     "output_type": "execute_result"
    }
   ],
   "source": [
    "type(x)"
   ]
  },
  {
   "cell_type": "markdown",
   "metadata": {
    "id": "vJBSCIAuVc7n"
   },
   "source": [
    "### Example\n",
    "Strings"
   ]
  },
  {
   "cell_type": "code",
   "execution_count": null,
   "metadata": {
    "id": "SaykeHB7s_nY"
   },
   "outputs": [],
   "source": [
    "my_string = 'a'"
   ]
  },
  {
   "cell_type": "code",
   "execution_count": null,
   "metadata": {
    "colab": {
     "base_uri": "https://localhost:8080/",
     "height": 35
    },
    "executionInfo": {
     "elapsed": 97,
     "status": "ok",
     "timestamp": 1722403479512,
     "user": {
      "displayName": "Sudarshanan Raghavan",
      "userId": "18093698647292025641"
     },
     "user_tz": -330
    },
    "id": "cohvDe9ptCOe",
    "outputId": "0af9f667-57a1-4301-894d-7fb2523768d1"
   },
   "outputs": [
    {
     "data": {
      "application/vnd.google.colaboratory.intrinsic+json": {
       "type": "string"
      },
      "text/plain": [
       "'a'"
      ]
     },
     "execution_count": 119,
     "metadata": {},
     "output_type": "execute_result"
    }
   ],
   "source": [
    "my_string"
   ]
  },
  {
   "cell_type": "code",
   "execution_count": null,
   "metadata": {
    "colab": {
     "base_uri": "https://localhost:8080/"
    },
    "executionInfo": {
     "elapsed": 96,
     "status": "ok",
     "timestamp": 1722403479512,
     "user": {
      "displayName": "Sudarshanan Raghavan",
      "userId": "18093698647292025641"
     },
     "user_tz": -330
    },
    "id": "PqVqFgf9tR2Q",
    "outputId": "8b10e8c0-f51b-4a56-9a81-1e3bc6c2c7ac"
   },
   "outputs": [
    {
     "data": {
      "text/plain": [
       "str"
      ]
     },
     "execution_count": 120,
     "metadata": {},
     "output_type": "execute_result"
    }
   ],
   "source": [
    "type(my_string)"
   ]
  },
  {
   "cell_type": "code",
   "execution_count": null,
   "metadata": {
    "colab": {
     "base_uri": "https://localhost:8080/",
     "height": 35
    },
    "executionInfo": {
     "elapsed": 94,
     "status": "ok",
     "timestamp": 1722403479512,
     "user": {
      "displayName": "Sudarshanan Raghavan",
      "userId": "18093698647292025641"
     },
     "user_tz": -330
    },
    "id": "tAyI6wP-tUIp",
    "outputId": "71357c31-9cca-49cc-b06a-44d7e14c601d"
   },
   "outputs": [
    {
     "data": {
      "application/vnd.google.colaboratory.intrinsic+json": {
       "type": "string"
      },
      "text/plain": [
       "'abcd'"
      ]
     },
     "execution_count": 121,
     "metadata": {},
     "output_type": "execute_result"
    }
   ],
   "source": [
    "my_string = 'abcd'\n",
    "my_string"
   ]
  },
  {
   "cell_type": "code",
   "execution_count": null,
   "metadata": {
    "colab": {
     "base_uri": "https://localhost:8080/"
    },
    "executionInfo": {
     "elapsed": 94,
     "status": "ok",
     "timestamp": 1722403479512,
     "user": {
      "displayName": "Sudarshanan Raghavan",
      "userId": "18093698647292025641"
     },
     "user_tz": -330
    },
    "id": "Yc_Kclb4tXqT",
    "outputId": "eea2f760-04f3-4b5f-d2f2-73cfdfa65b81"
   },
   "outputs": [
    {
     "data": {
      "text/plain": [
       "str"
      ]
     },
     "execution_count": 122,
     "metadata": {},
     "output_type": "execute_result"
    }
   ],
   "source": [
    "type(my_string)"
   ]
  },
  {
   "cell_type": "code",
   "execution_count": null,
   "metadata": {
    "colab": {
     "base_uri": "https://localhost:8080/",
     "height": 35
    },
    "executionInfo": {
     "elapsed": 92,
     "status": "ok",
     "timestamp": 1722403479512,
     "user": {
      "displayName": "Sudarshanan Raghavan",
      "userId": "18093698647292025641"
     },
     "user_tz": -330
    },
    "id": "u8j20ea8tqOm",
    "outputId": "b3d221a0-03f1-4f83-f8d2-ce5e4bf9200e"
   },
   "outputs": [
    {
     "data": {
      "application/vnd.google.colaboratory.intrinsic+json": {
       "type": "string"
      },
      "text/plain": [
       "'100'"
      ]
     },
     "execution_count": 123,
     "metadata": {},
     "output_type": "execute_result"
    }
   ],
   "source": [
    "my_str = '100'\n",
    "my_str"
   ]
  },
  {
   "cell_type": "code",
   "execution_count": null,
   "metadata": {
    "colab": {
     "base_uri": "https://localhost:8080/"
    },
    "executionInfo": {
     "elapsed": 91,
     "status": "ok",
     "timestamp": 1722403479512,
     "user": {
      "displayName": "Sudarshanan Raghavan",
      "userId": "18093698647292025641"
     },
     "user_tz": -330
    },
    "id": "DTRPClIwtxSh",
    "outputId": "8adce607-c3c0-4e7b-e83f-6ca4d8a7ad6e"
   },
   "outputs": [
    {
     "data": {
      "text/plain": [
       "str"
      ]
     },
     "execution_count": 124,
     "metadata": {},
     "output_type": "execute_result"
    }
   ],
   "source": [
    "type(my_str)"
   ]
  },
  {
   "cell_type": "code",
   "execution_count": null,
   "metadata": {
    "colab": {
     "base_uri": "https://localhost:8080/",
     "height": 35
    },
    "executionInfo": {
     "elapsed": 89,
     "status": "ok",
     "timestamp": 1722403479512,
     "user": {
      "displayName": "Sudarshanan Raghavan",
      "userId": "18093698647292025641"
     },
     "user_tz": -330
    },
    "id": "EQNhWY6Fty92",
    "outputId": "6461ac75-7b01-4784-d963-0a625bc0fcc4"
   },
   "outputs": [
    {
     "data": {
      "application/vnd.google.colaboratory.intrinsic+json": {
       "type": "string"
      },
      "text/plain": [
       "'30.03'"
      ]
     },
     "execution_count": 125,
     "metadata": {},
     "output_type": "execute_result"
    }
   ],
   "source": [
    "my_str = '30.03'\n",
    "my_str"
   ]
  },
  {
   "cell_type": "code",
   "execution_count": null,
   "metadata": {
    "colab": {
     "base_uri": "https://localhost:8080/"
    },
    "executionInfo": {
     "elapsed": 90,
     "status": "ok",
     "timestamp": 1722403479513,
     "user": {
      "displayName": "Sudarshanan Raghavan",
      "userId": "18093698647292025641"
     },
     "user_tz": -330
    },
    "id": "oDjKH8L4t3nv",
    "outputId": "083c76b4-48fb-443e-96e4-003bafb7c757"
   },
   "outputs": [
    {
     "data": {
      "text/plain": [
       "str"
      ]
     },
     "execution_count": 126,
     "metadata": {},
     "output_type": "execute_result"
    }
   ],
   "source": [
    "type(my_str)"
   ]
  },
  {
   "cell_type": "code",
   "execution_count": null,
   "metadata": {
    "colab": {
     "base_uri": "https://localhost:8080/",
     "height": 35
    },
    "executionInfo": {
     "elapsed": 88,
     "status": "ok",
     "timestamp": 1722403479513,
     "user": {
      "displayName": "Sudarshanan Raghavan",
      "userId": "18093698647292025641"
     },
     "user_tz": -330
    },
    "id": "Eib3mgpquJtg",
    "outputId": "c88b4475-7413-4310-c126-b329cda3fb24"
   },
   "outputs": [
    {
     "data": {
      "application/vnd.google.colaboratory.intrinsic+json": {
       "type": "string"
      },
      "text/plain": [
       "'This is a string'"
      ]
     },
     "execution_count": 127,
     "metadata": {},
     "output_type": "execute_result"
    }
   ],
   "source": [
    "my_str = \"This is a string\"\n",
    "my_str"
   ]
  },
  {
   "cell_type": "code",
   "execution_count": null,
   "metadata": {
    "colab": {
     "base_uri": "https://localhost:8080/"
    },
    "executionInfo": {
     "elapsed": 87,
     "status": "ok",
     "timestamp": 1722403479513,
     "user": {
      "displayName": "Sudarshanan Raghavan",
      "userId": "18093698647292025641"
     },
     "user_tz": -330
    },
    "id": "PgeR7D2OuO4w",
    "outputId": "2811d746-e339-4a43-dac5-297364bce3ea"
   },
   "outputs": [
    {
     "data": {
      "text/plain": [
       "str"
      ]
     },
     "execution_count": 128,
     "metadata": {},
     "output_type": "execute_result"
    }
   ],
   "source": [
    "type(my_str)"
   ]
  },
  {
   "cell_type": "markdown",
   "metadata": {
    "id": "rejyIyTeuSi-"
   },
   "source": [
    "In Python, you can use either single quotes (`'`) or double quotes (`\"`) to define strings. Both options are valid, and you can choose the one that suits your preference. Throughout this notebook, we will be using single quotes (`'`) to work with strings."
   ]
  },
  {
   "cell_type": "markdown",
   "metadata": {
    "id": "SSr4k8jF3LQh"
   },
   "source": [
    "### Example\n",
    "Typecasting using the `int()` function"
   ]
  },
  {
   "cell_type": "code",
   "execution_count": null,
   "metadata": {
    "colab": {
     "base_uri": "https://localhost:8080/",
     "height": 35
    },
    "executionInfo": {
     "elapsed": 86,
     "status": "ok",
     "timestamp": 1722403479513,
     "user": {
      "displayName": "Sudarshanan Raghavan",
      "userId": "18093698647292025641"
     },
     "user_tz": -330
    },
    "id": "lSl2q5ot3fcW",
    "outputId": "c3c6f41f-ada6-48e1-cd13-acbb36545144"
   },
   "outputs": [
    {
     "data": {
      "application/vnd.google.colaboratory.intrinsic+json": {
       "type": "string"
      },
      "text/plain": [
       "'123'"
      ]
     },
     "execution_count": 129,
     "metadata": {},
     "output_type": "execute_result"
    }
   ],
   "source": [
    "my_str = '123'\n",
    "my_str"
   ]
  },
  {
   "cell_type": "code",
   "execution_count": null,
   "metadata": {
    "colab": {
     "base_uri": "https://localhost:8080/"
    },
    "executionInfo": {
     "elapsed": 85,
     "status": "ok",
     "timestamp": 1722403479513,
     "user": {
      "displayName": "Sudarshanan Raghavan",
      "userId": "18093698647292025641"
     },
     "user_tz": -330
    },
    "id": "B7hJ2QY93iOh",
    "outputId": "28983231-5193-4fe9-8ea0-d3e1d9a0c18d"
   },
   "outputs": [
    {
     "data": {
      "text/plain": [
       "str"
      ]
     },
     "execution_count": 130,
     "metadata": {},
     "output_type": "execute_result"
    }
   ],
   "source": [
    "type(my_str)"
   ]
  },
  {
   "cell_type": "code",
   "execution_count": null,
   "metadata": {
    "colab": {
     "base_uri": "https://localhost:8080/"
    },
    "executionInfo": {
     "elapsed": 83,
     "status": "ok",
     "timestamp": 1722403479513,
     "user": {
      "displayName": "Sudarshanan Raghavan",
      "userId": "18093698647292025641"
     },
     "user_tz": -330
    },
    "id": "6Wxc0ChxgdJU",
    "outputId": "b57b9bc3-4c92-4614-eee7-bec10087e46d"
   },
   "outputs": [
    {
     "data": {
      "text/plain": [
       "123"
      ]
     },
     "execution_count": 131,
     "metadata": {},
     "output_type": "execute_result"
    }
   ],
   "source": [
    "my_int = int(my_str)\n",
    "my_int"
   ]
  },
  {
   "cell_type": "code",
   "execution_count": null,
   "metadata": {
    "colab": {
     "base_uri": "https://localhost:8080/"
    },
    "executionInfo": {
     "elapsed": 82,
     "status": "ok",
     "timestamp": 1722403479513,
     "user": {
      "displayName": "Sudarshanan Raghavan",
      "userId": "18093698647292025641"
     },
     "user_tz": -330
    },
    "id": "oJq1rlpDgdJU",
    "outputId": "8ea63fbb-e42f-42f7-a152-8f03ad6b5f10"
   },
   "outputs": [
    {
     "data": {
      "text/plain": [
       "int"
      ]
     },
     "execution_count": 132,
     "metadata": {},
     "output_type": "execute_result"
    }
   ],
   "source": [
    "type(my_int)"
   ]
  },
  {
   "cell_type": "code",
   "execution_count": null,
   "metadata": {
    "id": "JRka-wfu1Z1a"
   },
   "outputs": [],
   "source": [
    "my_float = '2.17'"
   ]
  },
  {
   "cell_type": "code",
   "execution_count": null,
   "metadata": {
    "id": "UsXs1wCP1c3Z"
   },
   "outputs": [],
   "source": [
    "# my_int = int(my_float)"
   ]
  },
  {
   "cell_type": "markdown",
   "metadata": {
    "id": "fU7eWDkd1jsh"
   },
   "source": [
    "Attempting to convert the string `'2.17'` directly to an integer using `int('2.17')` will result in a ValueError because `'2.17'` is not a valid integer string. The `int()` function in Python is used to convert a numeric string to an integer, but the string must represent a whole number."
   ]
  },
  {
   "cell_type": "code",
   "execution_count": null,
   "metadata": {
    "id": "_2Paf0h-54ji"
   },
   "outputs": [],
   "source": [
    "# my_int = int('abc')"
   ]
  },
  {
   "cell_type": "markdown",
   "metadata": {
    "id": "bXuSRY2T42o0"
   },
   "source": [
    "Note that when typecasting a `float` data type into an `int` data type, Python will disregard the fraction part of the floating point number and only consider the whole number part"
   ]
  },
  {
   "cell_type": "markdown",
   "metadata": {
    "id": "ozOnLTZr8fjW"
   },
   "source": [
    "### Example\n",
    "Typecasting using the `float()` function"
   ]
  },
  {
   "cell_type": "code",
   "execution_count": null,
   "metadata": {
    "id": "bNGnjC1v8rCz"
   },
   "outputs": [],
   "source": [
    "my_int = 8"
   ]
  },
  {
   "cell_type": "code",
   "execution_count": null,
   "metadata": {
    "colab": {
     "base_uri": "https://localhost:8080/"
    },
    "executionInfo": {
     "elapsed": 80,
     "status": "ok",
     "timestamp": 1722403479513,
     "user": {
      "displayName": "Sudarshanan Raghavan",
      "userId": "18093698647292025641"
     },
     "user_tz": -330
    },
    "id": "9DI25D7qgdJW",
    "outputId": "0df3371f-ee2c-49ca-f16f-2aee12dc73b5"
   },
   "outputs": [
    {
     "data": {
      "text/plain": [
       "8"
      ]
     },
     "execution_count": 137,
     "metadata": {},
     "output_type": "execute_result"
    }
   ],
   "source": [
    "my_int"
   ]
  },
  {
   "cell_type": "code",
   "execution_count": null,
   "metadata": {
    "colab": {
     "base_uri": "https://localhost:8080/"
    },
    "executionInfo": {
     "elapsed": 79,
     "status": "ok",
     "timestamp": 1722403479513,
     "user": {
      "displayName": "Sudarshanan Raghavan",
      "userId": "18093698647292025641"
     },
     "user_tz": -330
    },
    "id": "jWCb_v_j87wQ",
    "outputId": "8b7dfab0-e722-4d34-98e9-141b14188425"
   },
   "outputs": [
    {
     "data": {
      "text/plain": [
       "int"
      ]
     },
     "execution_count": 138,
     "metadata": {},
     "output_type": "execute_result"
    }
   ],
   "source": [
    "type(my_int)"
   ]
  },
  {
   "cell_type": "code",
   "execution_count": null,
   "metadata": {
    "id": "gTVvkWKT8yMj"
   },
   "outputs": [],
   "source": [
    "my_float = float(my_int)"
   ]
  },
  {
   "cell_type": "code",
   "execution_count": null,
   "metadata": {
    "colab": {
     "base_uri": "https://localhost:8080/"
    },
    "executionInfo": {
     "elapsed": 77,
     "status": "ok",
     "timestamp": 1722403479513,
     "user": {
      "displayName": "Sudarshanan Raghavan",
      "userId": "18093698647292025641"
     },
     "user_tz": -330
    },
    "id": "CRVgDDEF84-Y",
    "outputId": "ff9e4301-be84-4220-e765-aa298164a0dc"
   },
   "outputs": [
    {
     "data": {
      "text/plain": [
       "8.0"
      ]
     },
     "execution_count": 140,
     "metadata": {},
     "output_type": "execute_result"
    }
   ],
   "source": [
    "my_float"
   ]
  },
  {
   "cell_type": "code",
   "execution_count": null,
   "metadata": {
    "colab": {
     "base_uri": "https://localhost:8080/"
    },
    "executionInfo": {
     "elapsed": 75,
     "status": "ok",
     "timestamp": 1722403479513,
     "user": {
      "displayName": "Sudarshanan Raghavan",
      "userId": "18093698647292025641"
     },
     "user_tz": -330
    },
    "id": "1rjuK34n8-Hi",
    "outputId": "709ba96a-6eea-4150-e810-113ad1fecc27"
   },
   "outputs": [
    {
     "data": {
      "text/plain": [
       "float"
      ]
     },
     "execution_count": 141,
     "metadata": {},
     "output_type": "execute_result"
    }
   ],
   "source": [
    "type(my_float)"
   ]
  },
  {
   "cell_type": "code",
   "execution_count": null,
   "metadata": {
    "id": "hT5uXWah_dKL"
   },
   "outputs": [],
   "source": [
    "my_data = '97.1'"
   ]
  },
  {
   "cell_type": "code",
   "execution_count": null,
   "metadata": {
    "id": "2eXcCzf2_jHA"
   },
   "outputs": [],
   "source": [
    "my_float = float(my_data)"
   ]
  },
  {
   "cell_type": "code",
   "execution_count": null,
   "metadata": {
    "colab": {
     "base_uri": "https://localhost:8080/"
    },
    "executionInfo": {
     "elapsed": 70,
     "status": "ok",
     "timestamp": 1722403479513,
     "user": {
      "displayName": "Sudarshanan Raghavan",
      "userId": "18093698647292025641"
     },
     "user_tz": -330
    },
    "id": "6zYqYXJ3_l5f",
    "outputId": "4322c71c-dc37-4aaa-e4c2-9713414055a4"
   },
   "outputs": [
    {
     "data": {
      "text/plain": [
       "97.1"
      ]
     },
     "execution_count": 144,
     "metadata": {},
     "output_type": "execute_result"
    }
   ],
   "source": [
    "my_float"
   ]
  },
  {
   "cell_type": "code",
   "execution_count": null,
   "metadata": {
    "colab": {
     "base_uri": "https://localhost:8080/"
    },
    "executionInfo": {
     "elapsed": 68,
     "status": "ok",
     "timestamp": 1722403479513,
     "user": {
      "displayName": "Sudarshanan Raghavan",
      "userId": "18093698647292025641"
     },
     "user_tz": -330
    },
    "id": "8uA_2nt1_qY-",
    "outputId": "f3c869f8-e911-42ba-ae57-8d0969244d0c"
   },
   "outputs": [
    {
     "data": {
      "text/plain": [
       "float"
      ]
     },
     "execution_count": 145,
     "metadata": {},
     "output_type": "execute_result"
    }
   ],
   "source": [
    "type(my_float)"
   ]
  },
  {
   "cell_type": "markdown",
   "metadata": {
    "id": "fXN-deVuAFLc"
   },
   "source": [
    "Note that the `float()` function in Python can be used to convert a string containing a numeric representation, such as `'97.1'`, into a floating-point number"
   ]
  },
  {
   "cell_type": "code",
   "execution_count": null,
   "metadata": {
    "id": "C3f4xm5TgdJY"
   },
   "outputs": [],
   "source": [
    "my_data = '98.76'"
   ]
  },
  {
   "cell_type": "code",
   "execution_count": null,
   "metadata": {
    "id": "hPM7mvkagdJZ"
   },
   "outputs": [],
   "source": [
    "# int(my_data)"
   ]
  },
  {
   "cell_type": "code",
   "execution_count": null,
   "metadata": {
    "colab": {
     "base_uri": "https://localhost:8080/"
    },
    "executionInfo": {
     "elapsed": 67,
     "status": "ok",
     "timestamp": 1722403479514,
     "user": {
      "displayName": "Sudarshanan Raghavan",
      "userId": "18093698647292025641"
     },
     "user_tz": -330
    },
    "id": "iINCA-XigdJZ",
    "outputId": "099dc9c0-6ec3-41f6-f5f3-f366fb3efef8"
   },
   "outputs": [
    {
     "data": {
      "text/plain": [
       "98.76"
      ]
     },
     "execution_count": 148,
     "metadata": {},
     "output_type": "execute_result"
    }
   ],
   "source": [
    "float(my_data)"
   ]
  },
  {
   "cell_type": "code",
   "execution_count": null,
   "metadata": {
    "colab": {
     "base_uri": "https://localhost:8080/"
    },
    "executionInfo": {
     "elapsed": 66,
     "status": "ok",
     "timestamp": 1722403479514,
     "user": {
      "displayName": "Sudarshanan Raghavan",
      "userId": "18093698647292025641"
     },
     "user_tz": -330
    },
    "id": "a0o4cjsOgdJZ",
    "outputId": "7b6947b1-c80a-4fc1-ea32-0333b614e817"
   },
   "outputs": [
    {
     "data": {
      "text/plain": [
       "98"
      ]
     },
     "execution_count": 149,
     "metadata": {},
     "output_type": "execute_result"
    }
   ],
   "source": [
    "int(float(my_data))"
   ]
  },
  {
   "cell_type": "markdown",
   "metadata": {
    "id": "Icm0kj55AXan"
   },
   "source": [
    "### Example\n",
    "\n",
    "Converting the string `'45.6778'` into a float"
   ]
  },
  {
   "cell_type": "code",
   "execution_count": null,
   "metadata": {
    "colab": {
     "base_uri": "https://localhost:8080/"
    },
    "executionInfo": {
     "elapsed": 64,
     "status": "ok",
     "timestamp": 1722403479514,
     "user": {
      "displayName": "Sudarshanan Raghavan",
      "userId": "18093698647292025641"
     },
     "user_tz": -330
    },
    "id": "JCZmK9gKAiof",
    "outputId": "9deb7e04-9123-4940-92ed-a706e961e945"
   },
   "outputs": [
    {
     "data": {
      "text/plain": [
       "45.6778"
      ]
     },
     "execution_count": 150,
     "metadata": {},
     "output_type": "execute_result"
    }
   ],
   "source": [
    "float('45.6778')"
   ]
  },
  {
   "cell_type": "markdown",
   "metadata": {
    "id": "I08vonJM182v"
   },
   "source": [
    "###Example\n",
    "Typecasting using the `str()` function"
   ]
  },
  {
   "cell_type": "code",
   "execution_count": null,
   "metadata": {
    "id": "KqIJkBIH2IL2"
   },
   "outputs": [],
   "source": [
    "my_int = 1000"
   ]
  },
  {
   "cell_type": "code",
   "execution_count": null,
   "metadata": {
    "colab": {
     "base_uri": "https://localhost:8080/"
    },
    "executionInfo": {
     "elapsed": 63,
     "status": "ok",
     "timestamp": 1722403479514,
     "user": {
      "displayName": "Sudarshanan Raghavan",
      "userId": "18093698647292025641"
     },
     "user_tz": -330
    },
    "id": "ki0VdjkMgdJZ",
    "outputId": "6ca39a4e-4ead-45a3-8aa3-a41e6de31a45"
   },
   "outputs": [
    {
     "data": {
      "text/plain": [
       "1000"
      ]
     },
     "execution_count": 152,
     "metadata": {},
     "output_type": "execute_result"
    }
   ],
   "source": [
    "my_int"
   ]
  },
  {
   "cell_type": "code",
   "execution_count": null,
   "metadata": {
    "colab": {
     "base_uri": "https://localhost:8080/"
    },
    "executionInfo": {
     "elapsed": 61,
     "status": "ok",
     "timestamp": 1722403479514,
     "user": {
      "displayName": "Sudarshanan Raghavan",
      "userId": "18093698647292025641"
     },
     "user_tz": -330
    },
    "id": "nauPjw9O2Oq3",
    "outputId": "410d1fbb-9399-4dac-c659-09c530940c30"
   },
   "outputs": [
    {
     "data": {
      "text/plain": [
       "int"
      ]
     },
     "execution_count": 153,
     "metadata": {},
     "output_type": "execute_result"
    }
   ],
   "source": [
    "type(my_int)"
   ]
  },
  {
   "cell_type": "code",
   "execution_count": null,
   "metadata": {
    "id": "zJpDvHyP2KxI"
   },
   "outputs": [],
   "source": [
    "my_str = str(my_int)"
   ]
  },
  {
   "cell_type": "code",
   "execution_count": null,
   "metadata": {
    "colab": {
     "base_uri": "https://localhost:8080/",
     "height": 35
    },
    "executionInfo": {
     "elapsed": 60,
     "status": "ok",
     "timestamp": 1722403479514,
     "user": {
      "displayName": "Sudarshanan Raghavan",
      "userId": "18093698647292025641"
     },
     "user_tz": -330
    },
    "id": "Kpy0JrDv2Rbc",
    "outputId": "8885bce7-454e-4282-87a2-5702c3744246"
   },
   "outputs": [
    {
     "data": {
      "application/vnd.google.colaboratory.intrinsic+json": {
       "type": "string"
      },
      "text/plain": [
       "'1000'"
      ]
     },
     "execution_count": 155,
     "metadata": {},
     "output_type": "execute_result"
    }
   ],
   "source": [
    "my_str"
   ]
  },
  {
   "cell_type": "code",
   "execution_count": null,
   "metadata": {
    "colab": {
     "base_uri": "https://localhost:8080/"
    },
    "executionInfo": {
     "elapsed": 59,
     "status": "ok",
     "timestamp": 1722403479514,
     "user": {
      "displayName": "Sudarshanan Raghavan",
      "userId": "18093698647292025641"
     },
     "user_tz": -330
    },
    "id": "-VrRoHZk2Tg6",
    "outputId": "ace27a8d-3f17-480e-dad7-1a0a64021d8b"
   },
   "outputs": [
    {
     "data": {
      "text/plain": [
       "str"
      ]
     },
     "execution_count": 156,
     "metadata": {},
     "output_type": "execute_result"
    }
   ],
   "source": [
    "type(my_str)"
   ]
  },
  {
   "cell_type": "code",
   "execution_count": null,
   "metadata": {
    "id": "pzPcOYwA25H_"
   },
   "outputs": [],
   "source": [
    "my_bool = True"
   ]
  },
  {
   "cell_type": "code",
   "execution_count": null,
   "metadata": {
    "colab": {
     "base_uri": "https://localhost:8080/"
    },
    "executionInfo": {
     "elapsed": 57,
     "status": "ok",
     "timestamp": 1722403479514,
     "user": {
      "displayName": "Sudarshanan Raghavan",
      "userId": "18093698647292025641"
     },
     "user_tz": -330
    },
    "id": "xqdUQACugdJb",
    "outputId": "42f426bb-4a49-4431-e809-fdfa679a0ccc"
   },
   "outputs": [
    {
     "data": {
      "text/plain": [
       "True"
      ]
     },
     "execution_count": 158,
     "metadata": {},
     "output_type": "execute_result"
    }
   ],
   "source": [
    "my_bool"
   ]
  },
  {
   "cell_type": "code",
   "execution_count": null,
   "metadata": {
    "colab": {
     "base_uri": "https://localhost:8080/"
    },
    "executionInfo": {
     "elapsed": 54,
     "status": "ok",
     "timestamp": 1722403479514,
     "user": {
      "displayName": "Sudarshanan Raghavan",
      "userId": "18093698647292025641"
     },
     "user_tz": -330
    },
    "id": "MZHg4Dl-3B1b",
    "outputId": "45921dee-0fa3-4b65-a941-92f723374f76"
   },
   "outputs": [
    {
     "data": {
      "text/plain": [
       "bool"
      ]
     },
     "execution_count": 159,
     "metadata": {},
     "output_type": "execute_result"
    }
   ],
   "source": [
    "type(my_bool)"
   ]
  },
  {
   "cell_type": "code",
   "execution_count": null,
   "metadata": {
    "id": "7sMmd75-2_eb"
   },
   "outputs": [],
   "source": [
    "my_str = str(my_bool)"
   ]
  },
  {
   "cell_type": "code",
   "execution_count": null,
   "metadata": {
    "colab": {
     "base_uri": "https://localhost:8080/",
     "height": 35
    },
    "executionInfo": {
     "elapsed": 52,
     "status": "ok",
     "timestamp": 1722403479514,
     "user": {
      "displayName": "Sudarshanan Raghavan",
      "userId": "18093698647292025641"
     },
     "user_tz": -330
    },
    "id": "uPHZiGFt3I3c",
    "outputId": "33b2d9b9-7277-4a39-c6a6-830e7e5b484a"
   },
   "outputs": [
    {
     "data": {
      "application/vnd.google.colaboratory.intrinsic+json": {
       "type": "string"
      },
      "text/plain": [
       "'True'"
      ]
     },
     "execution_count": 161,
     "metadata": {},
     "output_type": "execute_result"
    }
   ],
   "source": [
    "my_str"
   ]
  },
  {
   "cell_type": "code",
   "execution_count": null,
   "metadata": {
    "colab": {
     "base_uri": "https://localhost:8080/"
    },
    "executionInfo": {
     "elapsed": 52,
     "status": "ok",
     "timestamp": 1722403479514,
     "user": {
      "displayName": "Sudarshanan Raghavan",
      "userId": "18093698647292025641"
     },
     "user_tz": -330
    },
    "id": "CdA3mTMr3FV3",
    "outputId": "beeef0db-29f8-46e2-a265-0e3ce545803e"
   },
   "outputs": [
    {
     "data": {
      "text/plain": [
       "str"
      ]
     },
     "execution_count": 162,
     "metadata": {},
     "output_type": "execute_result"
    }
   ],
   "source": [
    "type(my_str)"
   ]
  },
  {
   "cell_type": "markdown",
   "metadata": {
    "id": "O6wfV1RMrCgm"
   },
   "source": [
    "### Example\n",
    "Typecasting using the `bool()` function"
   ]
  },
  {
   "cell_type": "code",
   "execution_count": null,
   "metadata": {
    "colab": {
     "base_uri": "https://localhost:8080/"
    },
    "executionInfo": {
     "elapsed": 50,
     "status": "ok",
     "timestamp": 1722403479514,
     "user": {
      "displayName": "Sudarshanan Raghavan",
      "userId": "18093698647292025641"
     },
     "user_tz": -330
    },
    "id": "xSioz3ILgdJc",
    "outputId": "d8e9ccdb-13f5-4580-87a0-970cc5a89d46"
   },
   "outputs": [
    {
     "data": {
      "text/plain": [
       "1000"
      ]
     },
     "execution_count": 163,
     "metadata": {},
     "output_type": "execute_result"
    }
   ],
   "source": [
    "my_int"
   ]
  },
  {
   "cell_type": "code",
   "execution_count": null,
   "metadata": {
    "colab": {
     "base_uri": "https://localhost:8080/"
    },
    "executionInfo": {
     "elapsed": 49,
     "status": "ok",
     "timestamp": 1722403479514,
     "user": {
      "displayName": "Sudarshanan Raghavan",
      "userId": "18093698647292025641"
     },
     "user_tz": -330
    },
    "id": "veLyA5QyP31a",
    "outputId": "fabd5fd8-3a62-4760-8062-89aec3e12d8b"
   },
   "outputs": [
    {
     "data": {
      "text/plain": [
       "int"
      ]
     },
     "execution_count": 164,
     "metadata": {},
     "output_type": "execute_result"
    }
   ],
   "source": [
    "type(my_int)"
   ]
  },
  {
   "cell_type": "code",
   "execution_count": null,
   "metadata": {
    "id": "_HZAfJ2MP0cH"
   },
   "outputs": [],
   "source": [
    "my_bool = bool(my_int)"
   ]
  },
  {
   "cell_type": "code",
   "execution_count": null,
   "metadata": {
    "colab": {
     "base_uri": "https://localhost:8080/"
    },
    "executionInfo": {
     "elapsed": 47,
     "status": "ok",
     "timestamp": 1722403479514,
     "user": {
      "displayName": "Sudarshanan Raghavan",
      "userId": "18093698647292025641"
     },
     "user_tz": -330
    },
    "id": "VZ89LkOtQBo7",
    "outputId": "8aeba1b1-4613-42d4-ba17-c228e780851a"
   },
   "outputs": [
    {
     "data": {
      "text/plain": [
       "True"
      ]
     },
     "execution_count": 166,
     "metadata": {},
     "output_type": "execute_result"
    }
   ],
   "source": [
    "my_bool"
   ]
  },
  {
   "cell_type": "code",
   "execution_count": null,
   "metadata": {
    "colab": {
     "base_uri": "https://localhost:8080/"
    },
    "executionInfo": {
     "elapsed": 36,
     "status": "ok",
     "timestamp": 1722403479514,
     "user": {
      "displayName": "Sudarshanan Raghavan",
      "userId": "18093698647292025641"
     },
     "user_tz": -330
    },
    "id": "QWusRUmqP75N",
    "outputId": "e28b6628-5eea-4fd0-cf57-5373c6e7666f"
   },
   "outputs": [
    {
     "data": {
      "text/plain": [
       "bool"
      ]
     },
     "execution_count": 167,
     "metadata": {},
     "output_type": "execute_result"
    }
   ],
   "source": [
    "type(my_bool)"
   ]
  },
  {
   "cell_type": "code",
   "execution_count": null,
   "metadata": {
    "id": "YEC59SIeQiFl"
   },
   "outputs": [],
   "source": [
    "my_int = 0"
   ]
  },
  {
   "cell_type": "code",
   "execution_count": null,
   "metadata": {
    "colab": {
     "base_uri": "https://localhost:8080/"
    },
    "executionInfo": {
     "elapsed": 35,
     "status": "ok",
     "timestamp": 1722403479514,
     "user": {
      "displayName": "Sudarshanan Raghavan",
      "userId": "18093698647292025641"
     },
     "user_tz": -330
    },
    "id": "xBauu1t_Qj2S",
    "outputId": "ffa362a4-ef22-4e2c-abc1-c905bc5cad49"
   },
   "outputs": [
    {
     "data": {
      "text/plain": [
       "False"
      ]
     },
     "execution_count": 169,
     "metadata": {},
     "output_type": "execute_result"
    }
   ],
   "source": [
    "my_bool = bool(my_int)\n",
    "my_bool"
   ]
  },
  {
   "cell_type": "code",
   "execution_count": null,
   "metadata": {
    "colab": {
     "base_uri": "https://localhost:8080/"
    },
    "executionInfo": {
     "elapsed": 34,
     "status": "ok",
     "timestamp": 1722403479515,
     "user": {
      "displayName": "Sudarshanan Raghavan",
      "userId": "18093698647292025641"
     },
     "user_tz": -330
    },
    "id": "OAbhlsIBQnp_",
    "outputId": "e9f81d06-d381-48c1-a1b6-ac8abd2ca444"
   },
   "outputs": [
    {
     "data": {
      "text/plain": [
       "bool"
      ]
     },
     "execution_count": 170,
     "metadata": {},
     "output_type": "execute_result"
    }
   ],
   "source": [
    "type(my_bool)"
   ]
  },
  {
   "cell_type": "code",
   "execution_count": null,
   "metadata": {
    "colab": {
     "base_uri": "https://localhost:8080/"
    },
    "executionInfo": {
     "elapsed": 32,
     "status": "ok",
     "timestamp": 1722403479515,
     "user": {
      "displayName": "Sudarshanan Raghavan",
      "userId": "18093698647292025641"
     },
     "user_tz": -330
    },
    "id": "AEiL-pztQ2C9",
    "outputId": "3f2bb0ff-1798-4862-ff13-b673a9919dd8"
   },
   "outputs": [
    {
     "data": {
      "text/plain": [
       "True"
      ]
     },
     "execution_count": 171,
     "metadata": {},
     "output_type": "execute_result"
    }
   ],
   "source": [
    "my_bool = bool(-1)\n",
    "my_bool"
   ]
  },
  {
   "cell_type": "code",
   "execution_count": null,
   "metadata": {
    "colab": {
     "base_uri": "https://localhost:8080/"
    },
    "executionInfo": {
     "elapsed": 31,
     "status": "ok",
     "timestamp": 1722403479515,
     "user": {
      "displayName": "Sudarshanan Raghavan",
      "userId": "18093698647292025641"
     },
     "user_tz": -330
    },
    "id": "hdtXkq1gQ70G",
    "outputId": "0c329e6c-3ae0-4120-fde1-37b65ee3f586"
   },
   "outputs": [
    {
     "data": {
      "text/plain": [
       "True"
      ]
     },
     "execution_count": 172,
     "metadata": {},
     "output_type": "execute_result"
    }
   ],
   "source": [
    "my_bool = bool(3.333)\n",
    "my_bool"
   ]
  },
  {
   "cell_type": "code",
   "execution_count": null,
   "metadata": {
    "colab": {
     "base_uri": "https://localhost:8080/"
    },
    "executionInfo": {
     "elapsed": 29,
     "status": "ok",
     "timestamp": 1722403479515,
     "user": {
      "displayName": "Sudarshanan Raghavan",
      "userId": "18093698647292025641"
     },
     "user_tz": -330
    },
    "id": "XMx6KKYBRAkd",
    "outputId": "ec56686e-7e80-4947-dee0-548cbc262dc1"
   },
   "outputs": [
    {
     "data": {
      "text/plain": [
       "True"
      ]
     },
     "execution_count": 173,
     "metadata": {},
     "output_type": "execute_result"
    }
   ],
   "source": [
    "my_bool = bool('Hello')\n",
    "my_bool"
   ]
  },
  {
   "cell_type": "code",
   "execution_count": null,
   "metadata": {
    "colab": {
     "base_uri": "https://localhost:8080/"
    },
    "executionInfo": {
     "elapsed": 28,
     "status": "ok",
     "timestamp": 1722403479515,
     "user": {
      "displayName": "Sudarshanan Raghavan",
      "userId": "18093698647292025641"
     },
     "user_tz": -330
    },
    "id": "X9DOiOaPgdJe",
    "outputId": "9ed0b81a-6a5d-49c3-c385-155d88f49613"
   },
   "outputs": [
    {
     "data": {
      "text/plain": [
       "True"
      ]
     },
     "execution_count": 174,
     "metadata": {},
     "output_type": "execute_result"
    }
   ],
   "source": [
    "bool(-24.5)"
   ]
  },
  {
   "cell_type": "code",
   "execution_count": null,
   "metadata": {
    "colab": {
     "base_uri": "https://localhost:8080/"
    },
    "executionInfo": {
     "elapsed": 26,
     "status": "ok",
     "timestamp": 1722403479515,
     "user": {
      "displayName": "Sudarshanan Raghavan",
      "userId": "18093698647292025641"
     },
     "user_tz": -330
    },
    "id": "Xt-nqmgmRGhI",
    "outputId": "c0f9439e-70ae-46c1-9e9e-75c69c0a4b56"
   },
   "outputs": [
    {
     "data": {
      "text/plain": [
       "True"
      ]
     },
     "execution_count": 175,
     "metadata": {},
     "output_type": "execute_result"
    }
   ],
   "source": [
    "bool('Hello')"
   ]
  },
  {
   "cell_type": "code",
   "execution_count": null,
   "metadata": {
    "colab": {
     "base_uri": "https://localhost:8080/"
    },
    "executionInfo": {
     "elapsed": 24,
     "status": "ok",
     "timestamp": 1722403479515,
     "user": {
      "displayName": "Sudarshanan Raghavan",
      "userId": "18093698647292025641"
     },
     "user_tz": -330
    },
    "id": "kLdf4flEgdJe",
    "outputId": "ca88073e-387c-4ebb-c7f4-f5cc50fbecf7"
   },
   "outputs": [
    {
     "data": {
      "text/plain": [
       "False"
      ]
     },
     "execution_count": 176,
     "metadata": {},
     "output_type": "execute_result"
    }
   ],
   "source": [
    "bool('')"
   ]
  },
  {
   "cell_type": "markdown",
   "metadata": {
    "id": "EqJcub1xMWZp"
   },
   "source": [
    "### Example\n",
    "Typecasting user inputs"
   ]
  },
  {
   "cell_type": "code",
   "execution_count": null,
   "metadata": {
    "id": "UYQ8wcg3MWaK"
   },
   "outputs": [],
   "source": [
    "my_age = '24'"
   ]
  },
  {
   "cell_type": "code",
   "execution_count": null,
   "metadata": {
    "colab": {
     "base_uri": "https://localhost:8080/"
    },
    "executionInfo": {
     "elapsed": 21,
     "status": "ok",
     "timestamp": 1722403479515,
     "user": {
      "displayName": "Sudarshanan Raghavan",
      "userId": "18093698647292025641"
     },
     "user_tz": -330
    },
    "id": "16n0Qqe0-baW",
    "outputId": "aa6b5633-b51b-47b4-bb4b-134bf9f600f8"
   },
   "outputs": [
    {
     "data": {
      "text/plain": [
       "str"
      ]
     },
     "execution_count": 178,
     "metadata": {},
     "output_type": "execute_result"
    }
   ],
   "source": [
    "type(my_age)"
   ]
  },
  {
   "cell_type": "code",
   "execution_count": null,
   "metadata": {
    "colab": {
     "base_uri": "https://localhost:8080/"
    },
    "executionInfo": {
     "elapsed": 102343,
     "status": "ok",
     "timestamp": 1722403581838,
     "user": {
      "displayName": "Sudarshanan Raghavan",
      "userId": "18093698647292025641"
     },
     "user_tz": -330
    },
    "id": "cXJ-Wl2999d6",
    "outputId": "8dc16eb5-a118-4996-c319-4cf49ca4e623"
   },
   "outputs": [
    {
     "name": "stdout",
     "output_type": "stream",
     "text": [
      "Enter your age: 12\n"
     ]
    }
   ],
   "source": [
    "# my_age = input('Enter your age: ')"
   ]
  },
  {
   "cell_type": "code",
   "execution_count": null,
   "metadata": {
    "colab": {
     "base_uri": "https://localhost:8080/"
    },
    "executionInfo": {
     "elapsed": 53,
     "status": "ok",
     "timestamp": 1722403581838,
     "user": {
      "displayName": "Sudarshanan Raghavan",
      "userId": "18093698647292025641"
     },
     "user_tz": -330
    },
    "id": "ggPchz8cJvyg",
    "outputId": "4d2ca100-781a-4f3f-84a4-83890ef5eda8"
   },
   "outputs": [
    {
     "data": {
      "text/plain": [
       "str"
      ]
     },
     "execution_count": 180,
     "metadata": {},
     "output_type": "execute_result"
    }
   ],
   "source": [
    "type(my_age)"
   ]
  },
  {
   "cell_type": "markdown",
   "metadata": {
    "id": "W2hRquRpIkWX"
   },
   "source": [
    "The age is currently stored as a string value. But for further processing, we might want the number to be an integer."
   ]
  },
  {
   "cell_type": "code",
   "execution_count": null,
   "metadata": {
    "id": "0w2OYtkcIj81"
   },
   "outputs": [],
   "source": [
    "# my_age = int(input('Enter your age: '))"
   ]
  },
  {
   "cell_type": "code",
   "execution_count": null,
   "metadata": {
    "colab": {
     "base_uri": "https://localhost:8080/"
    },
    "executionInfo": {
     "elapsed": 49,
     "status": "ok",
     "timestamp": 1722403581838,
     "user": {
      "displayName": "Sudarshanan Raghavan",
      "userId": "18093698647292025641"
     },
     "user_tz": -330
    },
    "id": "pGsb_wAOIuVk",
    "outputId": "aec3b296-fe7c-4ad0-f343-fa1ebcd8faa8"
   },
   "outputs": [
    {
     "data": {
      "text/plain": [
       "str"
      ]
     },
     "execution_count": 182,
     "metadata": {},
     "output_type": "execute_result"
    }
   ],
   "source": [
    "type(my_age)"
   ]
  },
  {
   "cell_type": "markdown",
   "metadata": {
    "id": "UzS1es9zMb4S"
   },
   "source": [
    "### Quiz\n",
    "Take a number from a user input and store it as a float"
   ]
  },
  {
   "cell_type": "code",
   "execution_count": null,
   "metadata": {
    "colab": {
     "base_uri": "https://localhost:8080/"
    },
    "executionInfo": {
     "elapsed": 47,
     "status": "ok",
     "timestamp": 1722403581838,
     "user": {
      "displayName": "Sudarshanan Raghavan",
      "userId": "18093698647292025641"
     },
     "user_tz": -330
    },
    "id": "5mitemHX5gET",
    "outputId": "1b8e9b2d-3903-471d-932b-b427afe52be5"
   },
   "outputs": [
    {
     "data": {
      "text/plain": [
       "float"
      ]
     },
     "execution_count": 183,
     "metadata": {},
     "output_type": "execute_result"
    }
   ],
   "source": [
    "user_input = 2.5\n",
    "# user_input = float(input('Enter a number: '))\n",
    "type(user_input)"
   ]
  },
  {
   "cell_type": "markdown",
   "metadata": {
    "id": "yg3qR3DK6n54"
   },
   "source": [
    "# Python operators\n",
    "This section covers the various operators available in Python, including arithmetic operators, comparison operators, logical operators, and bitwise operators. Each type of operator is explained with examples to demonstrate how they are used in Python programming."
   ]
  },
  {
   "cell_type": "markdown",
   "metadata": {
    "id": "e2dq37PvWU8S"
   },
   "source": [
    "### Example\n",
    "The `+` operator"
   ]
  },
  {
   "cell_type": "code",
   "execution_count": null,
   "metadata": {
    "colab": {
     "base_uri": "https://localhost:8080/"
    },
    "executionInfo": {
     "elapsed": 45,
     "status": "ok",
     "timestamp": 1722403581838,
     "user": {
      "displayName": "Sudarshanan Raghavan",
      "userId": "18093698647292025641"
     },
     "user_tz": -330
    },
    "id": "8jsKRvez7fd0",
    "outputId": "b09891a5-ee65-40ce-a3cc-046cbaf83558"
   },
   "outputs": [
    {
     "data": {
      "text/plain": [
       "2"
      ]
     },
     "execution_count": 184,
     "metadata": {},
     "output_type": "execute_result"
    }
   ],
   "source": [
    "1 + 1"
   ]
  },
  {
   "cell_type": "code",
   "execution_count": null,
   "metadata": {
    "colab": {
     "base_uri": "https://localhost:8080/"
    },
    "executionInfo": {
     "elapsed": 44,
     "status": "ok",
     "timestamp": 1722403581838,
     "user": {
      "displayName": "Sudarshanan Raghavan",
      "userId": "18093698647292025641"
     },
     "user_tz": -330
    },
    "id": "WuVBk6-I7j6_",
    "outputId": "d9387304-ed62-49df-a50d-1ccd065758a1"
   },
   "outputs": [
    {
     "data": {
      "text/plain": [
       "36"
      ]
     },
     "execution_count": 185,
     "metadata": {},
     "output_type": "execute_result"
    }
   ],
   "source": [
    "2 + 34"
   ]
  },
  {
   "cell_type": "code",
   "execution_count": null,
   "metadata": {
    "colab": {
     "base_uri": "https://localhost:8080/"
    },
    "executionInfo": {
     "elapsed": 43,
     "status": "ok",
     "timestamp": 1722403581838,
     "user": {
      "displayName": "Sudarshanan Raghavan",
      "userId": "18093698647292025641"
     },
     "user_tz": -330
    },
    "id": "Vbt0-dXs8SJb",
    "outputId": "9c42fa7e-2a6a-4e81-fbda-77ff8c29470a"
   },
   "outputs": [
    {
     "data": {
      "text/plain": [
       "21"
      ]
     },
     "execution_count": 186,
     "metadata": {},
     "output_type": "execute_result"
    }
   ],
   "source": [
    "1 + 2 + 3 + 4 + 5 + 6"
   ]
  },
  {
   "cell_type": "code",
   "execution_count": null,
   "metadata": {
    "id": "olYbsXsT-hnr"
   },
   "outputs": [],
   "source": [
    "num = 13"
   ]
  },
  {
   "cell_type": "code",
   "execution_count": null,
   "metadata": {
    "colab": {
     "base_uri": "https://localhost:8080/"
    },
    "executionInfo": {
     "elapsed": 42,
     "status": "ok",
     "timestamp": 1722403581839,
     "user": {
      "displayName": "Sudarshanan Raghavan",
      "userId": "18093698647292025641"
     },
     "user_tz": -330
    },
    "id": "UhdM4d2B-kie",
    "outputId": "284b6381-10cb-4965-b31b-6b227f35f3af"
   },
   "outputs": [
    {
     "data": {
      "text/plain": [
       "16"
      ]
     },
     "execution_count": 188,
     "metadata": {},
     "output_type": "execute_result"
    }
   ],
   "source": [
    "num + 3"
   ]
  },
  {
   "cell_type": "code",
   "execution_count": null,
   "metadata": {
    "id": "quwAv8iY7o8q"
   },
   "outputs": [],
   "source": [
    "a = 100\n",
    "b = 200"
   ]
  },
  {
   "cell_type": "code",
   "execution_count": null,
   "metadata": {
    "id": "ho9Tbt4M732Y"
   },
   "outputs": [],
   "source": [
    "sum = a + b"
   ]
  },
  {
   "cell_type": "code",
   "execution_count": null,
   "metadata": {
    "colab": {
     "base_uri": "https://localhost:8080/"
    },
    "executionInfo": {
     "elapsed": 41,
     "status": "ok",
     "timestamp": 1722403581839,
     "user": {
      "displayName": "Sudarshanan Raghavan",
      "userId": "18093698647292025641"
     },
     "user_tz": -330
    },
    "id": "f7hqUbIQ75dL",
    "outputId": "b7e19ab5-87b7-4e43-99f0-65a3c203763f"
   },
   "outputs": [
    {
     "data": {
      "text/plain": [
       "300"
      ]
     },
     "execution_count": 191,
     "metadata": {},
     "output_type": "execute_result"
    }
   ],
   "source": [
    "sum"
   ]
  },
  {
   "cell_type": "code",
   "execution_count": null,
   "metadata": {
    "id": "RlAmaKxk77mp"
   },
   "outputs": [],
   "source": [
    "x = 3.3\n",
    "y = 2.7"
   ]
  },
  {
   "cell_type": "code",
   "execution_count": null,
   "metadata": {
    "colab": {
     "base_uri": "https://localhost:8080/"
    },
    "executionInfo": {
     "elapsed": 39,
     "status": "ok",
     "timestamp": 1722403581839,
     "user": {
      "displayName": "Sudarshanan Raghavan",
      "userId": "18093698647292025641"
     },
     "user_tz": -330
    },
    "id": "jmj1QiwP8DEW",
    "outputId": "c250bb6d-7709-4fa2-a003-ef4d87e113fa"
   },
   "outputs": [
    {
     "data": {
      "text/plain": [
       "6.0"
      ]
     },
     "execution_count": 193,
     "metadata": {},
     "output_type": "execute_result"
    }
   ],
   "source": [
    "sum = x + y\n",
    "sum"
   ]
  },
  {
   "cell_type": "code",
   "execution_count": null,
   "metadata": {
    "id": "Sv5Hkc_v9sxw"
   },
   "outputs": [],
   "source": [
    "my_int = 3\n",
    "my_float = 5.0"
   ]
  },
  {
   "cell_type": "markdown",
   "metadata": {
    "id": "nCBOAPpWNDQn"
   },
   "source": [
    "**Coercion** in programming refers to the implicit or explicit conversion of one data type to another. This allows operations to be performed on mixed data types by converting one type to another compatible type."
   ]
  },
  {
   "cell_type": "code",
   "execution_count": null,
   "metadata": {
    "id": "PEhuJwzGCXOi"
   },
   "outputs": [],
   "source": [
    "my_sum = my_int + my_float"
   ]
  },
  {
   "cell_type": "code",
   "execution_count": null,
   "metadata": {
    "colab": {
     "base_uri": "https://localhost:8080/"
    },
    "executionInfo": {
     "elapsed": 38,
     "status": "ok",
     "timestamp": 1722403581840,
     "user": {
      "displayName": "Sudarshanan Raghavan",
      "userId": "18093698647292025641"
     },
     "user_tz": -330
    },
    "id": "lKbsSoSKCbJY",
    "outputId": "908b0aad-277f-4acd-c5c9-bd84b7352f20"
   },
   "outputs": [
    {
     "data": {
      "text/plain": [
       "8.0"
      ]
     },
     "execution_count": 196,
     "metadata": {},
     "output_type": "execute_result"
    }
   ],
   "source": [
    "my_sum"
   ]
  },
  {
   "cell_type": "code",
   "execution_count": null,
   "metadata": {
    "colab": {
     "base_uri": "https://localhost:8080/"
    },
    "executionInfo": {
     "elapsed": 37,
     "status": "ok",
     "timestamp": 1722403581840,
     "user": {
      "displayName": "Sudarshanan Raghavan",
      "userId": "18093698647292025641"
     },
     "user_tz": -330
    },
    "id": "_-A7BMmxCc0F",
    "outputId": "7e497458-4574-4c04-ef98-a8ec8ff7d0e7"
   },
   "outputs": [
    {
     "data": {
      "text/plain": [
       "float"
      ]
     },
     "execution_count": 197,
     "metadata": {},
     "output_type": "execute_result"
    }
   ],
   "source": [
    "type(my_sum)"
   ]
  },
  {
   "cell_type": "markdown",
   "metadata": {
    "id": "73wK6i7wCq4l"
   },
   "source": [
    "Note that In Python, when you perform arithmetic operations involving an `int` and a `float`, the result is always a `float`. This behavior is part of the language's rules for numeric **coercion**, where operations between different numeric types yield a result of the more general or precise type."
   ]
  },
  {
   "cell_type": "code",
   "execution_count": null,
   "metadata": {
    "id": "vVA1Fp27C5w0"
   },
   "outputs": [],
   "source": [
    "my_str = 'a'\n",
    "my_int = 10\n",
    "my_float = 14.2"
   ]
  },
  {
   "cell_type": "code",
   "execution_count": null,
   "metadata": {
    "id": "kDSgNHz2C8rT"
   },
   "outputs": [],
   "source": [
    "# sum = my_str + my_int"
   ]
  },
  {
   "cell_type": "code",
   "execution_count": null,
   "metadata": {
    "id": "62Taz0pWDs4T"
   },
   "outputs": [],
   "source": [
    "# sum = my_str + my_float"
   ]
  },
  {
   "cell_type": "code",
   "execution_count": null,
   "metadata": {
    "id": "lGN7REZCD8wn"
   },
   "outputs": [],
   "source": [
    "str_1 = 'a'\n",
    "str_2 = 'b'"
   ]
  },
  {
   "cell_type": "code",
   "execution_count": null,
   "metadata": {
    "id": "BH5rRhaDECPf"
   },
   "outputs": [],
   "source": [
    "result = str_1 + str_2"
   ]
  },
  {
   "cell_type": "code",
   "execution_count": null,
   "metadata": {
    "colab": {
     "base_uri": "https://localhost:8080/",
     "height": 35
    },
    "executionInfo": {
     "elapsed": 35,
     "status": "ok",
     "timestamp": 1722403581841,
     "user": {
      "displayName": "Sudarshanan Raghavan",
      "userId": "18093698647292025641"
     },
     "user_tz": -330
    },
    "id": "AbVx5WaUEH7m",
    "outputId": "341cfb4e-0cf0-47b7-b185-e5af4e837b06"
   },
   "outputs": [
    {
     "data": {
      "application/vnd.google.colaboratory.intrinsic+json": {
       "type": "string"
      },
      "text/plain": [
       "'ab'"
      ]
     },
     "execution_count": 203,
     "metadata": {},
     "output_type": "execute_result"
    }
   ],
   "source": [
    "result"
   ]
  },
  {
   "cell_type": "markdown",
   "metadata": {
    "id": "mJyXiZ3SD76d"
   },
   "source": [
    "Notice that when peforming addition on two strings, the result is a string joining the initial strings. This operation is called **concatenation**. We say the two strings are concatenated."
   ]
  },
  {
   "cell_type": "code",
   "execution_count": null,
   "metadata": {
    "id": "y8rm1WkJEyvb"
   },
   "outputs": [],
   "source": [
    "str_1 = 'Hello'\n",
    "str_2 = 'There!'"
   ]
  },
  {
   "cell_type": "code",
   "execution_count": null,
   "metadata": {
    "colab": {
     "base_uri": "https://localhost:8080/",
     "height": 35
    },
    "executionInfo": {
     "elapsed": 34,
     "status": "ok",
     "timestamp": 1722403581841,
     "user": {
      "displayName": "Sudarshanan Raghavan",
      "userId": "18093698647292025641"
     },
     "user_tz": -330
    },
    "id": "UbZIHVrnE2Yw",
    "outputId": "e96f4d36-e39c-4faf-e469-5795b0fe2982"
   },
   "outputs": [
    {
     "data": {
      "application/vnd.google.colaboratory.intrinsic+json": {
       "type": "string"
      },
      "text/plain": [
       "'HelloThere!'"
      ]
     },
     "execution_count": 205,
     "metadata": {},
     "output_type": "execute_result"
    }
   ],
   "source": [
    "str_1 + str_2"
   ]
  },
  {
   "cell_type": "code",
   "execution_count": null,
   "metadata": {
    "colab": {
     "base_uri": "https://localhost:8080/",
     "height": 35
    },
    "executionInfo": {
     "elapsed": 34,
     "status": "ok",
     "timestamp": 1722403581841,
     "user": {
      "displayName": "Sudarshanan Raghavan",
      "userId": "18093698647292025641"
     },
     "user_tz": -330
    },
    "id": "pcCz4dW9E5KP",
    "outputId": "0df64663-3f3d-4c4a-b18f-5f5c7fb0c771"
   },
   "outputs": [
    {
     "data": {
      "application/vnd.google.colaboratory.intrinsic+json": {
       "type": "string"
      },
      "text/plain": [
       "'Hello There!'"
      ]
     },
     "execution_count": 206,
     "metadata": {},
     "output_type": "execute_result"
    }
   ],
   "source": [
    "str_1 + ' ' + str_2"
   ]
  },
  {
   "cell_type": "markdown",
   "metadata": {
    "id": "mFiLxhebHiJi"
   },
   "source": [
    "Notice that we have used the `+` operator to add numbers and similarly to perform concatenation, that is, joining two strings. This phenomenon where we are able to define custom behaviors for operators when applied to objects of our own classes is called **operator overloading**. In other words, operator overloading lets you teach Python what to do when you use math symbols like `+`, `*` with your own special objects."
   ]
  },
  {
   "cell_type": "markdown",
   "metadata": {
    "id": "MNP9GsNFHteC"
   },
   "source": [
    "### Example\n",
    "The `-` operator"
   ]
  },
  {
   "cell_type": "code",
   "execution_count": null,
   "metadata": {
    "colab": {
     "base_uri": "https://localhost:8080/"
    },
    "executionInfo": {
     "elapsed": 33,
     "status": "ok",
     "timestamp": 1722403581841,
     "user": {
      "displayName": "Sudarshanan Raghavan",
      "userId": "18093698647292025641"
     },
     "user_tz": -330
    },
    "id": "tz5feTzeECt6",
    "outputId": "0fe40b58-c50e-40b4-85d9-de5648b510ec"
   },
   "outputs": [
    {
     "data": {
      "text/plain": [
       "2"
      ]
     },
     "execution_count": 207,
     "metadata": {},
     "output_type": "execute_result"
    }
   ],
   "source": [
    "3 - 1"
   ]
  },
  {
   "cell_type": "code",
   "execution_count": null,
   "metadata": {
    "colab": {
     "base_uri": "https://localhost:8080/"
    },
    "executionInfo": {
     "elapsed": 31,
     "status": "ok",
     "timestamp": 1722403581841,
     "user": {
      "displayName": "Sudarshanan Raghavan",
      "userId": "18093698647292025641"
     },
     "user_tz": -330
    },
    "id": "YlwO3TjfECt7",
    "outputId": "a3379463-0743-4e8e-81a5-25643b4965d6"
   },
   "outputs": [
    {
     "data": {
      "text/plain": [
       "70"
      ]
     },
     "execution_count": 208,
     "metadata": {},
     "output_type": "execute_result"
    }
   ],
   "source": [
    "100 - 30"
   ]
  },
  {
   "cell_type": "code",
   "execution_count": null,
   "metadata": {
    "id": "LaganR5jECt7"
   },
   "outputs": [],
   "source": [
    "x = 25\n",
    "y = 4"
   ]
  },
  {
   "cell_type": "code",
   "execution_count": null,
   "metadata": {
    "colab": {
     "base_uri": "https://localhost:8080/"
    },
    "executionInfo": {
     "elapsed": 30,
     "status": "ok",
     "timestamp": 1722403581841,
     "user": {
      "displayName": "Sudarshanan Raghavan",
      "userId": "18093698647292025641"
     },
     "user_tz": -330
    },
    "id": "hnzlBfV0ECt7",
    "outputId": "da06a200-ab04-4e44-8920-cd48fa03def6"
   },
   "outputs": [
    {
     "data": {
      "text/plain": [
       "21"
      ]
     },
     "execution_count": 210,
     "metadata": {},
     "output_type": "execute_result"
    }
   ],
   "source": [
    "diff = x - y\n",
    "diff"
   ]
  },
  {
   "cell_type": "code",
   "execution_count": null,
   "metadata": {
    "id": "eh78LnPLECt7"
   },
   "outputs": [],
   "source": [
    "x = 3.4\n",
    "y = 2"
   ]
  },
  {
   "cell_type": "code",
   "execution_count": null,
   "metadata": {
    "colab": {
     "base_uri": "https://localhost:8080/"
    },
    "executionInfo": {
     "elapsed": 28,
     "status": "ok",
     "timestamp": 1722403581841,
     "user": {
      "displayName": "Sudarshanan Raghavan",
      "userId": "18093698647292025641"
     },
     "user_tz": -330
    },
    "id": "Chcg2YCXECt7",
    "outputId": "19b31a9e-a014-479b-a861-f2fb6c9c0b3c"
   },
   "outputs": [
    {
     "data": {
      "text/plain": [
       "1.4"
      ]
     },
     "execution_count": 212,
     "metadata": {},
     "output_type": "execute_result"
    }
   ],
   "source": [
    "diff = x - y\n",
    "diff"
   ]
  },
  {
   "cell_type": "code",
   "execution_count": null,
   "metadata": {
    "id": "QGnu0s3dECt8"
   },
   "outputs": [],
   "source": [
    "x = 10\n",
    "y = 3.8"
   ]
  },
  {
   "cell_type": "code",
   "execution_count": null,
   "metadata": {
    "colab": {
     "base_uri": "https://localhost:8080/"
    },
    "executionInfo": {
     "elapsed": 27,
     "status": "ok",
     "timestamp": 1722403581841,
     "user": {
      "displayName": "Sudarshanan Raghavan",
      "userId": "18093698647292025641"
     },
     "user_tz": -330
    },
    "id": "4Y6GB_sRECt8",
    "outputId": "0f7b2808-4c6f-482c-d86f-3d6a243e4baa"
   },
   "outputs": [
    {
     "data": {
      "text/plain": [
       "6.2"
      ]
     },
     "execution_count": 214,
     "metadata": {},
     "output_type": "execute_result"
    }
   ],
   "source": [
    "diff = x - y\n",
    "diff"
   ]
  },
  {
   "cell_type": "code",
   "execution_count": null,
   "metadata": {
    "id": "r4B11u1JECt8"
   },
   "outputs": [],
   "source": [
    "my_str = 'a'\n",
    "my_int = 2"
   ]
  },
  {
   "cell_type": "code",
   "execution_count": null,
   "metadata": {
    "id": "kPvaoQf7ECt8"
   },
   "outputs": [],
   "source": [
    "# diff = my_str - my_int\n",
    "# diff"
   ]
  },
  {
   "cell_type": "code",
   "execution_count": null,
   "metadata": {
    "id": "9m7jzeuDECt8"
   },
   "outputs": [],
   "source": [
    "# my_str - 5.0"
   ]
  },
  {
   "cell_type": "code",
   "execution_count": null,
   "metadata": {
    "id": "DXSU5pPFECt9"
   },
   "outputs": [],
   "source": [
    "str_1 = 'a'\n",
    "str_2 = 'b'"
   ]
  },
  {
   "cell_type": "code",
   "execution_count": null,
   "metadata": {
    "id": "pKaFd8IsECt9"
   },
   "outputs": [],
   "source": [
    "# str_1 - str_2"
   ]
  },
  {
   "cell_type": "markdown",
   "metadata": {
    "id": "tmefvDXdSb4j"
   },
   "source": [
    "### Example\n",
    "The `*` operator"
   ]
  },
  {
   "cell_type": "code",
   "execution_count": null,
   "metadata": {
    "colab": {
     "base_uri": "https://localhost:8080/"
    },
    "executionInfo": {
     "elapsed": 26,
     "status": "ok",
     "timestamp": 1722403581842,
     "user": {
      "displayName": "Sudarshanan Raghavan",
      "userId": "18093698647292025641"
     },
     "user_tz": -330
    },
    "id": "RZY5GJK9Shne",
    "outputId": "97a5db56-563a-444b-f805-2ef5ece063de"
   },
   "outputs": [
    {
     "data": {
      "text/plain": [
       "4"
      ]
     },
     "execution_count": 220,
     "metadata": {},
     "output_type": "execute_result"
    }
   ],
   "source": [
    "2 * 2"
   ]
  },
  {
   "cell_type": "code",
   "execution_count": null,
   "metadata": {
    "colab": {
     "base_uri": "https://localhost:8080/"
    },
    "executionInfo": {
     "elapsed": 25,
     "status": "ok",
     "timestamp": 1722403581842,
     "user": {
      "displayName": "Sudarshanan Raghavan",
      "userId": "18093698647292025641"
     },
     "user_tz": -330
    },
    "id": "RMl0dbxmS6mR",
    "outputId": "5c6464c1-d93a-4c98-f7cc-1481b811a81d"
   },
   "outputs": [
    {
     "data": {
      "text/plain": [
       "-3.63"
      ]
     },
     "execution_count": 221,
     "metadata": {},
     "output_type": "execute_result"
    }
   ],
   "source": [
    "3.3 * -1.1"
   ]
  },
  {
   "cell_type": "code",
   "execution_count": null,
   "metadata": {
    "id": "TSo2yfpASnPg"
   },
   "outputs": [],
   "source": [
    "x = 14\n",
    "y = 3"
   ]
  },
  {
   "cell_type": "code",
   "execution_count": null,
   "metadata": {
    "colab": {
     "base_uri": "https://localhost:8080/"
    },
    "executionInfo": {
     "elapsed": 23,
     "status": "ok",
     "timestamp": 1722403581842,
     "user": {
      "displayName": "Sudarshanan Raghavan",
      "userId": "18093698647292025641"
     },
     "user_tz": -330
    },
    "id": "1U-F2XznStIx",
    "outputId": "e41d30fe-10b3-4306-8a1a-aef002b18232"
   },
   "outputs": [
    {
     "data": {
      "text/plain": [
       "42"
      ]
     },
     "execution_count": 223,
     "metadata": {},
     "output_type": "execute_result"
    }
   ],
   "source": [
    "prod = x * y\n",
    "prod"
   ]
  },
  {
   "cell_type": "code",
   "execution_count": null,
   "metadata": {
    "id": "sq-gEA_bSv9d"
   },
   "outputs": [],
   "source": [
    "x = 0.4\n",
    "y = 1.6"
   ]
  },
  {
   "cell_type": "code",
   "execution_count": null,
   "metadata": {
    "colab": {
     "base_uri": "https://localhost:8080/"
    },
    "executionInfo": {
     "elapsed": 22,
     "status": "ok",
     "timestamp": 1722403581842,
     "user": {
      "displayName": "Sudarshanan Raghavan",
      "userId": "18093698647292025641"
     },
     "user_tz": -330
    },
    "id": "C1L2L7dXTE4z",
    "outputId": "c8f49bb6-44cb-4329-8542-0bfe8e9abf8e"
   },
   "outputs": [
    {
     "data": {
      "text/plain": [
       "0.6400000000000001"
      ]
     },
     "execution_count": 225,
     "metadata": {},
     "output_type": "execute_result"
    }
   ],
   "source": [
    "prod = x * y\n",
    "prod"
   ]
  },
  {
   "cell_type": "code",
   "execution_count": null,
   "metadata": {
    "colab": {
     "base_uri": "https://localhost:8080/"
    },
    "executionInfo": {
     "elapsed": 21,
     "status": "ok",
     "timestamp": 1722403581842,
     "user": {
      "displayName": "Sudarshanan Raghavan",
      "userId": "18093698647292025641"
     },
     "user_tz": -330
    },
    "id": "3g9LTRc2tdSl",
    "outputId": "f391d28b-a04b-43ac-8f8c-6d08d8a93a4c"
   },
   "outputs": [
    {
     "data": {
      "text/plain": [
       "float"
      ]
     },
     "execution_count": 226,
     "metadata": {},
     "output_type": "execute_result"
    }
   ],
   "source": [
    "type(prod)"
   ]
  },
  {
   "cell_type": "code",
   "execution_count": null,
   "metadata": {
    "id": "IBvKI48KTM2J"
   },
   "outputs": [],
   "source": [
    "my_str = 'a'\n",
    "my_int = 5"
   ]
  },
  {
   "cell_type": "code",
   "execution_count": null,
   "metadata": {
    "id": "dlKQC-PyTTVY"
   },
   "outputs": [],
   "source": [
    "prod = my_str * my_int"
   ]
  },
  {
   "cell_type": "code",
   "execution_count": null,
   "metadata": {
    "colab": {
     "base_uri": "https://localhost:8080/",
     "height": 35
    },
    "executionInfo": {
     "elapsed": 19,
     "status": "ok",
     "timestamp": 1722403581842,
     "user": {
      "displayName": "Sudarshanan Raghavan",
      "userId": "18093698647292025641"
     },
     "user_tz": -330
    },
    "id": "puC-ee9fTWwz",
    "outputId": "fc7a1cfb-3322-49d2-93f6-edb155c9da59"
   },
   "outputs": [
    {
     "data": {
      "application/vnd.google.colaboratory.intrinsic+json": {
       "type": "string"
      },
      "text/plain": [
       "'aaaaa'"
      ]
     },
     "execution_count": 229,
     "metadata": {},
     "output_type": "execute_result"
    }
   ],
   "source": [
    "prod"
   ]
  },
  {
   "cell_type": "markdown",
   "metadata": {
    "id": "dZevLaDJTYdc"
   },
   "source": [
    "Note that in Python, you can perform multiplication between a string and an integer. When you multiply a string by an integer, it creates a new string by repeating the original string multiple times. However, if you try to multiply a string by a non-integer, such as a float, you will encounter an error."
   ]
  },
  {
   "cell_type": "code",
   "execution_count": null,
   "metadata": {
    "id": "jTFc_LI4gdJr"
   },
   "outputs": [],
   "source": [
    "# 'hello' * 5.1"
   ]
  },
  {
   "cell_type": "code",
   "execution_count": null,
   "metadata": {
    "colab": {
     "base_uri": "https://localhost:8080/",
     "height": 35
    },
    "executionInfo": {
     "elapsed": 18,
     "status": "ok",
     "timestamp": 1722403581842,
     "user": {
      "displayName": "Sudarshanan Raghavan",
      "userId": "18093698647292025641"
     },
     "user_tz": -330
    },
    "id": "Mq9UYLsnT0fX",
    "outputId": "9a86daf2-2c28-460d-ea89-16077641a712"
   },
   "outputs": [
    {
     "data": {
      "application/vnd.google.colaboratory.intrinsic+json": {
       "type": "string"
      },
      "text/plain": [
       "'hellohellohellohellohello'"
      ]
     },
     "execution_count": 231,
     "metadata": {},
     "output_type": "execute_result"
    }
   ],
   "source": [
    "'hello' * 5"
   ]
  },
  {
   "cell_type": "code",
   "execution_count": null,
   "metadata": {
    "colab": {
     "base_uri": "https://localhost:8080/",
     "height": 35
    },
    "executionInfo": {
     "elapsed": 18,
     "status": "ok",
     "timestamp": 1722403581842,
     "user": {
      "displayName": "Sudarshanan Raghavan",
      "userId": "18093698647292025641"
     },
     "user_tz": -330
    },
    "id": "T6GTO-2AT6D3",
    "outputId": "207a6386-4d3a-4925-b6d6-784aba25fd01"
   },
   "outputs": [
    {
     "data": {
      "application/vnd.google.colaboratory.intrinsic+json": {
       "type": "string"
      },
      "text/plain": [
       "''"
      ]
     },
     "execution_count": 232,
     "metadata": {},
     "output_type": "execute_result"
    }
   ],
   "source": [
    "'hi' * 0"
   ]
  },
  {
   "cell_type": "markdown",
   "metadata": {
    "id": "TxzRtqVvtigJ"
   },
   "source": [
    "###Example\n",
    "The `**` operator"
   ]
  },
  {
   "cell_type": "code",
   "execution_count": null,
   "metadata": {
    "colab": {
     "base_uri": "https://localhost:8080/"
    },
    "executionInfo": {
     "elapsed": 17,
     "status": "ok",
     "timestamp": 1722403581842,
     "user": {
      "displayName": "Sudarshanan Raghavan",
      "userId": "18093698647292025641"
     },
     "user_tz": -330
    },
    "id": "FxYDB_oSZNrX",
    "outputId": "81a4a411-fbeb-40ff-8ba3-b2aa0415c2df"
   },
   "outputs": [
    {
     "data": {
      "text/plain": [
       "2"
      ]
     },
     "execution_count": 233,
     "metadata": {},
     "output_type": "execute_result"
    }
   ],
   "source": [
    "2 ** 1"
   ]
  },
  {
   "cell_type": "code",
   "execution_count": null,
   "metadata": {
    "colab": {
     "base_uri": "https://localhost:8080/"
    },
    "executionInfo": {
     "elapsed": 1037,
     "status": "ok",
     "timestamp": 1722403582864,
     "user": {
      "displayName": "Sudarshanan Raghavan",
      "userId": "18093698647292025641"
     },
     "user_tz": -330
    },
    "id": "H3DApSXyZQ1S",
    "outputId": "2eec7947-d3ec-405e-9cf0-b5ec76ce1b09"
   },
   "outputs": [
    {
     "data": {
      "text/plain": [
       "16"
      ]
     },
     "execution_count": 234,
     "metadata": {},
     "output_type": "execute_result"
    }
   ],
   "source": [
    "4 ** 2"
   ]
  },
  {
   "cell_type": "code",
   "execution_count": null,
   "metadata": {
    "id": "bJj8vLSyZTRj"
   },
   "outputs": [],
   "source": [
    "x = 9\n",
    "y = 2"
   ]
  },
  {
   "cell_type": "code",
   "execution_count": null,
   "metadata": {
    "id": "wgyCKGeyZV39"
   },
   "outputs": [],
   "source": [
    "res = x ** y"
   ]
  },
  {
   "cell_type": "code",
   "execution_count": null,
   "metadata": {
    "colab": {
     "base_uri": "https://localhost:8080/"
    },
    "executionInfo": {
     "elapsed": 76,
     "status": "ok",
     "timestamp": 1722403582864,
     "user": {
      "displayName": "Sudarshanan Raghavan",
      "userId": "18093698647292025641"
     },
     "user_tz": -330
    },
    "id": "1mZLdcGQZa0-",
    "outputId": "1f41f6de-f3e9-4c31-96f2-48a5c58bf077"
   },
   "outputs": [
    {
     "data": {
      "text/plain": [
       "81"
      ]
     },
     "execution_count": 237,
     "metadata": {},
     "output_type": "execute_result"
    }
   ],
   "source": [
    "res"
   ]
  },
  {
   "cell_type": "code",
   "execution_count": null,
   "metadata": {
    "colab": {
     "base_uri": "https://localhost:8080/"
    },
    "executionInfo": {
     "elapsed": 74,
     "status": "ok",
     "timestamp": 1722403582864,
     "user": {
      "displayName": "Sudarshanan Raghavan",
      "userId": "18093698647292025641"
     },
     "user_tz": -330
    },
    "id": "EqFcaWnEZf7B",
    "outputId": "495a84c6-e0ad-4b1b-9126-741fd89f9e0c"
   },
   "outputs": [
    {
     "data": {
      "text/plain": [
       "8.0"
      ]
     },
     "execution_count": 238,
     "metadata": {},
     "output_type": "execute_result"
    }
   ],
   "source": [
    "2.0 ** 3"
   ]
  },
  {
   "cell_type": "code",
   "execution_count": null,
   "metadata": {
    "id": "TWC0KCGfZj85"
   },
   "outputs": [],
   "source": [
    "x = 5.3\n",
    "y = 4"
   ]
  },
  {
   "cell_type": "code",
   "execution_count": null,
   "metadata": {
    "id": "chaE6_aYZqP7"
   },
   "outputs": [],
   "source": [
    "res = x ** y"
   ]
  },
  {
   "cell_type": "code",
   "execution_count": null,
   "metadata": {
    "colab": {
     "base_uri": "https://localhost:8080/"
    },
    "executionInfo": {
     "elapsed": 70,
     "status": "ok",
     "timestamp": 1722403582864,
     "user": {
      "displayName": "Sudarshanan Raghavan",
      "userId": "18093698647292025641"
     },
     "user_tz": -330
    },
    "id": "4E0FDzk4ZtDd",
    "outputId": "50d33dd3-9b89-49bd-d5d1-5a05f6236bcd"
   },
   "outputs": [
    {
     "data": {
      "text/plain": [
       "789.0480999999999"
      ]
     },
     "execution_count": 241,
     "metadata": {},
     "output_type": "execute_result"
    }
   ],
   "source": [
    "res"
   ]
  },
  {
   "cell_type": "code",
   "execution_count": null,
   "metadata": {
    "colab": {
     "base_uri": "https://localhost:8080/"
    },
    "executionInfo": {
     "elapsed": 69,
     "status": "ok",
     "timestamp": 1722403582864,
     "user": {
      "displayName": "Sudarshanan Raghavan",
      "userId": "18093698647292025641"
     },
     "user_tz": -330
    },
    "id": "UifzrkPXZvi6",
    "outputId": "49cf1c6e-4a45-4e6e-e872-1cee17e3b738"
   },
   "outputs": [
    {
     "data": {
      "text/plain": [
       "2.0"
      ]
     },
     "execution_count": 242,
     "metadata": {},
     "output_type": "execute_result"
    }
   ],
   "source": [
    "4 ** 0.5"
   ]
  },
  {
   "cell_type": "code",
   "execution_count": null,
   "metadata": {
    "id": "0V5xNdIPZ15Y"
   },
   "outputs": [],
   "source": [
    "x = 10\n",
    "y = 0.33"
   ]
  },
  {
   "cell_type": "code",
   "execution_count": null,
   "metadata": {
    "colab": {
     "base_uri": "https://localhost:8080/"
    },
    "executionInfo": {
     "elapsed": 67,
     "status": "ok",
     "timestamp": 1722403582864,
     "user": {
      "displayName": "Sudarshanan Raghavan",
      "userId": "18093698647292025641"
     },
     "user_tz": -330
    },
    "id": "JLdvsnKvZ7-d",
    "outputId": "3bcd5773-3523-4434-d717-c001e69148f8"
   },
   "outputs": [
    {
     "data": {
      "text/plain": [
       "2.137962089502232"
      ]
     },
     "execution_count": 244,
     "metadata": {},
     "output_type": "execute_result"
    }
   ],
   "source": [
    "res = x ** y\n",
    "res"
   ]
  },
  {
   "cell_type": "code",
   "execution_count": null,
   "metadata": {
    "id": "G8rMddAoaAm_"
   },
   "outputs": [],
   "source": [
    "my_str = 'a'\n",
    "my_int = 2"
   ]
  },
  {
   "cell_type": "code",
   "execution_count": null,
   "metadata": {
    "id": "Hr-6EvwLaF5L"
   },
   "outputs": [],
   "source": [
    "# my_str ** my_int"
   ]
  },
  {
   "cell_type": "markdown",
   "metadata": {
    "id": "QFpc-qqcgdJu"
   },
   "source": [
    "### Quiz\n",
    "Consider an arithmetic progression (AP) and a geometric progression (GP). For both the AP and the GP, suppose that the first term is $a=2$. For the AP, suppose that the common difference is $d=3$. For the GP, suppose that the common ratio is $r=3$. Find the sum of the sixth term of the AP and the third term of the GP.\n",
    "\n",
    "**Hint:** Formula for the $n_{th}$ term of an AP is $a_{n}=a+(n-1)d$ and the formula for the $n_{th}$ term of a GP is $a_{n}=ar^{n-1}$."
   ]
  },
  {
   "cell_type": "code",
   "execution_count": null,
   "metadata": {
    "colab": {
     "base_uri": "https://localhost:8080/"
    },
    "executionInfo": {
     "elapsed": 66,
     "status": "ok",
     "timestamp": 1722403582864,
     "user": {
      "displayName": "Sudarshanan Raghavan",
      "userId": "18093698647292025641"
     },
     "user_tz": -330
    },
    "id": "g5VhEuQiLdmn",
    "outputId": "f9fbb317-df97-4c00-c234-120d47b05f83"
   },
   "outputs": [
    {
     "data": {
      "text/plain": [
       "35"
      ]
     },
     "execution_count": 247,
     "metadata": {},
     "output_type": "execute_result"
    }
   ],
   "source": [
    "a = 2\n",
    "d = 3\n",
    "r = 3\n",
    "nap = 6\n",
    "ngp = 3\n",
    "a + (nap - 1) * d + a * (r**(ngp - 1))"
   ]
  },
  {
   "cell_type": "markdown",
   "metadata": {
    "id": "AnAKnH-jtviD"
   },
   "source": [
    "### Example\n",
    "The `/` operator"
   ]
  },
  {
   "cell_type": "code",
   "execution_count": null,
   "metadata": {
    "colab": {
     "base_uri": "https://localhost:8080/"
    },
    "executionInfo": {
     "elapsed": 64,
     "status": "ok",
     "timestamp": 1722403582864,
     "user": {
      "displayName": "Sudarshanan Raghavan",
      "userId": "18093698647292025641"
     },
     "user_tz": -330
    },
    "id": "M4KzZQBfbEpy",
    "outputId": "6f30889e-bf16-4016-f9d2-5b7ac6f759bb"
   },
   "outputs": [
    {
     "data": {
      "text/plain": [
       "2.0"
      ]
     },
     "execution_count": 248,
     "metadata": {},
     "output_type": "execute_result"
    }
   ],
   "source": [
    "4 / 2"
   ]
  },
  {
   "cell_type": "code",
   "execution_count": null,
   "metadata": {
    "colab": {
     "base_uri": "https://localhost:8080/"
    },
    "executionInfo": {
     "elapsed": 63,
     "status": "ok",
     "timestamp": 1722403582864,
     "user": {
      "displayName": "Sudarshanan Raghavan",
      "userId": "18093698647292025641"
     },
     "user_tz": -330
    },
    "id": "0OqFOshgbG-d",
    "outputId": "fef67b99-e7ac-4d88-d2ad-38376ca7481c"
   },
   "outputs": [
    {
     "data": {
      "text/plain": [
       "4.0"
      ]
     },
     "execution_count": 249,
     "metadata": {},
     "output_type": "execute_result"
    }
   ],
   "source": [
    "12.0 / 3"
   ]
  },
  {
   "cell_type": "code",
   "execution_count": null,
   "metadata": {
    "id": "PThk7_S-cogB"
   },
   "outputs": [],
   "source": [
    "# 4 / 0"
   ]
  },
  {
   "cell_type": "code",
   "execution_count": null,
   "metadata": {
    "id": "zFG3qqf2broN"
   },
   "outputs": [],
   "source": [
    "x = 10\n",
    "y = 2"
   ]
  },
  {
   "cell_type": "code",
   "execution_count": null,
   "metadata": {
    "colab": {
     "base_uri": "https://localhost:8080/"
    },
    "executionInfo": {
     "elapsed": 62,
     "status": "ok",
     "timestamp": 1722403582865,
     "user": {
      "displayName": "Sudarshanan Raghavan",
      "userId": "18093698647292025641"
     },
     "user_tz": -330
    },
    "id": "tPZalVEQbwvi",
    "outputId": "47e57691-3762-469e-f0c1-9d2afcb80cdc"
   },
   "outputs": [
    {
     "data": {
      "text/plain": [
       "5.0"
      ]
     },
     "execution_count": 252,
     "metadata": {},
     "output_type": "execute_result"
    }
   ],
   "source": [
    "quot = x / y\n",
    "quot"
   ]
  },
  {
   "cell_type": "code",
   "execution_count": null,
   "metadata": {
    "id": "76Esh3-Gb2gN"
   },
   "outputs": [],
   "source": [
    "my_str = 'a'\n",
    "my_int = 2"
   ]
  },
  {
   "cell_type": "code",
   "execution_count": null,
   "metadata": {
    "id": "YHsZF1WNcVdz"
   },
   "outputs": [],
   "source": [
    "# my_str / my_int"
   ]
  },
  {
   "cell_type": "code",
   "execution_count": null,
   "metadata": {
    "colab": {
     "base_uri": "https://localhost:8080/"
    },
    "executionInfo": {
     "elapsed": 61,
     "status": "ok",
     "timestamp": 1722403582865,
     "user": {
      "displayName": "Sudarshanan Raghavan",
      "userId": "18093698647292025641"
     },
     "user_tz": -330
    },
    "id": "QGdc-EePdYiP",
    "outputId": "27c5eec6-5658-49b9-98fc-0946c056c261"
   },
   "outputs": [
    {
     "data": {
      "text/plain": [
       "2"
      ]
     },
     "execution_count": 255,
     "metadata": {},
     "output_type": "execute_result"
    }
   ],
   "source": [
    "5 // 2"
   ]
  },
  {
   "cell_type": "markdown",
   "metadata": {
    "id": "0biTLU4YdjwC"
   },
   "source": [
    "Notice that we have used `//` instead of `/` here.The `//` operator in Python is used for floor division. It divides the left operand by the right operand and returns the largest integer that is less than or equal to the result."
   ]
  },
  {
   "cell_type": "code",
   "execution_count": null,
   "metadata": {
    "id": "Q9kNmbFGd92R"
   },
   "outputs": [],
   "source": [
    "x = 20\n",
    "y = 6"
   ]
  },
  {
   "cell_type": "code",
   "execution_count": null,
   "metadata": {
    "colab": {
     "base_uri": "https://localhost:8080/"
    },
    "executionInfo": {
     "elapsed": 59,
     "status": "ok",
     "timestamp": 1722403582865,
     "user": {
      "displayName": "Sudarshanan Raghavan",
      "userId": "18093698647292025641"
     },
     "user_tz": -330
    },
    "id": "X32hl0rUeHZt",
    "outputId": "4544a4e7-4241-48f6-98a5-fc659c493efe"
   },
   "outputs": [
    {
     "data": {
      "text/plain": [
       "3.3333333333333335"
      ]
     },
     "execution_count": 257,
     "metadata": {},
     "output_type": "execute_result"
    }
   ],
   "source": [
    "quot = x / y\n",
    "quot"
   ]
  },
  {
   "cell_type": "code",
   "execution_count": null,
   "metadata": {
    "colab": {
     "base_uri": "https://localhost:8080/"
    },
    "executionInfo": {
     "elapsed": 57,
     "status": "ok",
     "timestamp": 1722403582865,
     "user": {
      "displayName": "Sudarshanan Raghavan",
      "userId": "18093698647292025641"
     },
     "user_tz": -330
    },
    "id": "t9Ry-3lBdbj7",
    "outputId": "28652441-a226-42c9-afab-0069b811766c"
   },
   "outputs": [
    {
     "data": {
      "text/plain": [
       "3"
      ]
     },
     "execution_count": 258,
     "metadata": {},
     "output_type": "execute_result"
    }
   ],
   "source": [
    "quot = x // y\n",
    "quot"
   ]
  },
  {
   "cell_type": "markdown",
   "metadata": {
    "id": "5A6hr4RTfXai"
   },
   "source": [
    "### Example\n",
    "The `%` operator"
   ]
  },
  {
   "cell_type": "code",
   "execution_count": null,
   "metadata": {
    "colab": {
     "base_uri": "https://localhost:8080/"
    },
    "executionInfo": {
     "elapsed": 54,
     "status": "ok",
     "timestamp": 1722403582865,
     "user": {
      "displayName": "Sudarshanan Raghavan",
      "userId": "18093698647292025641"
     },
     "user_tz": -330
    },
    "id": "SYzvWpttFOjs",
    "outputId": "f804adca-76ef-4e41-deb0-76f829e71bb4"
   },
   "outputs": [
    {
     "data": {
      "text/plain": [
       "1"
      ]
     },
     "execution_count": 259,
     "metadata": {},
     "output_type": "execute_result"
    }
   ],
   "source": [
    "5 % 2"
   ]
  },
  {
   "cell_type": "code",
   "execution_count": null,
   "metadata": {
    "colab": {
     "base_uri": "https://localhost:8080/"
    },
    "executionInfo": {
     "elapsed": 53,
     "status": "ok",
     "timestamp": 1722403582865,
     "user": {
      "displayName": "Sudarshanan Raghavan",
      "userId": "18093698647292025641"
     },
     "user_tz": -330
    },
    "id": "wdtfqO5hFOjt",
    "outputId": "004f26a4-17a7-4ee8-b091-ac0b937256b2"
   },
   "outputs": [
    {
     "data": {
      "text/plain": [
       "0"
      ]
     },
     "execution_count": 260,
     "metadata": {},
     "output_type": "execute_result"
    }
   ],
   "source": [
    "40 % 2"
   ]
  },
  {
   "cell_type": "code",
   "execution_count": null,
   "metadata": {
    "id": "bgAhDOYnFOjt"
   },
   "outputs": [],
   "source": [
    "x = 14\n",
    "y = 3"
   ]
  },
  {
   "cell_type": "code",
   "execution_count": null,
   "metadata": {
    "colab": {
     "base_uri": "https://localhost:8080/"
    },
    "executionInfo": {
     "elapsed": 51,
     "status": "ok",
     "timestamp": 1722403582865,
     "user": {
      "displayName": "Sudarshanan Raghavan",
      "userId": "18093698647292025641"
     },
     "user_tz": -330
    },
    "id": "fyysoByxFOjt",
    "outputId": "02ab5598-fc46-44af-c3d1-a820f8c06209"
   },
   "outputs": [
    {
     "data": {
      "text/plain": [
       "2"
      ]
     },
     "execution_count": 262,
     "metadata": {},
     "output_type": "execute_result"
    }
   ],
   "source": [
    "rem = x % y\n",
    "rem"
   ]
  },
  {
   "cell_type": "code",
   "execution_count": null,
   "metadata": {
    "id": "PsNLxR9sFOjt"
   },
   "outputs": [],
   "source": [
    "x = 13.2\n",
    "y = 4"
   ]
  },
  {
   "cell_type": "code",
   "execution_count": null,
   "metadata": {
    "colab": {
     "base_uri": "https://localhost:8080/"
    },
    "executionInfo": {
     "elapsed": 50,
     "status": "ok",
     "timestamp": 1722403582865,
     "user": {
      "displayName": "Sudarshanan Raghavan",
      "userId": "18093698647292025641"
     },
     "user_tz": -330
    },
    "id": "FVm-yKLhFOjt",
    "outputId": "b2daade1-e586-4ef6-c5be-0014584ae0a7"
   },
   "outputs": [
    {
     "data": {
      "text/plain": [
       "1.1999999999999993"
      ]
     },
     "execution_count": 264,
     "metadata": {},
     "output_type": "execute_result"
    }
   ],
   "source": [
    "rem = x % y\n",
    "rem"
   ]
  },
  {
   "cell_type": "code",
   "execution_count": null,
   "metadata": {
    "id": "Z3ccvK2kFOjt"
   },
   "outputs": [],
   "source": [
    "x = 1444\n",
    "y = 12"
   ]
  },
  {
   "cell_type": "code",
   "execution_count": null,
   "metadata": {
    "colab": {
     "base_uri": "https://localhost:8080/"
    },
    "executionInfo": {
     "elapsed": 48,
     "status": "ok",
     "timestamp": 1722403582865,
     "user": {
      "displayName": "Sudarshanan Raghavan",
      "userId": "18093698647292025641"
     },
     "user_tz": -330
    },
    "id": "X4LygEmAFOjt",
    "outputId": "f95786cf-53e9-44bb-8ca9-853e52404c2a"
   },
   "outputs": [
    {
     "data": {
      "text/plain": [
       "4"
      ]
     },
     "execution_count": 266,
     "metadata": {},
     "output_type": "execute_result"
    }
   ],
   "source": [
    "x % y"
   ]
  },
  {
   "cell_type": "markdown",
   "metadata": {
    "id": "S0fG82EIjWT8"
   },
   "source": [
    "### Example\n",
    "Equality operator"
   ]
  },
  {
   "cell_type": "code",
   "execution_count": null,
   "metadata": {
    "colab": {
     "base_uri": "https://localhost:8080/"
    },
    "executionInfo": {
     "elapsed": 47,
     "status": "ok",
     "timestamp": 1722403582865,
     "user": {
      "displayName": "Sudarshanan Raghavan",
      "userId": "18093698647292025641"
     },
     "user_tz": -330
    },
    "id": "LQKMA25Fjsnp",
    "outputId": "a281f141-8435-4a8e-ba18-972b6267b507"
   },
   "outputs": [
    {
     "data": {
      "text/plain": [
       "True"
      ]
     },
     "execution_count": 267,
     "metadata": {},
     "output_type": "execute_result"
    }
   ],
   "source": [
    "1 == 1"
   ]
  },
  {
   "cell_type": "code",
   "execution_count": null,
   "metadata": {
    "colab": {
     "base_uri": "https://localhost:8080/"
    },
    "executionInfo": {
     "elapsed": 46,
     "status": "ok",
     "timestamp": 1722403582865,
     "user": {
      "displayName": "Sudarshanan Raghavan",
      "userId": "18093698647292025641"
     },
     "user_tz": -330
    },
    "id": "LOIq0mvklHd5",
    "outputId": "133fb7d4-3a46-47f3-c6ca-3c8e3745ee9d"
   },
   "outputs": [
    {
     "data": {
      "text/plain": [
       "True"
      ]
     },
     "execution_count": 268,
     "metadata": {},
     "output_type": "execute_result"
    }
   ],
   "source": [
    "'a' == 'a'"
   ]
  },
  {
   "cell_type": "code",
   "execution_count": null,
   "metadata": {
    "colab": {
     "base_uri": "https://localhost:8080/"
    },
    "executionInfo": {
     "elapsed": 45,
     "status": "ok",
     "timestamp": 1722403582865,
     "user": {
      "displayName": "Sudarshanan Raghavan",
      "userId": "18093698647292025641"
     },
     "user_tz": -330
    },
    "id": "91PnFI1wlSQ_",
    "outputId": "27387eef-2d63-462f-8d22-45fa5139b096"
   },
   "outputs": [
    {
     "data": {
      "text/plain": [
       "True"
      ]
     },
     "execution_count": 269,
     "metadata": {},
     "output_type": "execute_result"
    }
   ],
   "source": [
    "4 == 4.0"
   ]
  },
  {
   "cell_type": "code",
   "execution_count": null,
   "metadata": {
    "id": "w2L8wOD0lb-Y"
   },
   "outputs": [],
   "source": [
    "# 10 = 10"
   ]
  },
  {
   "cell_type": "code",
   "execution_count": null,
   "metadata": {
    "colab": {
     "base_uri": "https://localhost:8080/"
    },
    "executionInfo": {
     "elapsed": 43,
     "status": "ok",
     "timestamp": 1722403582865,
     "user": {
      "displayName": "Sudarshanan Raghavan",
      "userId": "18093698647292025641"
     },
     "user_tz": -330
    },
    "id": "BRUJ5tz5gdJy",
    "outputId": "fd8a5482-0f4b-464c-ad25-bd1be0fa00bf"
   },
   "outputs": [
    {
     "data": {
      "text/plain": [
       "True"
      ]
     },
     "execution_count": 271,
     "metadata": {},
     "output_type": "execute_result"
    }
   ],
   "source": [
    "30 - 20 == 1000 - 990"
   ]
  },
  {
   "cell_type": "markdown",
   "metadata": {
    "id": "0LumxCqSuqqj"
   },
   "source": [
    "### Example\n",
    "The following examples demonstrate the use of the symmetric inequality operator `!=` in Python, which checks if two values are not equal. If the values are not equal, the expression evaluates to `True`; otherwise, it evaluates to `False`."
   ]
  },
  {
   "cell_type": "code",
   "execution_count": null,
   "metadata": {
    "colab": {
     "base_uri": "https://localhost:8080/"
    },
    "executionInfo": {
     "elapsed": 42,
     "status": "ok",
     "timestamp": 1722403582865,
     "user": {
      "displayName": "Sudarshanan Raghavan",
      "userId": "18093698647292025641"
     },
     "user_tz": -330
    },
    "id": "DMxDOCZWwYA7",
    "outputId": "d6a62405-be6c-493f-bb5f-d2465deeb640"
   },
   "outputs": [
    {
     "data": {
      "text/plain": [
       "True"
      ]
     },
     "execution_count": 272,
     "metadata": {},
     "output_type": "execute_result"
    }
   ],
   "source": [
    "5 != 4"
   ]
  },
  {
   "cell_type": "code",
   "execution_count": null,
   "metadata": {
    "colab": {
     "base_uri": "https://localhost:8080/"
    },
    "executionInfo": {
     "elapsed": 41,
     "status": "ok",
     "timestamp": 1722403582865,
     "user": {
      "displayName": "Sudarshanan Raghavan",
      "userId": "18093698647292025641"
     },
     "user_tz": -330
    },
    "id": "NO2Rb1eewb6i",
    "outputId": "89c7866d-1f7c-4bea-ed9e-0a9c8aebfb09"
   },
   "outputs": [
    {
     "data": {
      "text/plain": [
       "False"
      ]
     },
     "execution_count": 273,
     "metadata": {},
     "output_type": "execute_result"
    }
   ],
   "source": [
    "10 != 100 / 10"
   ]
  },
  {
   "cell_type": "code",
   "execution_count": null,
   "metadata": {
    "colab": {
     "base_uri": "https://localhost:8080/"
    },
    "executionInfo": {
     "elapsed": 39,
     "status": "ok",
     "timestamp": 1722403582865,
     "user": {
      "displayName": "Sudarshanan Raghavan",
      "userId": "18093698647292025641"
     },
     "user_tz": -330
    },
    "id": "haDlM-TKwnRq",
    "outputId": "5481e38b-3567-46f7-c202-ea982b05fed7"
   },
   "outputs": [
    {
     "data": {
      "text/plain": [
       "True"
      ]
     },
     "execution_count": 274,
     "metadata": {},
     "output_type": "execute_result"
    }
   ],
   "source": [
    "'world' != 'w0rld'"
   ]
  },
  {
   "cell_type": "markdown",
   "metadata": {
    "id": "DeQj7cpZmhda"
   },
   "source": [
    "### Quiz\n",
    "Check whether `int(float(14.56))` and `44//3` are equal"
   ]
  },
  {
   "cell_type": "code",
   "execution_count": null,
   "metadata": {
    "colab": {
     "base_uri": "https://localhost:8080/"
    },
    "executionInfo": {
     "elapsed": 38,
     "status": "ok",
     "timestamp": 1722403582866,
     "user": {
      "displayName": "Sudarshanan Raghavan",
      "userId": "18093698647292025641"
     },
     "user_tz": -330
    },
    "id": "ATS3H-UzpNBL",
    "outputId": "e231e207-1bc2-4347-c232-75bdc0d555cc"
   },
   "outputs": [
    {
     "data": {
      "text/plain": [
       "True"
      ]
     },
     "execution_count": 275,
     "metadata": {},
     "output_type": "execute_result"
    }
   ],
   "source": [
    "int(float(14.56)) == 44//3"
   ]
  },
  {
   "cell_type": "markdown",
   "metadata": {
    "id": "F7jI0o1Iu6Fe"
   },
   "source": [
    "### Example\n",
    "Asymmetric inequalities"
   ]
  },
  {
   "cell_type": "code",
   "execution_count": null,
   "metadata": {
    "colab": {
     "base_uri": "https://localhost:8080/"
    },
    "executionInfo": {
     "elapsed": 37,
     "status": "ok",
     "timestamp": 1722403582866,
     "user": {
      "displayName": "Sudarshanan Raghavan",
      "userId": "18093698647292025641"
     },
     "user_tz": -330
    },
    "id": "27viVtkCpw5P",
    "outputId": "03ee1f17-235d-4419-c340-32c467b78c12"
   },
   "outputs": [
    {
     "data": {
      "text/plain": [
       "True"
      ]
     },
     "execution_count": 276,
     "metadata": {},
     "output_type": "execute_result"
    }
   ],
   "source": [
    "50 > 49"
   ]
  },
  {
   "cell_type": "code",
   "execution_count": null,
   "metadata": {
    "colab": {
     "base_uri": "https://localhost:8080/"
    },
    "executionInfo": {
     "elapsed": 34,
     "status": "ok",
     "timestamp": 1722403582866,
     "user": {
      "displayName": "Sudarshanan Raghavan",
      "userId": "18093698647292025641"
     },
     "user_tz": -330
    },
    "id": "_uuS1GWjp4IT",
    "outputId": "9b6c042a-480a-4004-bca4-374ea906131f"
   },
   "outputs": [
    {
     "data": {
      "text/plain": [
       "False"
      ]
     },
     "execution_count": 277,
     "metadata": {},
     "output_type": "execute_result"
    }
   ],
   "source": [
    "'a' > 'b'"
   ]
  },
  {
   "cell_type": "code",
   "execution_count": null,
   "metadata": {
    "colab": {
     "base_uri": "https://localhost:8080/"
    },
    "executionInfo": {
     "elapsed": 33,
     "status": "ok",
     "timestamp": 1722403582866,
     "user": {
      "displayName": "Sudarshanan Raghavan",
      "userId": "18093698647292025641"
     },
     "user_tz": -330
    },
    "id": "wOcLzfrmxRHP",
    "outputId": "af492df6-ff0f-40d3-e1dd-e0783cd39ffa"
   },
   "outputs": [
    {
     "data": {
      "text/plain": [
       "True"
      ]
     },
     "execution_count": 278,
     "metadata": {},
     "output_type": "execute_result"
    }
   ],
   "source": [
    "'b' > 'a'"
   ]
  },
  {
   "cell_type": "markdown",
   "metadata": {
    "id": "yad-4YBFxsRi"
   },
   "source": [
    "Note that in Python, when you compare characters, the comparison is based on their Unicode code points. You will gain more insight on comparisons based on lexicographical (dictionary) order in coming weeks."
   ]
  },
  {
   "cell_type": "code",
   "execution_count": null,
   "metadata": {
    "colab": {
     "base_uri": "https://localhost:8080/"
    },
    "executionInfo": {
     "elapsed": 31,
     "status": "ok",
     "timestamp": 1722403582866,
     "user": {
      "displayName": "Sudarshanan Raghavan",
      "userId": "18093698647292025641"
     },
     "user_tz": -330
    },
    "id": "zipeIx6Yx_8S",
    "outputId": "eaa6afc7-df79-4636-ed4c-7e0908992556"
   },
   "outputs": [
    {
     "data": {
      "text/plain": [
       "False"
      ]
     },
     "execution_count": 279,
     "metadata": {},
     "output_type": "execute_result"
    }
   ],
   "source": [
    "40.0 > 40"
   ]
  },
  {
   "cell_type": "code",
   "execution_count": null,
   "metadata": {
    "id": "I4aGlWcay1-o"
   },
   "outputs": [],
   "source": [
    "# 'a' > 65"
   ]
  },
  {
   "cell_type": "code",
   "execution_count": null,
   "metadata": {
    "colab": {
     "base_uri": "https://localhost:8080/"
    },
    "executionInfo": {
     "elapsed": 30,
     "status": "ok",
     "timestamp": 1722403582866,
     "user": {
      "displayName": "Sudarshanan Raghavan",
      "userId": "18093698647292025641"
     },
     "user_tz": -330
    },
    "id": "e0F5GHyq0YAv",
    "outputId": "4685a4f5-411e-4c72-b15c-ffbe3abc3763"
   },
   "outputs": [
    {
     "data": {
      "text/plain": [
       "False"
      ]
     },
     "execution_count": 281,
     "metadata": {},
     "output_type": "execute_result"
    }
   ],
   "source": [
    "100.02 < 100.01"
   ]
  },
  {
   "cell_type": "code",
   "execution_count": null,
   "metadata": {
    "colab": {
     "base_uri": "https://localhost:8080/"
    },
    "executionInfo": {
     "elapsed": 29,
     "status": "ok",
     "timestamp": 1722403582866,
     "user": {
      "displayName": "Sudarshanan Raghavan",
      "userId": "18093698647292025641"
     },
     "user_tz": -330
    },
    "id": "uAu69Ufo24IU",
    "outputId": "1f96ab4c-ad17-4134-cd51-3b7d2f947a2a"
   },
   "outputs": [
    {
     "data": {
      "text/plain": [
       "True"
      ]
     },
     "execution_count": 282,
     "metadata": {},
     "output_type": "execute_result"
    }
   ],
   "source": [
    "6 <= 6"
   ]
  },
  {
   "cell_type": "code",
   "execution_count": null,
   "metadata": {
    "colab": {
     "base_uri": "https://localhost:8080/"
    },
    "executionInfo": {
     "elapsed": 28,
     "status": "ok",
     "timestamp": 1722403582866,
     "user": {
      "displayName": "Sudarshanan Raghavan",
      "userId": "18093698647292025641"
     },
     "user_tz": -330
    },
    "id": "jmW7gdmY3R3q",
    "outputId": "69547c95-ba5c-485e-f078-f5f313257d03"
   },
   "outputs": [
    {
     "data": {
      "text/plain": [
       "True"
      ]
     },
     "execution_count": 283,
     "metadata": {},
     "output_type": "execute_result"
    }
   ],
   "source": [
    "1350 >= 1300"
   ]
  },
  {
   "cell_type": "code",
   "execution_count": null,
   "metadata": {
    "colab": {
     "base_uri": "https://localhost:8080/"
    },
    "executionInfo": {
     "elapsed": 27,
     "status": "ok",
     "timestamp": 1722403582866,
     "user": {
      "displayName": "Sudarshanan Raghavan",
      "userId": "18093698647292025641"
     },
     "user_tz": -330
    },
    "id": "3hVUvizD3xqE",
    "outputId": "e6be572a-3e2a-4137-c8bd-91fecc5579f3"
   },
   "outputs": [
    {
     "data": {
      "text/plain": [
       "True"
      ]
     },
     "execution_count": 284,
     "metadata": {},
     "output_type": "execute_result"
    }
   ],
   "source": [
    "45.0 <= 45"
   ]
  },
  {
   "cell_type": "markdown",
   "metadata": {
    "id": "zptdR-pBgdJ0"
   },
   "source": [
    "### Example\n",
    "Let's see between `int(float(14.56))` and `44/3`, which one is larger"
   ]
  },
  {
   "cell_type": "code",
   "execution_count": null,
   "metadata": {
    "colab": {
     "base_uri": "https://localhost:8080/"
    },
    "executionInfo": {
     "elapsed": 25,
     "status": "ok",
     "timestamp": 1722403582866,
     "user": {
      "displayName": "Sudarshanan Raghavan",
      "userId": "18093698647292025641"
     },
     "user_tz": -330
    },
    "id": "-lD4P8c1gdJ0",
    "outputId": "06aace95-f09f-4677-da98-b0be310bbf1a"
   },
   "outputs": [
    {
     "data": {
      "text/plain": [
       "False"
      ]
     },
     "execution_count": 285,
     "metadata": {},
     "output_type": "execute_result"
    }
   ],
   "source": [
    "int(float(14.56)) > 44/3"
   ]
  },
  {
   "cell_type": "markdown",
   "metadata": {
    "id": "yQPDNuSnOlgG"
   },
   "source": [
    "### Example\n",
    "The `or` operator"
   ]
  },
  {
   "cell_type": "code",
   "execution_count": null,
   "metadata": {
    "colab": {
     "base_uri": "https://localhost:8080/"
    },
    "executionInfo": {
     "elapsed": 25,
     "status": "ok",
     "timestamp": 1722403582867,
     "user": {
      "displayName": "Sudarshanan Raghavan",
      "userId": "18093698647292025641"
     },
     "user_tz": -330
    },
    "id": "UTIkV_ZmO5FK",
    "outputId": "b0a4fdb2-06fe-483c-b70d-82a7c1020045"
   },
   "outputs": [
    {
     "data": {
      "text/plain": [
       "True"
      ]
     },
     "execution_count": 286,
     "metadata": {},
     "output_type": "execute_result"
    }
   ],
   "source": [
    "True or True"
   ]
  },
  {
   "cell_type": "code",
   "execution_count": null,
   "metadata": {
    "colab": {
     "base_uri": "https://localhost:8080/"
    },
    "executionInfo": {
     "elapsed": 23,
     "status": "ok",
     "timestamp": 1722403582867,
     "user": {
      "displayName": "Sudarshanan Raghavan",
      "userId": "18093698647292025641"
     },
     "user_tz": -330
    },
    "id": "rePlVclD6Tsw",
    "outputId": "795f27ca-9a5b-4ec6-d1de-eebe12eaf335"
   },
   "outputs": [
    {
     "data": {
      "text/plain": [
       "True"
      ]
     },
     "execution_count": 287,
     "metadata": {},
     "output_type": "execute_result"
    }
   ],
   "source": [
    "True or True or True"
   ]
  },
  {
   "cell_type": "code",
   "execution_count": null,
   "metadata": {
    "colab": {
     "base_uri": "https://localhost:8080/"
    },
    "executionInfo": {
     "elapsed": 23,
     "status": "ok",
     "timestamp": 1722403582868,
     "user": {
      "displayName": "Sudarshanan Raghavan",
      "userId": "18093698647292025641"
     },
     "user_tz": -330
    },
    "id": "m4cYcoU-PKVt",
    "outputId": "fd0623e8-8123-4bfa-c121-6935ebf31bb2"
   },
   "outputs": [
    {
     "data": {
      "text/plain": [
       "True"
      ]
     },
     "execution_count": 288,
     "metadata": {},
     "output_type": "execute_result"
    }
   ],
   "source": [
    "True or False"
   ]
  },
  {
   "cell_type": "code",
   "execution_count": null,
   "metadata": {
    "colab": {
     "base_uri": "https://localhost:8080/"
    },
    "executionInfo": {
     "elapsed": 22,
     "status": "ok",
     "timestamp": 1722403582868,
     "user": {
      "displayName": "Sudarshanan Raghavan",
      "userId": "18093698647292025641"
     },
     "user_tz": -330
    },
    "id": "XMfpWuh86Vlp",
    "outputId": "b59efabd-10d3-4677-c3dc-274798c4df50"
   },
   "outputs": [
    {
     "data": {
      "text/plain": [
       "True"
      ]
     },
     "execution_count": 289,
     "metadata": {},
     "output_type": "execute_result"
    }
   ],
   "source": [
    "True or True or False"
   ]
  },
  {
   "cell_type": "code",
   "execution_count": null,
   "metadata": {
    "colab": {
     "base_uri": "https://localhost:8080/"
    },
    "executionInfo": {
     "elapsed": 20,
     "status": "ok",
     "timestamp": 1722403582868,
     "user": {
      "displayName": "Sudarshanan Raghavan",
      "userId": "18093698647292025641"
     },
     "user_tz": -330
    },
    "id": "jZDmutsxPNiq",
    "outputId": "611216ad-1a83-4350-86e2-6d9e82118e47"
   },
   "outputs": [
    {
     "data": {
      "text/plain": [
       "True"
      ]
     },
     "execution_count": 290,
     "metadata": {},
     "output_type": "execute_result"
    }
   ],
   "source": [
    "False or True"
   ]
  },
  {
   "cell_type": "code",
   "execution_count": null,
   "metadata": {
    "colab": {
     "base_uri": "https://localhost:8080/"
    },
    "executionInfo": {
     "elapsed": 19,
     "status": "ok",
     "timestamp": 1722403582868,
     "user": {
      "displayName": "Sudarshanan Raghavan",
      "userId": "18093698647292025641"
     },
     "user_tz": -330
    },
    "id": "3rRbZd3uPQBb",
    "outputId": "6b3635ea-93eb-4d3d-ce98-7299ba8342aa"
   },
   "outputs": [
    {
     "data": {
      "text/plain": [
       "False"
      ]
     },
     "execution_count": 291,
     "metadata": {},
     "output_type": "execute_result"
    }
   ],
   "source": [
    "False or False"
   ]
  },
  {
   "cell_type": "markdown",
   "metadata": {
    "id": "EGhGje0wP1Nc"
   },
   "source": [
    "The `or` operator in Python is a logical operator used for Boolean expressions. It returns `True` if at least one of the conditions being compared evaluates to `True`. It returns `False` only if all the conditions are `False`. The or operator short-circuits, meaning it stops evaluating expressions as soon as it encounters the first `True` condition."
   ]
  },
  {
   "cell_type": "code",
   "execution_count": null,
   "metadata": {
    "colab": {
     "base_uri": "https://localhost:8080/"
    },
    "executionInfo": {
     "elapsed": 18,
     "status": "ok",
     "timestamp": 1722403582868,
     "user": {
      "displayName": "Sudarshanan Raghavan",
      "userId": "18093698647292025641"
     },
     "user_tz": -330
    },
    "id": "HVJiq62fQjMG",
    "outputId": "a5a5541c-8843-4474-ec2c-420ede2bec83"
   },
   "outputs": [
    {
     "data": {
      "text/plain": [
       "True"
      ]
     },
     "execution_count": 292,
     "metadata": {},
     "output_type": "execute_result"
    }
   ],
   "source": [
    "5 > 3 or 2 < -1"
   ]
  },
  {
   "cell_type": "code",
   "execution_count": null,
   "metadata": {
    "colab": {
     "base_uri": "https://localhost:8080/"
    },
    "executionInfo": {
     "elapsed": 17,
     "status": "ok",
     "timestamp": 1722403582868,
     "user": {
      "displayName": "Sudarshanan Raghavan",
      "userId": "18093698647292025641"
     },
     "user_tz": -330
    },
    "id": "9hP-bdbvQrB7",
    "outputId": "5005febb-2d7c-4556-fdcc-28ef5a3e0baa"
   },
   "outputs": [
    {
     "data": {
      "text/plain": [
       "False"
      ]
     },
     "execution_count": 293,
     "metadata": {},
     "output_type": "execute_result"
    }
   ],
   "source": [
    "1 >= 2 or 3 <= 2.9"
   ]
  },
  {
   "cell_type": "code",
   "execution_count": null,
   "metadata": {
    "colab": {
     "base_uri": "https://localhost:8080/"
    },
    "executionInfo": {
     "elapsed": 15,
     "status": "ok",
     "timestamp": 1722403582868,
     "user": {
      "displayName": "Sudarshanan Raghavan",
      "userId": "18093698647292025641"
     },
     "user_tz": -330
    },
    "id": "Z61kQflQQ-vL",
    "outputId": "e25d675d-6412-4720-d30e-f495d320c357"
   },
   "outputs": [
    {
     "data": {
      "text/plain": [
       "True"
      ]
     },
     "execution_count": 294,
     "metadata": {},
     "output_type": "execute_result"
    }
   ],
   "source": [
    "'Hello' == 'Hello' or 'India' == 'Indiana'"
   ]
  },
  {
   "cell_type": "markdown",
   "metadata": {
    "id": "Ex1-Q3GvTTYT"
   },
   "source": [
    "### Example\n",
    "The `and` operator"
   ]
  },
  {
   "cell_type": "code",
   "execution_count": null,
   "metadata": {
    "colab": {
     "base_uri": "https://localhost:8080/"
    },
    "executionInfo": {
     "elapsed": 14,
     "status": "ok",
     "timestamp": 1722403582868,
     "user": {
      "displayName": "Sudarshanan Raghavan",
      "userId": "18093698647292025641"
     },
     "user_tz": -330
    },
    "id": "xf-jdz12TjOi",
    "outputId": "e5967767-9195-441f-c08b-c7baaeb7888f"
   },
   "outputs": [
    {
     "data": {
      "text/plain": [
       "True"
      ]
     },
     "execution_count": 295,
     "metadata": {},
     "output_type": "execute_result"
    }
   ],
   "source": [
    "True and True"
   ]
  },
  {
   "cell_type": "code",
   "execution_count": null,
   "metadata": {
    "colab": {
     "base_uri": "https://localhost:8080/"
    },
    "executionInfo": {
     "elapsed": 13,
     "status": "ok",
     "timestamp": 1722403582868,
     "user": {
      "displayName": "Sudarshanan Raghavan",
      "userId": "18093698647292025641"
     },
     "user_tz": -330
    },
    "id": "0KJ2Q0XITm4m",
    "outputId": "7c5548f6-7d1e-49c0-f186-ae1aaab6a521"
   },
   "outputs": [
    {
     "data": {
      "text/plain": [
       "False"
      ]
     },
     "execution_count": 296,
     "metadata": {},
     "output_type": "execute_result"
    }
   ],
   "source": [
    "True and False"
   ]
  },
  {
   "cell_type": "code",
   "execution_count": null,
   "metadata": {
    "colab": {
     "base_uri": "https://localhost:8080/"
    },
    "executionInfo": {
     "elapsed": 12,
     "status": "ok",
     "timestamp": 1722403582868,
     "user": {
      "displayName": "Sudarshanan Raghavan",
      "userId": "18093698647292025641"
     },
     "user_tz": -330
    },
    "id": "CyEcUBn9TpG_",
    "outputId": "ac84e95c-cabd-4a99-c6b5-1dfe73ccbeb2"
   },
   "outputs": [
    {
     "data": {
      "text/plain": [
       "False"
      ]
     },
     "execution_count": 297,
     "metadata": {},
     "output_type": "execute_result"
    }
   ],
   "source": [
    "False and True"
   ]
  },
  {
   "cell_type": "code",
   "execution_count": null,
   "metadata": {
    "colab": {
     "base_uri": "https://localhost:8080/"
    },
    "executionInfo": {
     "elapsed": 10,
     "status": "ok",
     "timestamp": 1722403582868,
     "user": {
      "displayName": "Sudarshanan Raghavan",
      "userId": "18093698647292025641"
     },
     "user_tz": -330
    },
    "id": "zW09E6SeTr3a",
    "outputId": "aa4e734e-ad8b-4262-9837-1fead8f51ef0"
   },
   "outputs": [
    {
     "data": {
      "text/plain": [
       "False"
      ]
     },
     "execution_count": 298,
     "metadata": {},
     "output_type": "execute_result"
    }
   ],
   "source": [
    "False and False"
   ]
  },
  {
   "cell_type": "markdown",
   "metadata": {
    "id": "CdnXnj3RUDDQ"
   },
   "source": [
    "The `and` operator in Python is a logical operator used for Boolean expressions. It returns `True` only if all the conditions being compared evaluate to `True`. If any of the conditions is `False`, the result will be `False`. The and operator short-circuits, meaning it stops evaluating expressions as soon as it encounters the first `False` condition."
   ]
  },
  {
   "cell_type": "code",
   "execution_count": null,
   "metadata": {
    "colab": {
     "base_uri": "https://localhost:8080/"
    },
    "executionInfo": {
     "elapsed": 1035,
     "status": "ok",
     "timestamp": 1722403583894,
     "user": {
      "displayName": "Sudarshanan Raghavan",
      "userId": "18093698647292025641"
     },
     "user_tz": -330
    },
    "id": "m_FMLZ7pUS0a",
    "outputId": "1b9662ff-e8bc-4864-d916-5960ad24a00e"
   },
   "outputs": [
    {
     "data": {
      "text/plain": [
       "True"
      ]
     },
     "execution_count": 299,
     "metadata": {},
     "output_type": "execute_result"
    }
   ],
   "source": [
    "4 < 5 and 10 > 2"
   ]
  },
  {
   "cell_type": "code",
   "execution_count": null,
   "metadata": {
    "colab": {
     "base_uri": "https://localhost:8080/"
    },
    "executionInfo": {
     "elapsed": 78,
     "status": "ok",
     "timestamp": 1722403583894,
     "user": {
      "displayName": "Sudarshanan Raghavan",
      "userId": "18093698647292025641"
     },
     "user_tz": -330
    },
    "id": "7CcQhS4vUXxk",
    "outputId": "8dc2215f-d4f6-4ca5-b091-c620af066400"
   },
   "outputs": [
    {
     "data": {
      "text/plain": [
       "False"
      ]
     },
     "execution_count": 300,
     "metadata": {},
     "output_type": "execute_result"
    }
   ],
   "source": [
    "10.3 > 23 and 5 > -1"
   ]
  },
  {
   "cell_type": "code",
   "execution_count": null,
   "metadata": {
    "colab": {
     "base_uri": "https://localhost:8080/"
    },
    "executionInfo": {
     "elapsed": 76,
     "status": "ok",
     "timestamp": 1722403583894,
     "user": {
      "displayName": "Sudarshanan Raghavan",
      "userId": "18093698647292025641"
     },
     "user_tz": -330
    },
    "id": "8uRg1fA_UlRi",
    "outputId": "cf7a0c15-5bda-4a57-f9d2-75474609635a"
   },
   "outputs": [
    {
     "data": {
      "text/plain": [
       "False"
      ]
     },
     "execution_count": 301,
     "metadata": {},
     "output_type": "execute_result"
    }
   ],
   "source": [
    "110 % 100 > 5 and 6 <= -1"
   ]
  },
  {
   "cell_type": "code",
   "execution_count": null,
   "metadata": {
    "colab": {
     "base_uri": "https://localhost:8080/"
    },
    "executionInfo": {
     "elapsed": 75,
     "status": "ok",
     "timestamp": 1722403583894,
     "user": {
      "displayName": "Sudarshanan Raghavan",
      "userId": "18093698647292025641"
     },
     "user_tz": -330
    },
    "id": "-Hz6hwiKUwH5",
    "outputId": "66fb2089-e303-4a66-b689-a66bfbd6eb2d"
   },
   "outputs": [
    {
     "data": {
      "text/plain": [
       "False"
      ]
     },
     "execution_count": 302,
     "metadata": {},
     "output_type": "execute_result"
    }
   ],
   "source": [
    "'India' == 'Indiana' and len('Hello') > 6"
   ]
  },
  {
   "cell_type": "markdown",
   "metadata": {
    "id": "pHTq8evOYo7i"
   },
   "source": [
    "### Example\n",
    "The `not` operator"
   ]
  },
  {
   "cell_type": "code",
   "execution_count": null,
   "metadata": {
    "colab": {
     "base_uri": "https://localhost:8080/"
    },
    "executionInfo": {
     "elapsed": 74,
     "status": "ok",
     "timestamp": 1722403583894,
     "user": {
      "displayName": "Sudarshanan Raghavan",
      "userId": "18093698647292025641"
     },
     "user_tz": -330
    },
    "id": "fBzJ1ZGKYvqq",
    "outputId": "7bea39e4-371e-485c-f986-a11cd1813c9e"
   },
   "outputs": [
    {
     "data": {
      "text/plain": [
       "False"
      ]
     },
     "execution_count": 303,
     "metadata": {},
     "output_type": "execute_result"
    }
   ],
   "source": [
    "not True"
   ]
  },
  {
   "cell_type": "code",
   "execution_count": null,
   "metadata": {
    "colab": {
     "base_uri": "https://localhost:8080/"
    },
    "executionInfo": {
     "elapsed": 72,
     "status": "ok",
     "timestamp": 1722403583894,
     "user": {
      "displayName": "Sudarshanan Raghavan",
      "userId": "18093698647292025641"
     },
     "user_tz": -330
    },
    "id": "RGDSbPQEY4Ag",
    "outputId": "e880670f-9b9e-4791-d76f-64d8a57d8cf7"
   },
   "outputs": [
    {
     "data": {
      "text/plain": [
       "True"
      ]
     },
     "execution_count": 304,
     "metadata": {},
     "output_type": "execute_result"
    }
   ],
   "source": [
    "not False"
   ]
  },
  {
   "cell_type": "code",
   "execution_count": null,
   "metadata": {
    "colab": {
     "base_uri": "https://localhost:8080/"
    },
    "executionInfo": {
     "elapsed": 71,
     "status": "ok",
     "timestamp": 1722403583894,
     "user": {
      "displayName": "Sudarshanan Raghavan",
      "userId": "18093698647292025641"
     },
     "user_tz": -330
    },
    "id": "WPDdw60FY6Gf",
    "outputId": "fc2c7c61-d9fe-45a9-b05e-0257544d074b"
   },
   "outputs": [
    {
     "data": {
      "text/plain": [
       "False"
      ]
     },
     "execution_count": 305,
     "metadata": {},
     "output_type": "execute_result"
    }
   ],
   "source": [
    "not True or False"
   ]
  },
  {
   "cell_type": "code",
   "execution_count": null,
   "metadata": {
    "colab": {
     "base_uri": "https://localhost:8080/"
    },
    "executionInfo": {
     "elapsed": 70,
     "status": "ok",
     "timestamp": 1722403583894,
     "user": {
      "displayName": "Sudarshanan Raghavan",
      "userId": "18093698647292025641"
     },
     "user_tz": -330
    },
    "id": "OUe1WhjS6bgT",
    "outputId": "39b3cefe-aa67-4d0d-ef29-7b05833708be"
   },
   "outputs": [
    {
     "data": {
      "text/plain": [
       "False"
      ]
     },
     "execution_count": 306,
     "metadata": {},
     "output_type": "execute_result"
    }
   ],
   "source": [
    "not(True or False)"
   ]
  },
  {
   "cell_type": "code",
   "execution_count": null,
   "metadata": {
    "colab": {
     "base_uri": "https://localhost:8080/"
    },
    "executionInfo": {
     "elapsed": 68,
     "status": "ok",
     "timestamp": 1722403583894,
     "user": {
      "displayName": "Sudarshanan Raghavan",
      "userId": "18093698647292025641"
     },
     "user_tz": -330
    },
    "id": "wkhMrnIM6gDC",
    "outputId": "719f5dcc-4c1b-4705-8416-36e205cdd2fe"
   },
   "outputs": [
    {
     "data": {
      "text/plain": [
       "True"
      ]
     },
     "execution_count": 307,
     "metadata": {},
     "output_type": "execute_result"
    }
   ],
   "source": [
    "not False or True"
   ]
  },
  {
   "cell_type": "code",
   "execution_count": null,
   "metadata": {
    "colab": {
     "base_uri": "https://localhost:8080/"
    },
    "executionInfo": {
     "elapsed": 66,
     "status": "ok",
     "timestamp": 1722403583895,
     "user": {
      "displayName": "Sudarshanan Raghavan",
      "userId": "18093698647292025641"
     },
     "user_tz": -330
    },
    "id": "zq_rVs-nY-qA",
    "outputId": "5db5def6-dafc-4c03-f037-20c35ff0d5d5"
   },
   "outputs": [
    {
     "data": {
      "text/plain": [
       "True"
      ]
     },
     "execution_count": 308,
     "metadata": {},
     "output_type": "execute_result"
    }
   ],
   "source": [
    "True or not False"
   ]
  },
  {
   "cell_type": "markdown",
   "metadata": {
    "id": "9KE0lThVZMZr"
   },
   "source": [
    "The `not` operator in Python is a logical operator used to negate the truth value of a Boolean expression. It returns `True` if the given expression is `False`, and `False` if the expression is `True`."
   ]
  },
  {
   "cell_type": "code",
   "execution_count": null,
   "metadata": {
    "colab": {
     "base_uri": "https://localhost:8080/"
    },
    "executionInfo": {
     "elapsed": 64,
     "status": "ok",
     "timestamp": 1722403583895,
     "user": {
      "displayName": "Sudarshanan Raghavan",
      "userId": "18093698647292025641"
     },
     "user_tz": -330
    },
    "id": "H-dp-gJMZLDs",
    "outputId": "83815e75-8588-4807-d0c4-982e09533a27"
   },
   "outputs": [
    {
     "data": {
      "text/plain": [
       "False"
      ]
     },
     "execution_count": 309,
     "metadata": {},
     "output_type": "execute_result"
    }
   ],
   "source": [
    "not(5 > 3)"
   ]
  },
  {
   "cell_type": "code",
   "execution_count": null,
   "metadata": {
    "colab": {
     "base_uri": "https://localhost:8080/"
    },
    "executionInfo": {
     "elapsed": 63,
     "status": "ok",
     "timestamp": 1722403583895,
     "user": {
      "displayName": "Sudarshanan Raghavan",
      "userId": "18093698647292025641"
     },
     "user_tz": -330
    },
    "id": "kKK7Dtl8cFFz",
    "outputId": "25fdeecb-5ee3-4cc8-ca4f-de1fc1bf91af"
   },
   "outputs": [
    {
     "data": {
      "text/plain": [
       "False"
      ]
     },
     "execution_count": 310,
     "metadata": {},
     "output_type": "execute_result"
    }
   ],
   "source": [
    "not(10.0 > 10 or 5 > 3)"
   ]
  },
  {
   "cell_type": "code",
   "execution_count": null,
   "metadata": {
    "colab": {
     "base_uri": "https://localhost:8080/"
    },
    "executionInfo": {
     "elapsed": 61,
     "status": "ok",
     "timestamp": 1722403583895,
     "user": {
      "displayName": "Sudarshanan Raghavan",
      "userId": "18093698647292025641"
     },
     "user_tz": -330
    },
    "id": "SyAMLItcdsoc",
    "outputId": "85bc8551-aa4f-4082-80af-d4fa3ebae920"
   },
   "outputs": [
    {
     "data": {
      "text/plain": [
       "True"
      ]
     },
     "execution_count": 311,
     "metadata": {},
     "output_type": "execute_result"
    }
   ],
   "source": [
    "not('India' == 'Indiana' and 110 % 100 == 10)"
   ]
  },
  {
   "cell_type": "markdown",
   "metadata": {
    "id": "SiSe2CW4dyVn"
   },
   "source": [
    "### Quiz\n",
    "Consider the following logical statements:\n",
    "```\n",
    "'Hi' == 'Hello' and 25 > 13\n",
    "'Hi' != 'Hello' and 255 > 133\n",
    "'Hi' == 'Hello' or 25 > 13\n",
    "not('Hi' == 'Hello') and 25 > 13\n",
    "not(('Hi' != 'Hello') or 255 < 133)\n",
    "```\n",
    "Which of these statements is logically true? Execute them individually and see."
   ]
  },
  {
   "cell_type": "code",
   "execution_count": null,
   "metadata": {
    "colab": {
     "base_uri": "https://localhost:8080/"
    },
    "executionInfo": {
     "elapsed": 60,
     "status": "ok",
     "timestamp": 1722403583895,
     "user": {
      "displayName": "Sudarshanan Raghavan",
      "userId": "18093698647292025641"
     },
     "user_tz": -330
    },
    "id": "T7Y2mylEeqbu",
    "outputId": "9d78f614-d0c4-4ceb-cd82-0cfe8c81da21"
   },
   "outputs": [
    {
     "data": {
      "text/plain": [
       "False"
      ]
     },
     "execution_count": 312,
     "metadata": {},
     "output_type": "execute_result"
    }
   ],
   "source": [
    "'Hi' == 'Hello' and 25 > 13"
   ]
  },
  {
   "cell_type": "code",
   "execution_count": null,
   "metadata": {
    "colab": {
     "base_uri": "https://localhost:8080/"
    },
    "executionInfo": {
     "elapsed": 58,
     "status": "ok",
     "timestamp": 1722403583895,
     "user": {
      "displayName": "Sudarshanan Raghavan",
      "userId": "18093698647292025641"
     },
     "user_tz": -330
    },
    "id": "8u1a7IZ6e3Nm",
    "outputId": "ac754fe5-315b-4262-9651-147f39b38f89"
   },
   "outputs": [
    {
     "data": {
      "text/plain": [
       "True"
      ]
     },
     "execution_count": 313,
     "metadata": {},
     "output_type": "execute_result"
    }
   ],
   "source": [
    "'Hi' != 'Hello' and 255 > 133"
   ]
  },
  {
   "cell_type": "code",
   "execution_count": null,
   "metadata": {
    "colab": {
     "base_uri": "https://localhost:8080/"
    },
    "executionInfo": {
     "elapsed": 57,
     "status": "ok",
     "timestamp": 1722403583895,
     "user": {
      "displayName": "Sudarshanan Raghavan",
      "userId": "18093698647292025641"
     },
     "user_tz": -330
    },
    "id": "VJr9OBK8fAmB",
    "outputId": "4fe46519-d4ed-43ed-9fe5-642d042fd6e9"
   },
   "outputs": [
    {
     "data": {
      "text/plain": [
       "True"
      ]
     },
     "execution_count": 314,
     "metadata": {},
     "output_type": "execute_result"
    }
   ],
   "source": [
    "'Hi' == 'Hello' or 25 > 13"
   ]
  },
  {
   "cell_type": "code",
   "execution_count": null,
   "metadata": {
    "colab": {
     "base_uri": "https://localhost:8080/"
    },
    "executionInfo": {
     "elapsed": 55,
     "status": "ok",
     "timestamp": 1722403583895,
     "user": {
      "displayName": "Sudarshanan Raghavan",
      "userId": "18093698647292025641"
     },
     "user_tz": -330
    },
    "id": "8ubs74cRgdJ4",
    "outputId": "b80b3b7e-df41-4d35-eb05-7e292a5b5871"
   },
   "outputs": [
    {
     "data": {
      "text/plain": [
       "True"
      ]
     },
     "execution_count": 315,
     "metadata": {},
     "output_type": "execute_result"
    }
   ],
   "source": [
    "not('Hi' == 'Hello') and 25 > 13"
   ]
  },
  {
   "cell_type": "code",
   "execution_count": null,
   "metadata": {
    "colab": {
     "base_uri": "https://localhost:8080/"
    },
    "executionInfo": {
     "elapsed": 54,
     "status": "ok",
     "timestamp": 1722403583895,
     "user": {
      "displayName": "Sudarshanan Raghavan",
      "userId": "18093698647292025641"
     },
     "user_tz": -330
    },
    "id": "aA3_eeGEgdJ4",
    "outputId": "cc6a0a1d-6fa9-4305-a3de-2e0550ca8e62"
   },
   "outputs": [
    {
     "data": {
      "text/plain": [
       "False"
      ]
     },
     "execution_count": 316,
     "metadata": {},
     "output_type": "execute_result"
    }
   ],
   "source": [
    "not(('Hi' != 'Hello') or 255 < 133)"
   ]
  },
  {
   "cell_type": "markdown",
   "metadata": {
    "id": "12defff1"
   },
   "source": [
    "### Example\n",
    "Parentheses can be used to change the order of operations in an expression. Operator precedence in Python is as follows: `not` > `and` > `or`. Below are examples showing how parentheses affect the result."
   ]
  },
  {
   "cell_type": "code",
   "execution_count": null,
   "metadata": {
    "colab": {
     "base_uri": "https://localhost:8080/"
    },
    "executionInfo": {
     "elapsed": 53,
     "status": "ok",
     "timestamp": 1722403583895,
     "user": {
      "displayName": "Sudarshanan Raghavan",
      "userId": "18093698647292025641"
     },
     "user_tz": -330
    },
    "id": "V8jO9iGZKywq",
    "outputId": "607d3364-83ea-4d0c-dabb-bbfb14c66a0d"
   },
   "outputs": [
    {
     "data": {
      "text/plain": [
       "True"
      ]
     },
     "execution_count": 317,
     "metadata": {},
     "output_type": "execute_result"
    }
   ],
   "source": [
    "True or False and False"
   ]
  },
  {
   "cell_type": "code",
   "execution_count": null,
   "metadata": {
    "colab": {
     "base_uri": "https://localhost:8080/"
    },
    "executionInfo": {
     "elapsed": 51,
     "status": "ok",
     "timestamp": 1722403583895,
     "user": {
      "displayName": "Sudarshanan Raghavan",
      "userId": "18093698647292025641"
     },
     "user_tz": -330
    },
    "id": "97Ir_-KCOPDk",
    "outputId": "a495ab6d-274c-43e7-c6d5-fe03c1aa74b4"
   },
   "outputs": [
    {
     "data": {
      "text/plain": [
       "False"
      ]
     },
     "execution_count": 318,
     "metadata": {},
     "output_type": "execute_result"
    }
   ],
   "source": [
    "(True or False) and False"
   ]
  },
  {
   "cell_type": "code",
   "execution_count": null,
   "metadata": {
    "colab": {
     "base_uri": "https://localhost:8080/"
    },
    "executionInfo": {
     "elapsed": 50,
     "status": "ok",
     "timestamp": 1722403583895,
     "user": {
      "displayName": "Sudarshanan Raghavan",
      "userId": "18093698647292025641"
     },
     "user_tz": -330
    },
    "id": "_h9Nt6XxOJ-q",
    "outputId": "1470fc5b-d753-4687-a8bf-33e7ceaed132"
   },
   "outputs": [
    {
     "data": {
      "text/plain": [
       "False"
      ]
     },
     "execution_count": 319,
     "metadata": {},
     "output_type": "execute_result"
    }
   ],
   "source": [
    "not False and False"
   ]
  },
  {
   "cell_type": "code",
   "execution_count": null,
   "metadata": {
    "colab": {
     "base_uri": "https://localhost:8080/"
    },
    "executionInfo": {
     "elapsed": 49,
     "status": "ok",
     "timestamp": 1722403583895,
     "user": {
      "displayName": "Sudarshanan Raghavan",
      "userId": "18093698647292025641"
     },
     "user_tz": -330
    },
    "id": "WrEKcwEhOutP",
    "outputId": "16f82e15-99c9-40af-ba8c-47c20490f8f9"
   },
   "outputs": [
    {
     "data": {
      "text/plain": [
       "True"
      ]
     },
     "execution_count": 320,
     "metadata": {},
     "output_type": "execute_result"
    }
   ],
   "source": [
    "not(False and False)"
   ]
  },
  {
   "cell_type": "markdown",
   "metadata": {
    "id": "0QoVVoRkO6F0"
   },
   "source": [
    "You are encouraged to experiment with operator precedence further. You will encounter various situations where right operator precedence in code is necessary for your code to run properly."
   ]
  },
  {
   "cell_type": "markdown",
   "metadata": {
    "id": "KRjTOLIMHAPq"
   },
   "source": [
    "**Bitwise operators:** Bitwise operators are different from the logical operators that you have just seen. To explore these further, you can refer to [this](https://realpython.com/python-bitwise-operators/) link for to learn about bitwise operator."
   ]
  },
  {
   "cell_type": "markdown",
   "metadata": {
    "id": "yj-v8xo-hR6z"
   },
   "source": [
    "# Strings\n",
    "This section focuses on string manipulation in Python. It covers how to use different types of quotes, escape characters, and perform operations such as formatting.\n",
    "\n"
   ]
  },
  {
   "cell_type": "markdown",
   "metadata": {
    "id": "xwseRl5xSwFh"
   },
   "source": [
    "## String formatting"
   ]
  },
  {
   "cell_type": "markdown",
   "metadata": {
    "id": "E2z0kTy06-AO"
   },
   "source": [
    "### Example\n",
    "Using the `f'{}'` expression to format strings"
   ]
  },
  {
   "cell_type": "code",
   "execution_count": null,
   "metadata": {
    "id": "sr9sKJKrKOha"
   },
   "outputs": [],
   "source": [
    "name = 'Bob'\n",
    "age = 30"
   ]
  },
  {
   "cell_type": "code",
   "execution_count": null,
   "metadata": {
    "colab": {
     "base_uri": "https://localhost:8080/",
     "height": 35
    },
    "executionInfo": {
     "elapsed": 47,
     "status": "ok",
     "timestamp": 1722403583895,
     "user": {
      "displayName": "Sudarshanan Raghavan",
      "userId": "18093698647292025641"
     },
     "user_tz": -330
    },
    "id": "BjF2nKYz8WFi",
    "outputId": "e7ec10a6-2184-4cd2-8f56-dbd22338a81a"
   },
   "outputs": [
    {
     "data": {
      "application/vnd.google.colaboratory.intrinsic+json": {
       "type": "string"
      },
      "text/plain": [
       "'My name is Bob'"
      ]
     },
     "execution_count": 322,
     "metadata": {},
     "output_type": "execute_result"
    }
   ],
   "source": [
    "f'My name is {name}'"
   ]
  },
  {
   "cell_type": "code",
   "execution_count": null,
   "metadata": {
    "colab": {
     "base_uri": "https://localhost:8080/",
     "height": 35
    },
    "executionInfo": {
     "elapsed": 47,
     "status": "ok",
     "timestamp": 1722403583895,
     "user": {
      "displayName": "Sudarshanan Raghavan",
      "userId": "18093698647292025641"
     },
     "user_tz": -330
    },
    "id": "UKBcVfw08i8q",
    "outputId": "8f8ce9f0-e3d1-4fec-9202-66f5acd3d127"
   },
   "outputs": [
    {
     "data": {
      "application/vnd.google.colaboratory.intrinsic+json": {
       "type": "string"
      },
      "text/plain": [
       "'I am 30 years old.'"
      ]
     },
     "execution_count": 323,
     "metadata": {},
     "output_type": "execute_result"
    }
   ],
   "source": [
    "f'I am {age} years old.'"
   ]
  },
  {
   "cell_type": "code",
   "execution_count": null,
   "metadata": {
    "colab": {
     "base_uri": "https://localhost:8080/",
     "height": 35
    },
    "executionInfo": {
     "elapsed": 46,
     "status": "ok",
     "timestamp": 1722403583895,
     "user": {
      "displayName": "Sudarshanan Raghavan",
      "userId": "18093698647292025641"
     },
     "user_tz": -330
    },
    "id": "3tW1vw6U8qwU",
    "outputId": "a6eccda2-e323-4870-d2fc-c397774df462"
   },
   "outputs": [
    {
     "data": {
      "application/vnd.google.colaboratory.intrinsic+json": {
       "type": "string"
      },
      "text/plain": [
       "'My name is Bob and I am 30 years old.'"
      ]
     },
     "execution_count": 324,
     "metadata": {},
     "output_type": "execute_result"
    }
   ],
   "source": [
    "f'My name is {name} and I am {age} years old.'"
   ]
  },
  {
   "cell_type": "markdown",
   "metadata": {
    "id": "Llh075Wq800J"
   },
   "source": [
    "### Example\n",
    "Using the `.format()` method to format strings"
   ]
  },
  {
   "cell_type": "code",
   "execution_count": null,
   "metadata": {
    "id": "kinvBUhiKcDx"
   },
   "outputs": [],
   "source": [
    "name = 'Bob'\n",
    "age = 30"
   ]
  },
  {
   "cell_type": "code",
   "execution_count": null,
   "metadata": {
    "colab": {
     "base_uri": "https://localhost:8080/",
     "height": 35
    },
    "executionInfo": {
     "elapsed": 46,
     "status": "ok",
     "timestamp": 1722403583895,
     "user": {
      "displayName": "Sudarshanan Raghavan",
      "userId": "18093698647292025641"
     },
     "user_tz": -330
    },
    "id": "yjKP9b_q9m6U",
    "outputId": "f434a56b-1901-4f5f-87f0-de858f0a1f13"
   },
   "outputs": [
    {
     "data": {
      "application/vnd.google.colaboratory.intrinsic+json": {
       "type": "string"
      },
      "text/plain": [
       "'My name is Bob '"
      ]
     },
     "execution_count": 326,
     "metadata": {},
     "output_type": "execute_result"
    }
   ],
   "source": [
    "'My name is {} '.format(name)"
   ]
  },
  {
   "cell_type": "code",
   "execution_count": null,
   "metadata": {
    "colab": {
     "base_uri": "https://localhost:8080/",
     "height": 35
    },
    "executionInfo": {
     "elapsed": 46,
     "status": "ok",
     "timestamp": 1722403583896,
     "user": {
      "displayName": "Sudarshanan Raghavan",
      "userId": "18093698647292025641"
     },
     "user_tz": -330
    },
    "id": "Lpv_qt5M6guQ",
    "outputId": "445e726a-6f17-4c7f-c803-54401e25f5e0"
   },
   "outputs": [
    {
     "data": {
      "application/vnd.google.colaboratory.intrinsic+json": {
       "type": "string"
      },
      "text/plain": [
       "'My name is Bob '"
      ]
     },
     "execution_count": 327,
     "metadata": {},
     "output_type": "execute_result"
    }
   ],
   "source": [
    "'My name is {x} '.format(x = name)"
   ]
  },
  {
   "cell_type": "code",
   "execution_count": null,
   "metadata": {
    "colab": {
     "base_uri": "https://localhost:8080/",
     "height": 35
    },
    "executionInfo": {
     "elapsed": 46,
     "status": "ok",
     "timestamp": 1722403583896,
     "user": {
      "displayName": "Sudarshanan Raghavan",
      "userId": "18093698647292025641"
     },
     "user_tz": -330
    },
    "id": "Bk5WdJ5U9m0-",
    "outputId": "d6b39928-b0ac-403d-c021-0a3398f870cc"
   },
   "outputs": [
    {
     "data": {
      "application/vnd.google.colaboratory.intrinsic+json": {
       "type": "string"
      },
      "text/plain": [
       "'I am 30 years old.'"
      ]
     },
     "execution_count": 328,
     "metadata": {},
     "output_type": "execute_result"
    }
   ],
   "source": [
    "'I am {} years old.'.format(age)"
   ]
  },
  {
   "cell_type": "code",
   "execution_count": null,
   "metadata": {
    "colab": {
     "base_uri": "https://localhost:8080/",
     "height": 35
    },
    "executionInfo": {
     "elapsed": 46,
     "status": "ok",
     "timestamp": 1722403583896,
     "user": {
      "displayName": "Sudarshanan Raghavan",
      "userId": "18093698647292025641"
     },
     "user_tz": -330
    },
    "id": "zl4q10vj6guQ",
    "outputId": "a28d5f31-ec53-426b-eaba-a61716053987"
   },
   "outputs": [
    {
     "data": {
      "application/vnd.google.colaboratory.intrinsic+json": {
       "type": "string"
      },
      "text/plain": [
       "'I am 30 years old.'"
      ]
     },
     "execution_count": 329,
     "metadata": {},
     "output_type": "execute_result"
    }
   ],
   "source": [
    "'I am {x} years old.'.format(x = age)"
   ]
  },
  {
   "cell_type": "code",
   "execution_count": null,
   "metadata": {
    "id": "OOIy8hlB6guQ"
   },
   "outputs": [],
   "source": [
    "# 'I am {x} years old.'.format(y = age)"
   ]
  },
  {
   "cell_type": "code",
   "execution_count": null,
   "metadata": {
    "colab": {
     "base_uri": "https://localhost:8080/",
     "height": 35
    },
    "executionInfo": {
     "elapsed": 45,
     "status": "ok",
     "timestamp": 1722403583896,
     "user": {
      "displayName": "Sudarshanan Raghavan",
      "userId": "18093698647292025641"
     },
     "user_tz": -330
    },
    "id": "3PkC2O0m9xDG",
    "outputId": "c862ecdf-4101-4c74-956c-d4c8aadb619b"
   },
   "outputs": [
    {
     "data": {
      "application/vnd.google.colaboratory.intrinsic+json": {
       "type": "string"
      },
      "text/plain": [
       "'My name is Bob and I am 30 years old.'"
      ]
     },
     "execution_count": 331,
     "metadata": {},
     "output_type": "execute_result"
    }
   ],
   "source": [
    "'My name is {} and I am {} years old.'.format(name, age)"
   ]
  },
  {
   "cell_type": "code",
   "execution_count": null,
   "metadata": {
    "colab": {
     "base_uri": "https://localhost:8080/",
     "height": 35
    },
    "executionInfo": {
     "elapsed": 44,
     "status": "ok",
     "timestamp": 1722403583896,
     "user": {
      "displayName": "Sudarshanan Raghavan",
      "userId": "18093698647292025641"
     },
     "user_tz": -330
    },
    "id": "2ylVPc7i6guQ",
    "outputId": "9c776f0e-45eb-47a4-f17a-fe06cd7b495f"
   },
   "outputs": [
    {
     "data": {
      "application/vnd.google.colaboratory.intrinsic+json": {
       "type": "string"
      },
      "text/plain": [
       "'My name is Bob and I am 30 years old.'"
      ]
     },
     "execution_count": 332,
     "metadata": {},
     "output_type": "execute_result"
    }
   ],
   "source": [
    "'My name is {x} and I am {y} years old.'.format(x = name, y = age)"
   ]
  },
  {
   "cell_type": "markdown",
   "metadata": {
    "id": "PxXtSPt27jCx"
   },
   "source": [
    "### Example\n",
    "Using the `%` operator to format strings"
   ]
  },
  {
   "cell_type": "code",
   "execution_count": null,
   "metadata": {
    "id": "3pg2Vf-O7R36"
   },
   "outputs": [],
   "source": [
    "# str_output = 'The human population on planet %d is about %f billion individuals' % ('Earth', 8)\n",
    "# str_output"
   ]
  },
  {
   "cell_type": "code",
   "execution_count": null,
   "metadata": {
    "colab": {
     "base_uri": "https://localhost:8080/",
     "height": 35
    },
    "executionInfo": {
     "elapsed": 44,
     "status": "ok",
     "timestamp": 1722403583896,
     "user": {
      "displayName": "Sudarshanan Raghavan",
      "userId": "18093698647292025641"
     },
     "user_tz": -330
    },
    "id": "SSBZNVmFmIGv",
    "outputId": "f40c8914-0d8a-45c9-903c-ae599cdeaf3e"
   },
   "outputs": [
    {
     "data": {
      "application/vnd.google.colaboratory.intrinsic+json": {
       "type": "string"
      },
      "text/plain": [
       "'The human population on planet Earth is about 8 billion individuals'"
      ]
     },
     "execution_count": 334,
     "metadata": {},
     "output_type": "execute_result"
    }
   ],
   "source": [
    "str_output = 'The human population on planet %s is about %d billion individuals' % ('Earth', 8)\n",
    "str_output"
   ]
  },
  {
   "cell_type": "code",
   "execution_count": null,
   "metadata": {
    "id": "W8ab5uhW7iEV"
   },
   "outputs": [],
   "source": [
    "name = 'Bob'\n",
    "age = 30\n",
    "city = 'Bengaluru'"
   ]
  },
  {
   "cell_type": "code",
   "execution_count": null,
   "metadata": {
    "colab": {
     "base_uri": "https://localhost:8080/",
     "height": 35
    },
    "executionInfo": {
     "elapsed": 43,
     "status": "ok",
     "timestamp": 1722403583896,
     "user": {
      "displayName": "Sudarshanan Raghavan",
      "userId": "18093698647292025641"
     },
     "user_tz": -330
    },
    "id": "ewHY1wBj-Ytk",
    "outputId": "9f2f4ba7-da88-4a66-e68d-df3d2549d1e6"
   },
   "outputs": [
    {
     "data": {
      "application/vnd.google.colaboratory.intrinsic+json": {
       "type": "string"
      },
      "text/plain": [
       "'My name is Bob'"
      ]
     },
     "execution_count": 336,
     "metadata": {},
     "output_type": "execute_result"
    }
   ],
   "source": [
    "'My name is %s' % (name)"
   ]
  },
  {
   "cell_type": "code",
   "execution_count": null,
   "metadata": {
    "colab": {
     "base_uri": "https://localhost:8080/",
     "height": 35
    },
    "executionInfo": {
     "elapsed": 43,
     "status": "ok",
     "timestamp": 1722403583896,
     "user": {
      "displayName": "Sudarshanan Raghavan",
      "userId": "18093698647292025641"
     },
     "user_tz": -330
    },
    "id": "o0I9QD1O-Yph",
    "outputId": "ec022564-7a75-4b8f-9eb1-05222b03a62e"
   },
   "outputs": [
    {
     "data": {
      "application/vnd.google.colaboratory.intrinsic+json": {
       "type": "string"
      },
      "text/plain": [
       "'I am 30 years old'"
      ]
     },
     "execution_count": 337,
     "metadata": {},
     "output_type": "execute_result"
    }
   ],
   "source": [
    "'I am %d years old' % (age)"
   ]
  },
  {
   "cell_type": "code",
   "execution_count": null,
   "metadata": {
    "colab": {
     "base_uri": "https://localhost:8080/",
     "height": 35
    },
    "executionInfo": {
     "elapsed": 42,
     "status": "ok",
     "timestamp": 1722403583896,
     "user": {
      "displayName": "Sudarshanan Raghavan",
      "userId": "18093698647292025641"
     },
     "user_tz": -330
    },
    "id": "-2uERWnX6guR",
    "outputId": "4ede3a23-c72e-4799-c2a6-eb6febe34747"
   },
   "outputs": [
    {
     "data": {
      "application/vnd.google.colaboratory.intrinsic+json": {
       "type": "string"
      },
      "text/plain": [
       "'I am 30 years old'"
      ]
     },
     "execution_count": 338,
     "metadata": {},
     "output_type": "execute_result"
    }
   ],
   "source": [
    "'I am %s years old' % (age)"
   ]
  },
  {
   "cell_type": "code",
   "execution_count": null,
   "metadata": {
    "colab": {
     "base_uri": "https://localhost:8080/",
     "height": 35
    },
    "executionInfo": {
     "elapsed": 42,
     "status": "ok",
     "timestamp": 1722403583896,
     "user": {
      "displayName": "Sudarshanan Raghavan",
      "userId": "18093698647292025641"
     },
     "user_tz": -330
    },
    "id": "5UAT5jwx6guR",
    "outputId": "72322c26-4c3e-4c9a-fb78-0b91a6e555bc"
   },
   "outputs": [
    {
     "data": {
      "application/vnd.google.colaboratory.intrinsic+json": {
       "type": "string"
      },
      "text/plain": [
       "'I am 30.000000 years old'"
      ]
     },
     "execution_count": 339,
     "metadata": {},
     "output_type": "execute_result"
    }
   ],
   "source": [
    "'I am %f years old' % (age)"
   ]
  },
  {
   "cell_type": "code",
   "execution_count": null,
   "metadata": {
    "id": "Wl3DFZpc6guR"
   },
   "outputs": [],
   "source": [
    "# 'I am %y years old' % (age)"
   ]
  },
  {
   "cell_type": "code",
   "execution_count": null,
   "metadata": {
    "colab": {
     "base_uri": "https://localhost:8080/",
     "height": 35
    },
    "executionInfo": {
     "elapsed": 41,
     "status": "ok",
     "timestamp": 1722403583896,
     "user": {
      "displayName": "Sudarshanan Raghavan",
      "userId": "18093698647292025641"
     },
     "user_tz": -330
    },
    "id": "u7gCW1rw-eq6",
    "outputId": "c52ca773-5018-4abf-c1fa-f80711c45651"
   },
   "outputs": [
    {
     "data": {
      "application/vnd.google.colaboratory.intrinsic+json": {
       "type": "string"
      },
      "text/plain": [
       "'I live in Bengaluru'"
      ]
     },
     "execution_count": 341,
     "metadata": {},
     "output_type": "execute_result"
    }
   ],
   "source": [
    "'I live in %s' % (city)"
   ]
  },
  {
   "cell_type": "markdown",
   "metadata": {
    "id": "UnzqtOfw6guR"
   },
   "source": [
    "The `%` operator is used for different types of formatting of values. For example, `%d` is used to display a value as an integer, `%f` is used to display a value as a floating point number, and `%s` is used to display a value as a string. You should study the other available `%` operators and their uses. Try querying an LLM for more information."
   ]
  },
  {
   "cell_type": "code",
   "execution_count": null,
   "metadata": {
    "colab": {
     "base_uri": "https://localhost:8080/",
     "height": 35
    },
    "executionInfo": {
     "elapsed": 41,
     "status": "ok",
     "timestamp": 1722403583896,
     "user": {
      "displayName": "Sudarshanan Raghavan",
      "userId": "18093698647292025641"
     },
     "user_tz": -330
    },
    "id": "2SBceTNE-8T8",
    "outputId": "81a3ca68-e04b-41f6-b46b-7d9a66cd6ded"
   },
   "outputs": [
    {
     "data": {
      "application/vnd.google.colaboratory.intrinsic+json": {
       "type": "string"
      },
      "text/plain": [
       "'My name is Bob, I am 30 years old, and I live in Bengaluru.'"
      ]
     },
     "execution_count": 342,
     "metadata": {},
     "output_type": "execute_result"
    }
   ],
   "source": [
    "'My name is %s, I am %d years old, and I live in %s.' % (name, age, city)"
   ]
  },
  {
   "cell_type": "markdown",
   "metadata": {
    "id": "Te4azI9KBlGM"
   },
   "source": [
    "## Escape sequences and characters"
   ]
  },
  {
   "cell_type": "markdown",
   "metadata": {
    "id": "RYUaqs_YLRZA"
   },
   "source": [
    "### Example\n",
    "Using `'\\n'` to create a new line"
   ]
  },
  {
   "cell_type": "code",
   "execution_count": null,
   "metadata": {
    "id": "pi8MN1NrCCK9"
   },
   "outputs": [],
   "source": [
    "fruits = 'Apple\\nOrange\\nBanana\\nAvocado'"
   ]
  },
  {
   "cell_type": "code",
   "execution_count": null,
   "metadata": {
    "colab": {
     "base_uri": "https://localhost:8080/",
     "height": 35
    },
    "executionInfo": {
     "elapsed": 41,
     "status": "ok",
     "timestamp": 1722403583896,
     "user": {
      "displayName": "Sudarshanan Raghavan",
      "userId": "18093698647292025641"
     },
     "user_tz": -330
    },
    "id": "OI07qAwiCGBN",
    "outputId": "69d6aaab-f5de-443a-f480-471cf77a78e1"
   },
   "outputs": [
    {
     "data": {
      "application/vnd.google.colaboratory.intrinsic+json": {
       "type": "string"
      },
      "text/plain": [
       "'Apple\\nOrange\\nBanana\\nAvocado'"
      ]
     },
     "execution_count": 344,
     "metadata": {},
     "output_type": "execute_result"
    }
   ],
   "source": [
    "fruits"
   ]
  },
  {
   "cell_type": "code",
   "execution_count": null,
   "metadata": {
    "colab": {
     "base_uri": "https://localhost:8080/"
    },
    "executionInfo": {
     "elapsed": 40,
     "status": "ok",
     "timestamp": 1722403583896,
     "user": {
      "displayName": "Sudarshanan Raghavan",
      "userId": "18093698647292025641"
     },
     "user_tz": -330
    },
    "id": "HBOcDLGNCNnI",
    "outputId": "2ad6faec-1d67-4e86-a912-e9bf007dd3ef"
   },
   "outputs": [
    {
     "name": "stdout",
     "output_type": "stream",
     "text": [
      "Apple\n",
      "Orange\n",
      "Banana\n",
      "Avocado\n"
     ]
    }
   ],
   "source": [
    "print(fruits)"
   ]
  },
  {
   "cell_type": "markdown",
   "metadata": {
    "id": "X-id0gWkLqdX"
   },
   "source": [
    "### Example\n",
    "Printing quotation marks"
   ]
  },
  {
   "cell_type": "code",
   "execution_count": null,
   "metadata": {
    "colab": {
     "base_uri": "https://localhost:8080/",
     "height": 35
    },
    "executionInfo": {
     "elapsed": 35,
     "status": "ok",
     "timestamp": 1722403583896,
     "user": {
      "displayName": "Sudarshanan Raghavan",
      "userId": "18093698647292025641"
     },
     "user_tz": -330
    },
    "id": "BUhm_EjIX5oA",
    "outputId": "67f0b17a-27db-4e8b-af13-4b39896bcc37"
   },
   "outputs": [
    {
     "data": {
      "application/vnd.google.colaboratory.intrinsic+json": {
       "type": "string"
      },
      "text/plain": [
       "\"It's raining outside.\""
      ]
     },
     "execution_count": 346,
     "metadata": {},
     "output_type": "execute_result"
    }
   ],
   "source": [
    "\"It's raining outside.\""
   ]
  },
  {
   "cell_type": "code",
   "execution_count": null,
   "metadata": {
    "colab": {
     "base_uri": "https://localhost:8080/",
     "height": 35
    },
    "executionInfo": {
     "elapsed": 34,
     "status": "ok",
     "timestamp": 1722403583896,
     "user": {
      "displayName": "Sudarshanan Raghavan",
      "userId": "18093698647292025641"
     },
     "user_tz": -330
    },
    "id": "cqAGkz-TLuOI",
    "outputId": "89416ac1-bba4-4b77-e6ff-61ef3eb0258a"
   },
   "outputs": [
    {
     "data": {
      "application/vnd.google.colaboratory.intrinsic+json": {
       "type": "string"
      },
      "text/plain": [
       "'He said, \"Python is awesome!\"'"
      ]
     },
     "execution_count": 347,
     "metadata": {},
     "output_type": "execute_result"
    }
   ],
   "source": [
    "'He said, \"Python is awesome!\"'"
   ]
  },
  {
   "cell_type": "code",
   "execution_count": null,
   "metadata": {
    "id": "xvmMwbkp6guT"
   },
   "outputs": [],
   "source": [
    "# 'It's raining outside.'"
   ]
  },
  {
   "cell_type": "code",
   "execution_count": null,
   "metadata": {
    "colab": {
     "base_uri": "https://localhost:8080/",
     "height": 35
    },
    "executionInfo": {
     "elapsed": 34,
     "status": "ok",
     "timestamp": 1722403583897,
     "user": {
      "displayName": "Sudarshanan Raghavan",
      "userId": "18093698647292025641"
     },
     "user_tz": -330
    },
    "id": "F9EmZJxr6guT",
    "outputId": "7d05fa13-6e2d-4428-bf94-613901929635"
   },
   "outputs": [
    {
     "data": {
      "application/vnd.google.colaboratory.intrinsic+json": {
       "type": "string"
      },
      "text/plain": [
       "\"It's raining outside.\""
      ]
     },
     "execution_count": 349,
     "metadata": {},
     "output_type": "execute_result"
    }
   ],
   "source": [
    "'It\\'s raining outside.'"
   ]
  },
  {
   "cell_type": "code",
   "execution_count": null,
   "metadata": {
    "colab": {
     "base_uri": "https://localhost:8080/",
     "height": 35
    },
    "executionInfo": {
     "elapsed": 34,
     "status": "ok",
     "timestamp": 1722403583897,
     "user": {
      "displayName": "Sudarshanan Raghavan",
      "userId": "18093698647292025641"
     },
     "user_tz": -330
    },
    "id": "_mrfFfZaX40J",
    "outputId": "ae560a86-b031-4404-b45f-da894e4468e3"
   },
   "outputs": [
    {
     "data": {
      "application/vnd.google.colaboratory.intrinsic+json": {
       "type": "string"
      },
      "text/plain": [
       "'He said, \"Python is awesome!\"'"
      ]
     },
     "execution_count": 350,
     "metadata": {},
     "output_type": "execute_result"
    }
   ],
   "source": [
    "'He said, \\\"Python is awesome!\\\"'"
   ]
  },
  {
   "cell_type": "code",
   "execution_count": null,
   "metadata": {
    "colab": {
     "base_uri": "https://localhost:8080/",
     "height": 35
    },
    "executionInfo": {
     "elapsed": 34,
     "status": "ok",
     "timestamp": 1722403583897,
     "user": {
      "displayName": "Sudarshanan Raghavan",
      "userId": "18093698647292025641"
     },
     "user_tz": -330
    },
    "id": "i-auxAE77ytS",
    "outputId": "162faeb5-74df-4483-c87d-da39d3b50d23"
   },
   "outputs": [
    {
     "data": {
      "application/vnd.google.colaboratory.intrinsic+json": {
       "type": "string"
      },
      "text/plain": [
       "\"He said, 'Python is awesome!'\""
      ]
     },
     "execution_count": 351,
     "metadata": {},
     "output_type": "execute_result"
    }
   ],
   "source": [
    "'He said, \\'Python is awesome!\\''"
   ]
  },
  {
   "cell_type": "code",
   "execution_count": null,
   "metadata": {
    "colab": {
     "base_uri": "https://localhost:8080/",
     "height": 35
    },
    "executionInfo": {
     "elapsed": 33,
     "status": "ok",
     "timestamp": 1722403583897,
     "user": {
      "displayName": "Sudarshanan Raghavan",
      "userId": "18093698647292025641"
     },
     "user_tz": -330
    },
    "id": "BVnuo5Wd6guT",
    "outputId": "71bb0d28-904f-4bed-dbdd-c8d5defba1fc"
   },
   "outputs": [
    {
     "data": {
      "application/vnd.google.colaboratory.intrinsic+json": {
       "type": "string"
      },
      "text/plain": [
       "'He said, \"Python is awesome!\"'"
      ]
     },
     "execution_count": 352,
     "metadata": {},
     "output_type": "execute_result"
    }
   ],
   "source": [
    "\"He said, \\\"Python is awesome!\\\"\""
   ]
  },
  {
   "cell_type": "markdown",
   "metadata": {
    "id": "6B6Dtb6jQLAe"
   },
   "source": [
    "### Example\n",
    "The provided code example demonstrates the use of escape sequences in strings for formatting text output. Specifically, it uses the tab (`\\t`) and newline (`\\n`) escape characters to create a neatly formatted table-like output.\n",
    "\n",
    "`print('English\\t86\\nMathematics\\t76\\nScience\\t92')`?"
   ]
  },
  {
   "cell_type": "code",
   "execution_count": null,
   "metadata": {
    "colab": {
     "base_uri": "https://localhost:8080/"
    },
    "executionInfo": {
     "elapsed": 33,
     "status": "ok",
     "timestamp": 1722403583897,
     "user": {
      "displayName": "Sudarshanan Raghavan",
      "userId": "18093698647292025641"
     },
     "user_tz": -330
    },
    "id": "RXrGbgyuoWEt",
    "outputId": "35fb5bf8-a111-43b3-eb72-d21c6026cc15",
    "scrolled": true
   },
   "outputs": [
    {
     "name": "stdout",
     "output_type": "stream",
     "text": [
      "English\t86\n",
      "Mathematics\t76\n",
      "Science\t92\n"
     ]
    }
   ],
   "source": [
    "print('English\\t86\\nMathematics\\t76\\nScience\\t92')"
   ]
  }
 ],
 "metadata": {
  "colab": {
   "provenance": [
    {
     "file_id": "1BDBcEz3898Dbsyn7-I8-SuKBJvjA2AEh",
     "timestamp": 1721298117512
    }
   ]
  },
  "kernelspec": {
   "display_name": "Python 3 (ipykernel)",
   "language": "python",
   "name": "python3"
  },
  "language_info": {
   "codemirror_mode": {
    "name": "ipython",
    "version": 3
   },
   "file_extension": ".py",
   "mimetype": "text/x-python",
   "name": "python",
   "nbconvert_exporter": "python",
   "pygments_lexer": "ipython3",
   "version": "3.12.4"
  }
 },
 "nbformat": 4,
 "nbformat_minor": 4
}
