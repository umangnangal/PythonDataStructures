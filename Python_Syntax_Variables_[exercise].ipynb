{
 "cells": [
  {
   "cell_type": "markdown",
   "metadata": {
    "id": "w8_oixjyXVnc"
   },
   "source": [
    "# Python basics\n",
    "This section covers the foundational aspects of Python programming, including how to declare variables, basic arithmetic operations, and the fundamental concepts needed to start coding in Python."
   ]
  },
  {
   "cell_type": "markdown",
   "metadata": {
    "id": "cAPiMGRchuWm"
   },
   "source": [
    "### Example\n",
    "Creating variables"
   ]
  },
  {
   "cell_type": "code",
   "execution_count": null,
   "metadata": {
    "id": "www6BiFthuXA"
   },
   "outputs": [],
   "source": [
    "1+2"
   ]
  },
  {
   "cell_type": "code",
   "execution_count": null,
   "metadata": {
    "id": "17luMZR0huXB"
   },
   "outputs": [],
   "source": [
    "print(1)"
   ]
  },
  {
   "cell_type": "markdown",
   "metadata": {
    "id": "SLxwkKtuhuXB"
   },
   "source": [
    "a = 1"
   ]
  },
  {
   "cell_type": "code",
   "execution_count": null,
   "metadata": {
    "id": "3C0oHuxZhuXC"
   },
   "outputs": [],
   "source": [
    "print(a)"
   ]
  },
  {
   "cell_type": "code",
   "execution_count": null,
   "metadata": {
    "id": "kcHW7gZ4huXC"
   },
   "outputs": [],
   "source": [
    "a"
   ]
  },
  {
   "cell_type": "code",
   "execution_count": null,
   "metadata": {
    "id": "QHVMRgClhuXC"
   },
   "outputs": [],
   "source": [
    "b = 2"
   ]
  },
  {
   "cell_type": "code",
   "execution_count": null,
   "metadata": {
    "id": "Fuc7vXIohuXD"
   },
   "outputs": [],
   "source": [
    "print(b)"
   ]
  },
  {
   "cell_type": "code",
   "execution_count": null,
   "metadata": {
    "id": "pXYqN_ZvhuXD"
   },
   "outputs": [],
   "source": [
    "b"
   ]
  },
  {
   "cell_type": "code",
   "execution_count": null,
   "metadata": {
    "id": "spKRcqk3huXE"
   },
   "outputs": [],
   "source": [
    "b = a"
   ]
  },
  {
   "cell_type": "code",
   "execution_count": null,
   "metadata": {
    "id": "1ziYDHefhuXE"
   },
   "outputs": [],
   "source": [
    "b"
   ]
  },
  {
   "cell_type": "code",
   "execution_count": null,
   "metadata": {
    "id": "xiHeGlidkU03"
   },
   "outputs": [],
   "source": [
    "# print(y)"
   ]
  },
  {
   "cell_type": "code",
   "execution_count": null,
   "metadata": {
    "id": "zcxhROwihuXF"
   },
   "outputs": [],
   "source": [
    "y = 100\n",
    "y"
   ]
  },
  {
   "cell_type": "code",
   "execution_count": null,
   "metadata": {
    "id": "sTfWasAuhuXF"
   },
   "outputs": [],
   "source": [
    "z = 10\n",
    "print(z)"
   ]
  },
  {
   "cell_type": "code",
   "execution_count": null,
   "metadata": {
    "id": "jm1YsdZShuXF"
   },
   "outputs": [],
   "source": [
    "l = 'A'"
   ]
  },
  {
   "cell_type": "code",
   "execution_count": null,
   "metadata": {
    "id": "TA6nZw-chuXG"
   },
   "outputs": [],
   "source": [
    "l"
   ]
  },
  {
   "cell_type": "markdown",
   "metadata": {
    "id": "wJvPlT7WhuXG"
   },
   "source": [
    "In Python, literals are used to represent fixed values in your source code. They are constants that represent specific values, and they are used to initialize variables or to specify values directly in your code. For example, `1`, `'A'`, `10` and so on.\n",
    "\n",
    "Note that you will learn about the different types of literals (data types) you can store in variables in the upcoming sections."
   ]
  },
  {
   "cell_type": "markdown",
   "metadata": {
    "id": "2NyY8QQ9c0TO"
   },
   "source": [
    "### Example\n",
    "Rules to follow for naming variables\n",
    "\n",
    "* A variable name cannot contain spaces\n",
    "* A variable name cannot start with a digit\n",
    "* A variable name can only contain alpha-numeric characters and underscores (`a-z, A-Z, 0-9, and _ `)\n",
    "* The variable name cannot be any keywords\n",
    "* Variable names are case-sensitive\n",
    "\n",
    "\n"
   ]
  },
  {
   "cell_type": "code",
   "execution_count": null,
   "metadata": {
    "id": "Gf9PWB-kbOer"
   },
   "outputs": [],
   "source": [
    "age = 25"
   ]
  },
  {
   "cell_type": "code",
   "execution_count": null,
   "metadata": {
    "id": "Y2fbkwcfb6dF"
   },
   "outputs": [],
   "source": [
    "age"
   ]
  },
  {
   "cell_type": "code",
   "execution_count": null,
   "metadata": {},
   "outputs": [],
   "source": [
    "Age = 26"
   ]
  },
  {
   "cell_type": "code",
   "execution_count": null,
   "metadata": {},
   "outputs": [],
   "source": [
    "Age"
   ]
  },
  {
   "cell_type": "code",
   "execution_count": null,
   "metadata": {},
   "outputs": [],
   "source": [
    "Age == age"
   ]
  },
  {
   "cell_type": "code",
   "execution_count": null,
   "metadata": {
    "id": "WGL6Hz70d3be"
   },
   "outputs": [],
   "source": [
    "# my age = 25"
   ]
  },
  {
   "cell_type": "code",
   "execution_count": null,
   "metadata": {
    "id": "l7b5_ww2eJVW"
   },
   "outputs": [],
   "source": [
    "# my-age = 25"
   ]
  },
  {
   "cell_type": "code",
   "execution_count": null,
   "metadata": {
    "id": "p90QydLSgbE-"
   },
   "outputs": [],
   "source": [
    "# my:age = 25"
   ]
  },
  {
   "cell_type": "code",
   "execution_count": null,
   "metadata": {
    "id": "hfUSPs_zge4s"
   },
   "outputs": [],
   "source": [
    "# print(my:age)"
   ]
  },
  {
   "cell_type": "code",
   "execution_count": null,
   "metadata": {
    "id": "yMWaWcmIeWig"
   },
   "outputs": [],
   "source": [
    "my_age = 25"
   ]
  },
  {
   "cell_type": "code",
   "execution_count": null,
   "metadata": {
    "id": "btIcBK-Keb3j"
   },
   "outputs": [],
   "source": [
    "my_age"
   ]
  },
  {
   "cell_type": "code",
   "execution_count": null,
   "metadata": {
    "id": "6bRGjz9pembE"
   },
   "outputs": [],
   "source": [
    "# 2nd_place = 'Manoj'"
   ]
  },
  {
   "cell_type": "code",
   "execution_count": null,
   "metadata": {
    "id": "29tU6ov0ey_w"
   },
   "outputs": [],
   "source": [
    "place_2nd = 'Akhil'"
   ]
  },
  {
   "cell_type": "code",
   "execution_count": null,
   "metadata": {
    "id": "ei3on7E9e6rk"
   },
   "outputs": [],
   "source": [
    "place_2nd"
   ]
  },
  {
   "cell_type": "code",
   "execution_count": null,
   "metadata": {
    "id": "mRgMyMszf_lK"
   },
   "outputs": [],
   "source": [
    "# &var = 'no'"
   ]
  },
  {
   "cell_type": "code",
   "execution_count": null,
   "metadata": {
    "id": "34fHRCwyfvtV"
   },
   "outputs": [],
   "source": [
    "_var = 'yes'"
   ]
  },
  {
   "cell_type": "code",
   "execution_count": null,
   "metadata": {
    "id": "vNahKRyhfzmW"
   },
   "outputs": [],
   "source": [
    "_var"
   ]
  },
  {
   "cell_type": "code",
   "execution_count": null,
   "metadata": {
    "id": "wYxLOY5JfACA"
   },
   "outputs": [],
   "source": [
    "# break = 'Sunday'"
   ]
  },
  {
   "cell_type": "code",
   "execution_count": null,
   "metadata": {
    "id": "SDMcfzVXfdVO"
   },
   "outputs": [],
   "source": [
    "count = 5.5"
   ]
  },
  {
   "cell_type": "code",
   "execution_count": null,
   "metadata": {
    "id": "UBd1DADFfjeS"
   },
   "outputs": [],
   "source": [
    "# Count"
   ]
  },
  {
   "cell_type": "code",
   "execution_count": null,
   "metadata": {
    "id": "lJfF3kUgfoII"
   },
   "outputs": [],
   "source": [
    "count"
   ]
  },
  {
   "cell_type": "markdown",
   "metadata": {
    "id": "oNkk7X-Vi5R6"
   },
   "source": [
    "### Example\n",
    "Getting user inputs using the `input()` function"
   ]
  },
  {
   "cell_type": "code",
   "execution_count": null,
   "metadata": {
    "id": "tfHnzklNgdJC"
   },
   "outputs": [],
   "source": [
    "name = 'Umang'"
   ]
  },
  {
   "cell_type": "code",
   "execution_count": null,
   "metadata": {
    "id": "or4zpsqxi3KI"
   },
   "outputs": [],
   "source": [
    "name = input(\"Enter your name:\")"
   ]
  },
  {
   "cell_type": "code",
   "execution_count": null,
   "metadata": {
    "id": "cTROZHjjjxE7"
   },
   "outputs": [],
   "source": [
    "name"
   ]
  },
  {
   "cell_type": "code",
   "execution_count": null,
   "metadata": {
    "id": "HqOfpDwfllSO"
   },
   "outputs": [],
   "source": [
    "age = input('Enter your age: ')"
   ]
  },
  {
   "cell_type": "code",
   "execution_count": null,
   "metadata": {
    "id": "oIPpadJMgdJD"
   },
   "outputs": [],
   "source": [
    "age"
   ]
  },
  {
   "cell_type": "code",
   "execution_count": null,
   "metadata": {},
   "outputs": [],
   "source": [
    "name, age"
   ]
  },
  {
   "cell_type": "markdown",
   "metadata": {
    "id": "K7K9AdnVmbqh"
   },
   "source": [
    "### Quiz\n",
    "Create two separate variables to accept users' name and the country they are from"
   ]
  },
  {
   "cell_type": "code",
   "execution_count": null,
   "metadata": {
    "id": "dYO_aHUhnrvI"
   },
   "outputs": [],
   "source": [
    "##### CODE HERE #####\n",
    "name = input()\n",
    "age = int(input())"
   ]
  },
  {
   "cell_type": "code",
   "execution_count": null,
   "metadata": {},
   "outputs": [],
   "source": [
    "type(name)"
   ]
  },
  {
   "cell_type": "code",
   "execution_count": null,
   "metadata": {},
   "outputs": [],
   "source": [
    "type(age)"
   ]
  },
  {
   "cell_type": "markdown",
   "metadata": {
    "id": "WUrg62Lop0uw"
   },
   "source": [
    "### Example\n",
    "Printing values using the `print()` function"
   ]
  },
  {
   "cell_type": "code",
   "execution_count": null,
   "metadata": {
    "id": "OcRepbcmqmgb"
   },
   "outputs": [],
   "source": [
    "print('Hello!')"
   ]
  },
  {
   "cell_type": "code",
   "execution_count": null,
   "metadata": {
    "id": "dN8JAOhYnrvI"
   },
   "outputs": [],
   "source": [
    "print(10)"
   ]
  },
  {
   "cell_type": "code",
   "execution_count": null,
   "metadata": {
    "id": "H3umpSBArSqY"
   },
   "outputs": [],
   "source": [
    "name = 'Alex'\n",
    "print(name)"
   ]
  },
  {
   "cell_type": "code",
   "execution_count": null,
   "metadata": {
    "id": "Wo4-IjxTr8Vp"
   },
   "outputs": [],
   "source": [
    "age = 22\n",
    "print('Age: ', age)"
   ]
  },
  {
   "cell_type": "markdown",
   "metadata": {
    "id": "lXJ7rkmwsJp1"
   },
   "source": [
    "### Example\n",
    "The `import` command\n"
   ]
  },
  {
   "cell_type": "code",
   "execution_count": null,
   "metadata": {},
   "outputs": [],
   "source": [
    "sqrt(4)"
   ]
  },
  {
   "cell_type": "code",
   "execution_count": null,
   "metadata": {
    "id": "w1e3gBPDuWLF"
   },
   "outputs": [],
   "source": [
    "import math"
   ]
  },
  {
   "cell_type": "code",
   "execution_count": null,
   "metadata": {
    "id": "Tt9ub4mXyL1E"
   },
   "outputs": [],
   "source": [
    "x = 100"
   ]
  },
  {
   "cell_type": "code",
   "execution_count": null,
   "metadata": {
    "id": "sZ_PtuHBymKu"
   },
   "outputs": [],
   "source": [
    "a = math.sqrt(x)"
   ]
  },
  {
   "cell_type": "code",
   "execution_count": null,
   "metadata": {
    "id": "n6eUNn3hyq7Q"
   },
   "outputs": [],
   "source": [
    "a"
   ]
  },
  {
   "cell_type": "code",
   "execution_count": null,
   "metadata": {},
   "outputs": [],
   "source": [
    "log(10)"
   ]
  },
  {
   "cell_type": "code",
   "execution_count": null,
   "metadata": {
    "id": "e89O86go25LO"
   },
   "outputs": [],
   "source": [
    "from math import sqrt"
   ]
  },
  {
   "cell_type": "code",
   "execution_count": null,
   "metadata": {},
   "outputs": [],
   "source": [
    "math."
   ]
  },
  {
   "cell_type": "code",
   "execution_count": null,
   "metadata": {
    "id": "6c2FWo6f284q"
   },
   "outputs": [],
   "source": [
    "sqrt_of_x = sqrt(100)\n",
    "sqrt_of_x"
   ]
  },
  {
   "cell_type": "code",
   "execution_count": null,
   "metadata": {},
   "outputs": [],
   "source": [
    "from math import *"
   ]
  },
  {
   "cell_type": "code",
   "execution_count": null,
   "metadata": {},
   "outputs": [],
   "source": [
    "pi"
   ]
  },
  {
   "cell_type": "code",
   "execution_count": null,
   "metadata": {},
   "outputs": [],
   "source": [
    "name"
   ]
  },
  {
   "cell_type": "code",
   "execution_count": null,
   "metadata": {},
   "outputs": [],
   "source": [
    "import time"
   ]
  },
  {
   "cell_type": "code",
   "execution_count": null,
   "metadata": {},
   "outputs": [],
   "source": [
    "import math as umang"
   ]
  },
  {
   "cell_type": "code",
   "execution_count": null,
   "metadata": {},
   "outputs": [],
   "source": [
    "umang.sqrt(100)"
   ]
  },
  {
   "cell_type": "code",
   "execution_count": null,
   "metadata": {},
   "outputs": [],
   "source": [
    "math.sqrt(100)"
   ]
  },
  {
   "cell_type": "markdown",
   "metadata": {
    "id": "qK-ZdyWabe4u"
   },
   "source": [
    "### Example\n",
    "In the below example, the `math` module is used to import the `log()` function for computing the natural logarithms.\n",
    "\n",
    "You can also import `e` from the `math` package. Look at the documentation of the `math` library [here](https://docs.python.org/3/library/math.html)."
   ]
  },
  {
   "cell_type": "code",
   "execution_count": null,
   "metadata": {
    "id": "9_NdaJ6cbe44"
   },
   "outputs": [],
   "source": [
    "from math import log"
   ]
  },
  {
   "cell_type": "code",
   "execution_count": null,
   "metadata": {
    "id": "eodgWNzG5WAi"
   },
   "outputs": [],
   "source": [
    "log(10)"
   ]
  },
  {
   "cell_type": "code",
   "execution_count": null,
   "metadata": {
    "id": "Zeub4o9V5YE-"
   },
   "outputs": [],
   "source": [
    "log(2.71)"
   ]
  },
  {
   "cell_type": "code",
   "execution_count": null,
   "metadata": {
    "id": "HEAnG1MW5Z-7"
   },
   "outputs": [],
   "source": [
    "from math import e,pi,inf"
   ]
  },
  {
   "cell_type": "code",
   "execution_count": null,
   "metadata": {
    "id": "iUXROcXk5cSu"
   },
   "outputs": [],
   "source": [
    "log(e)"
   ]
  },
  {
   "cell_type": "markdown",
   "metadata": {
    "id": "17QsqMmOFIKk"
   },
   "source": [
    "### Example\n",
    "Importing packages under different names"
   ]
  },
  {
   "cell_type": "code",
   "execution_count": null,
   "metadata": {},
   "outputs": [],
   "source": [
    "import pandas as pd\n",
    "import numpy as np"
   ]
  },
  {
   "cell_type": "code",
   "execution_count": null,
   "metadata": {
    "id": "d5karDo0FIK_"
   },
   "outputs": [],
   "source": [
    "from datetime import datetime as dt"
   ]
  },
  {
   "cell_type": "code",
   "execution_count": null,
   "metadata": {},
   "outputs": [],
   "source": [
    "import datetime"
   ]
  },
  {
   "cell_type": "code",
   "execution_count": null,
   "metadata": {
    "id": "qd4qqLIoFILA"
   },
   "outputs": [],
   "source": [
    "print('The current date and time is:', current_datetime)"
   ]
  },
  {
   "cell_type": "markdown",
   "metadata": {
    "id": "5hwGT2qMzQ0X"
   },
   "source": [
    "### Example\n",
    "Comments are used to annotate code and provide additional information. Comments are not executed by the Python interpreter"
   ]
  },
  {
   "cell_type": "code",
   "execution_count": null,
   "metadata": {
    "id": "IIcOK87AzVOf"
   },
   "outputs": [],
   "source": [
    "#"
   ]
  },
  {
   "cell_type": "code",
   "execution_count": null,
   "metadata": {
    "id": "6hjl0LQXzwE0"
   },
   "outputs": [],
   "source": [
    "# this is a comment and it will not be interepreted"
   ]
  },
  {
   "cell_type": "code",
   "execution_count": null,
   "metadata": {
    "id": "oSvG6z3Sz4cU"
   },
   "outputs": [],
   "source": [
    "# importing the 'math' module\n",
    "import math"
   ]
  },
  {
   "cell_type": "code",
   "execution_count": null,
   "metadata": {
    "id": "B_2wGjwP0oF9"
   },
   "outputs": [],
   "source": [
    "b = 3"
   ]
  },
  {
   "cell_type": "code",
   "execution_count": null,
   "metadata": {
    "id": "G_KVJx1O3FtT"
   },
   "outputs": [],
   "source": [
    "'''\n",
    "This is a multi-line comment\n",
    "The value of 'b' is printed by the variable\n",
    "'''\n",
    "b"
   ]
  },
  {
   "cell_type": "markdown",
   "metadata": {
    "id": "oz7UR1Fsy0Ep"
   },
   "source": [
    "# Python data types\n",
    "This section introduces the different data types available in Python, such as integers, floats, strings. It explains how to work with these data types and perform various operations on them."
   ]
  },
  {
   "cell_type": "markdown",
   "metadata": {
    "id": "wBDPTMKIy6El"
   },
   "source": [
    "### Example\n",
    "Integers"
   ]
  },
  {
   "cell_type": "code",
   "execution_count": null,
   "metadata": {
    "id": "imRI75iuzA5z"
   },
   "outputs": [],
   "source": [
    "x = 20\n",
    "x"
   ]
  },
  {
   "cell_type": "code",
   "execution_count": null,
   "metadata": {
    "id": "2BnDyDiDzDyI"
   },
   "outputs": [],
   "source": [
    "type(x)"
   ]
  },
  {
   "cell_type": "code",
   "execution_count": null,
   "metadata": {
    "id": "VeCDEfXR0CRw"
   },
   "outputs": [],
   "source": [
    "y = -4\n",
    "y"
   ]
  },
  {
   "cell_type": "code",
   "execution_count": null,
   "metadata": {
    "id": "vn1Ys1Bw0G2y"
   },
   "outputs": [],
   "source": [
    "type(y)"
   ]
  },
  {
   "cell_type": "markdown",
   "metadata": {
    "id": "KXh8gDlcpbbo"
   },
   "source": [
    "### Example\n",
    "Float variables"
   ]
  },
  {
   "cell_type": "code",
   "execution_count": null,
   "metadata": {
    "id": "QWUaawmKeaij"
   },
   "outputs": [],
   "source": [
    "my_float = 10.00000\n",
    "my_float"
   ]
  },
  {
   "cell_type": "code",
   "execution_count": null,
   "metadata": {
    "id": "ImE9CTJeeaij"
   },
   "outputs": [],
   "source": [
    "type(my_float)"
   ]
  },
  {
   "cell_type": "code",
   "execution_count": null,
   "metadata": {
    "id": "OEksYKY_eaik"
   },
   "outputs": [],
   "source": [
    "my_float = -5.45\n",
    "my_float"
   ]
  },
  {
   "cell_type": "code",
   "execution_count": null,
   "metadata": {
    "id": "uqx4zo6_eail"
   },
   "outputs": [],
   "source": [
    "type(my_float)"
   ]
  },
  {
   "cell_type": "code",
   "execution_count": null,
   "metadata": {
    "id": "mI4hMy0veail"
   },
   "outputs": [],
   "source": [
    "my_float = 0.404\n",
    "my_float"
   ]
  },
  {
   "cell_type": "code",
   "execution_count": null,
   "metadata": {
    "id": "gpDuN7GIeaim"
   },
   "outputs": [],
   "source": [
    "type(my_float)"
   ]
  },
  {
   "cell_type": "code",
   "execution_count": null,
   "metadata": {
    "id": "vlP4_zq24xL7"
   },
   "outputs": [],
   "source": [
    "x = -1000000000.0\n",
    "x"
   ]
  },
  {
   "cell_type": "code",
   "execution_count": null,
   "metadata": {
    "id": "-D2Nnx5D4zCM"
   },
   "outputs": [],
   "source": [
    "type(x)"
   ]
  },
  {
   "cell_type": "code",
   "execution_count": null,
   "metadata": {
    "id": "NUnIZ9NBeain"
   },
   "outputs": [],
   "source": [
    "x = -1_000_000_000.0\n",
    "x"
   ]
  },
  {
   "cell_type": "code",
   "execution_count": null,
   "metadata": {
    "id": "wT8PL-sXeain"
   },
   "outputs": [],
   "source": [
    "type(x)"
   ]
  },
  {
   "cell_type": "code",
   "execution_count": null,
   "metadata": {},
   "outputs": [],
   "source": []
  },
  {
   "cell_type": "markdown",
   "metadata": {
    "id": "cmGvq75je1HP"
   },
   "source": [
    "### Example\n",
    "Strings"
   ]
  },
  {
   "cell_type": "code",
   "execution_count": null,
   "metadata": {
    "id": "3ayJx_Pxe1HZ"
   },
   "outputs": [],
   "source": [
    "my_string = '1'"
   ]
  },
  {
   "cell_type": "code",
   "execution_count": null,
   "metadata": {
    "id": "kDvfIt_Pe1Ha"
   },
   "outputs": [],
   "source": [
    "my_string"
   ]
  },
  {
   "cell_type": "code",
   "execution_count": null,
   "metadata": {
    "id": "w7vgY4dSe1Ha"
   },
   "outputs": [],
   "source": [
    "type(my_string)"
   ]
  },
  {
   "cell_type": "code",
   "execution_count": null,
   "metadata": {
    "id": "lJjvUWOAe1Hb"
   },
   "outputs": [],
   "source": [
    "my_string = 'abcd'\n",
    "my_string"
   ]
  },
  {
   "cell_type": "code",
   "execution_count": null,
   "metadata": {
    "id": "MKhChgqVe1Hb"
   },
   "outputs": [],
   "source": [
    "type(my_string)"
   ]
  },
  {
   "cell_type": "code",
   "execution_count": null,
   "metadata": {
    "id": "CYAlqq54e1Hb"
   },
   "outputs": [],
   "source": [
    "my_str = '100'\n",
    "my_str"
   ]
  },
  {
   "cell_type": "code",
   "execution_count": null,
   "metadata": {
    "id": "jDUcg4T8e1Hc"
   },
   "outputs": [],
   "source": [
    "type(my_str)"
   ]
  },
  {
   "cell_type": "code",
   "execution_count": null,
   "metadata": {
    "id": "cW0inPiVe1Hc"
   },
   "outputs": [],
   "source": [
    "my_str = '30.03'\n",
    "my_str"
   ]
  },
  {
   "cell_type": "code",
   "execution_count": null,
   "metadata": {
    "id": "G0n2r5rpe1Hc"
   },
   "outputs": [],
   "source": [
    "type(my_str)"
   ]
  },
  {
   "cell_type": "code",
   "execution_count": null,
   "metadata": {
    "id": "K1JLh1zBe1Hc"
   },
   "outputs": [],
   "source": [
    "my_str = \"\\\n",
    "This is a string \\n this is a 2nd string \\\n",
    "aabdnkjnsd\"\n",
    "print(my_str)"
   ]
  },
  {
   "cell_type": "code",
   "execution_count": null,
   "metadata": {
    "id": "96VcLqnCe1Hc"
   },
   "outputs": [],
   "source": [
    "type(my_str)"
   ]
  },
  {
   "cell_type": "markdown",
   "metadata": {
    "id": "dhYGZc7Qe1Hd"
   },
   "source": [
    "In Python, you can use either single quotes (`'`) or double quotes (`\"`) to define strings. Both options are valid, and you can choose the one that suits your preference. Throughout this notebook, we will be using single quotes (`'`) to work with strings."
   ]
  },
  {
   "cell_type": "markdown",
   "metadata": {
    "id": "6mBljSuAfG-4"
   },
   "source": [
    "### Example\n",
    "Typecasting using the `int()` function"
   ]
  },
  {
   "cell_type": "code",
   "execution_count": null,
   "metadata": {
    "id": "siYVyXSIfG_C"
   },
   "outputs": [],
   "source": [
    "my_str = '123.5'\n",
    "my_str"
   ]
  },
  {
   "cell_type": "code",
   "execution_count": null,
   "metadata": {
    "id": "x2blRm-QfG_C"
   },
   "outputs": [],
   "source": [
    "type(my_str)"
   ]
  },
  {
   "cell_type": "code",
   "execution_count": null,
   "metadata": {
    "id": "6Wxc0ChxgdJU"
   },
   "outputs": [],
   "source": [
    "my_int = int(float(my_str))\n",
    "my_int"
   ]
  },
  {
   "cell_type": "code",
   "execution_count": null,
   "metadata": {
    "id": "oJq1rlpDgdJU"
   },
   "outputs": [],
   "source": [
    "type(my_int)"
   ]
  },
  {
   "cell_type": "code",
   "execution_count": null,
   "metadata": {
    "id": "NTvBEfCifG_E"
   },
   "outputs": [],
   "source": [
    "my_float = '2.17'"
   ]
  },
  {
   "cell_type": "code",
   "execution_count": null,
   "metadata": {
    "id": "ZmAwBk4FfG_E"
   },
   "outputs": [],
   "source": [
    "my_int = float(my_float)\n",
    "my_int"
   ]
  },
  {
   "cell_type": "markdown",
   "metadata": {
    "id": "AqaqrxbkfG_E"
   },
   "source": [
    "Attempting to convert the string `'2.17'` directly to an integer using `int('2.17')` will result in a ValueError because `'2.17'` is not a valid integer string. The `int()` function in Python is used to convert a numeric string to an integer, but the string must represent a whole number."
   ]
  },
  {
   "cell_type": "code",
   "execution_count": null,
   "metadata": {
    "id": "lwN-ir0LfG_F"
   },
   "outputs": [],
   "source": [
    "# my_int = int('abc')"
   ]
  },
  {
   "cell_type": "markdown",
   "metadata": {
    "id": "KeuiVKXOfG_G"
   },
   "source": [
    "Note that when typecasting a `float` data type into an `int` data type, Python will disregard the fraction part of the floating point number and only consider the whole number part"
   ]
  },
  {
   "cell_type": "markdown",
   "metadata": {
    "id": "G9oTD41qfKoN"
   },
   "source": [
    "### Example\n",
    "Typecasting using the `float()` function"
   ]
  },
  {
   "cell_type": "code",
   "execution_count": null,
   "metadata": {
    "id": "rOpn9wM3fKoj"
   },
   "outputs": [],
   "source": [
    "my_int = 8"
   ]
  },
  {
   "cell_type": "code",
   "execution_count": null,
   "metadata": {
    "id": "9DI25D7qgdJW"
   },
   "outputs": [],
   "source": [
    "my_int"
   ]
  },
  {
   "cell_type": "code",
   "execution_count": null,
   "metadata": {
    "id": "MrIdDaokfKok"
   },
   "outputs": [],
   "source": [
    "type(my_int)"
   ]
  },
  {
   "cell_type": "code",
   "execution_count": null,
   "metadata": {
    "id": "EOLsm69pfKok"
   },
   "outputs": [],
   "source": [
    "my_float = float(my_int)"
   ]
  },
  {
   "cell_type": "code",
   "execution_count": null,
   "metadata": {
    "id": "HVDAKdq9fKok"
   },
   "outputs": [],
   "source": [
    "my_float"
   ]
  },
  {
   "cell_type": "code",
   "execution_count": null,
   "metadata": {
    "id": "migq2ww5fKok"
   },
   "outputs": [],
   "source": [
    "type(my_float)"
   ]
  },
  {
   "cell_type": "code",
   "execution_count": null,
   "metadata": {
    "id": "AZI281DzfKol"
   },
   "outputs": [],
   "source": [
    "my_data = '97.1'"
   ]
  },
  {
   "cell_type": "code",
   "execution_count": null,
   "metadata": {
    "id": "VkODuUhsfKom"
   },
   "outputs": [],
   "source": [
    "my_float = float(my_data)"
   ]
  },
  {
   "cell_type": "code",
   "execution_count": null,
   "metadata": {
    "id": "AeB7t0SRfKon"
   },
   "outputs": [],
   "source": [
    "my_float"
   ]
  },
  {
   "cell_type": "code",
   "execution_count": null,
   "metadata": {
    "id": "SaU6bowYfKoo"
   },
   "outputs": [],
   "source": [
    "type(my_float)"
   ]
  },
  {
   "cell_type": "markdown",
   "metadata": {
    "id": "8EPj3vUvfKoq"
   },
   "source": [
    "Note that the `float()` function in Python can be used to convert a string containing a numeric representation, such as `'97.1'`, into a floating-point number"
   ]
  },
  {
   "cell_type": "code",
   "execution_count": null,
   "metadata": {
    "id": "C3f4xm5TgdJY"
   },
   "outputs": [],
   "source": [
    "my_data = '98.76'"
   ]
  },
  {
   "cell_type": "code",
   "execution_count": null,
   "metadata": {
    "id": "hPM7mvkagdJZ"
   },
   "outputs": [],
   "source": [
    "# int(my_data)"
   ]
  },
  {
   "cell_type": "code",
   "execution_count": null,
   "metadata": {
    "id": "iINCA-XigdJZ"
   },
   "outputs": [],
   "source": [
    "float(my_data)"
   ]
  },
  {
   "cell_type": "code",
   "execution_count": null,
   "metadata": {
    "id": "a0o4cjsOgdJZ"
   },
   "outputs": [],
   "source": [
    "int(float(my_data))"
   ]
  },
  {
   "cell_type": "markdown",
   "metadata": {
    "id": "34oWFtRcfuBq"
   },
   "source": [
    "### Example\n",
    "\n",
    "Converting the string `'45.6778'` into a float"
   ]
  },
  {
   "cell_type": "code",
   "execution_count": null,
   "metadata": {
    "id": "KzV6lOg0fuCA"
   },
   "outputs": [],
   "source": [
    "float('45.6778')"
   ]
  },
  {
   "cell_type": "markdown",
   "metadata": {
    "id": "0KNNlCW7f0ws"
   },
   "source": [
    "### Example\n",
    "Typecasting using the `str()` function"
   ]
  },
  {
   "cell_type": "code",
   "execution_count": null,
   "metadata": {
    "id": "kRET5821f0xD"
   },
   "outputs": [],
   "source": [
    "my_int = 1000"
   ]
  },
  {
   "cell_type": "code",
   "execution_count": null,
   "metadata": {
    "id": "ki0VdjkMgdJZ"
   },
   "outputs": [],
   "source": [
    "my_int"
   ]
  },
  {
   "cell_type": "code",
   "execution_count": null,
   "metadata": {
    "id": "JY0ocf3vf0xD"
   },
   "outputs": [],
   "source": [
    "type(my_int)"
   ]
  },
  {
   "cell_type": "code",
   "execution_count": null,
   "metadata": {
    "id": "Tg--WVvof0xE"
   },
   "outputs": [],
   "source": [
    "my_str = str(my_int)"
   ]
  },
  {
   "cell_type": "code",
   "execution_count": null,
   "metadata": {
    "id": "G4_mzRZ4f0xE"
   },
   "outputs": [],
   "source": [
    "my_str"
   ]
  },
  {
   "cell_type": "code",
   "execution_count": null,
   "metadata": {
    "id": "TpR0bcWof0xE"
   },
   "outputs": [],
   "source": [
    "type(my_str)"
   ]
  },
  {
   "cell_type": "code",
   "execution_count": null,
   "metadata": {
    "id": "8hjPvp9kf0xE"
   },
   "outputs": [],
   "source": [
    "my_bool = True"
   ]
  },
  {
   "cell_type": "code",
   "execution_count": null,
   "metadata": {
    "id": "xqdUQACugdJb"
   },
   "outputs": [],
   "source": [
    "my_bool"
   ]
  },
  {
   "cell_type": "code",
   "execution_count": null,
   "metadata": {
    "id": "8jXTDYOGf0xF"
   },
   "outputs": [],
   "source": [
    "type(my_bool)"
   ]
  },
  {
   "cell_type": "code",
   "execution_count": null,
   "metadata": {
    "id": "9EFfjYQDf0xF"
   },
   "outputs": [],
   "source": [
    "my_str = str(my_bool)"
   ]
  },
  {
   "cell_type": "code",
   "execution_count": null,
   "metadata": {
    "id": "e8B-Vg1Bf0xF"
   },
   "outputs": [],
   "source": [
    "my_str"
   ]
  },
  {
   "cell_type": "code",
   "execution_count": null,
   "metadata": {
    "id": "4WYmugvmf0xF"
   },
   "outputs": [],
   "source": [
    "type(my_str)"
   ]
  },
  {
   "cell_type": "markdown",
   "metadata": {
    "id": "O6wfV1RMrCgm"
   },
   "source": [
    "### Example\n",
    "Typecasting using the `bool()` function"
   ]
  },
  {
   "cell_type": "code",
   "execution_count": null,
   "metadata": {
    "id": "xSioz3ILgdJc"
   },
   "outputs": [],
   "source": [
    "my_int"
   ]
  },
  {
   "cell_type": "code",
   "execution_count": null,
   "metadata": {
    "id": "7l9gCafVgGJa"
   },
   "outputs": [],
   "source": [
    "type(my_int)"
   ]
  },
  {
   "cell_type": "code",
   "execution_count": null,
   "metadata": {
    "id": "TLrlnvyGgGJb"
   },
   "outputs": [],
   "source": [
    "my_bool = bool(my_int)"
   ]
  },
  {
   "cell_type": "code",
   "execution_count": null,
   "metadata": {
    "id": "jEWmobAMgGJb"
   },
   "outputs": [],
   "source": [
    "my_bool"
   ]
  },
  {
   "cell_type": "code",
   "execution_count": null,
   "metadata": {
    "id": "3bcmsI3lgGJb"
   },
   "outputs": [],
   "source": [
    "type(my_bool)"
   ]
  },
  {
   "cell_type": "code",
   "execution_count": null,
   "metadata": {
    "id": "-zeQZzHcgGJb"
   },
   "outputs": [],
   "source": [
    "my_int = 0.0000001"
   ]
  },
  {
   "cell_type": "code",
   "execution_count": null,
   "metadata": {
    "id": "tiqvJkdogGJb"
   },
   "outputs": [],
   "source": [
    "my_bool = bool(my_int)\n",
    "my_bool"
   ]
  },
  {
   "cell_type": "code",
   "execution_count": null,
   "metadata": {
    "id": "_Cko71M7gGJc"
   },
   "outputs": [],
   "source": [
    "type(my_bool)"
   ]
  },
  {
   "cell_type": "code",
   "execution_count": null,
   "metadata": {
    "id": "ab083Sc4gGJc"
   },
   "outputs": [],
   "source": [
    "my_bool = bool(-1)\n",
    "my_bool"
   ]
  },
  {
   "cell_type": "code",
   "execution_count": null,
   "metadata": {
    "id": "lNKYRjP1gGJc"
   },
   "outputs": [],
   "source": [
    "my_bool = bool(3.333)\n",
    "my_bool"
   ]
  },
  {
   "cell_type": "code",
   "execution_count": null,
   "metadata": {
    "id": "dHiyJFeOgGJc"
   },
   "outputs": [],
   "source": [
    "my_bool = bool('Hello')\n",
    "my_bool"
   ]
  },
  {
   "cell_type": "code",
   "execution_count": null,
   "metadata": {
    "id": "X9DOiOaPgdJe"
   },
   "outputs": [],
   "source": [
    "bool(-24.5)"
   ]
  },
  {
   "cell_type": "code",
   "execution_count": null,
   "metadata": {
    "id": "Xt-nqmgmRGhI"
   },
   "outputs": [],
   "source": [
    "bool('Hello')"
   ]
  },
  {
   "cell_type": "code",
   "execution_count": null,
   "metadata": {
    "id": "kLdf4flEgdJe"
   },
   "outputs": [],
   "source": [
    "bool(' ')"
   ]
  },
  {
   "cell_type": "markdown",
   "metadata": {
    "id": "EqJcub1xMWZp"
   },
   "source": [
    "### Example\n",
    "Typecasting user inputs"
   ]
  },
  {
   "cell_type": "code",
   "execution_count": null,
   "metadata": {
    "id": "UYQ8wcg3MWaK"
   },
   "outputs": [],
   "source": [
    "my_age = '24'"
   ]
  },
  {
   "cell_type": "code",
   "execution_count": null,
   "metadata": {
    "id": "16n0Qqe0-baW"
   },
   "outputs": [],
   "source": [
    "type(my_age)"
   ]
  },
  {
   "cell_type": "code",
   "execution_count": null,
   "metadata": {
    "id": "cXJ-Wl2999d6"
   },
   "outputs": [],
   "source": [
    "# my_age = input('Enter your age: ')"
   ]
  },
  {
   "cell_type": "code",
   "execution_count": null,
   "metadata": {
    "id": "ggPchz8cJvyg"
   },
   "outputs": [],
   "source": [
    "type(my_age)"
   ]
  },
  {
   "cell_type": "markdown",
   "metadata": {
    "id": "W2hRquRpIkWX"
   },
   "source": [
    "The age is currently stored as a string value. But for further processing, we might want the number to be an integer."
   ]
  },
  {
   "cell_type": "code",
   "execution_count": null,
   "metadata": {
    "id": "0w2OYtkcIj81"
   },
   "outputs": [],
   "source": [
    "my_age = int(input('Enter your age: '))"
   ]
  },
  {
   "cell_type": "code",
   "execution_count": null,
   "metadata": {
    "id": "pGsb_wAOIuVk"
   },
   "outputs": [],
   "source": [
    "my_age, type(my_age)"
   ]
  },
  {
   "cell_type": "markdown",
   "metadata": {
    "id": "UzS1es9zMb4S"
   },
   "source": [
    "### Quiz\n",
    "Take a number from a user input and store it as a float"
   ]
  },
  {
   "cell_type": "code",
   "execution_count": null,
   "metadata": {},
   "outputs": [],
   "source": [
    "my_bool = True"
   ]
  },
  {
   "cell_type": "code",
   "execution_count": null,
   "metadata": {},
   "outputs": [],
   "source": [
    "type(my_bool)"
   ]
  },
  {
   "cell_type": "code",
   "execution_count": null,
   "metadata": {},
   "outputs": [],
   "source": []
  },
  {
   "cell_type": "code",
   "execution_count": null,
   "metadata": {},
   "outputs": [],
   "source": []
  },
  {
   "cell_type": "code",
   "execution_count": null,
   "metadata": {
    "id": "7ehRUQE2gkkd"
   },
   "outputs": [],
   "source": [
    "##### CODE HERE #####\n",
    "my_age = int(input('Enter your age: '))"
   ]
  },
  {
   "cell_type": "markdown",
   "metadata": {
    "id": "yg3qR3DK6n54"
   },
   "source": [
    "# Python operators\n",
    "This section covers the various operators available in Python, including arithmetic operators, comparison operators, logical operators, and bitwise operators. Each type of operator is explained with examples to demonstrate how they are used in Python programming."
   ]
  },
  {
   "cell_type": "markdown",
   "metadata": {
    "id": "e2dq37PvWU8S"
   },
   "source": [
    "### Example\n",
    "The `+` operator"
   ]
  },
  {
   "cell_type": "code",
   "execution_count": null,
   "metadata": {
    "id": "5Hp2UNlXhLWh"
   },
   "outputs": [],
   "source": [
    "1 + 1"
   ]
  },
  {
   "cell_type": "code",
   "execution_count": null,
   "metadata": {
    "id": "gvq8w3GvhLWi"
   },
   "outputs": [],
   "source": [
    "2 + 34"
   ]
  },
  {
   "cell_type": "code",
   "execution_count": null,
   "metadata": {
    "id": "QjbqyYvohLWj"
   },
   "outputs": [],
   "source": [
    "1 + 2 + 3 + 4 + 5 + 6"
   ]
  },
  {
   "cell_type": "code",
   "execution_count": null,
   "metadata": {
    "id": "InWdP-fRhLWj"
   },
   "outputs": [],
   "source": [
    "num = 13"
   ]
  },
  {
   "cell_type": "code",
   "execution_count": null,
   "metadata": {
    "id": "Wsq2TzFBhLWk"
   },
   "outputs": [],
   "source": [
    "num + 3"
   ]
  },
  {
   "cell_type": "code",
   "execution_count": null,
   "metadata": {
    "id": "LBzy4tRvhLWk"
   },
   "outputs": [],
   "source": [
    "a = 100\n",
    "b = 200"
   ]
  },
  {
   "cell_type": "code",
   "execution_count": null,
   "metadata": {
    "id": "oPdRW8enhLWl"
   },
   "outputs": [],
   "source": [
    "sum = a + b"
   ]
  },
  {
   "cell_type": "code",
   "execution_count": null,
   "metadata": {
    "id": "096XHwMZhLWl"
   },
   "outputs": [],
   "source": [
    "sum"
   ]
  },
  {
   "cell_type": "code",
   "execution_count": null,
   "metadata": {
    "id": "-xYJ9-26hLWm"
   },
   "outputs": [],
   "source": [
    "x = 3.3\n",
    "y = 2.7"
   ]
  },
  {
   "cell_type": "code",
   "execution_count": null,
   "metadata": {
    "id": "3TsLMDe-hLWm"
   },
   "outputs": [],
   "source": [
    "sum = x + y\n",
    "sum"
   ]
  },
  {
   "cell_type": "code",
   "execution_count": null,
   "metadata": {
    "id": "-KmHqmHrhLWm"
   },
   "outputs": [],
   "source": [
    "my_int = 3.9\n",
    "my_float = 6"
   ]
  },
  {
   "cell_type": "markdown",
   "metadata": {
    "id": "nCBOAPpWNDQn"
   },
   "source": [
    "**Coercion** in programming refers to the implicit or explicit conversion of one data type to another. This allows operations to be performed on mixed data types by converting one type to another compatible type."
   ]
  },
  {
   "cell_type": "code",
   "execution_count": null,
   "metadata": {
    "id": "jePTSVRChLWn"
   },
   "outputs": [],
   "source": [
    "my_sum = my_int + my_float"
   ]
  },
  {
   "cell_type": "code",
   "execution_count": null,
   "metadata": {
    "id": "ZhINiX1ihLWn"
   },
   "outputs": [],
   "source": [
    "my_sum"
   ]
  },
  {
   "cell_type": "code",
   "execution_count": null,
   "metadata": {
    "id": "eFAu7TinhLWn"
   },
   "outputs": [],
   "source": [
    "type(my_sum)"
   ]
  },
  {
   "cell_type": "markdown",
   "metadata": {
    "id": "lxejN6E1hLWn"
   },
   "source": [
    "Note that In Python, when you perform arithmetic operations involving an `int` and a `float`, the result is always a `float`. This behavior is part of the language's rules for numeric **coercion**, where operations between different numeric types yield a result of the more general or precise type."
   ]
  },
  {
   "cell_type": "code",
   "execution_count": null,
   "metadata": {
    "id": "ai4KrYwhhLWo"
   },
   "outputs": [],
   "source": [
    "my_str = 'aman'\n",
    "my_int = 10\n",
    "my_float = 14.2"
   ]
  },
  {
   "cell_type": "code",
   "execution_count": null,
   "metadata": {
    "id": "JT63c60ohLWp"
   },
   "outputs": [],
   "source": [
    "sum = my_str + my_int"
   ]
  },
  {
   "cell_type": "code",
   "execution_count": null,
   "metadata": {
    "id": "TwV7ziMshLWp"
   },
   "outputs": [],
   "source": [
    "sum = my_str + my_float"
   ]
  },
  {
   "cell_type": "code",
   "execution_count": null,
   "metadata": {
    "id": "jHrhMdqOhLWp"
   },
   "outputs": [],
   "source": [
    "str_1 = 'aman'\n",
    "str_2 = 'umang'"
   ]
  },
  {
   "cell_type": "code",
   "execution_count": null,
   "metadata": {
    "id": "hH4l73QKhLWp"
   },
   "outputs": [],
   "source": [
    "result = str_1 + str_2"
   ]
  },
  {
   "cell_type": "code",
   "execution_count": null,
   "metadata": {
    "id": "zm7N_CPOhLWp"
   },
   "outputs": [],
   "source": [
    "result"
   ]
  },
  {
   "cell_type": "markdown",
   "metadata": {
    "id": "ZsyAOxv2hLWq"
   },
   "source": [
    "Notice that when peforming addition on two strings, the result is a string joining the initial strings. This operation is called **concatenation**. We say the two strings are concatenated."
   ]
  },
  {
   "cell_type": "code",
   "execution_count": null,
   "metadata": {
    "id": "b8Lj4a4zhLWq"
   },
   "outputs": [],
   "source": [
    "str_1 = 'Hello'\n",
    "str_2 = 'There!'"
   ]
  },
  {
   "cell_type": "code",
   "execution_count": null,
   "metadata": {
    "id": "LWqA2urEhLWq"
   },
   "outputs": [],
   "source": [
    "str_1 + str_2"
   ]
  },
  {
   "cell_type": "code",
   "execution_count": null,
   "metadata": {
    "id": "B6cGc2OphLWq"
   },
   "outputs": [],
   "source": [
    "str_1 + ' ' + str_2"
   ]
  },
  {
   "cell_type": "markdown",
   "metadata": {
    "id": "XS6StprDhLWq"
   },
   "source": [
    "Notice that we have used the `+` operator to add numbers and similarly to perform concatenation, that is, joining two strings. This phenomenon where we are able to define custom behaviors for operators when applied to objects of our own classes is called **operator overloading**. In other words, operator overloading lets you teach Python what to do when you use math symbols like `+`, `*` with your own special objects."
   ]
  },
  {
   "cell_type": "markdown",
   "metadata": {
    "id": "MNP9GsNFHteC"
   },
   "source": [
    "### Example\n",
    "The `-` operator"
   ]
  },
  {
   "cell_type": "code",
   "execution_count": null,
   "metadata": {
    "id": "SvCdwox1QUKT"
   },
   "outputs": [],
   "source": [
    "3 - 1"
   ]
  },
  {
   "cell_type": "code",
   "execution_count": null,
   "metadata": {
    "id": "_F7IskYAQVyy"
   },
   "outputs": [],
   "source": [
    "100 - 30"
   ]
  },
  {
   "cell_type": "code",
   "execution_count": null,
   "metadata": {
    "id": "C-BKv-ohQYza"
   },
   "outputs": [],
   "source": [
    "x = 25\n",
    "y = 4"
   ]
  },
  {
   "cell_type": "code",
   "execution_count": null,
   "metadata": {
    "id": "2XsdgJRKQfG6"
   },
   "outputs": [],
   "source": [
    "diff = x - y\n",
    "diff"
   ]
  },
  {
   "cell_type": "code",
   "execution_count": null,
   "metadata": {
    "id": "Vc6zhJ-WQjlb"
   },
   "outputs": [],
   "source": [
    "x = 3.4\n",
    "y = 2"
   ]
  },
  {
   "cell_type": "code",
   "execution_count": null,
   "metadata": {
    "id": "ATtuCSIVQuM6"
   },
   "outputs": [],
   "source": [
    "diff = x - y\n",
    "diff"
   ]
  },
  {
   "cell_type": "code",
   "execution_count": null,
   "metadata": {
    "id": "JM-hmh1DQxsR"
   },
   "outputs": [],
   "source": [
    "x = 10\n",
    "y = 3.8"
   ]
  },
  {
   "cell_type": "code",
   "execution_count": null,
   "metadata": {
    "id": "CzjXNJfjQ-Iy"
   },
   "outputs": [],
   "source": [
    "diff = x - y\n",
    "diff"
   ]
  },
  {
   "cell_type": "code",
   "execution_count": null,
   "metadata": {
    "id": "AWfdMWijRAPh"
   },
   "outputs": [],
   "source": [
    "my_str = 'a'\n",
    "my_int = 2"
   ]
  },
  {
   "cell_type": "code",
   "execution_count": null,
   "metadata": {
    "id": "bvd6lbJsRIGk"
   },
   "outputs": [],
   "source": [
    "diff = my_str - my_int\n",
    "diff"
   ]
  },
  {
   "cell_type": "code",
   "execution_count": null,
   "metadata": {
    "id": "7ONJRKYdRQJc"
   },
   "outputs": [],
   "source": [
    "my_str - 5.0"
   ]
  },
  {
   "cell_type": "code",
   "execution_count": null,
   "metadata": {
    "id": "9yCg3esyRct8"
   },
   "outputs": [],
   "source": [
    "str_1 = 'aman'\n",
    "str_2 = 'umang'"
   ]
  },
  {
   "cell_type": "code",
   "execution_count": null,
   "metadata": {
    "id": "fqw9urgCnrv2"
   },
   "outputs": [],
   "source": [
    "str_1 - str_2"
   ]
  },
  {
   "cell_type": "markdown",
   "metadata": {
    "id": "tmefvDXdSb4j"
   },
   "source": [
    "### Example\n",
    "The `*` operator"
   ]
  },
  {
   "cell_type": "code",
   "execution_count": null,
   "metadata": {
    "id": "RZY5GJK9Shne"
   },
   "outputs": [],
   "source": [
    "2 * 2"
   ]
  },
  {
   "cell_type": "code",
   "execution_count": null,
   "metadata": {
    "id": "Qb3tULT8SkRb"
   },
   "outputs": [],
   "source": [
    "4 * -30"
   ]
  },
  {
   "cell_type": "code",
   "execution_count": null,
   "metadata": {
    "id": "RMl0dbxmS6mR"
   },
   "outputs": [],
   "source": [
    "3.3 * -1.1"
   ]
  },
  {
   "cell_type": "code",
   "execution_count": null,
   "metadata": {
    "id": "TSo2yfpASnPg"
   },
   "outputs": [],
   "source": [
    "x = 14\n",
    "y = 3"
   ]
  },
  {
   "cell_type": "code",
   "execution_count": null,
   "metadata": {
    "id": "1U-F2XznStIx"
   },
   "outputs": [],
   "source": [
    "prod = x * y\n",
    "prod"
   ]
  },
  {
   "cell_type": "code",
   "execution_count": null,
   "metadata": {
    "id": "sq-gEA_bSv9d"
   },
   "outputs": [],
   "source": [
    "x = 0.4\n",
    "y = 1.6"
   ]
  },
  {
   "cell_type": "code",
   "execution_count": null,
   "metadata": {
    "id": "C1L2L7dXTE4z"
   },
   "outputs": [],
   "source": [
    "p = x * y\n",
    "p"
   ]
  },
  {
   "cell_type": "code",
   "execution_count": null,
   "metadata": {
    "id": "IBvKI48KTM2J"
   },
   "outputs": [],
   "source": [
    "my_str = 'umang '\n",
    "my_int = 5"
   ]
  },
  {
   "cell_type": "code",
   "execution_count": null,
   "metadata": {
    "id": "dlKQC-PyTTVY"
   },
   "outputs": [],
   "source": [
    "prod = my_str * my_int"
   ]
  },
  {
   "cell_type": "code",
   "execution_count": null,
   "metadata": {
    "id": "puC-ee9fTWwz"
   },
   "outputs": [],
   "source": [
    "prod"
   ]
  },
  {
   "cell_type": "markdown",
   "metadata": {
    "id": "dZevLaDJTYdc"
   },
   "source": [
    "Note that in Python, you can perform multiplication between a string and an integer. When you multiply a string by an integer, it creates a new string by repeating the original string multiple times. However, if you try to multiply a string by a non-integer, such as a float, you will encounter an error."
   ]
  },
  {
   "cell_type": "code",
   "execution_count": null,
   "metadata": {
    "id": "p9oSQWWUnrv5"
   },
   "outputs": [],
   "source": [
    "# 'hello' * 5.1"
   ]
  },
  {
   "cell_type": "code",
   "execution_count": null,
   "metadata": {
    "id": "Mq9UYLsnT0fX"
   },
   "outputs": [],
   "source": [
    "'hello' * 5"
   ]
  },
  {
   "cell_type": "code",
   "execution_count": null,
   "metadata": {
    "id": "T6GTO-2AT6D3"
   },
   "outputs": [],
   "source": [
    "'hi' * 0"
   ]
  },
  {
   "cell_type": "markdown",
   "metadata": {
    "id": "goIwqaRwY625"
   },
   "source": [
    "### Example\n",
    "The `**` operator"
   ]
  },
  {
   "cell_type": "code",
   "execution_count": null,
   "metadata": {},
   "outputs": [],
   "source": []
  },
  {
   "cell_type": "code",
   "execution_count": null,
   "metadata": {
    "id": "FxYDB_oSZNrX"
   },
   "outputs": [],
   "source": [
    "2 ** 1"
   ]
  },
  {
   "cell_type": "code",
   "execution_count": null,
   "metadata": {
    "id": "H3DApSXyZQ1S"
   },
   "outputs": [],
   "source": [
    "4 ** 2"
   ]
  },
  {
   "cell_type": "code",
   "execution_count": null,
   "metadata": {
    "id": "bJj8vLSyZTRj"
   },
   "outputs": [],
   "source": [
    "x = 9\n",
    "y = 2"
   ]
  },
  {
   "cell_type": "code",
   "execution_count": null,
   "metadata": {
    "id": "wgyCKGeyZV39"
   },
   "outputs": [],
   "source": [
    "res = x ** y"
   ]
  },
  {
   "cell_type": "code",
   "execution_count": null,
   "metadata": {
    "id": "1mZLdcGQZa0-"
   },
   "outputs": [],
   "source": [
    "res"
   ]
  },
  {
   "cell_type": "code",
   "execution_count": null,
   "metadata": {
    "id": "EqFcaWnEZf7B"
   },
   "outputs": [],
   "source": [
    "2.0 ** 3"
   ]
  },
  {
   "cell_type": "code",
   "execution_count": null,
   "metadata": {
    "id": "TWC0KCGfZj85"
   },
   "outputs": [],
   "source": [
    "x = 5.3 * 5.3 * 5.3 * 5.3\n",
    "x"
   ]
  },
  {
   "cell_type": "code",
   "execution_count": null,
   "metadata": {
    "id": "chaE6_aYZqP7"
   },
   "outputs": [],
   "source": [
    "res = 5.3 ** 4"
   ]
  },
  {
   "cell_type": "code",
   "execution_count": null,
   "metadata": {
    "id": "4E0FDzk4ZtDd"
   },
   "outputs": [],
   "source": [
    "res"
   ]
  },
  {
   "cell_type": "code",
   "execution_count": null,
   "metadata": {},
   "outputs": [],
   "source": [
    "from math import pow\n",
    "res = pow(5.3, 4)\n",
    "res"
   ]
  },
  {
   "cell_type": "code",
   "execution_count": null,
   "metadata": {
    "id": "UifzrkPXZvi6"
   },
   "outputs": [],
   "source": [
    "4 ** 0.5"
   ]
  },
  {
   "cell_type": "code",
   "execution_count": null,
   "metadata": {
    "id": "0V5xNdIPZ15Y"
   },
   "outputs": [],
   "source": [
    "x = 10\n",
    "y = 0.33"
   ]
  },
  {
   "cell_type": "code",
   "execution_count": null,
   "metadata": {
    "id": "JLdvsnKvZ7-d"
   },
   "outputs": [],
   "source": [
    "res = x ** y\n",
    "res"
   ]
  },
  {
   "cell_type": "code",
   "execution_count": null,
   "metadata": {
    "id": "G8rMddAoaAm_"
   },
   "outputs": [],
   "source": [
    "my_str = 'a'\n",
    "my_int = 2"
   ]
  },
  {
   "cell_type": "code",
   "execution_count": null,
   "metadata": {
    "id": "Hr-6EvwLaF5L"
   },
   "outputs": [],
   "source": [
    "my_str ** my_int"
   ]
  },
  {
   "cell_type": "markdown",
   "metadata": {
    "id": "QFpc-qqcgdJu"
   },
   "source": [
    "### Quiz\n",
    "Consider an arithmetic progression (AP) and a geometric progression (GP). For both the AP and the GP, suppose that the first term is $a=2$. For the AP, suppose that the common difference is $d=3$. For the GP, suppose that the common ratio is $r=3$. Find the sum of the sixth term of the AP and the third term of the GP.\n",
    "\n",
    "**Hint:** Formula for the $n_{th}$ term of an AP is $a_{n}=a+(n-1)d$ and the formula for the $n_{th}$ term of a GP is $a_{n}=ar^{n-1}$."
   ]
  },
  {
   "cell_type": "code",
   "execution_count": null,
   "metadata": {},
   "outputs": [],
   "source": []
  },
  {
   "cell_type": "code",
   "execution_count": null,
   "metadata": {
    "id": "g5VhEuQiLdmn"
   },
   "outputs": [],
   "source": [
    "##### CODE HERE #####\n",
    "a = 2\n",
    "d = 3\n",
    "r = 3\n",
    "\n",
    "n_ap = a + 5*d\n",
    "n_gp = a * (r**2)\n",
    "\n",
    "print(n_ap + n_gp)\n"
   ]
  },
  {
   "cell_type": "markdown",
   "metadata": {
    "id": "wUdNRK1pa_u7"
   },
   "source": [
    "### Example\n",
    "The `/` operator"
   ]
  },
  {
   "cell_type": "code",
   "execution_count": null,
   "metadata": {
    "id": "M4KzZQBfbEpy"
   },
   "outputs": [],
   "source": [
    "4 / 2"
   ]
  },
  {
   "cell_type": "code",
   "execution_count": null,
   "metadata": {
    "id": "0OqFOshgbG-d"
   },
   "outputs": [],
   "source": [
    "12.0 / 3"
   ]
  },
  {
   "cell_type": "code",
   "execution_count": null,
   "metadata": {
    "id": "PThk7_S-cogB"
   },
   "outputs": [],
   "source": [
    "4 / 0"
   ]
  },
  {
   "cell_type": "code",
   "execution_count": null,
   "metadata": {
    "id": "zFG3qqf2broN"
   },
   "outputs": [],
   "source": [
    "x = 10\n",
    "y = 2"
   ]
  },
  {
   "cell_type": "code",
   "execution_count": null,
   "metadata": {
    "id": "tPZalVEQbwvi"
   },
   "outputs": [],
   "source": [
    "quot = x / y\n",
    "quot"
   ]
  },
  {
   "cell_type": "code",
   "execution_count": null,
   "metadata": {
    "id": "76Esh3-Gb2gN"
   },
   "outputs": [],
   "source": [
    "my_str = 'a'\n",
    "my_int = 2"
   ]
  },
  {
   "cell_type": "code",
   "execution_count": null,
   "metadata": {
    "id": "YHsZF1WNcVdz"
   },
   "outputs": [],
   "source": [
    "my_str / my_int"
   ]
  },
  {
   "cell_type": "code",
   "execution_count": null,
   "metadata": {
    "id": "QGdc-EePdYiP"
   },
   "outputs": [],
   "source": [
    "math.floor(8 / 3)"
   ]
  },
  {
   "cell_type": "code",
   "execution_count": null,
   "metadata": {},
   "outputs": [],
   "source": [
    "7 / 3"
   ]
  },
  {
   "cell_type": "code",
   "execution_count": null,
   "metadata": {},
   "outputs": [],
   "source": [
    "7 // 3"
   ]
  },
  {
   "cell_type": "code",
   "execution_count": null,
   "metadata": {},
   "outputs": [],
   "source": [
    "7 % 3"
   ]
  },
  {
   "cell_type": "code",
   "execution_count": null,
   "metadata": {},
   "outputs": [],
   "source": [
    "num = 4\n",
    "\n",
    "if num % 2 == 0:\n",
    "    print (\"number is even\")\n",
    "else:\n",
    "    print(\"number is odd\")"
   ]
  },
  {
   "cell_type": "markdown",
   "metadata": {
    "id": "0biTLU4YdjwC"
   },
   "source": [
    "Notice that we have used `//` instead of `/` here.The `//` operator in Python is used for floor division. It divides the left operand by the right operand and returns the largest integer that is less than or equal to the result."
   ]
  },
  {
   "cell_type": "code",
   "execution_count": null,
   "metadata": {
    "id": "Q9kNmbFGd92R"
   },
   "outputs": [],
   "source": [
    "x = 20\n",
    "y = 6"
   ]
  },
  {
   "cell_type": "code",
   "execution_count": null,
   "metadata": {
    "id": "X32hl0rUeHZt"
   },
   "outputs": [],
   "source": [
    "quot = x / y\n",
    "quot"
   ]
  },
  {
   "cell_type": "code",
   "execution_count": null,
   "metadata": {
    "id": "t9Ry-3lBdbj7"
   },
   "outputs": [],
   "source": [
    "quot = x // y\n",
    "quot"
   ]
  },
  {
   "cell_type": "code",
   "execution_count": null,
   "metadata": {},
   "outputs": [],
   "source": [
    "20 % 3"
   ]
  },
  {
   "cell_type": "markdown",
   "metadata": {
    "id": "5A6hr4RTfXai"
   },
   "source": [
    "### Example\n",
    "The `%` operator"
   ]
  },
  {
   "cell_type": "code",
   "execution_count": null,
   "metadata": {
    "id": "dDb9ADc9fzhl"
   },
   "outputs": [],
   "source": [
    "5 % 2"
   ]
  },
  {
   "cell_type": "code",
   "execution_count": null,
   "metadata": {
    "id": "nyLBJcDjf3OT"
   },
   "outputs": [],
   "source": [
    "40 % 2"
   ]
  },
  {
   "cell_type": "code",
   "execution_count": null,
   "metadata": {
    "id": "QIBYmwA-gPPW"
   },
   "outputs": [],
   "source": [
    "x = 14\n",
    "y = 3"
   ]
  },
  {
   "cell_type": "code",
   "execution_count": null,
   "metadata": {
    "id": "ZiYqK-XMgSU0"
   },
   "outputs": [],
   "source": [
    "rem = x % y\n",
    "rem"
   ]
  },
  {
   "cell_type": "code",
   "execution_count": null,
   "metadata": {
    "id": "avYC8NZ8ga0U"
   },
   "outputs": [],
   "source": [
    "x = 13.2\n",
    "y = 4"
   ]
  },
  {
   "cell_type": "code",
   "execution_count": null,
   "metadata": {
    "id": "cznDhgQWgiuz"
   },
   "outputs": [],
   "source": [
    "rem = x % y\n",
    "rem"
   ]
  },
  {
   "cell_type": "code",
   "execution_count": null,
   "metadata": {
    "id": "tOzfE2otgs97"
   },
   "outputs": [],
   "source": [
    "x = 1444\n",
    "y = 12"
   ]
  },
  {
   "cell_type": "code",
   "execution_count": null,
   "metadata": {
    "id": "arAc786NgzRK"
   },
   "outputs": [],
   "source": [
    "x % y"
   ]
  },
  {
   "cell_type": "markdown",
   "metadata": {
    "id": "jhp2xCUjiTL8"
   },
   "source": [
    "### Example\n",
    "Equality operator"
   ]
  },
  {
   "cell_type": "code",
   "execution_count": null,
   "metadata": {
    "id": "XpNANw_LiTL8"
   },
   "outputs": [],
   "source": [
    "1 == 1"
   ]
  },
  {
   "cell_type": "code",
   "execution_count": null,
   "metadata": {
    "id": "ejIi4sTsiTL8"
   },
   "outputs": [],
   "source": [
    "'a' == 'a'"
   ]
  },
  {
   "cell_type": "code",
   "execution_count": null,
   "metadata": {
    "id": "6jcpWkG4iTL9"
   },
   "outputs": [],
   "source": [
    "4 == 4.0"
   ]
  },
  {
   "cell_type": "code",
   "execution_count": null,
   "metadata": {
    "id": "DWSkT83miTL9"
   },
   "outputs": [],
   "source": [
    "a = 10"
   ]
  },
  {
   "cell_type": "code",
   "execution_count": null,
   "metadata": {},
   "outputs": [],
   "source": [
    "type(10 == 11)"
   ]
  },
  {
   "cell_type": "code",
   "execution_count": null,
   "metadata": {
    "id": "BRUJ5tz5gdJy"
   },
   "outputs": [],
   "source": [
    "30 - 20 == 1000 - 990"
   ]
  },
  {
   "cell_type": "markdown",
   "metadata": {
    "id": "0LumxCqSuqqj"
   },
   "source": [
    "### Example\n",
    "The following examples demonstrate the use of the symmetric inequality operator `!=` in Python, which checks if two values are not equal. If the values are not equal, the expression evaluates to `True`; otherwise, it evaluates to `False`."
   ]
  },
  {
   "cell_type": "code",
   "execution_count": null,
   "metadata": {
    "id": "DMxDOCZWwYA7"
   },
   "outputs": [],
   "source": [
    "5 != 4"
   ]
  },
  {
   "cell_type": "code",
   "execution_count": null,
   "metadata": {
    "id": "NO2Rb1eewb6i"
   },
   "outputs": [],
   "source": [
    "10 != 100 / 10"
   ]
  },
  {
   "cell_type": "code",
   "execution_count": null,
   "metadata": {
    "id": "haDlM-TKwnRq"
   },
   "outputs": [],
   "source": [
    "'world' != 'w0rld'"
   ]
  },
  {
   "cell_type": "markdown",
   "metadata": {
    "id": "DeQj7cpZmhda"
   },
   "source": [
    "### Quiz\n",
    "Check whether `int(float(14.56))` and `44//3` are equal"
   ]
  },
  {
   "cell_type": "code",
   "execution_count": null,
   "metadata": {},
   "outputs": [],
   "source": [
    "int(14.56)"
   ]
  },
  {
   "cell_type": "code",
   "execution_count": null,
   "metadata": {},
   "outputs": [],
   "source": [
    "44//3"
   ]
  },
  {
   "cell_type": "code",
   "execution_count": null,
   "metadata": {
    "id": "ATS3H-UzpNBL"
   },
   "outputs": [],
   "source": [
    "##### CODE HERE #####\n",
    "int(float(14.56)) == 44//3"
   ]
  },
  {
   "cell_type": "markdown",
   "metadata": {
    "id": "F7jI0o1Iu6Fe"
   },
   "source": [
    "### Example\n",
    "Asymmetric inequalities"
   ]
  },
  {
   "cell_type": "code",
   "execution_count": null,
   "metadata": {
    "id": "LnMAuW2RitVn"
   },
   "outputs": [],
   "source": [
    "50 > 49"
   ]
  },
  {
   "cell_type": "code",
   "execution_count": null,
   "metadata": {
    "id": "zW7YxspYitVn"
   },
   "outputs": [],
   "source": [
    "'a' > 'b'"
   ]
  },
  {
   "cell_type": "code",
   "execution_count": null,
   "metadata": {
    "id": "sPCBqLD7itVo"
   },
   "outputs": [],
   "source": [
    "'b' > 'a'"
   ]
  },
  {
   "cell_type": "markdown",
   "metadata": {
    "id": "OBxz6QY4itVo"
   },
   "source": [
    "Note that in Python, when you compare characters, the comparison is based on their Unicode code points. You will gain more insight on comparisons based on lexicographical (dictionary) order in coming weeks."
   ]
  },
  {
   "cell_type": "code",
   "execution_count": null,
   "metadata": {
    "id": "_Jzi3x6sitVo"
   },
   "outputs": [],
   "source": [
    "40.0 > 40"
   ]
  },
  {
   "cell_type": "code",
   "execution_count": null,
   "metadata": {
    "id": "sCkHkdmtitVo"
   },
   "outputs": [],
   "source": [
    "# 'a' > 65"
   ]
  },
  {
   "cell_type": "code",
   "execution_count": null,
   "metadata": {
    "id": "30OLq7_3itVp"
   },
   "outputs": [],
   "source": [
    "100.02 < 100.01"
   ]
  },
  {
   "cell_type": "code",
   "execution_count": null,
   "metadata": {
    "id": "tunhETgxitVp"
   },
   "outputs": [],
   "source": [
    "6 <= 6"
   ]
  },
  {
   "cell_type": "code",
   "execution_count": null,
   "metadata": {
    "id": "xzdUWRBvitVp"
   },
   "outputs": [],
   "source": [
    "1350 >= 1300"
   ]
  },
  {
   "cell_type": "code",
   "execution_count": null,
   "metadata": {
    "id": "sfrOQeSMitVp"
   },
   "outputs": [],
   "source": [
    "45.0 <= 45"
   ]
  },
  {
   "cell_type": "markdown",
   "metadata": {
    "id": "zptdR-pBgdJ0"
   },
   "source": [
    "### Example\n",
    "Let's see between `int(float(14.56))` and `44/3`, which one is larger"
   ]
  },
  {
   "cell_type": "code",
   "execution_count": null,
   "metadata": {
    "id": "-lD4P8c1gdJ0"
   },
   "outputs": [],
   "source": [
    "int(float(14.56)) > 44/3"
   ]
  },
  {
   "cell_type": "markdown",
   "metadata": {
    "id": "S0M3JG7njEBY"
   },
   "source": [
    "### Example\n",
    "The `or` operator"
   ]
  },
  {
   "cell_type": "code",
   "execution_count": null,
   "metadata": {
    "id": "7Igv2GL0jEBZ"
   },
   "outputs": [],
   "source": [
    "True or True"
   ]
  },
  {
   "cell_type": "code",
   "execution_count": null,
   "metadata": {
    "id": "rePlVclD6Tsw"
   },
   "outputs": [],
   "source": [
    "True or True or True"
   ]
  },
  {
   "cell_type": "code",
   "execution_count": null,
   "metadata": {
    "id": "saOuPcVWjEBa"
   },
   "outputs": [],
   "source": [
    "True or False"
   ]
  },
  {
   "cell_type": "code",
   "execution_count": null,
   "metadata": {
    "id": "XMfpWuh86Vlp"
   },
   "outputs": [],
   "source": [
    "True or True or False"
   ]
  },
  {
   "cell_type": "code",
   "execution_count": null,
   "metadata": {
    "id": "NjRvUps3jEBa"
   },
   "outputs": [],
   "source": [
    "False or True"
   ]
  },
  {
   "cell_type": "code",
   "execution_count": null,
   "metadata": {
    "id": "G_4ZpO4mjEBa"
   },
   "outputs": [],
   "source": [
    "False or False"
   ]
  },
  {
   "cell_type": "markdown",
   "metadata": {
    "id": "S-KzhUJ_jEBb"
   },
   "source": [
    "The `or` operator in Python is a logical operator used for Boolean expressions. It returns `True` if at least one of the conditions being compared evaluates to `True`. It returns `False` only if all the conditions are `False`. The or operator short-circuits, meaning it stops evaluating expressions as soon as it encounters the first `True` condition."
   ]
  },
  {
   "cell_type": "code",
   "execution_count": null,
   "metadata": {
    "id": "WcK-4-RjjEBb"
   },
   "outputs": [],
   "source": [
    "5 > 3 or 2 < -1"
   ]
  },
  {
   "cell_type": "code",
   "execution_count": null,
   "metadata": {
    "id": "v3XAcoMDjEBb"
   },
   "outputs": [],
   "source": [
    "1 >= 2 or 3 <= 2.9"
   ]
  },
  {
   "cell_type": "code",
   "execution_count": null,
   "metadata": {
    "id": "HJ1Xr0sKjEBb"
   },
   "outputs": [],
   "source": [
    "'Hello' == 'Hello' or 'India' == 'Indiana'"
   ]
  },
  {
   "cell_type": "markdown",
   "metadata": {
    "id": "TEDUD5QIjKZg"
   },
   "source": [
    "### Example\n",
    "The `and` operator"
   ]
  },
  {
   "cell_type": "code",
   "execution_count": null,
   "metadata": {
    "id": "0okpp8XMjKZg"
   },
   "outputs": [],
   "source": [
    "True and True and False and True"
   ]
  },
  {
   "cell_type": "code",
   "execution_count": null,
   "metadata": {
    "id": "Tjz-dSxDjKZh"
   },
   "outputs": [],
   "source": [
    "True and False"
   ]
  },
  {
   "cell_type": "code",
   "execution_count": null,
   "metadata": {
    "id": "OoRH6eEXjKZi"
   },
   "outputs": [],
   "source": [
    "False and True"
   ]
  },
  {
   "cell_type": "code",
   "execution_count": null,
   "metadata": {
    "id": "IBowTdgajKZj"
   },
   "outputs": [],
   "source": [
    "False and False"
   ]
  },
  {
   "cell_type": "markdown",
   "metadata": {
    "id": "Ew1QSpcOjKZj"
   },
   "source": [
    "The `and` operator in Python is a logical operator used for Boolean expressions. It returns `True` only if all the conditions being compared evaluate to `True`. If any of the conditions is `False`, the result will be `False`. The and operator short-circuits, meaning it stops evaluating expressions as soon as it encounters the first `False` condition."
   ]
  },
  {
   "cell_type": "code",
   "execution_count": null,
   "metadata": {
    "id": "VlIVxeZ1jKZk"
   },
   "outputs": [],
   "source": [
    "4 < 5 and 10 > 2"
   ]
  },
  {
   "cell_type": "code",
   "execution_count": null,
   "metadata": {
    "id": "g15cOnmRjKZk"
   },
   "outputs": [],
   "source": [
    "10.3 > 23 and 5 > -1"
   ]
  },
  {
   "cell_type": "code",
   "execution_count": null,
   "metadata": {
    "id": "cZQv5gBSjKZk"
   },
   "outputs": [],
   "source": [
    "110 % 100 > 5 and 6 <= -1"
   ]
  },
  {
   "cell_type": "code",
   "execution_count": null,
   "metadata": {
    "id": "057WcfHbjKZl"
   },
   "outputs": [],
   "source": [
    "'India' == 'Indiana' and len('Hello') > 6"
   ]
  },
  {
   "cell_type": "markdown",
   "metadata": {
    "id": "uyTLLU0xjRWF"
   },
   "source": [
    "### Example\n",
    "The `not` operator"
   ]
  },
  {
   "cell_type": "code",
   "execution_count": null,
   "metadata": {
    "id": "aJjboDJbjRWG"
   },
   "outputs": [],
   "source": [
    "not True"
   ]
  },
  {
   "cell_type": "code",
   "execution_count": null,
   "metadata": {
    "id": "CY3NLrmgjRWG"
   },
   "outputs": [],
   "source": [
    "not False"
   ]
  },
  {
   "cell_type": "code",
   "execution_count": null,
   "metadata": {
    "id": "Ww5eSW1KjRWG"
   },
   "outputs": [],
   "source": [
    "(not True) or False"
   ]
  },
  {
   "cell_type": "code",
   "execution_count": null,
   "metadata": {},
   "outputs": [],
   "source": [
    "not (True or False)"
   ]
  },
  {
   "cell_type": "code",
   "execution_count": null,
   "metadata": {
    "id": "OUe1WhjS6bgT"
   },
   "outputs": [],
   "source": [
    "not(True or False)"
   ]
  },
  {
   "cell_type": "code",
   "execution_count": null,
   "metadata": {
    "id": "wkhMrnIM6gDC"
   },
   "outputs": [],
   "source": [
    "not False or True"
   ]
  },
  {
   "cell_type": "code",
   "execution_count": null,
   "metadata": {
    "id": "CfBCfiaHjRWH"
   },
   "outputs": [],
   "source": [
    "True or not False"
   ]
  },
  {
   "cell_type": "markdown",
   "metadata": {
    "id": "-9mX0P8gjRWH"
   },
   "source": [
    "The `not` operator in Python is a logical operator used to negate the truth value of a Boolean expression. It returns `True` if the given expression is `False`, and `False` if the expression is `True`."
   ]
  },
  {
   "cell_type": "code",
   "execution_count": null,
   "metadata": {
    "id": "mlWY4d_PjRWI"
   },
   "outputs": [],
   "source": [
    "not(5 > 3)"
   ]
  },
  {
   "cell_type": "code",
   "execution_count": null,
   "metadata": {
    "id": "nUND8c2RjRWI"
   },
   "outputs": [],
   "source": [
    "not(10.0 > 10 or 5 > 3)"
   ]
  },
  {
   "cell_type": "code",
   "execution_count": null,
   "metadata": {
    "id": "o5UscieJjRWI"
   },
   "outputs": [],
   "source": [
    "not('India' == 'Indiana' and 110 % 100 == 10)"
   ]
  },
  {
   "cell_type": "markdown",
   "metadata": {
    "id": "SiSe2CW4dyVn"
   },
   "source": [
    "### Quiz\n",
    "Consider the following logical statements:\n",
    "```\n",
    "'Hi' == 'Hello' and 25 > 13\n",
    "'Hi' != 'Hello' and 255 > 133\n",
    "'Hi' == 'Hello' or 25 > 13\n",
    "not('Hi' == 'Hello') and 25 > 13\n",
    "not(('Hi' != 'Hello') or 255 < 133)\n",
    "```\n",
    "Which of these statements is logically true? Execute them individually and see."
   ]
  },
  {
   "cell_type": "code",
   "execution_count": null,
   "metadata": {
    "id": "T7Y2mylEeqbu"
   },
   "outputs": [],
   "source": [
    "##### CODE HERE #####\n",
    "print('Hi' == 'Hello' and 25 > 13)\n",
    "print('Hi' != 'Hello' and 255 > 133)\n",
    "print('Hi' == 'Hello' or 25 > 13)\n",
    "print(not('Hi' == 'Hello') and 25 > 13)\n",
    "print(not(('Hi' != 'Hello') or 255 < 133))"
   ]
  },
  {
   "cell_type": "markdown",
   "metadata": {
    "id": "hxkJ9azzO1wJ"
   },
   "source": [
    "### Example\n",
    "Parentheses can be used to change the order of operations in an expression. Operator precedence in Python is as follows: `not` > `and` > `or`. Below are examples showing how parentheses affect the result."
   ]
  },
  {
   "cell_type": "code",
   "execution_count": null,
   "metadata": {
    "id": "sdw0KQEQO1wS"
   },
   "outputs": [],
   "source": [
    "True or False and False"
   ]
  },
  {
   "cell_type": "code",
   "execution_count": null,
   "metadata": {
    "id": "97Ir_-KCOPDk"
   },
   "outputs": [],
   "source": [
    "(True or False) and False"
   ]
  },
  {
   "cell_type": "code",
   "execution_count": null,
   "metadata": {
    "id": "_h9Nt6XxOJ-q"
   },
   "outputs": [],
   "source": [
    "not False and False"
   ]
  },
  {
   "cell_type": "code",
   "execution_count": null,
   "metadata": {
    "id": "WrEKcwEhOutP"
   },
   "outputs": [],
   "source": [
    "not(False and False)"
   ]
  },
  {
   "cell_type": "markdown",
   "metadata": {
    "id": "rLJIjm1eO_l0"
   },
   "source": [
    "You are encouraged to experiment with operator precedence further. You will encounter various situations where right operator precedence in code is necessary for your code to run properly."
   ]
  },
  {
   "cell_type": "markdown",
   "metadata": {
    "id": "KRjTOLIMHAPq"
   },
   "source": [
    "<markup> **Bitwise operators**\n",
    "\n",
    "You can refer to this link for to learn about bitwise operator\n",
    "[https://realpython.com/python-bitwise-operators/](https://)\n",
    "\n"
   ]
  },
  {
   "cell_type": "markdown",
   "metadata": {
    "id": "yj-v8xo-hR6z"
   },
   "source": [
    "# Strings\n",
    "This section focuses on string manipulation in Python. It covers how to use different types of quotes, escape characters, and perform operations such as formatting.\n",
    "\n"
   ]
  },
  {
   "cell_type": "markdown",
   "metadata": {
    "id": "xwseRl5xSwFh"
   },
   "source": [
    "## String formatting"
   ]
  },
  {
   "cell_type": "markdown",
   "metadata": {
    "id": "E2z0kTy06-AO"
   },
   "source": [
    "### Example\n",
    "Using the `f'{}'` expression to format strings"
   ]
  },
  {
   "cell_type": "code",
   "execution_count": 1,
   "metadata": {
    "id": "sr9sKJKrKOha"
   },
   "outputs": [],
   "source": [
    "name = 'Bob'\n",
    "age = 30"
   ]
  },
  {
   "cell_type": "code",
   "execution_count": 3,
   "metadata": {},
   "outputs": [
    {
     "name": "stdout",
     "output_type": "stream",
     "text": [
      "Bob\n"
     ]
    }
   ],
   "source": [
    "print(name)"
   ]
  },
  {
   "cell_type": "code",
   "execution_count": 5,
   "metadata": {},
   "outputs": [
    {
     "name": "stdout",
     "output_type": "stream",
     "text": [
      "30\n"
     ]
    }
   ],
   "source": [
    "print(age)"
   ]
  },
  {
   "cell_type": "code",
   "execution_count": 15,
   "metadata": {},
   "outputs": [
    {
     "name": "stdout",
     "output_type": "stream",
     "text": [
      "My name is umang\n"
     ]
    }
   ],
   "source": [
    "print(\"My name is umang\")"
   ]
  },
  {
   "cell_type": "code",
   "execution_count": 19,
   "metadata": {},
   "outputs": [
    {
     "name": "stdin",
     "output_type": "stream",
     "text": [
      "Enter your name:  Aman\n"
     ]
    },
    {
     "name": "stdout",
     "output_type": "stream",
     "text": [
      "Hello Aman !! How are you doing?\n"
     ]
    }
   ],
   "source": [
    "name = input(\"Enter your name: \")\n",
    "print(f'Hello {name} !! How are you doing?')"
   ]
  },
  {
   "cell_type": "code",
   "execution_count": 9,
   "metadata": {},
   "outputs": [
    {
     "name": "stdout",
     "output_type": "stream",
     "text": [
      "My name is Bob and I am 30 years old.\n"
     ]
    }
   ],
   "source": [
    "print(\"My name is\", name, \"and I am\", age, \"years old.\")"
   ]
  },
  {
   "cell_type": "code",
   "execution_count": 41,
   "metadata": {
    "id": "BjF2nKYz8WFi"
   },
   "outputs": [
    {
     "name": "stdout",
     "output_type": "stream",
     "text": [
      "My name is \"Aman\"    \n"
     ]
    }
   ],
   "source": [
    "print(f'My name is \"{name}\"    ')"
   ]
  },
  {
   "cell_type": "code",
   "execution_count": null,
   "metadata": {},
   "outputs": [],
   "source": [
    "'My name is Aman'"
   ]
  },
  {
   "cell_type": "code",
   "execution_count": 13,
   "metadata": {},
   "outputs": [
    {
     "data": {
      "text/plain": [
       "'My name is Bob'"
      ]
     },
     "execution_count": 13,
     "metadata": {},
     "output_type": "execute_result"
    }
   ],
   "source": [
    "f\"My name is {name}\""
   ]
  },
  {
   "cell_type": "code",
   "execution_count": null,
   "metadata": {
    "id": "UKBcVfw08i8q"
   },
   "outputs": [],
   "source": [
    "f'I am {age} years old.'"
   ]
  },
  {
   "cell_type": "code",
   "execution_count": 43,
   "metadata": {
    "id": "3tW1vw6U8qwU"
   },
   "outputs": [
    {
     "data": {
      "text/plain": [
       "'My name is Aman and I am 30 years old.'"
      ]
     },
     "execution_count": 43,
     "metadata": {},
     "output_type": "execute_result"
    }
   ],
   "source": [
    "f'My name is {name} and I am {age} years old.'"
   ]
  },
  {
   "cell_type": "markdown",
   "metadata": {
    "id": "Llh075Wq800J"
   },
   "source": [
    "### Example\n",
    "Using the `.format()` method to format strings"
   ]
  },
  {
   "cell_type": "code",
   "execution_count": 45,
   "metadata": {
    "id": "kinvBUhiKcDx"
   },
   "outputs": [],
   "source": [
    "name = 'Bob'\n",
    "age = 30"
   ]
  },
  {
   "cell_type": "code",
   "execution_count": 51,
   "metadata": {
    "id": "yjKP9b_q9m6U"
   },
   "outputs": [
    {
     "name": "stdout",
     "output_type": "stream",
     "text": [
      "My name is Bob \n"
     ]
    }
   ],
   "source": [
    "print('My name is {} '.format(name))"
   ]
  },
  {
   "cell_type": "code",
   "execution_count": 53,
   "metadata": {},
   "outputs": [
    {
     "data": {
      "text/plain": [
       "str"
      ]
     },
     "execution_count": 53,
     "metadata": {},
     "output_type": "execute_result"
    }
   ],
   "source": [
    "type('My name is {x} ')"
   ]
  },
  {
   "cell_type": "code",
   "execution_count": null,
   "metadata": {
    "id": "Lpv_qt5M6guQ"
   },
   "outputs": [],
   "source": [
    "'My name is {x} '.format(x = name)"
   ]
  },
  {
   "cell_type": "code",
   "execution_count": null,
   "metadata": {
    "id": "Bk5WdJ5U9m0-"
   },
   "outputs": [],
   "source": [
    "'I am {} years old.'.format(age)"
   ]
  },
  {
   "cell_type": "code",
   "execution_count": 127,
   "metadata": {},
   "outputs": [],
   "source": [
    "age = 30.000"
   ]
  },
  {
   "cell_type": "code",
   "execution_count": 129,
   "metadata": {
    "id": "zl4q10vj6guQ"
   },
   "outputs": [
    {
     "data": {
      "text/plain": [
       "'I am 30.0 years old.'"
      ]
     },
     "execution_count": 129,
     "metadata": {},
     "output_type": "execute_result"
    }
   ],
   "source": [
    "'I am {x} years old.'.format(x = age)"
   ]
  },
  {
   "cell_type": "code",
   "execution_count": null,
   "metadata": {
    "id": "OOIy8hlB6guQ"
   },
   "outputs": [],
   "source": [
    "# 'I am {x} years old.'.format(y = age)"
   ]
  },
  {
   "cell_type": "code",
   "execution_count": 69,
   "metadata": {
    "id": "3PkC2O0m9xDG"
   },
   "outputs": [
    {
     "data": {
      "text/plain": [
       "'My name is Bob and I am Bob years old. 2 3'"
      ]
     },
     "execution_count": 69,
     "metadata": {},
     "output_type": "execute_result"
    }
   ],
   "source": [
    "'My name is {} and I am {} years old. {} {}'.format(name, name, 2, 3)"
   ]
  },
  {
   "cell_type": "code",
   "execution_count": 49,
   "metadata": {
    "id": "2ylVPc7i6guQ"
   },
   "outputs": [
    {
     "data": {
      "text/plain": [
       "'My name is Bob and I am 30 years old.'"
      ]
     },
     "execution_count": 49,
     "metadata": {},
     "output_type": "execute_result"
    }
   ],
   "source": [
    "'My name is {x} and I am {y} years old.'.format(y = age, x = name)"
   ]
  },
  {
   "cell_type": "code",
   "execution_count": 67,
   "metadata": {},
   "outputs": [
    {
     "data": {
      "text/plain": [
       "'My name is Bob and I am Bob years old.'"
      ]
     },
     "execution_count": 67,
     "metadata": {},
     "output_type": "execute_result"
    }
   ],
   "source": [
    "'My name is {0} and I am {0} years old.'.format(name, age)"
   ]
  },
  {
   "cell_type": "markdown",
   "metadata": {
    "id": "PxXtSPt27jCx"
   },
   "source": [
    "### Example\n",
    "Using the `%` operator to format strings"
   ]
  },
  {
   "cell_type": "code",
   "execution_count": null,
   "metadata": {
    "id": "3pg2Vf-O7R36"
   },
   "outputs": [],
   "source": [
    "# str_output = 'The human population on planet %d is about %f billion individuals' % ('Earth', 8)\n",
    "# str_output"
   ]
  },
  {
   "cell_type": "code",
   "execution_count": 89,
   "metadata": {},
   "outputs": [],
   "source": [
    "Earth = \"Earth\""
   ]
  },
  {
   "cell_type": "code",
   "execution_count": 93,
   "metadata": {
    "id": "SSBZNVmFmIGv"
   },
   "outputs": [
    {
     "data": {
      "text/plain": [
       "'The human population on planet Earth is about 8 billion individuals'"
      ]
     },
     "execution_count": 93,
     "metadata": {},
     "output_type": "execute_result"
    }
   ],
   "source": [
    "str_output = 'The human population on planet %s \\\n",
    "is about %d billion individuals' % (Earth, 8)\n",
    "str_output"
   ]
  },
  {
   "cell_type": "code",
   "execution_count": 95,
   "metadata": {
    "id": "W8ab5uhW7iEV"
   },
   "outputs": [],
   "source": [
    "name = 'Bob'\n",
    "age = 30\n",
    "city = 'Bengaluru'"
   ]
  },
  {
   "cell_type": "code",
   "execution_count": 97,
   "metadata": {
    "id": "ewHY1wBj-Ytk"
   },
   "outputs": [
    {
     "data": {
      "text/plain": [
       "'My name is Bob'"
      ]
     },
     "execution_count": 97,
     "metadata": {},
     "output_type": "execute_result"
    }
   ],
   "source": [
    "'My name is %s' % (name)"
   ]
  },
  {
   "cell_type": "code",
   "execution_count": 115,
   "metadata": {
    "id": "o0I9QD1O-Yph"
   },
   "outputs": [
    {
     "data": {
      "text/plain": [
       "'I am 30 years old'"
      ]
     },
     "execution_count": 115,
     "metadata": {},
     "output_type": "execute_result"
    }
   ],
   "source": [
    "'I am %d years old' % (age)"
   ]
  },
  {
   "cell_type": "code",
   "execution_count": 131,
   "metadata": {
    "id": "5UAT5jwx6guR"
   },
   "outputs": [
    {
     "data": {
      "text/plain": [
       "'I am 30.0000 years old'"
      ]
     },
     "execution_count": 131,
     "metadata": {},
     "output_type": "execute_result"
    }
   ],
   "source": [
    "'I am %.4f years old' % (age)"
   ]
  },
  {
   "cell_type": "code",
   "execution_count": null,
   "metadata": {
    "id": "Wl3DFZpc6guR"
   },
   "outputs": [],
   "source": [
    "# 'I am %y years old' % (age)"
   ]
  },
  {
   "cell_type": "code",
   "execution_count": 113,
   "metadata": {
    "id": "u7gCW1rw-eq6"
   },
   "outputs": [
    {
     "data": {
      "text/plain": [
       "'I live in Bengaluru'"
      ]
     },
     "execution_count": 113,
     "metadata": {},
     "output_type": "execute_result"
    }
   ],
   "source": [
    "'I live in %s' % (city)"
   ]
  },
  {
   "cell_type": "markdown",
   "metadata": {
    "id": "UnzqtOfw6guR"
   },
   "source": [
    "The `%` operator is used for different types of formatting of values. For example, `%d` is used to display a value as an integer, `%f` is used to display a value as a floating point number, and `%s` is used to display a value as a string. You should study the other available `%` operators and their uses. Try querying an LLM for more information."
   ]
  },
  {
   "cell_type": "code",
   "execution_count": null,
   "metadata": {
    "id": "2SBceTNE-8T8"
   },
   "outputs": [],
   "source": [
    "'My name is %s, I am %d years old, and I live in %s.' % (name, age, city)"
   ]
  },
  {
   "cell_type": "markdown",
   "metadata": {
    "id": "Te4azI9KBlGM"
   },
   "source": [
    "## Escape sequences and characters"
   ]
  },
  {
   "cell_type": "markdown",
   "metadata": {
    "id": "RYUaqs_YLRZA"
   },
   "source": [
    "### Example\n",
    "Using `'\\n'` to create a new line"
   ]
  },
  {
   "cell_type": "code",
   "execution_count": 143,
   "metadata": {
    "id": "pi8MN1NrCCK9"
   },
   "outputs": [
    {
     "name": "stdout",
     "output_type": "stream",
     "text": [
      "Apple\n",
      "Orange\n",
      "Banana\n",
      "Avocado\n"
     ]
    }
   ],
   "source": [
    "fruits = 'Apple\\nOrange\\nBanana\\nAvocado'\n",
    "print(fruits)\n",
    "a = 5"
   ]
  },
  {
   "cell_type": "code",
   "execution_count": 145,
   "metadata": {
    "id": "OI07qAwiCGBN"
   },
   "outputs": [
    {
     "name": "stdout",
     "output_type": "stream",
     "text": [
      "Apple\tOrange\tBanana\tAvocado\n"
     ]
    }
   ],
   "source": [
    "fruits = 'Apple\\tOrange\\tBanana\\tAvocado'\n",
    "print(fruits)"
   ]
  },
  {
   "cell_type": "code",
   "execution_count": 137,
   "metadata": {
    "id": "HBOcDLGNCNnI"
   },
   "outputs": [
    {
     "name": "stdout",
     "output_type": "stream",
     "text": [
      "Apple\n",
      "Orange\n",
      "Banana\n",
      "Avocado\n"
     ]
    }
   ],
   "source": [
    "print(fruits)"
   ]
  },
  {
   "cell_type": "markdown",
   "metadata": {
    "id": "X-id0gWkLqdX"
   },
   "source": [
    "### Example\n",
    "Printing quotation marks"
   ]
  },
  {
   "cell_type": "code",
   "execution_count": 151,
   "metadata": {
    "id": "BUhm_EjIX5oA"
   },
   "outputs": [
    {
     "name": "stdout",
     "output_type": "stream",
     "text": [
      "It's raining outside.\n"
     ]
    }
   ],
   "source": [
    "print(\"It's raining outside.\")"
   ]
  },
  {
   "cell_type": "code",
   "execution_count": 153,
   "metadata": {
    "id": "cqAGkz-TLuOI"
   },
   "outputs": [
    {
     "name": "stdout",
     "output_type": "stream",
     "text": [
      "He said, \"Python is awesome!\"\n"
     ]
    }
   ],
   "source": [
    "print('He said, \"Python is awesome!\"')"
   ]
  },
  {
   "cell_type": "code",
   "execution_count": 155,
   "metadata": {
    "id": "xvmMwbkp6guT"
   },
   "outputs": [
    {
     "ename": "SyntaxError",
     "evalue": "unterminated string literal (detected at line 1) (3376294491.py, line 1)",
     "output_type": "error",
     "traceback": [
      "\u001b[0;36m  Cell \u001b[0;32mIn[155], line 1\u001b[0;36m\u001b[0m\n\u001b[0;31m    'It's raining outside.'\u001b[0m\n\u001b[0m                          ^\u001b[0m\n\u001b[0;31mSyntaxError\u001b[0m\u001b[0;31m:\u001b[0m unterminated string literal (detected at line 1)\n"
     ]
    }
   ],
   "source": [
    "'It's raining outside.'"
   ]
  },
  {
   "cell_type": "code",
   "execution_count": 179,
   "metadata": {
    "id": "F9EmZJxr6guT"
   },
   "outputs": [
    {
     "name": "stdout",
     "output_type": "stream",
     "text": [
      "It's raining outside.\n"
     ]
    }
   ],
   "source": [
    "print('It\\'s raining outside.')"
   ]
  },
  {
   "cell_type": "code",
   "execution_count": 183,
   "metadata": {
    "id": "_mrfFfZaX40J"
   },
   "outputs": [
    {
     "data": {
      "text/plain": [
       "'He said, \"Python is awesome!\"'"
      ]
     },
     "execution_count": 183,
     "metadata": {},
     "output_type": "execute_result"
    }
   ],
   "source": [
    "'He said, \"Python is awesome!\"'"
   ]
  },
  {
   "cell_type": "code",
   "execution_count": 187,
   "metadata": {
    "id": "i-auxAE77ytS"
   },
   "outputs": [
    {
     "name": "stdout",
     "output_type": "stream",
     "text": [
      "He said, 'Python is awesome!'\n"
     ]
    }
   ],
   "source": [
    "print('He said, \\'Python is awesome!\\'')"
   ]
  },
  {
   "cell_type": "code",
   "execution_count": null,
   "metadata": {
    "id": "BVnuo5Wd6guT"
   },
   "outputs": [],
   "source": [
    "\"He said, \\\"Python is awesome!\\\"\""
   ]
  },
  {
   "cell_type": "markdown",
   "metadata": {
    "id": "6B6Dtb6jQLAe"
   },
   "source": [
    "### Example\n",
    "The provided code example demonstrates the use of escape sequences in strings for formatting text output. Specifically, it uses the tab (`\\t`) and newline (`\\n`) escape characters to create a neatly formatted table-like output.\n",
    "\n",
    "`print('English\\t86\\nMathematics\\t76\\nScience\\t92')`?"
   ]
  },
  {
   "cell_type": "code",
   "execution_count": 197,
   "metadata": {
    "id": "RXrGbgyuoWEt",
    "scrolled": true
   },
   "outputs": [
    {
     "name": "stdout",
     "output_type": "stream",
     "text": [
      "English\t86\n",
      "Mathematics\t76\n",
      "Science\t92\n"
     ]
    }
   ],
   "source": [
    "print('English\\t86\\nMathematics\\t76\\nScience\\t92')"
   ]
  },
  {
   "cell_type": "code",
   "execution_count": 193,
   "metadata": {},
   "outputs": [
    {
     "name": "stdout",
     "output_type": "stream",
     "text": [
      "\\n\n"
     ]
    }
   ],
   "source": [
    "print(\"\\\\n\")"
   ]
  },
  {
   "cell_type": "code",
   "execution_count": null,
   "metadata": {},
   "outputs": [],
   "source": []
  }
 ],
 "metadata": {
  "colab": {
   "provenance": [],
   "toc_visible": true
  },
  "kernelspec": {
   "display_name": "Python 3 (ipykernel)",
   "language": "python",
   "name": "python3"
  },
  "language_info": {
   "codemirror_mode": {
    "name": "ipython",
    "version": 3
   },
   "file_extension": ".py",
   "mimetype": "text/x-python",
   "name": "python",
   "nbconvert_exporter": "python",
   "pygments_lexer": "ipython3",
   "version": "3.12.4"
  }
 },
 "nbformat": 4,
 "nbformat_minor": 4
}
