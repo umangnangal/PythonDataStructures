{
 "cells": [
  {
   "cell_type": "markdown",
   "metadata": {
    "id": "evpcACi-LBK2"
   },
   "source": [
    "# Comprehensions\n",
    "Comprehensions in Python are a succinct and powerful feature for creating and transforming data structures. They provide a concise syntax for generating and modifying iterables such as lists and dictionaries, allowing for efficient operations on iterable objects in just a single line of code.\n",
    "\n",
    "They follow the general syntax `[expression for item in iterable if condition]`"
   ]
  },
  {
   "cell_type": "markdown",
   "metadata": {
    "id": "_SycI1xMdn0v"
   },
   "source": [
    "# Comprehensions"
   ]
  },
  {
   "cell_type": "markdown",
   "metadata": {
    "id": "PGJZRkAENIR_"
   },
   "source": [
    "### Example\n",
    "Creating list comprehensions"
   ]
  },
  {
   "cell_type": "code",
   "execution_count": 59,
   "metadata": {},
   "outputs": [
    {
     "name": "stdout",
     "output_type": "stream",
     "text": [
      "[2, 4, 6, 8, 10, 12, 14, 16, 18]\n"
     ]
    }
   ],
   "source": [
    "my_list = [1,2,3,4,5,6,7,8,9]\n",
    "new_list = []\n",
    "for x in my_list:\n",
    "    new_list.append(x * 2)\n",
    "print(new_list)"
   ]
  },
  {
   "cell_type": "code",
   "execution_count": 61,
   "metadata": {},
   "outputs": [
    {
     "data": {
      "text/plain": [
       "[2, 4, 6, 8, 10, 12, 14, 16, 18]"
      ]
     },
     "execution_count": 61,
     "metadata": {},
     "output_type": "execute_result"
    }
   ],
   "source": [
    "new_list = [x * 2 for x in my_list]\n",
    "new_list"
   ]
  },
  {
   "cell_type": "code",
   "execution_count": 31,
   "metadata": {
    "id": "UVzNiZzjN3JC"
   },
   "outputs": [],
   "source": [
    "daily_sales = [120, 105, 133, 89, 74, 112, 115]"
   ]
  },
  {
   "cell_type": "code",
   "execution_count": 33,
   "metadata": {
    "id": "N_INuxeON7Rp"
   },
   "outputs": [
    {
     "data": {
      "text/plain": [
       "[120, 105, 133, 89, 74, 112, 115]"
      ]
     },
     "execution_count": 33,
     "metadata": {},
     "output_type": "execute_result"
    }
   ],
   "source": [
    "daily_sales"
   ]
  },
  {
   "cell_type": "code",
   "execution_count": null,
   "metadata": {
    "id": "EOQKCqF6_LAR"
   },
   "outputs": [],
   "source": [
    "[val for val in daily_sales]"
   ]
  },
  {
   "cell_type": "code",
   "execution_count": null,
   "metadata": {
    "id": "VhNoH5bgNRHa"
   },
   "outputs": [],
   "source": [
    "rate_val = 5"
   ]
  },
  {
   "cell_type": "code",
   "execution_count": null,
   "metadata": {
    "id": "7dTbe6QMNZ7t"
   },
   "outputs": [],
   "source": [
    "[val * rate_val for val in daily_sales]"
   ]
  },
  {
   "cell_type": "code",
   "execution_count": null,
   "metadata": {
    "id": "H5ppXkfq_LAR"
   },
   "outputs": [],
   "source": [
    "daily_sales_revenue = [val * rate_val for val in daily_sales]\n",
    "daily_sales_revenue"
   ]
  },
  {
   "cell_type": "code",
   "execution_count": null,
   "metadata": {
    "id": "Cr1No6F5Ody7"
   },
   "outputs": [],
   "source": [
    "comp_list = [num ** 2 for num in range(1, 6)]"
   ]
  },
  {
   "cell_type": "code",
   "execution_count": null,
   "metadata": {
    "id": "6HnvbxUWNkuf"
   },
   "outputs": [],
   "source": [
    "comp_list"
   ]
  },
  {
   "cell_type": "code",
   "execution_count": null,
   "metadata": {
    "id": "E5NQ93iuO_kY"
   },
   "outputs": [],
   "source": [
    "my_string = 'Hello'"
   ]
  },
  {
   "cell_type": "code",
   "execution_count": null,
   "metadata": {
    "id": "up8E4_tBPEAU"
   },
   "outputs": [],
   "source": [
    "comp_list = [char for char in my_string]"
   ]
  },
  {
   "cell_type": "code",
   "execution_count": null,
   "metadata": {
    "id": "aGI_ddRGPKxL"
   },
   "outputs": [],
   "source": [
    "comp_list"
   ]
  },
  {
   "cell_type": "code",
   "execution_count": null,
   "metadata": {
    "id": "ytuXur2R_LAS"
   },
   "outputs": [],
   "source": [
    "comp_list = [ord(char) for char in my_string]"
   ]
  },
  {
   "cell_type": "code",
   "execution_count": null,
   "metadata": {
    "id": "1Ssklav1_LAS"
   },
   "outputs": [],
   "source": [
    "comp_list"
   ]
  },
  {
   "cell_type": "code",
   "execution_count": null,
   "metadata": {
    "id": "BykuXGSS2dMP"
   },
   "outputs": [],
   "source": [
    "# filtering using a conditional\n",
    "comp_list = [char for char in my_string if char in \"aeiou\"]"
   ]
  },
  {
   "cell_type": "code",
   "execution_count": null,
   "metadata": {
    "id": "zQGI08NR2otY"
   },
   "outputs": [],
   "source": [
    "comp_list"
   ]
  },
  {
   "cell_type": "markdown",
   "metadata": {
    "id": "EkMUjxdn_LAS"
   },
   "source": [
    "### Quiz\n",
    "Transform the list `[10, 20, 30, 40, 50, 60, 70]` to `[1, 2, 3, 4, 5, 6, 7]` using comprehensions"
   ]
  },
  {
   "cell_type": "code",
   "execution_count": 69,
   "metadata": {
    "id": "30rmgaDB_LAS"
   },
   "outputs": [
    {
     "data": {
      "text/plain": [
       "[1, 2, 3, 4, 5, 6, 7]"
      ]
     },
     "execution_count": 69,
     "metadata": {},
     "output_type": "execute_result"
    }
   ],
   "source": [
    "### YOUR CODE HERE ###\n",
    "a = [10, 20, 30, 40, 50, 60, 70]\n",
    "b = [x//10 for x in a]\n",
    "b"
   ]
  },
  {
   "cell_type": "markdown",
   "metadata": {
    "id": "AISoBLP-nI_X"
   },
   "source": [
    "Similarly, we can create comprehensions using other Python data structures as well."
   ]
  },
  {
   "cell_type": "markdown",
   "metadata": {
    "id": "Yct3gIc9Ca_D"
   },
   "source": [
    "### Example\n",
    "Dictionary comprehensions"
   ]
  },
  {
   "cell_type": "code",
   "execution_count": 79,
   "metadata": {
    "id": "Hwewnm1nCakb"
   },
   "outputs": [],
   "source": [
    "my_list = [1,2,3,4,5,6,7,8,9]\n",
    "dict_comp = {i**3: i*2 for i in my_list}"
   ]
  },
  {
   "cell_type": "code",
   "execution_count": 81,
   "metadata": {
    "id": "fmT1PkXsdh8p"
   },
   "outputs": [
    {
     "data": {
      "text/plain": [
       "{1: 2, 8: 4, 27: 6, 64: 8, 125: 10, 216: 12, 343: 14, 512: 16, 729: 18}"
      ]
     },
     "execution_count": 81,
     "metadata": {},
     "output_type": "execute_result"
    }
   ],
   "source": [
    "dict_comp"
   ]
  },
  {
   "cell_type": "code",
   "execution_count": 83,
   "metadata": {
    "id": "I4PBSPW0Eb6K"
   },
   "outputs": [
    {
     "data": {
      "text/plain": [
       "dict"
      ]
     },
     "execution_count": 83,
     "metadata": {},
     "output_type": "execute_result"
    }
   ],
   "source": [
    "type(dict_comp)"
   ]
  },
  {
   "cell_type": "code",
   "execution_count": 95,
   "metadata": {
    "id": "l3-zq-zLEgNC"
   },
   "outputs": [],
   "source": [
    "dict_comp = {num: num * 2 for num in [1,2,3]}"
   ]
  },
  {
   "cell_type": "code",
   "execution_count": 97,
   "metadata": {
    "id": "MOCoORw3ExbO"
   },
   "outputs": [
    {
     "data": {
      "text/plain": [
       "{1: 2, 2: 4, 3: 6}"
      ]
     },
     "execution_count": 97,
     "metadata": {},
     "output_type": "execute_result"
    }
   ],
   "source": [
    "dict_comp"
   ]
  },
  {
   "cell_type": "code",
   "execution_count": 101,
   "metadata": {
    "id": "87KCBGgZHNJf"
   },
   "outputs": [],
   "source": [
    "words = ['apple', 'banana', 'kiwi', 'orange', 'grape']"
   ]
  },
  {
   "cell_type": "code",
   "execution_count": 103,
   "metadata": {
    "id": "rkHQ7GAVE40p"
   },
   "outputs": [],
   "source": [
    "dict_comp = {word: len(word) for word in words}"
   ]
  },
  {
   "cell_type": "code",
   "execution_count": 105,
   "metadata": {
    "id": "WI1nYD0aHfts"
   },
   "outputs": [
    {
     "data": {
      "text/plain": [
       "{'apple': 5, 'banana': 6, 'kiwi': 4, 'orange': 6, 'grape': 5}"
      ]
     },
     "execution_count": 105,
     "metadata": {},
     "output_type": "execute_result"
    }
   ],
   "source": [
    "dict_comp"
   ]
  },
  {
   "cell_type": "code",
   "execution_count": 107,
   "metadata": {
    "id": "LcBEUDtlHu9n"
   },
   "outputs": [],
   "source": [
    "dict_comp = {word: word.upper() for word in words}"
   ]
  },
  {
   "cell_type": "code",
   "execution_count": 109,
   "metadata": {
    "id": "TsfSavs-H2tV"
   },
   "outputs": [
    {
     "data": {
      "text/plain": [
       "{'apple': 'APPLE',\n",
       " 'banana': 'BANANA',\n",
       " 'kiwi': 'KIWI',\n",
       " 'orange': 'ORANGE',\n",
       " 'grape': 'GRAPE'}"
      ]
     },
     "execution_count": 109,
     "metadata": {},
     "output_type": "execute_result"
    }
   ],
   "source": [
    "dict_comp"
   ]
  },
  {
   "cell_type": "code",
   "execution_count": 115,
   "metadata": {
    "id": "kyFO8S9F1kIV"
   },
   "outputs": [],
   "source": [
    "# filtering using a conditional\n",
    "dict_comp = [word for word in words if 'n' in word]"
   ]
  },
  {
   "cell_type": "code",
   "execution_count": 117,
   "metadata": {
    "id": "1X99bQFd1gLB"
   },
   "outputs": [
    {
     "data": {
      "text/plain": [
       "['banana', 'orange']"
      ]
     },
     "execution_count": 117,
     "metadata": {},
     "output_type": "execute_result"
    }
   ],
   "source": [
    "dict_comp"
   ]
  },
  {
   "cell_type": "markdown",
   "metadata": {
    "id": "diHS0eZdIshI"
   },
   "source": [
    "# Functions\n",
    "In Python, a function is a block of organized, reusable code that performs a specific task. Functions help in modularizing code, making it more readable, and promoting code reusability."
   ]
  },
  {
   "cell_type": "markdown",
   "metadata": {
    "id": "xBaa7CTnJSi4"
   },
   "source": [
    "## Built-in functions\n",
    "So far in earlier sessions, you have come across several built-in functions and functions such as `len`, `print`, `ord`, `int`, `sorted` and so on\n",
    "\n",
    "Built-in functions in Python are functions that are available as part of the Python standard library. These functions are always accessible and don't require importing any additional modules."
   ]
  },
  {
   "cell_type": "markdown",
   "metadata": {
    "id": "nGuAJYoKKV9O"
   },
   "source": [
    "### Example\n",
    "Built-in functions"
   ]
  },
  {
   "cell_type": "code",
   "execution_count": null,
   "metadata": {
    "id": "LLiit23K9LEI"
   },
   "outputs": [],
   "source": [
    "print('This a built-in function')"
   ]
  },
  {
   "cell_type": "code",
   "execution_count": null,
   "metadata": {
    "id": "rB1hAfjqLOHd"
   },
   "outputs": [],
   "source": [
    "len('Harry Potter')"
   ]
  },
  {
   "cell_type": "code",
   "execution_count": 119,
   "metadata": {
    "id": "ux7OQ4O-LVKu"
   },
   "outputs": [
    {
     "data": {
      "text/plain": [
       "65"
      ]
     },
     "execution_count": 119,
     "metadata": {},
     "output_type": "execute_result"
    }
   ],
   "source": [
    "ord('A')"
   ]
  },
  {
   "cell_type": "code",
   "execution_count": null,
   "metadata": {
    "id": "k_fjQeS0LZjv"
   },
   "outputs": [],
   "source": [
    "sorted([5, 4, 3, 2, 1])"
   ]
  },
  {
   "cell_type": "code",
   "execution_count": 121,
   "metadata": {
    "id": "T1JHE_MTLe-4"
   },
   "outputs": [
    {
     "data": {
      "text/plain": [
       "40"
      ]
     },
     "execution_count": 121,
     "metadata": {},
     "output_type": "execute_result"
    }
   ],
   "source": [
    "abs(-40)"
   ]
  },
  {
   "cell_type": "markdown",
   "metadata": {
    "id": "R7LywiInLlJ_"
   },
   "source": [
    "Notice that you were not required to write a logic for the above functions. You only have to call them to access their functionality."
   ]
  },
  {
   "cell_type": "markdown",
   "metadata": {
    "id": "HUlhcGfTMtSC"
   },
   "source": [
    "Python has an extensive list of built-in functions that perform a variety of tasks. You are encouraged to explore these further."
   ]
  },
  {
   "cell_type": "markdown",
   "metadata": {
    "id": "OebxpA0-Nk8j"
   },
   "source": [
    "## User-defined functions"
   ]
  },
  {
   "cell_type": "markdown",
   "metadata": {
    "id": "8r5I2FdyNyGG"
   },
   "source": [
    "### Example\n",
    "Defining a function"
   ]
  },
  {
   "cell_type": "code",
   "execution_count": 123,
   "metadata": {
    "id": "SlIaJbBlOHeP"
   },
   "outputs": [],
   "source": [
    "# Defining a function\n",
    "def printer_function():\n",
    "    print('This a simple function')"
   ]
  },
  {
   "cell_type": "code",
   "execution_count": 127,
   "metadata": {
    "id": "V-duYZmDPe8k"
   },
   "outputs": [
    {
     "data": {
      "text/plain": [
       "function"
      ]
     },
     "execution_count": 127,
     "metadata": {},
     "output_type": "execute_result"
    }
   ],
   "source": [
    "type(printer_function)"
   ]
  },
  {
   "cell_type": "code",
   "execution_count": 129,
   "metadata": {
    "id": "g4MIsT43PNdV"
   },
   "outputs": [
    {
     "name": "stdout",
     "output_type": "stream",
     "text": [
      "This a simple function\n"
     ]
    }
   ],
   "source": [
    "# Calling the function\n",
    "printer_function()"
   ]
  },
  {
   "cell_type": "code",
   "execution_count": null,
   "metadata": {
    "id": "L84M9cpoRBze"
   },
   "outputs": [],
   "source": [
    "# def printer_function:\n",
    "#     print('This a simple function')"
   ]
  },
  {
   "cell_type": "code",
   "execution_count": null,
   "metadata": {
    "id": "xYn92YAgP0EJ"
   },
   "outputs": [],
   "source": [
    "# def printer_function():\n",
    "# print('This a simple function')"
   ]
  },
  {
   "cell_type": "markdown",
   "metadata": {
    "id": "UDWHIcqzP9xG"
   },
   "source": [
    "Notice similar to conditional and looping structures, functions require an indentation when writing the logic statements"
   ]
  },
  {
   "cell_type": "code",
   "execution_count": 165,
   "metadata": {
    "id": "1my7jiX2P81i"
   },
   "outputs": [],
   "source": [
    "def greet(name):\n",
    "    print(f'Hello {name}!')\n",
    "    print(\"Hello class !!\")"
   ]
  },
  {
   "cell_type": "code",
   "execution_count": 167,
   "metadata": {
    "id": "WAlSXfZmQ1LL"
   },
   "outputs": [
    {
     "name": "stdout",
     "output_type": "stream",
     "text": [
      "Hello Umang!\n",
      "Hello class !!\n"
     ]
    }
   ],
   "source": [
    "greet(\"Umang\")"
   ]
  },
  {
   "cell_type": "markdown",
   "metadata": {
    "id": "sQZkh13pd6c0"
   },
   "source": [
    "### Example\n",
    "Practical considerations while defining functions: Adding docstring in function definition. A docstring in Python is a multiline comment that occurs as the first statement in a function. Its purpose is to provide documentation for the function."
   ]
  },
  {
   "cell_type": "code",
   "execution_count": 223,
   "metadata": {
    "id": "I52RqrZseFvM"
   },
   "outputs": [],
   "source": [
    "def greeting(user):\n",
    "    \"\"\"\n",
    "    This function prints a greeting message - written by Umang\n",
    "    \"\"\"\n",
    "    return ('Hello! ' + user)\n"
   ]
  },
  {
   "cell_type": "code",
   "execution_count": 225,
   "metadata": {
    "id": "MlpRWKXFfiwo"
   },
   "outputs": [],
   "source": [
    "my_greeting = greeting(\"Umang\")"
   ]
  },
  {
   "cell_type": "code",
   "execution_count": 227,
   "metadata": {
    "id": "42vktwgDeV9W"
   },
   "outputs": [
    {
     "name": "stdout",
     "output_type": "stream",
     "text": [
      "Hello! Umang\n"
     ]
    }
   ],
   "source": [
    "print(my_greeting)"
   ]
  },
  {
   "cell_type": "markdown",
   "metadata": {
    "id": "P9Gm8_3nBAHP"
   },
   "source": [
    "Note that `help` is also a function"
   ]
  },
  {
   "cell_type": "code",
   "execution_count": 181,
   "metadata": {
    "id": "tOsFLmQXfVUl"
   },
   "outputs": [],
   "source": [
    "def add():\n",
    "    \"\"\"\n",
    "    This function calculates and prints the sum of 10 and 30\n",
    "    \"\"\"\n",
    "    a = 10\n",
    "    b = 30\n",
    "    print(a + b)"
   ]
  },
  {
   "cell_type": "code",
   "execution_count": 183,
   "metadata": {
    "id": "sm12ifYZfgml"
   },
   "outputs": [
    {
     "name": "stdout",
     "output_type": "stream",
     "text": [
      "40\n"
     ]
    }
   ],
   "source": [
    "add()"
   ]
  },
  {
   "cell_type": "code",
   "execution_count": 4,
   "metadata": {
    "id": "uxjJes4NfncO"
   },
   "outputs": [
    {
     "name": "stdout",
     "output_type": "stream",
     "text": [
      "Help on function add in module __main__:\n",
      "\n",
      "add()\n",
      "    This function calculates and prints the sum of 10 and 30\n",
      "\n"
     ]
    }
   ],
   "source": [
    "help(add)"
   ]
  },
  {
   "cell_type": "code",
   "execution_count": 201,
   "metadata": {},
   "outputs": [],
   "source": [
    "def square(a):\n",
    "    \"\"\"\n",
    "    This function prints the sum of the 2 numbers passed in as arguments\n",
    "    \"\"\"\n",
    "    print(a**2)"
   ]
  },
  {
   "cell_type": "code",
   "execution_count": 203,
   "metadata": {},
   "outputs": [
    {
     "name": "stdout",
     "output_type": "stream",
     "text": [
      "64\n"
     ]
    }
   ],
   "source": [
    "square(8)"
   ]
  },
  {
   "cell_type": "markdown",
   "metadata": {
    "id": "uP0TPffZf6FJ"
   },
   "source": [
    "### Example\n",
    "Practical considerations while defining functions: Using the `pass` statement. The `pass` statement is a `null` operation, and it does nothing when executed. It is often used as a placeholder before writing the code in a function."
   ]
  },
  {
   "cell_type": "code",
   "execution_count": null,
   "metadata": {
    "id": "vadOofIfgXLn"
   },
   "outputs": [],
   "source": [
    "def my_function():\n",
    "    pass"
   ]
  },
  {
   "cell_type": "code",
   "execution_count": null,
   "metadata": {
    "id": "VtW1Hrr_suok"
   },
   "outputs": [],
   "source": [
    "my_function()"
   ]
  },
  {
   "cell_type": "markdown",
   "metadata": {
    "id": "TRcLYWMigm2v"
   },
   "source": [
    "### Quiz\n",
    "Create a function that calculates and prints the square of 10. Add a docstring to help describe the function."
   ]
  },
  {
   "cell_type": "code",
   "execution_count": null,
   "metadata": {
    "id": "7RJLHhhqg2Sf"
   },
   "outputs": [],
   "source": [
    "### YOUR CODE HERE ###"
   ]
  },
  {
   "cell_type": "code",
   "execution_count": null,
   "metadata": {
    "id": "kLLy3tnLhTgy"
   },
   "outputs": [],
   "source": [
    "### YOUR CODE HERE ###"
   ]
  },
  {
   "cell_type": "code",
   "execution_count": null,
   "metadata": {
    "id": "2c5FoTvHhYZw"
   },
   "outputs": [],
   "source": [
    "### YOUR CODE HERE ###"
   ]
  },
  {
   "cell_type": "markdown",
   "metadata": {
    "id": "aJpIgFRKpQkk"
   },
   "source": [
    "## Function scope\n",
    "In Python, the concepts of global and local scope are crucial for understanding how variables are accessed and modified within functions"
   ]
  },
  {
   "cell_type": "markdown",
   "metadata": {
    "id": "C3K80I3gBAHU"
   },
   "source": [
    "**Global scope**:\n",
    "- Variables outside functions have global scope\n",
    "- Accessible throughout the code\n",
    "- Declared at the top level of a script or module"
   ]
  },
  {
   "cell_type": "markdown",
   "metadata": {
    "id": "28EVd9EPq6-c"
   },
   "source": [
    "### Example\n",
    "Global variable"
   ]
  },
  {
   "cell_type": "code",
   "execution_count": null,
   "metadata": {
    "id": "5tiNEIYWpVKV"
   },
   "outputs": [],
   "source": [
    "global_variable = 10\n",
    "\n",
    "def some_function():\n",
    "    print(global_variable)"
   ]
  },
  {
   "cell_type": "code",
   "execution_count": null,
   "metadata": {
    "id": "9xbo8pDYqN1w"
   },
   "outputs": [],
   "source": [
    "some_function()"
   ]
  },
  {
   "cell_type": "markdown",
   "metadata": {
    "id": "agKN8BCXqQIO"
   },
   "source": [
    "**Local scope**:\n",
    "- Variables inside functions have local scope\n",
    "- Accessible only within that function\n",
    "- Created and destroyed when the function is called and exits"
   ]
  },
  {
   "cell_type": "code",
   "execution_count": null,
   "metadata": {
    "id": "8YA4mEQpqNyA"
   },
   "outputs": [],
   "source": [
    "def another_function():\n",
    "    local_variable = 5\n",
    "    print(local_variable)"
   ]
  },
  {
   "cell_type": "code",
   "execution_count": null,
   "metadata": {
    "id": "Vtk10MfBqLI_"
   },
   "outputs": [],
   "source": [
    "another_function()"
   ]
  },
  {
   "cell_type": "code",
   "execution_count": null,
   "metadata": {
    "id": "k6Dfp4wJqeVZ"
   },
   "outputs": [],
   "source": [
    "# print(local_variable)"
   ]
  },
  {
   "cell_type": "markdown",
   "metadata": {
    "id": "NQewhqvcqiBq"
   },
   "source": [
    "### Example\n",
    "Modifying a global variable inside a function requires using the `global` keyword"
   ]
  },
  {
   "cell_type": "code",
   "execution_count": 7,
   "metadata": {
    "id": "TgaMFC2xqkJe"
   },
   "outputs": [],
   "source": [
    "global_variable = 10"
   ]
  },
  {
   "cell_type": "code",
   "execution_count": 9,
   "metadata": {
    "id": "BGRRdy20qtc1"
   },
   "outputs": [
    {
     "data": {
      "text/plain": [
       "10"
      ]
     },
     "execution_count": 9,
     "metadata": {},
     "output_type": "execute_result"
    }
   ],
   "source": [
    "global_variable"
   ]
  },
  {
   "cell_type": "code",
   "execution_count": 11,
   "metadata": {
    "id": "Cp1SNybfqqQD"
   },
   "outputs": [],
   "source": [
    "def modify_global():\n",
    "    global global_variable\n",
    "    global_variable = 20"
   ]
  },
  {
   "cell_type": "code",
   "execution_count": 13,
   "metadata": {
    "id": "vEhUFXOeqsM9"
   },
   "outputs": [],
   "source": [
    "modify_global()"
   ]
  },
  {
   "cell_type": "code",
   "execution_count": 15,
   "metadata": {
    "id": "4WSkbmdvqyF0"
   },
   "outputs": [
    {
     "data": {
      "text/plain": [
       "20"
      ]
     },
     "execution_count": 15,
     "metadata": {},
     "output_type": "execute_result"
    }
   ],
   "source": [
    "global_variable"
   ]
  },
  {
   "cell_type": "markdown",
   "metadata": {
    "id": "Jb5Uhi33rCPe"
   },
   "source": [
    "Modifying a global variable without using the global keyword doesn't change its value outside the function scope"
   ]
  },
  {
   "cell_type": "code",
   "execution_count": 18,
   "metadata": {
    "id": "abdZjd6Uq_it"
   },
   "outputs": [],
   "source": [
    "global_variable = 10"
   ]
  },
  {
   "cell_type": "code",
   "execution_count": 20,
   "metadata": {
    "id": "FiyQpAtFrKYj"
   },
   "outputs": [],
   "source": [
    "def modify_global():\n",
    "    global_variable = 20"
   ]
  },
  {
   "cell_type": "code",
   "execution_count": 22,
   "metadata": {
    "id": "DH6SfDO3rNOP"
   },
   "outputs": [],
   "source": [
    "modify_global()"
   ]
  },
  {
   "cell_type": "code",
   "execution_count": 24,
   "metadata": {
    "id": "68FvbPSprOpU"
   },
   "outputs": [
    {
     "data": {
      "text/plain": [
       "10"
      ]
     },
     "execution_count": 24,
     "metadata": {},
     "output_type": "execute_result"
    }
   ],
   "source": [
    "global_variable"
   ]
  },
  {
   "cell_type": "markdown",
   "metadata": {
    "id": "mm1KTwBSreK5"
   },
   "source": [
    "### Quiz\n",
    "Save the string `'2024B4A3'` in a global variable `ID`. Then define a function called `append_string` that appends the string `'737G'` to the string stored in `ID` by changing the `ID` variable itself."
   ]
  },
  {
   "cell_type": "code",
   "execution_count": null,
   "metadata": {
    "id": "lwXbWc-MrtiP"
   },
   "outputs": [],
   "source": [
    "### YOUR CODE HERE ###"
   ]
  },
  {
   "cell_type": "code",
   "execution_count": null,
   "metadata": {
    "id": "8Dq9Bsz7r00g"
   },
   "outputs": [],
   "source": [
    "### YOUR CODE HERE ###"
   ]
  },
  {
   "cell_type": "code",
   "execution_count": null,
   "metadata": {
    "id": "d3yQx7oHsPfv"
   },
   "outputs": [],
   "source": [
    "### YOUR CODE HERE ###"
   ]
  },
  {
   "cell_type": "code",
   "execution_count": null,
   "metadata": {
    "id": "mXFXr6mWr9XP"
   },
   "outputs": [],
   "source": [
    "### YOUR CODE HERE ###"
   ]
  },
  {
   "cell_type": "markdown",
   "metadata": {
    "id": "1FJq_cSqcnG-"
   },
   "source": [
    "## Returning values"
   ]
  },
  {
   "cell_type": "markdown",
   "metadata": {
    "id": "kQeX_n2Dht22"
   },
   "source": [
    "### Example\n",
    "Notice so far when you we called the functions, you were printing values using the `print` funtion. However, one of the essential features of function is the ability to return values using the `return` statement. You have used this functionality while accessing Python's built-in functions.\n",
    "\n",
    "Note that the docstring is used to specify the return type of the function as well"
   ]
  },
  {
   "cell_type": "code",
   "execution_count": null,
   "metadata": {
    "id": "vX3rHTkRk2YW"
   },
   "outputs": [],
   "source": [
    "def add():\n",
    "    '''\n",
    "    Returns the sum of 4 and 3\n",
    "    return: The sum of 4 and 3\n",
    "    rtype: int\n",
    "    '''\n",
    "\n",
    "    a = 4\n",
    "    b = 3\n",
    "\n",
    "    return a + b"
   ]
  },
  {
   "cell_type": "code",
   "execution_count": null,
   "metadata": {
    "id": "IausEbRPlAMI"
   },
   "outputs": [],
   "source": [
    "val = add()"
   ]
  },
  {
   "cell_type": "code",
   "execution_count": null,
   "metadata": {
    "id": "JH8NL0Nxsq4X"
   },
   "outputs": [],
   "source": [
    "val"
   ]
  },
  {
   "cell_type": "markdown",
   "metadata": {
    "id": "-7EsPwmatVRa"
   },
   "source": [
    "You can return multiple values as a tuple"
   ]
  },
  {
   "cell_type": "code",
   "execution_count": null,
   "metadata": {
    "id": "sBAaGJjrlUE3"
   },
   "outputs": [],
   "source": [
    "def return_vals():\n",
    "    '''\n",
    "    Returns a float and a string value\n",
    "    return: a number\n",
    "    rtype: float\n",
    "    return: a phrase\n",
    "    rtype: string\n",
    "    '''\n",
    "    a = 1.2\n",
    "    b = 'some string'\n",
    "\n",
    "    return a, b"
   ]
  },
  {
   "cell_type": "code",
   "execution_count": null,
   "metadata": {
    "id": "rxPbFbSQlrDI"
   },
   "outputs": [],
   "source": [
    "values = return_vals()"
   ]
  },
  {
   "cell_type": "code",
   "execution_count": null,
   "metadata": {
    "id": "Bv_PJJTvtaYu"
   },
   "outputs": [],
   "source": [
    "values"
   ]
  },
  {
   "cell_type": "code",
   "execution_count": null,
   "metadata": {
    "id": "k9c7otVNlura"
   },
   "outputs": [],
   "source": [
    "type(return_vals())"
   ]
  },
  {
   "cell_type": "code",
   "execution_count": null,
   "metadata": {
    "id": "zavCiLJgtdx_"
   },
   "outputs": [],
   "source": [
    "float_value, string_value = return_vals()"
   ]
  },
  {
   "cell_type": "code",
   "execution_count": null,
   "metadata": {
    "id": "Gq1lRXuQthwc"
   },
   "outputs": [],
   "source": [
    "print(float_value, type(float_value))"
   ]
  },
  {
   "cell_type": "code",
   "execution_count": null,
   "metadata": {
    "id": "KQs3AQo-tjOY"
   },
   "outputs": [],
   "source": [
    "print(string_value, type(string_value))"
   ]
  },
  {
   "cell_type": "markdown",
   "metadata": {
    "id": "-FtcrdCFmAvr"
   },
   "source": [
    "### Quiz\n",
    "Write a function that returns the sum and product of the numbers 2 and 3"
   ]
  },
  {
   "cell_type": "code",
   "execution_count": 309,
   "metadata": {
    "id": "Tgaw8rgFmksO"
   },
   "outputs": [],
   "source": [
    "### YOUR CODE HERE ###\n",
    "def my_sum(x,y):\n",
    "    print(f\"Summing the values of {x} and {y}\")\n",
    "    return x+y"
   ]
  },
  {
   "cell_type": "code",
   "execution_count": 311,
   "metadata": {
    "id": "gMnOmOAMmp7h"
   },
   "outputs": [],
   "source": [
    "### YOUR CODE HERE ###\n",
    "def my_mult(a,b):\n",
    "    print(a*b)\n",
    "    return a*b"
   ]
  },
  {
   "cell_type": "code",
   "execution_count": 313,
   "metadata": {
    "id": "ykDnwC2nywxH"
   },
   "outputs": [
    {
     "name": "stdout",
     "output_type": "stream",
     "text": [
      "Summing the values of 20 and 50\n",
      "Summing the values of 2 and 5\n",
      "Summing the values of 20 and 100\n",
      "Summing the values of 40 and 50\n",
      "70\n"
     ]
    }
   ],
   "source": [
    "### YOUR CODE HERE ###\n",
    "my_res = my_sum(20, 50)\n",
    "my_sum(2, 5)\n",
    "my_sum(20, 100)\n",
    "my_sum(40, 50)\n",
    "print(my_res)"
   ]
  },
  {
   "cell_type": "code",
   "execution_count": 323,
   "metadata": {},
   "outputs": [],
   "source": [
    "b,c,d\n",
    "a = \"Umang\""
   ]
  },
  {
   "cell_type": "markdown",
   "metadata": {
    "id": "1VUl9XkKc27y"
   },
   "source": [
    "## Functions with parameters"
   ]
  },
  {
   "cell_type": "markdown",
   "metadata": {
    "id": "s-D8VFEine5_"
   },
   "source": [
    "**Parameters** are variables listed in the function definition. They are placeholders for values that a function will receive when it is called.\n",
    "\n",
    "**Arguments** are the actual values or expressions that are passed to a function when it is called."
   ]
  },
  {
   "cell_type": "markdown",
   "metadata": {
    "id": "G-Qf-WloT0wu"
   },
   "source": [
    "### Example\n",
    "So far we have been using static values within our functions. Let's utilize another important feature of functions, which to accept dynamic data at the time of invocation."
   ]
  },
  {
   "cell_type": "code",
   "execution_count": 205,
   "metadata": {
    "id": "uncfFgGyopGr"
   },
   "outputs": [],
   "source": [
    "def greeting(user):\n",
    "    return 'Hello there, ' + user"
   ]
  },
  {
   "cell_type": "code",
   "execution_count": 207,
   "metadata": {
    "id": "RftqsbxHo8aa"
   },
   "outputs": [],
   "source": [
    "greet_sujata = greeting('Sujata')"
   ]
  },
  {
   "cell_type": "code",
   "execution_count": 209,
   "metadata": {
    "id": "E7rSVAd_zOjZ"
   },
   "outputs": [
    {
     "name": "stdout",
     "output_type": "stream",
     "text": [
      "Hello there, Sujata\n"
     ]
    }
   ],
   "source": [
    "print(greet_sujata)"
   ]
  },
  {
   "cell_type": "code",
   "execution_count": null,
   "metadata": {
    "id": "hJclHzczpDXl"
   },
   "outputs": [],
   "source": [
    "greeting('Manish')"
   ]
  },
  {
   "cell_type": "code",
   "execution_count": null,
   "metadata": {
    "id": "rXyc8sXXpHit"
   },
   "outputs": [],
   "source": [
    "name = 'Liam'\n",
    "greeting(name)"
   ]
  },
  {
   "cell_type": "code",
   "execution_count": null,
   "metadata": {
    "id": "hjokwsK3ph0S"
   },
   "outputs": [],
   "source": [
    "def add(a, b):\n",
    "    return a + b"
   ]
  },
  {
   "cell_type": "code",
   "execution_count": null,
   "metadata": {
    "id": "VuhcSi3ipk85"
   },
   "outputs": [],
   "source": [
    "add(1000, 200)"
   ]
  },
  {
   "cell_type": "code",
   "execution_count": null,
   "metadata": {
    "id": "oOJGRWswpnIt"
   },
   "outputs": [],
   "source": [
    "add(-1, 1)"
   ]
  },
  {
   "cell_type": "code",
   "execution_count": null,
   "metadata": {
    "id": "CRWvvuPxppUa"
   },
   "outputs": [],
   "source": [
    "# add(10, 10, 10)"
   ]
  },
  {
   "cell_type": "markdown",
   "metadata": {
    "id": "0iMJW-Mi0Znl"
   },
   "source": [
    "Function call needs to have the same number of arguments as parameters that are defined, if there is no default value defined. We will look at default arguments later."
   ]
  },
  {
   "cell_type": "code",
   "execution_count": null,
   "metadata": {
    "id": "eTURQGLZS6Fb"
   },
   "outputs": [],
   "source": [
    "def divide(a, b):\n",
    "    \"\"\"\n",
    "    Divide two numbers.\n",
    "\n",
    "    :param a: The numerator\n",
    "    :type a: float\n",
    "    :param b: The denominator (must be non-zero)\n",
    "    :type b: float\n",
    "    :return: The result of the division\n",
    "    :rtype: float\n",
    "    :raises ZeroDivisionError: If the denominator is 0\n",
    "    \"\"\"\n",
    "    if b == 0:\n",
    "        raise ZeroDivisionError(\"Cannot divide by zero\")\n",
    "\n",
    "    return a / b"
   ]
  },
  {
   "cell_type": "markdown",
   "metadata": {
    "id": "-Rvq7tR20yFy"
   },
   "source": [
    "Note that we can use the `raise` keyword to raise an error if one of the arguments do do not adhere to the specifications of the function. You can read more abour the behaviour of the raise command on your own."
   ]
  },
  {
   "cell_type": "code",
   "execution_count": null,
   "metadata": {
    "id": "9a9C8H_k3GCk"
   },
   "outputs": [],
   "source": [
    "divide(3, 2)"
   ]
  },
  {
   "cell_type": "code",
   "execution_count": null,
   "metadata": {
    "id": "doUsfBs_3KTX"
   },
   "outputs": [],
   "source": [
    "divide(4, 5)"
   ]
  },
  {
   "cell_type": "code",
   "execution_count": null,
   "metadata": {
    "id": "vnPb6itj3MfX"
   },
   "outputs": [],
   "source": [
    "# divide(4, 0)"
   ]
  },
  {
   "cell_type": "code",
   "execution_count": null,
   "metadata": {
    "id": "E9-pOh8p3P8f"
   },
   "outputs": [],
   "source": [
    "divide(0, 4)"
   ]
  },
  {
   "cell_type": "code",
   "execution_count": null,
   "metadata": {
    "id": "5LvBmoG23R27"
   },
   "outputs": [],
   "source": [
    "# divide('a', 3)"
   ]
  },
  {
   "cell_type": "markdown",
   "metadata": {
    "id": "lzEfikX-TOBY"
   },
   "source": [
    "Function call needs to adhere to the required data types"
   ]
  },
  {
   "cell_type": "code",
   "execution_count": null,
   "metadata": {
    "id": "XsC9Qqj33XxE"
   },
   "outputs": [],
   "source": [
    "add('a', 'b')"
   ]
  },
  {
   "cell_type": "markdown",
   "metadata": {
    "id": "ihBUOLFO3Z-h"
   },
   "source": [
    "The `+` operator is overloaded in that it can work with strings and numeric data types both. But that is not the case for the `/` operator."
   ]
  },
  {
   "cell_type": "markdown",
   "metadata": {
    "id": "u3zlttyXp7t4"
   },
   "source": [
    "### Quiz\n",
    "Create a function that takes two numbers and returns their product. Make sure that you write the docstring for the function."
   ]
  },
  {
   "cell_type": "code",
   "execution_count": null,
   "metadata": {
    "id": "iV9Q_kdDqH7n"
   },
   "outputs": [],
   "source": [
    "### YOUR CODE HERE ###"
   ]
  },
  {
   "cell_type": "code",
   "execution_count": null,
   "metadata": {
    "id": "XiAPBcU5qNRY"
   },
   "outputs": [],
   "source": [
    "### YOUR CODE HERE ###"
   ]
  },
  {
   "cell_type": "code",
   "execution_count": null,
   "metadata": {
    "id": "PepdG0YkqU6V"
   },
   "outputs": [],
   "source": [
    "### YOUR CODE HERE ###"
   ]
  },
  {
   "cell_type": "markdown",
   "metadata": {
    "id": "w0eWPAf1NmED"
   },
   "source": [
    "### Example\n",
    "So far we have been passing values of arguments without specifying the names of the arguments. These arguments are called **positional arguments**. As the name suggests, the order and position in which these arguments are passed is critical.\n",
    "\n",
    "Whereas, when we pass the value of an argument by assigning it to the name of the parameter, these kinds of arguments are called **keyword arguments**. We don't need to worry about the order and positioning of the arguments in this case."
   ]
  },
  {
   "cell_type": "code",
   "execution_count": null,
   "metadata": {
    "id": "6t2_LFK9Ohki"
   },
   "outputs": [],
   "source": [
    "def print_person_info(name, age, city):\n",
    "    \"\"\"\n",
    "    Print information about a person.\n",
    "\n",
    "    Parameters:\n",
    "    - name (str): The name of the person\n",
    "    - age (int): The age of the person\n",
    "    - city (str): The city where the person lives\n",
    "    \"\"\"\n",
    "    print(f\"Name: {name}, Age: {age}, City: {city}\")"
   ]
  },
  {
   "cell_type": "code",
   "execution_count": null,
   "metadata": {
    "id": "N2yymAqPPQIq"
   },
   "outputs": [],
   "source": [
    "# Using positional arguments\n",
    "print_person_info(\"John\", 25, \"New York\")"
   ]
  },
  {
   "cell_type": "code",
   "execution_count": null,
   "metadata": {
    "id": "mIpY4eSePxZZ"
   },
   "outputs": [],
   "source": [
    "# Using keyword arguments\n",
    "print_person_info(age = 30, name = \"Alice\", city = \"Los Angeles\")"
   ]
  },
  {
   "cell_type": "code",
   "execution_count": null,
   "metadata": {
    "id": "6bt5qFAYPyUk"
   },
   "outputs": [],
   "source": [
    "# Mixing positional and keyword arguments\n",
    "print_person_info(\"Bob\", city = \"Chicago\", age = 22)"
   ]
  },
  {
   "cell_type": "code",
   "execution_count": null,
   "metadata": {
    "id": "jVKZEnRPP4yg"
   },
   "outputs": [],
   "source": [
    "# Positional arguments need to come before keyword arguments\n",
    "# print_person_info(name = \"Wu\", \"Hong Kong\", \"35\")"
   ]
  },
  {
   "cell_type": "markdown",
   "metadata": {
    "id": "-_Lu_EJ0dI2W"
   },
   "source": [
    "## Functions with default arguments\n",
    "We can specify default values for parameters in Python functions which can be overriden manually"
   ]
  },
  {
   "cell_type": "markdown",
   "metadata": {
    "id": "OzUrrciyy5Cf"
   },
   "source": [
    "### Example\n",
    "Functions with default arguments"
   ]
  },
  {
   "cell_type": "code",
   "execution_count": null,
   "metadata": {
    "id": "L-colpnuz3xf"
   },
   "outputs": [],
   "source": [
    "def add_five(x, y = 5):\n",
    "    \"\"\"\n",
    "    Add a value to another, with a default value of 5.\n",
    "\n",
    "    :param x: The first number\n",
    "    :type x: int or float\n",
    "    :param y: The value to add (default is 5)\n",
    "    :type y: int or float\n",
    "    :return: The result of adding x and y\n",
    "    :rtype: int or float\n",
    "    \"\"\"\n",
    "    return x + y"
   ]
  },
  {
   "cell_type": "code",
   "execution_count": null,
   "metadata": {
    "id": "NbC0W7hr1mA_"
   },
   "outputs": [],
   "source": [
    "add_five(10)"
   ]
  },
  {
   "cell_type": "code",
   "execution_count": null,
   "metadata": {
    "id": "xbFcLeBFBAHd"
   },
   "outputs": [],
   "source": [
    "add_five(10, 25)"
   ]
  },
  {
   "cell_type": "code",
   "execution_count": null,
   "metadata": {
    "id": "XGyTcLF71q0j"
   },
   "outputs": [],
   "source": [
    "def greet(name, greeting = 'Hello'): return f'{greeting}, {name}!'"
   ]
  },
  {
   "cell_type": "code",
   "execution_count": null,
   "metadata": {
    "id": "Vvh8k2BXtKPU"
   },
   "outputs": [],
   "source": [
    "greet(name = 'Malik')"
   ]
  },
  {
   "cell_type": "code",
   "execution_count": null,
   "metadata": {
    "id": "HJqC07zctTeI"
   },
   "outputs": [],
   "source": [
    "greet(name = 'Bob', greeting = 'Hi')"
   ]
  },
  {
   "cell_type": "code",
   "execution_count": null,
   "metadata": {
    "id": "hGB7RY68tgtt"
   },
   "outputs": [],
   "source": [
    "def calculate(x, y, operation = 'add'):\n",
    "    if operation == 'add': return x + y\n",
    "    elif operation == 'subtract': return x - y"
   ]
  },
  {
   "cell_type": "code",
   "execution_count": null,
   "metadata": {
    "id": "GhxbDe2ot0n0"
   },
   "outputs": [],
   "source": [
    "calculate(10, 30)"
   ]
  },
  {
   "cell_type": "code",
   "execution_count": null,
   "metadata": {
    "id": "ZlMQFnTdt3e-"
   },
   "outputs": [],
   "source": [
    "calculate(10, 30, 'subtract')"
   ]
  },
  {
   "cell_type": "code",
   "execution_count": null,
   "metadata": {
    "id": "vF4vFVF5t-yK"
   },
   "outputs": [],
   "source": [
    "def power(base, exponent=2): return base ** exponent"
   ]
  },
  {
   "cell_type": "code",
   "execution_count": null,
   "metadata": {
    "id": "Wh0BGdNzuFGw"
   },
   "outputs": [],
   "source": [
    "power(4)"
   ]
  },
  {
   "cell_type": "code",
   "execution_count": null,
   "metadata": {
    "id": "dSs6xDOVuHEY"
   },
   "outputs": [],
   "source": [
    "power(3, 3)"
   ]
  },
  {
   "cell_type": "markdown",
   "metadata": {
    "id": "y7HDkDE-dP-H"
   },
   "source": [
    "## Passing data structures to functions"
   ]
  },
  {
   "cell_type": "markdown",
   "metadata": {
    "id": "VfUNlq3typRF"
   },
   "source": [
    "### Example\n",
    "Passing lists as arguments"
   ]
  },
  {
   "cell_type": "code",
   "execution_count": null,
   "metadata": {
    "id": "35vk8ypMpDUt"
   },
   "outputs": [],
   "source": [
    "def mean(data): return sum(data) / len(data)"
   ]
  },
  {
   "cell_type": "code",
   "execution_count": null,
   "metadata": {
    "id": "4yCLA-u6pOc_"
   },
   "outputs": [],
   "source": [
    "my_data = [1, 2, 3, 4, 5, 6, 7, 8, 9, 10, 11, 12, 13, 14, 15, 16, 17, 18, 19, 20]"
   ]
  },
  {
   "cell_type": "code",
   "execution_count": null,
   "metadata": {
    "id": "CkpGEzXUpbs5"
   },
   "outputs": [],
   "source": [
    "mean(my_data)"
   ]
  },
  {
   "cell_type": "code",
   "execution_count": null,
   "metadata": {
    "id": "Mo-iR1BLproY"
   },
   "outputs": [],
   "source": [
    "def find_max(my_list): return sorted(my_list)[-1]"
   ]
  },
  {
   "cell_type": "code",
   "execution_count": null,
   "metadata": {
    "id": "iT--17Impz3O"
   },
   "outputs": [],
   "source": [
    "my_data = [15, 2, 8, 19, 4, 12, 6, 17, 1, 10, 11, 7, 20, 14, 5, 3, 9, 18, 13, 16]"
   ]
  },
  {
   "cell_type": "code",
   "execution_count": null,
   "metadata": {
    "id": "75Ckuqipp_Wy"
   },
   "outputs": [],
   "source": [
    "find_max(my_data)"
   ]
  },
  {
   "cell_type": "markdown",
   "metadata": {
    "id": "DToIq_Z_w2tz"
   },
   "source": [
    "### Example\n",
    "Passing dictionaries as arguments"
   ]
  },
  {
   "cell_type": "code",
   "execution_count": null,
   "metadata": {
    "id": "TTsPfb39QCAs"
   },
   "outputs": [],
   "source": [
    "def display_user_info(user_info):\n",
    "    print('User Information: ')\n",
    "    for key, value in user_info.items(): print(f'{key.capitalize()}: {value}')"
   ]
  },
  {
   "cell_type": "code",
   "execution_count": null,
   "metadata": {
    "id": "sBEJW7kVQXC5"
   },
   "outputs": [],
   "source": [
    "user_data = {'name': 'Ranjiv Alvester', 'age': 25, 'email': 'ranjiv@example.com'}"
   ]
  },
  {
   "cell_type": "code",
   "execution_count": null,
   "metadata": {
    "id": "eFgwMuq5Qa9o"
   },
   "outputs": [],
   "source": [
    "display_user_info(user_data)"
   ]
  },
  {
   "cell_type": "code",
   "execution_count": null,
   "metadata": {
    "id": "GiXWbyMuL0DL"
   },
   "outputs": [],
   "source": [
    "def calc_tot_price(cart):\n",
    "    total_price = sum(cart.values())\n",
    "    return total_price"
   ]
  },
  {
   "cell_type": "code",
   "execution_count": null,
   "metadata": {
    "id": "qUWVbVx8PpxU"
   },
   "outputs": [],
   "source": [
    "shopping_cart = {'item1': 10.99, 'item2': 5.99, 'item3': 7.49}"
   ]
  },
  {
   "cell_type": "code",
   "execution_count": null,
   "metadata": {
    "id": "pVsgloXoPvEo"
   },
   "outputs": [],
   "source": [
    "shopping_cart"
   ]
  },
  {
   "cell_type": "code",
   "execution_count": null,
   "metadata": {
    "id": "oPXDjnNvPxde"
   },
   "outputs": [],
   "source": [
    "calc_tot_price(shopping_cart)"
   ]
  },
  {
   "cell_type": "markdown",
   "metadata": {
    "id": "1PGF7foeRsIY"
   },
   "source": [
    "### Quiz\n",
    "Create a function the accepts a dictionary containing student names as key and their corresponding scores as values. Each student may have multiple scores."
   ]
  },
  {
   "cell_type": "code",
   "execution_count": null,
   "metadata": {
    "id": "qOkQl1YZxBnf"
   },
   "outputs": [],
   "source": [
    "### YOUR CODE HERE ###"
   ]
  },
  {
   "cell_type": "code",
   "execution_count": null,
   "metadata": {
    "id": "wc4Ebxn8Stm6"
   },
   "outputs": [],
   "source": [
    "### YOUR CODE HERE ###"
   ]
  },
  {
   "cell_type": "code",
   "execution_count": null,
   "metadata": {
    "id": "W2UkLCX2xoiy"
   },
   "outputs": [],
   "source": [
    "### YOUR CODE HERE ###"
   ]
  },
  {
   "cell_type": "markdown",
   "metadata": {
    "id": "aTYR8UrxcQbL"
   },
   "source": [
    "## Lambda functions"
   ]
  },
  {
   "cell_type": "markdown",
   "metadata": {
    "id": "-I5tOcoJdfk8"
   },
   "source": [
    "### Example\n",
    "Lambda functions, also known as anonymous functions, are a concise way to create small, one-time-use functions in Python. They are defined using the `lambda` keyword."
   ]
  },
  {
   "cell_type": "code",
   "execution_count": null,
   "metadata": {
    "id": "s21o8ccKzLSF"
   },
   "outputs": [],
   "source": [
    "lambda x: x * 2"
   ]
  },
  {
   "cell_type": "markdown",
   "metadata": {
    "id": "ODOPyYchgI3y"
   },
   "source": [
    "Lambda functions are called *anonymous* because they don't have a formal name assigned to them at the time of definition. While they are often assigned to variables for later use, the function itself is not given a name in the same way regular functions are defined using the `def` keyword. Note that the functions defined using the `def` keyword cannot be assigned to variables."
   ]
  },
  {
   "cell_type": "code",
   "execution_count": null,
   "metadata": {
    "id": "YCjTsxSfgViT"
   },
   "outputs": [],
   "source": [
    "double = lambda x: x * 2"
   ]
  },
  {
   "cell_type": "code",
   "execution_count": null,
   "metadata": {
    "id": "C80_V4zpgZKw"
   },
   "outputs": [],
   "source": [
    "double(2)"
   ]
  },
  {
   "cell_type": "code",
   "execution_count": null,
   "metadata": {
    "id": "FoNN-8ElgrZz"
   },
   "outputs": [],
   "source": [
    "add = lambda x, y: x + y"
   ]
  },
  {
   "cell_type": "code",
   "execution_count": null,
   "metadata": {
    "id": "TJVPfWItgxFr"
   },
   "outputs": [],
   "source": [
    "# add(2)"
   ]
  },
  {
   "cell_type": "code",
   "execution_count": null,
   "metadata": {
    "id": "w26X-Ocig3z9"
   },
   "outputs": [],
   "source": [
    "add(2, 4)"
   ]
  },
  {
   "cell_type": "code",
   "execution_count": null,
   "metadata": {
    "id": "MyPaD6B5g8Bs"
   },
   "outputs": [],
   "source": [
    "square = lambda x: x ** 2"
   ]
  },
  {
   "cell_type": "code",
   "execution_count": null,
   "metadata": {
    "id": "U6VLNHCFhJQx"
   },
   "outputs": [],
   "source": [
    "square(10)"
   ]
  },
  {
   "cell_type": "code",
   "execution_count": null,
   "metadata": {
    "id": "argAVah9hNMg"
   },
   "outputs": [],
   "source": [
    "sqrt = lambda y: y ** 0.5"
   ]
  },
  {
   "cell_type": "code",
   "execution_count": null,
   "metadata": {
    "id": "Muf97cYzhURm"
   },
   "outputs": [],
   "source": [
    "sqrt(25)"
   ]
  },
  {
   "cell_type": "code",
   "execution_count": null,
   "metadata": {
    "id": "EoyJUSwCheqc"
   },
   "outputs": [],
   "source": [
    "cap = lambda some_string: some_string.upper()"
   ]
  },
  {
   "cell_type": "code",
   "execution_count": null,
   "metadata": {
    "id": "jG3no96ihl3S"
   },
   "outputs": [],
   "source": [
    "cap('i like python!')"
   ]
  },
  {
   "cell_type": "code",
   "execution_count": null,
   "metadata": {
    "id": "Yh-xCheMjH2A"
   },
   "outputs": [],
   "source": [
    "sum_list = lambda some_list: sum(some_list)"
   ]
  },
  {
   "cell_type": "code",
   "execution_count": null,
   "metadata": {
    "id": "inrcA9mjjMkp"
   },
   "outputs": [],
   "source": [
    "my_list = [1, 2, 3, 4, 5]"
   ]
  },
  {
   "cell_type": "code",
   "execution_count": null,
   "metadata": {
    "id": "jsoG0uZqjQqD"
   },
   "outputs": [],
   "source": [
    "sum_list(my_list)"
   ]
  },
  {
   "cell_type": "markdown",
   "metadata": {
    "id": "ZjKXiiGEiSOb"
   },
   "source": [
    "### Quiz\n",
    "Create a lambda function that takes a list and returns the number of elements in a list"
   ]
  },
  {
   "cell_type": "code",
   "execution_count": null,
   "metadata": {
    "id": "hWrvGA1ujsph"
   },
   "outputs": [],
   "source": [
    "### YOUR CODE HERE ###"
   ]
  },
  {
   "cell_type": "code",
   "execution_count": null,
   "metadata": {
    "id": "sypha9SGjx5O"
   },
   "outputs": [],
   "source": [
    "### YOUR CODE HERE ###"
   ]
  },
  {
   "cell_type": "code",
   "execution_count": null,
   "metadata": {
    "id": "ZDV9bRd1j8j_"
   },
   "outputs": [],
   "source": [
    "### YOUR CODE HERE ###"
   ]
  },
  {
   "cell_type": "markdown",
   "metadata": {
    "id": "YYSQ5dk0k4Ge"
   },
   "source": [
    "## Higher-order functions\n",
    "In Python, functions are first-class objects, and this means they can be treated like any other object (such as integers, strings, lists, etc.).\n",
    "\n",
    "A higher-order function is a function that takes one or more functions as arguments or returns a function as its result"
   ]
  },
  {
   "cell_type": "markdown",
   "metadata": {
    "id": "Hibb9oeTShj6"
   },
   "source": [
    "### Example\n",
    "You can pass functions as arguments to other functions. This allows you to abstract over actions, making your code more flexible and modular."
   ]
  },
  {
   "cell_type": "code",
   "execution_count": 27,
   "metadata": {
    "id": "ZGLnx8J9SqHj"
   },
   "outputs": [],
   "source": [
    "def apply_operation(operation, x, y):\n",
    "    \"\"\"\n",
    "    Apply a binary operation on two operands.\n",
    "\n",
    "    Parameters:\n",
    "    - operation: A binary function taking two arguments\n",
    "    - x, y: Operands on which the operation is applied\n",
    "\n",
    "    Returns:\n",
    "    The result of applying the operation on x and y\n",
    "    \"\"\"\n",
    "    return operation(x, y)\n",
    "\n",
    "def add(x, y):\n",
    "    \"\"\"\n",
    "    Add two numbers.\n",
    "\n",
    "    Parameters:\n",
    "    - x, y: Numbers to be added\n",
    "\n",
    "    Returns:\n",
    "    The sum of x and y\n",
    "    \"\"\"\n",
    "    return x + y\n",
    "\n",
    "def multiply(x, y):\n",
    "    \"\"\"\n",
    "    Multiply two numbers.\n",
    "\n",
    "    Parameters:\n",
    "    - x, y: Numbers to be multiplied\n",
    "\n",
    "    Returns:\n",
    "    The product of x and y\n",
    "    \"\"\"\n",
    "    return x * y"
   ]
  },
  {
   "cell_type": "code",
   "execution_count": 29,
   "metadata": {},
   "outputs": [
    {
     "data": {
      "text/plain": [
       "function"
      ]
     },
     "execution_count": 29,
     "metadata": {},
     "output_type": "execute_result"
    }
   ],
   "source": [
    "type(add)"
   ]
  },
  {
   "cell_type": "code",
   "execution_count": null,
   "metadata": {
    "id": "MFFWK2ICSsPZ"
   },
   "outputs": [],
   "source": [
    "# Example usage of apply_operation with add\n",
    "result_add = apply_operation(add, 2, 3)"
   ]
  },
  {
   "cell_type": "code",
   "execution_count": null,
   "metadata": {
    "id": "Vo7qfStDTHB5"
   },
   "outputs": [],
   "source": [
    "print(result_add)"
   ]
  },
  {
   "cell_type": "code",
   "execution_count": null,
   "metadata": {
    "id": "8zsNW047S_y3"
   },
   "outputs": [],
   "source": [
    "# Example usage of apply_operation with multiply\n",
    "result_multiply = apply_operation(multiply, 2, 3)"
   ]
  },
  {
   "cell_type": "code",
   "execution_count": null,
   "metadata": {
    "id": "Cc3Bug6KTJ4F"
   },
   "outputs": [],
   "source": [
    "print(result_multiply)"
   ]
  },
  {
   "cell_type": "markdown",
   "metadata": {
    "id": "Vl6vsR71lqWb"
   },
   "source": [
    "### Example\n",
    "The `map` function"
   ]
  },
  {
   "cell_type": "code",
   "execution_count": null,
   "metadata": {
    "id": "IsOp3K6QlvYp"
   },
   "outputs": [],
   "source": [
    "def square(x): return x ** 2"
   ]
  },
  {
   "cell_type": "code",
   "execution_count": null,
   "metadata": {
    "id": "Ty7VdBt8l0Zr"
   },
   "outputs": [],
   "source": [
    "my_list = [1, 2, 3, 4, 5]"
   ]
  },
  {
   "cell_type": "code",
   "execution_count": null,
   "metadata": {
    "id": "GF_PT_dUl4Wd"
   },
   "outputs": [],
   "source": [
    "squared_list = map(square, my_list)\n",
    "squared_list"
   ]
  },
  {
   "cell_type": "markdown",
   "metadata": {
    "id": "SJc3vKoJmLwB"
   },
   "source": [
    "Notice the `map` function in Python returns a map object, which is an iterator. The map object contains the results of applying a given function to each item in an iterable. Therefore to access the iterable, you should convert the object into a list or a tuple."
   ]
  },
  {
   "cell_type": "code",
   "execution_count": null,
   "metadata": {
    "id": "7LG37ExnmKZN"
   },
   "outputs": [],
   "source": [
    "squared_list = list(squared_list)"
   ]
  },
  {
   "cell_type": "code",
   "execution_count": null,
   "metadata": {
    "id": "WixvkRJzmeF2"
   },
   "outputs": [],
   "source": [
    "squared_list"
   ]
  },
  {
   "cell_type": "code",
   "execution_count": null,
   "metadata": {
    "id": "EMq5qAkvnZe3"
   },
   "outputs": [],
   "source": [
    "my_list"
   ]
  },
  {
   "cell_type": "code",
   "execution_count": null,
   "metadata": {
    "id": "-uU3EbTSnHt0"
   },
   "outputs": [],
   "source": [
    "doubled_list = list(map(lambda x: x * 2, my_list))\n",
    "doubled_list"
   ]
  }
 ],
 "metadata": {
  "colab": {
   "provenance": [],
   "toc_visible": true
  },
  "kernelspec": {
   "display_name": "Python 3 (ipykernel)",
   "language": "python",
   "name": "python3"
  },
  "language_info": {
   "codemirror_mode": {
    "name": "ipython",
    "version": 3
   },
   "file_extension": ".py",
   "mimetype": "text/x-python",
   "name": "python",
   "nbconvert_exporter": "python",
   "pygments_lexer": "ipython3",
   "version": "3.12.4"
  }
 },
 "nbformat": 4,
 "nbformat_minor": 4
}
