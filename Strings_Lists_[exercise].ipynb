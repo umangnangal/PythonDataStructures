{
 "cells": [
  {
   "cell_type": "markdown",
   "metadata": {
    "id": "c2F4wtow-9-Z"
   },
   "source": [
    "# Strings\n",
    "Strings are fundamental data structures in Python, widely utilized across diverse domains such as software development, data science, and machine learning. They are essentially sequences of characters, typically associated with one or more languages, both natural and technical."
   ]
  },
  {
   "cell_type": "markdown",
   "metadata": {
    "id": "LnDkx4jgI4iY"
   },
   "source": [
    "## Creating strings"
   ]
  },
  {
   "cell_type": "markdown",
   "metadata": {
    "id": "nf10VmhjYA_U"
   },
   "source": [
    "Strings can be created by wrapping the desired text in single `''` or double `\"\"` quotes."
   ]
  },
  {
   "cell_type": "markdown",
   "metadata": {
    "id": "2NzM4v4v4fsH"
   },
   "source": [
    "### Example\n",
    "Creating empty strings\n"
   ]
  },
  {
   "cell_type": "code",
   "execution_count": null,
   "metadata": {
    "id": "eHu5WgbJ4nh9"
   },
   "outputs": [],
   "source": [
    "empty_string_1 = ''"
   ]
  },
  {
   "cell_type": "code",
   "execution_count": null,
   "metadata": {
    "id": "Q6r-wVWqtove"
   },
   "outputs": [],
   "source": [
    "empty_string_1"
   ]
  },
  {
   "cell_type": "code",
   "execution_count": null,
   "metadata": {
    "id": "dduOMB-n4wc3"
   },
   "outputs": [],
   "source": [
    "type(empty_string_1)"
   ]
  },
  {
   "cell_type": "code",
   "execution_count": null,
   "metadata": {
    "id": "EQo_95EN5aoD"
   },
   "outputs": [],
   "source": [
    "print(empty_string_1)"
   ]
  },
  {
   "cell_type": "code",
   "execution_count": null,
   "metadata": {
    "id": "sRQG2yiH4wWw"
   },
   "outputs": [],
   "source": [
    "empty_string_2 = \"\""
   ]
  },
  {
   "cell_type": "code",
   "execution_count": null,
   "metadata": {
    "id": "lobV66cxtrvk"
   },
   "outputs": [],
   "source": [
    "empty_string_2"
   ]
  },
  {
   "cell_type": "code",
   "execution_count": null,
   "metadata": {
    "id": "pVHWjwql4zue"
   },
   "outputs": [],
   "source": [
    "type(empty_string_2)"
   ]
  },
  {
   "cell_type": "code",
   "execution_count": null,
   "metadata": {
    "id": "t8efjVry5lDf"
   },
   "outputs": [],
   "source": [
    "print(empty_string_2)"
   ]
  },
  {
   "cell_type": "markdown",
   "metadata": {
    "id": "5J8SAui8_pHD"
   },
   "source": [
    "### Example\n",
    "Creating non-empty strings"
   ]
  },
  {
   "cell_type": "code",
   "execution_count": null,
   "metadata": {
    "id": "O7Rp6I2G7R3u"
   },
   "outputs": [],
   "source": [
    "my_string = 'dog'"
   ]
  },
  {
   "cell_type": "code",
   "execution_count": null,
   "metadata": {
    "id": "OfeKTwI_ttnf"
   },
   "outputs": [],
   "source": [
    "my_string"
   ]
  },
  {
   "cell_type": "code",
   "execution_count": null,
   "metadata": {
    "id": "b9-Z94dJsg0n"
   },
   "outputs": [],
   "source": [
    "print(my_string)"
   ]
  },
  {
   "cell_type": "code",
   "execution_count": null,
   "metadata": {
    "id": "0qCajIfs7R3u"
   },
   "outputs": [],
   "source": [
    "type(my_string)"
   ]
  },
  {
   "cell_type": "code",
   "execution_count": null,
   "metadata": {
    "id": "VavbaLex7R3v"
   },
   "outputs": [],
   "source": [
    "some_string = '25'"
   ]
  },
  {
   "cell_type": "code",
   "execution_count": null,
   "metadata": {
    "id": "HL-Vb0Dptv2u"
   },
   "outputs": [],
   "source": [
    "some_string"
   ]
  },
  {
   "cell_type": "code",
   "execution_count": null,
   "metadata": {
    "id": "smcCw04Qsijc"
   },
   "outputs": [],
   "source": [
    "print(some_string)"
   ]
  },
  {
   "cell_type": "code",
   "execution_count": null,
   "metadata": {
    "id": "3PNBGBP97R3v"
   },
   "outputs": [],
   "source": [
    "type(some_string)"
   ]
  },
  {
   "cell_type": "code",
   "execution_count": null,
   "metadata": {
    "id": "Mbet6hvxJczz"
   },
   "outputs": [],
   "source": [
    "single_quotes_in_string = \"'Python'\""
   ]
  },
  {
   "cell_type": "code",
   "execution_count": null,
   "metadata": {
    "id": "QC9xx1e_Jlue"
   },
   "outputs": [],
   "source": [
    "print(single_quotes_in_string)"
   ]
  },
  {
   "cell_type": "code",
   "execution_count": null,
   "metadata": {
    "id": "1xaHSCOFJo8-"
   },
   "outputs": [],
   "source": [
    "double_quotes_in_string = '\"Python\"'"
   ]
  },
  {
   "cell_type": "code",
   "execution_count": null,
   "metadata": {
    "id": "qW5JZ41WJsZ1"
   },
   "outputs": [],
   "source": [
    "print(double_quotes_in_string)"
   ]
  },
  {
   "cell_type": "markdown",
   "metadata": {
    "id": "tAKpF2n57TXY"
   },
   "source": [
    "### Example\n",
    "Creating multiline strings"
   ]
  },
  {
   "cell_type": "code",
   "execution_count": null,
   "metadata": {
    "id": "IwmwRQ3cJqeJ"
   },
   "outputs": [],
   "source": [
    "multiline_string = '''\n",
    "This is a multiline\n",
    "string created using\n",
    "triple quotes.\n",
    "'''"
   ]
  },
  {
   "cell_type": "code",
   "execution_count": null,
   "metadata": {
    "id": "xaZrroWwhd3I"
   },
   "outputs": [],
   "source": [
    "type(multiline_string)"
   ]
  },
  {
   "cell_type": "code",
   "execution_count": null,
   "metadata": {
    "id": "DrP6gR_t7a8N"
   },
   "outputs": [],
   "source": [
    "multiline_string"
   ]
  },
  {
   "cell_type": "code",
   "execution_count": null,
   "metadata": {
    "id": "7Ircu9IJWFgN"
   },
   "outputs": [],
   "source": [
    "print(multiline_string)"
   ]
  },
  {
   "cell_type": "markdown",
   "metadata": {
    "id": "y9VuNG6AoJdT"
   },
   "source": [
    "We will look at `'\\n'` and other escape sequences later."
   ]
  },
  {
   "cell_type": "markdown",
   "metadata": {
    "id": "Sdl5r_oq3rl8"
   },
   "source": [
    "### Example\n",
    "Creating strings using the `str()` function"
   ]
  },
  {
   "cell_type": "code",
   "execution_count": null,
   "metadata": {
    "id": "xC8folaM7R3w"
   },
   "outputs": [],
   "source": [
    "age = 42"
   ]
  },
  {
   "cell_type": "code",
   "execution_count": null,
   "metadata": {
    "id": "thImFRwo7R32"
   },
   "outputs": [],
   "source": [
    "type(age)"
   ]
  },
  {
   "cell_type": "code",
   "execution_count": null,
   "metadata": {
    "id": "AlI9LTEc7R32"
   },
   "outputs": [],
   "source": [
    "age"
   ]
  },
  {
   "cell_type": "code",
   "execution_count": null,
   "metadata": {
    "id": "NhJSNbkV7R32"
   },
   "outputs": [],
   "source": [
    "print(age)"
   ]
  },
  {
   "cell_type": "code",
   "execution_count": null,
   "metadata": {
    "id": "YGLZmnuR31Gf"
   },
   "outputs": [],
   "source": [
    "string_age = str(age)"
   ]
  },
  {
   "cell_type": "code",
   "execution_count": null,
   "metadata": {
    "id": "awrQ901X4AtK"
   },
   "outputs": [],
   "source": [
    "type(string_age)"
   ]
  },
  {
   "cell_type": "code",
   "execution_count": null,
   "metadata": {
    "id": "Y6Nj4cW06kKz"
   },
   "outputs": [],
   "source": [
    "string_age"
   ]
  },
  {
   "cell_type": "code",
   "execution_count": null,
   "metadata": {
    "id": "-0YuC7se7R32"
   },
   "outputs": [],
   "source": [
    "print(string_age)"
   ]
  },
  {
   "cell_type": "markdown",
   "metadata": {
    "id": "VoXnZkvdN5b3"
   },
   "source": [
    "## Indexing and slicing strings\n",
    "Indexing operations can be performed on all Python data structures, and allow one to access elements within that data structure by using its position or index number. Note that in Python, indexing starts from $0$, i.e. the element in the first position is accessed with index $0$."
   ]
  },
  {
   "cell_type": "markdown",
   "metadata": {
    "id": "gQ_6-31yOPWv"
   },
   "source": [
    "### Example\n",
    "Accessing individual characters in a string"
   ]
  },
  {
   "cell_type": "code",
   "execution_count": 1,
   "metadata": {
    "id": "dJV_BOsrOWNZ"
   },
   "outputs": [],
   "source": [
    "my_string = 'Python Programming'"
   ]
  },
  {
   "cell_type": "code",
   "execution_count": 11,
   "metadata": {},
   "outputs": [
    {
     "data": {
      "text/plain": [
       "18"
      ]
     },
     "execution_count": 11,
     "metadata": {},
     "output_type": "execute_result"
    }
   ],
   "source": [
    "len(my_string)"
   ]
  },
  {
   "cell_type": "code",
   "execution_count": 3,
   "metadata": {
    "id": "Mqo-hNNjt01Z"
   },
   "outputs": [
    {
     "data": {
      "text/plain": [
       "'Python Programming'"
      ]
     },
     "execution_count": 3,
     "metadata": {},
     "output_type": "execute_result"
    }
   ],
   "source": [
    "my_string"
   ]
  },
  {
   "cell_type": "code",
   "execution_count": 27,
   "metadata": {
    "id": "DvJr-BM-7R38"
   },
   "outputs": [
    {
     "data": {
      "text/plain": [
       "'P'"
      ]
     },
     "execution_count": 27,
     "metadata": {},
     "output_type": "execute_result"
    }
   ],
   "source": [
    "my_string[0]"
   ]
  },
  {
   "cell_type": "code",
   "execution_count": 7,
   "metadata": {
    "id": "Q8mZRYcIC2hN"
   },
   "outputs": [
    {
     "data": {
      "text/plain": [
       "'y'"
      ]
     },
     "execution_count": 7,
     "metadata": {},
     "output_type": "execute_result"
    }
   ],
   "source": [
    "my_string[1]"
   ]
  },
  {
   "cell_type": "code",
   "execution_count": 9,
   "metadata": {
    "id": "8WQE-EDLDWY-"
   },
   "outputs": [
    {
     "data": {
      "text/plain": [
       "'g'"
      ]
     },
     "execution_count": 9,
     "metadata": {},
     "output_type": "execute_result"
    }
   ],
   "source": [
    "my_string[17]"
   ]
  },
  {
   "cell_type": "code",
   "execution_count": 13,
   "metadata": {
    "id": "E7ibsenCDX-_"
   },
   "outputs": [
    {
     "data": {
      "text/plain": [
       "'g'"
      ]
     },
     "execution_count": 13,
     "metadata": {},
     "output_type": "execute_result"
    }
   ],
   "source": [
    "my_string[-1]"
   ]
  },
  {
   "cell_type": "code",
   "execution_count": null,
   "metadata": {
    "id": "v-Qeu-EeD3Ea"
   },
   "outputs": [],
   "source": [
    "my_string[-2]"
   ]
  },
  {
   "cell_type": "markdown",
   "metadata": {
    "id": "dfn0qmRd5M3X"
   },
   "source": [
    "### Example\n",
    "Slice strings to extract substrings"
   ]
  },
  {
   "cell_type": "code",
   "execution_count": 57,
   "metadata": {
    "id": "osW8D1OtFJ9f"
   },
   "outputs": [],
   "source": [
    "my_string = 'Python Programming'"
   ]
  },
  {
   "cell_type": "code",
   "execution_count": 31,
   "metadata": {
    "colab": {
     "base_uri": "https://localhost:8080/",
     "height": 35
    },
    "executionInfo": {
     "elapsed": 11,
     "status": "ok",
     "timestamp": 1723010408124,
     "user": {
      "displayName": "Sohan Hedge",
      "userId": "03545084746990477806"
     },
     "user_tz": -330
    },
    "id": "jrG76CNat4yz",
    "outputId": "e1bd079c-5d2a-4647-8289-c1767bbecd5f"
   },
   "outputs": [
    {
     "data": {
      "text/plain": [
       "'Python Programming'"
      ]
     },
     "execution_count": 31,
     "metadata": {},
     "output_type": "execute_result"
    }
   ],
   "source": [
    "my_string"
   ]
  },
  {
   "cell_type": "code",
   "execution_count": 35,
   "metadata": {
    "colab": {
     "base_uri": "https://localhost:8080/",
     "height": 35
    },
    "executionInfo": {
     "elapsed": 4,
     "status": "ok",
     "timestamp": 1723010423682,
     "user": {
      "displayName": "Sohan Hedge",
      "userId": "03545084746990477806"
     },
     "user_tz": -330
    },
    "id": "0-02UyZE7R3_",
    "outputId": "f338810a-ab58-46d4-fc6e-ad3a4ca58f6b"
   },
   "outputs": [
    {
     "data": {
      "text/plain": [
       "'Pyt'"
      ]
     },
     "execution_count": 35,
     "metadata": {},
     "output_type": "execute_result"
    }
   ],
   "source": [
    "my_string[0:3]"
   ]
  },
  {
   "cell_type": "code",
   "execution_count": 41,
   "metadata": {
    "colab": {
     "base_uri": "https://localhost:8080/",
     "height": 35
    },
    "executionInfo": {
     "elapsed": 436,
     "status": "ok",
     "timestamp": 1723010421341,
     "user": {
      "displayName": "Sohan Hedge",
      "userId": "03545084746990477806"
     },
     "user_tz": -330
    },
    "id": "u_veiiVjFcqA",
    "outputId": "1a59fd39-cdd1-4f15-b010-e3518c04919f"
   },
   "outputs": [
    {
     "data": {
      "text/plain": [
       "'ython '"
      ]
     },
     "execution_count": 41,
     "metadata": {},
     "output_type": "execute_result"
    }
   ],
   "source": [
    "my_string [1:7]"
   ]
  },
  {
   "cell_type": "code",
   "execution_count": 43,
   "metadata": {
    "id": "5O7iM2sNFiuh"
   },
   "outputs": [
    {
     "data": {
      "text/plain": [
       "'Py'"
      ]
     },
     "execution_count": 43,
     "metadata": {},
     "output_type": "execute_result"
    }
   ],
   "source": [
    "my_string [:2]"
   ]
  },
  {
   "cell_type": "code",
   "execution_count": 45,
   "metadata": {
    "id": "lbgt-uArO3KD"
   },
   "outputs": [
    {
     "data": {
      "text/plain": [
       "'ython'"
      ]
     },
     "execution_count": 45,
     "metadata": {},
     "output_type": "execute_result"
    }
   ],
   "source": [
    "my_string[1:6]"
   ]
  },
  {
   "cell_type": "code",
   "execution_count": 47,
   "metadata": {
    "id": "gDbltFso7R4A"
   },
   "outputs": [
    {
     "data": {
      "text/plain": [
       "'on Prog'"
      ]
     },
     "execution_count": 47,
     "metadata": {},
     "output_type": "execute_result"
    }
   ],
   "source": [
    "my_string[4:11]"
   ]
  },
  {
   "cell_type": "code",
   "execution_count": 49,
   "metadata": {
    "id": "O54IiQgX7R4A"
   },
   "outputs": [
    {
     "data": {
      "text/plain": [
       "'Programming'"
      ]
     },
     "execution_count": 49,
     "metadata": {},
     "output_type": "execute_result"
    }
   ],
   "source": [
    "my_string[7:18]"
   ]
  },
  {
   "cell_type": "code",
   "execution_count": 59,
   "metadata": {
    "id": "Ga_hi8u-7R4A"
   },
   "outputs": [
    {
     "data": {
      "text/plain": [
       "'Programming'"
      ]
     },
     "execution_count": 59,
     "metadata": {},
     "output_type": "execute_result"
    }
   ],
   "source": [
    "my_string[7:]"
   ]
  },
  {
   "cell_type": "code",
   "execution_count": 61,
   "metadata": {
    "id": "vStiSY_P7R4A"
   },
   "outputs": [
    {
     "data": {
      "text/plain": [
       "'amming'"
      ]
     },
     "execution_count": 61,
     "metadata": {},
     "output_type": "execute_result"
    }
   ],
   "source": [
    "my_string[12:]"
   ]
  },
  {
   "cell_type": "code",
   "execution_count": 63,
   "metadata": {},
   "outputs": [],
   "source": [
    "my_string = 'Python Programming'"
   ]
  },
  {
   "cell_type": "code",
   "execution_count": 65,
   "metadata": {
    "colab": {
     "base_uri": "https://localhost:8080/",
     "height": 35
    },
    "executionInfo": {
     "elapsed": 452,
     "status": "ok",
     "timestamp": 1723010444182,
     "user": {
      "displayName": "Sohan Hedge",
      "userId": "03545084746990477806"
     },
     "user_tz": -330
    },
    "id": "1Xkl-fqnF7co",
    "outputId": "0c717b1a-af9a-4410-dbe9-19c8b42b68a1"
   },
   "outputs": [
    {
     "data": {
      "text/plain": [
       "'Python Programmin'"
      ]
     },
     "execution_count": 65,
     "metadata": {},
     "output_type": "execute_result"
    }
   ],
   "source": [
    "my_string[0:-1]"
   ]
  },
  {
   "cell_type": "code",
   "execution_count": 71,
   "metadata": {
    "id": "wlqGLpes7R4A"
   },
   "outputs": [
    {
     "data": {
      "text/plain": [
       "'Python Programmi'"
      ]
     },
     "execution_count": 71,
     "metadata": {},
     "output_type": "execute_result"
    }
   ],
   "source": [
    "my_string[:-2]"
   ]
  },
  {
   "cell_type": "code",
   "execution_count": 73,
   "metadata": {
    "id": "10tz_GcAGBAM"
   },
   "outputs": [
    {
     "data": {
      "text/plain": [
       "'ython Programmin'"
      ]
     },
     "execution_count": 73,
     "metadata": {},
     "output_type": "execute_result"
    }
   ],
   "source": [
    "my_string[1:-1]"
   ]
  },
  {
   "cell_type": "code",
   "execution_count": 75,
   "metadata": {
    "id": "NBFNbwBlGEPa"
   },
   "outputs": [
    {
     "data": {
      "text/plain": [
       "'ython Programmi'"
      ]
     },
     "execution_count": 75,
     "metadata": {},
     "output_type": "execute_result"
    }
   ],
   "source": [
    "my_string[1:-2]"
   ]
  },
  {
   "cell_type": "markdown",
   "metadata": {
    "id": "fuZxRSfu7R4A"
   },
   "source": [
    "### Example\n",
    "Accessing string characters in a pattern"
   ]
  },
  {
   "cell_type": "code",
   "execution_count": 77,
   "metadata": {
    "id": "cCoDstC27R4A"
   },
   "outputs": [],
   "source": [
    "my_string = 'Python Programming'"
   ]
  },
  {
   "cell_type": "code",
   "execution_count": 79,
   "metadata": {
    "colab": {
     "base_uri": "https://localhost:8080/",
     "height": 35
    },
    "executionInfo": {
     "elapsed": 426,
     "status": "ok",
     "timestamp": 1723010348405,
     "user": {
      "displayName": "Sohan Hedge",
      "userId": "03545084746990477806"
     },
     "user_tz": -330
    },
    "id": "4lbXlhvst-nO",
    "outputId": "61a77bf0-9cab-4f0a-9ffc-9f687b1ed6b0"
   },
   "outputs": [
    {
     "data": {
      "text/plain": [
       "'Python Programming'"
      ]
     },
     "execution_count": 79,
     "metadata": {},
     "output_type": "execute_result"
    }
   ],
   "source": [
    "my_string"
   ]
  },
  {
   "cell_type": "code",
   "execution_count": 95,
   "metadata": {
    "colab": {
     "base_uri": "https://localhost:8080/",
     "height": 35
    },
    "executionInfo": {
     "elapsed": 413,
     "status": "ok",
     "timestamp": 1723010350786,
     "user": {
      "displayName": "Sohan Hedge",
      "userId": "03545084746990477806"
     },
     "user_tz": -330
    },
    "id": "D4EfBIcHGIB-",
    "outputId": "796d1935-8b47-482a-a0ef-91d913e08f87"
   },
   "outputs": [
    {
     "data": {
      "text/plain": [
       "'Pto rgamn'"
      ]
     },
     "execution_count": 95,
     "metadata": {},
     "output_type": "execute_result"
    }
   ],
   "source": [
    "my_string[0:-1:2]"
   ]
  },
  {
   "cell_type": "code",
   "execution_count": 87,
   "metadata": {
    "colab": {
     "base_uri": "https://localhost:8080/",
     "height": 35
    },
    "executionInfo": {
     "elapsed": 437,
     "status": "ok",
     "timestamp": 1723010357215,
     "user": {
      "displayName": "Sohan Hedge",
      "userId": "03545084746990477806"
     },
     "user_tz": -330
    },
    "id": "TvCRKLvv7R4B",
    "outputId": "7f85413d-8b2f-4346-a18b-575c8ad9bc64"
   },
   "outputs": [
    {
     "data": {
      "text/plain": [
       "'gnimmargorP nohtyP'"
      ]
     },
     "execution_count": 87,
     "metadata": {},
     "output_type": "execute_result"
    }
   ],
   "source": [
    "my_string[::-1]"
   ]
  },
  {
   "cell_type": "code",
   "execution_count": 85,
   "metadata": {
    "colab": {
     "base_uri": "https://localhost:8080/",
     "height": 35
    },
    "executionInfo": {
     "elapsed": 418,
     "status": "ok",
     "timestamp": 1723010364296,
     "user": {
      "displayName": "Sohan Hedge",
      "userId": "03545084746990477806"
     },
     "user_tz": -330
    },
    "id": "G7zRTfhlGMh3",
    "outputId": "fd68256f-8720-46c5-8bd6-2464cc425316"
   },
   "outputs": [
    {
     "data": {
      "text/plain": [
       "'Ph oai'"
      ]
     },
     "execution_count": 85,
     "metadata": {},
     "output_type": "execute_result"
    }
   ],
   "source": [
    "my_string[::3]"
   ]
  },
  {
   "cell_type": "code",
   "execution_count": 97,
   "metadata": {
    "colab": {
     "base_uri": "https://localhost:8080/",
     "height": 35
    },
    "executionInfo": {
     "elapsed": 483,
     "status": "ok",
     "timestamp": 1723010473169,
     "user": {
      "displayName": "Sohan Hedge",
      "userId": "03545084746990477806"
     },
     "user_tz": -330
    },
    "id": "Pz7ye_ZOY3j0",
    "outputId": "28a6f6b9-ad7c-4471-be4e-af2838f096d9"
   },
   "outputs": [
    {
     "data": {
      "text/plain": [
       "'gimroPnhy'"
      ]
     },
     "execution_count": 97,
     "metadata": {},
     "output_type": "execute_result"
    }
   ],
   "source": [
    "my_string[::-2]"
   ]
  },
  {
   "cell_type": "code",
   "execution_count": 107,
   "metadata": {},
   "outputs": [],
   "source": [
    "my_string = 'Python Programming'"
   ]
  },
  {
   "cell_type": "code",
   "execution_count": 109,
   "metadata": {
    "id": "0x8Xl_QD7R4B"
   },
   "outputs": [
    {
     "data": {
      "text/plain": [
       "'ytho'"
      ]
     },
     "execution_count": 109,
     "metadata": {},
     "output_type": "execute_result"
    }
   ],
   "source": [
    "my_string[1:5:1]"
   ]
  },
  {
   "cell_type": "code",
   "execution_count": 135,
   "metadata": {
    "id": "AHx3BR7b7R4B"
   },
   "outputs": [
    {
     "data": {
      "text/plain": [
       "'!nt'"
      ]
     },
     "execution_count": 135,
     "metadata": {},
     "output_type": "execute_result"
    }
   ],
   "source": [
    "my_string[-1:-6:-2]"
   ]
  },
  {
   "cell_type": "markdown",
   "metadata": {
    "id": "EmIP7KEV7R4B"
   },
   "source": [
    "### Quiz\n",
    "Extract `'EDCBA'` from the string `'AXBXCXDXE'`"
   ]
  },
  {
   "cell_type": "code",
   "execution_count": 105,
   "metadata": {
    "id": "iLLvcOQK7R4B"
   },
   "outputs": [
    {
     "data": {
      "text/plain": [
       "'EDCBA'"
      ]
     },
     "execution_count": 105,
     "metadata": {},
     "output_type": "execute_result"
    }
   ],
   "source": [
    "### YOUR CODE HERE ###\n",
    "a = 'AXBXCXDXE'\n",
    "a[::-2]"
   ]
  },
  {
   "cell_type": "markdown",
   "metadata": {
    "id": "d4AQq5DyDR2q"
   },
   "source": [
    "## Operations on strings - getting information about strings"
   ]
  },
  {
   "cell_type": "markdown",
   "metadata": {
    "id": "-vWWhcqTdbvs"
   },
   "source": [
    "### Example\n",
    "Obtaining the length of a string"
   ]
  },
  {
   "cell_type": "code",
   "execution_count": null,
   "metadata": {
    "id": "0f8bAcH07R4B"
   },
   "outputs": [],
   "source": [
    "my_string = 'A'"
   ]
  },
  {
   "cell_type": "code",
   "execution_count": null,
   "metadata": {
    "id": "CdmNSewM7R4B"
   },
   "outputs": [],
   "source": [
    "len(my_string)"
   ]
  },
  {
   "cell_type": "code",
   "execution_count": null,
   "metadata": {
    "id": "thy9EEhp7R4B"
   },
   "outputs": [],
   "source": [
    "my_string = 'A B'"
   ]
  },
  {
   "cell_type": "code",
   "execution_count": null,
   "metadata": {
    "id": "7pulKGwI7R4C"
   },
   "outputs": [],
   "source": [
    "len(my_string)"
   ]
  },
  {
   "cell_type": "code",
   "execution_count": null,
   "metadata": {
    "id": "mIrZkV5L7R4C"
   },
   "outputs": [],
   "source": [
    "my_string = 'This string is 34 characters long.'"
   ]
  },
  {
   "cell_type": "code",
   "execution_count": null,
   "metadata": {
    "id": "ZKmXYKlK7R4C"
   },
   "outputs": [],
   "source": [
    "len(my_string)"
   ]
  },
  {
   "cell_type": "markdown",
   "metadata": {
    "id": "YWenVm26FO4z"
   },
   "source": [
    "### Example\n",
    "Using the `in` operator to check whether a substring is present in a string"
   ]
  },
  {
   "cell_type": "code",
   "execution_count": 271,
   "metadata": {
    "id": "oqu1ryHvebhy"
   },
   "outputs": [],
   "source": [
    "my_string = 'I find Python programming very interesting!'"
   ]
  },
  {
   "cell_type": "code",
   "execution_count": 273,
   "metadata": {},
   "outputs": [
    {
     "name": "stdout",
     "output_type": "stream",
     "text": [
      "find is present\n",
      "very is present\n",
      "umang is absent\n"
     ]
    }
   ],
   "source": [
    "things_to_be_searched = [\"find\", \"very\", \"umang\"]\n",
    "for item in things_to_be_searched:\n",
    "    if item in my_string:\n",
    "        print(f'{item} is present')\n",
    "    else:\n",
    "        print(f'{item} is absent')\n",
    "        "
   ]
  },
  {
   "cell_type": "code",
   "execution_count": 113,
   "metadata": {
    "id": "VlCCIv4GuEfS"
   },
   "outputs": [
    {
     "data": {
      "text/plain": [
       "'I find Python programming very interesting!'"
      ]
     },
     "execution_count": 113,
     "metadata": {},
     "output_type": "execute_result"
    }
   ],
   "source": [
    "my_string"
   ]
  },
  {
   "cell_type": "code",
   "execution_count": 267,
   "metadata": {
    "id": "FBtUO4szb13z"
   },
   "outputs": [],
   "source": [
    "'ery int' in my_string\n",
    "'O' not in my_string\n",
    "a = 5"
   ]
  },
  {
   "cell_type": "code",
   "execution_count": 123,
   "metadata": {
    "id": "p7nKGgCjejH0"
   },
   "outputs": [
    {
     "data": {
      "text/plain": [
       "True"
      ]
     },
     "execution_count": 123,
     "metadata": {},
     "output_type": "execute_result"
    }
   ],
   "source": [
    "'O' not in my_string"
   ]
  },
  {
   "cell_type": "code",
   "execution_count": 125,
   "metadata": {
    "id": "hWUCFhvDehOf"
   },
   "outputs": [
    {
     "data": {
      "text/plain": [
       "False"
      ]
     },
     "execution_count": 125,
     "metadata": {},
     "output_type": "execute_result"
    }
   ],
   "source": [
    "'python' in my_string"
   ]
  },
  {
   "cell_type": "code",
   "execution_count": 127,
   "metadata": {
    "id": "EWJGH_vd7R4F"
   },
   "outputs": [
    {
     "data": {
      "text/plain": [
       "True"
      ]
     },
     "execution_count": 127,
     "metadata": {},
     "output_type": "execute_result"
    }
   ],
   "source": [
    "'Python' in my_string"
   ]
  },
  {
   "cell_type": "code",
   "execution_count": 129,
   "metadata": {
    "id": "PSK_SVy3cX_b"
   },
   "outputs": [
    {
     "data": {
      "text/plain": [
       "True"
      ]
     },
     "execution_count": 129,
     "metadata": {},
     "output_type": "execute_result"
    }
   ],
   "source": [
    "'Python' in my_string and 'g!' in my_string"
   ]
  },
  {
   "cell_type": "code",
   "execution_count": 131,
   "metadata": {
    "id": "4lCdmsj37R4F"
   },
   "outputs": [
    {
     "data": {
      "text/plain": [
       "False"
      ]
     },
     "execution_count": 131,
     "metadata": {},
     "output_type": "execute_result"
    }
   ],
   "source": [
    "'Python' in my_string and 'g!g' in my_string"
   ]
  },
  {
   "cell_type": "markdown",
   "metadata": {
    "id": "lwa4rxVuJDUJ"
   },
   "source": [
    "### Example\n",
    "Finding the index of any character in a string can be done with the `.index()` or `.find()` methods. The difference between these methods is that `.find()` returns `-1` if the index is not found, whereas `.index()` throws an exception."
   ]
  },
  {
   "cell_type": "code",
   "execution_count": 433,
   "metadata": {
    "id": "CDYHDeiUJM-K"
   },
   "outputs": [],
   "source": [
    "my_string = 'I find Python programming very interesting!'"
   ]
  },
  {
   "cell_type": "code",
   "execution_count": 139,
   "metadata": {
    "id": "UXCOdzcx7R4G"
   },
   "outputs": [
    {
     "data": {
      "text/plain": [
       "'I find Python programming very interesting!'"
      ]
     },
     "execution_count": 139,
     "metadata": {},
     "output_type": "execute_result"
    }
   ],
   "source": [
    "my_string"
   ]
  },
  {
   "cell_type": "code",
   "execution_count": 275,
   "metadata": {
    "id": "bazpEpInJM7b"
   },
   "outputs": [
    {
     "data": {
      "text/plain": [
       "0"
      ]
     },
     "execution_count": 275,
     "metadata": {},
     "output_type": "execute_result"
    }
   ],
   "source": [
    "'I find Python programming very interesting!'.index('I')"
   ]
  },
  {
   "cell_type": "code",
   "execution_count": 151,
   "metadata": {
    "id": "7t-fOSf_JUOC"
   },
   "outputs": [
    {
     "data": {
      "text/plain": [
       "0"
      ]
     },
     "execution_count": 151,
     "metadata": {},
     "output_type": "execute_result"
    }
   ],
   "source": [
    "my_string.index('I find')"
   ]
  },
  {
   "cell_type": "code",
   "execution_count": 153,
   "metadata": {
    "id": "Ylv1DR6v7R4G"
   },
   "outputs": [
    {
     "ename": "ValueError",
     "evalue": "substring not found",
     "output_type": "error",
     "traceback": [
      "\u001b[0;31m---------------------------------------------------------------------------\u001b[0m",
      "\u001b[0;31mValueError\u001b[0m                                Traceback (most recent call last)",
      "Cell \u001b[0;32mIn[153], line 1\u001b[0m\n\u001b[0;32m----> 1\u001b[0m my_string\u001b[38;5;241m.\u001b[39mindex(\u001b[38;5;124m'\u001b[39m\u001b[38;5;124mR programming\u001b[39m\u001b[38;5;124m'\u001b[39m)\n",
      "\u001b[0;31mValueError\u001b[0m: substring not found"
     ]
    }
   ],
   "source": [
    "my_string.index('R programming')"
   ]
  },
  {
   "cell_type": "code",
   "execution_count": 155,
   "metadata": {
    "id": "2GxqS-RIM2GX"
   },
   "outputs": [
    {
     "data": {
      "text/plain": [
       "0"
      ]
     },
     "execution_count": 155,
     "metadata": {},
     "output_type": "execute_result"
    }
   ],
   "source": [
    "my_string.find('I')"
   ]
  },
  {
   "cell_type": "code",
   "execution_count": 439,
   "metadata": {},
   "outputs": [
    {
     "data": {
      "text/plain": [
       "'I find Python programming very interesting!'"
      ]
     },
     "execution_count": 439,
     "metadata": {},
     "output_type": "execute_result"
    }
   ],
   "source": [
    "my_string"
   ]
  },
  {
   "cell_type": "code",
   "execution_count": 441,
   "metadata": {},
   "outputs": [
    {
     "data": {
      "text/plain": [
       "'i'"
      ]
     },
     "execution_count": 441,
     "metadata": {},
     "output_type": "execute_result"
    }
   ],
   "source": [
    "my_string[22]"
   ]
  },
  {
   "cell_type": "code",
   "execution_count": 437,
   "metadata": {
    "id": "h5R5a_Peibn9"
   },
   "outputs": [
    {
     "data": {
      "text/plain": [
       "22"
      ]
     },
     "execution_count": 437,
     "metadata": {},
     "output_type": "execute_result"
    }
   ],
   "source": [
    "my_string.find('i', 5, len(my_string))"
   ]
  },
  {
   "cell_type": "code",
   "execution_count": 159,
   "metadata": {
    "id": "2yLyo6_A7R4H"
   },
   "outputs": [
    {
     "data": {
      "text/plain": [
       "0"
      ]
     },
     "execution_count": 159,
     "metadata": {},
     "output_type": "execute_result"
    }
   ],
   "source": [
    "my_string.find('I find')"
   ]
  },
  {
   "cell_type": "code",
   "execution_count": 161,
   "metadata": {
    "id": "JxxEm9D-7R4H"
   },
   "outputs": [
    {
     "data": {
      "text/plain": [
       "7"
      ]
     },
     "execution_count": 161,
     "metadata": {},
     "output_type": "execute_result"
    }
   ],
   "source": [
    "my_string.find('Python')"
   ]
  },
  {
   "cell_type": "code",
   "execution_count": 163,
   "metadata": {
    "id": "d-TWOPkDNESb"
   },
   "outputs": [
    {
     "data": {
      "text/plain": [
       "-1"
      ]
     },
     "execution_count": 163,
     "metadata": {},
     "output_type": "execute_result"
    }
   ],
   "source": [
    "my_string.find('R programming')"
   ]
  },
  {
   "cell_type": "markdown",
   "metadata": {
    "id": "TiyhvYRvUU3J"
   },
   "source": [
    "### Example\n",
    "Counting occurences in a string"
   ]
  },
  {
   "cell_type": "code",
   "execution_count": 165,
   "metadata": {
    "id": "7c2KClM4IiJw"
   },
   "outputs": [],
   "source": [
    "my_string = 'I find Python programming very interesting!'"
   ]
  },
  {
   "cell_type": "code",
   "execution_count": 167,
   "metadata": {
    "id": "9PnA6PtI7R4I"
   },
   "outputs": [
    {
     "data": {
      "text/plain": [
       "'I find Python programming very interesting!'"
      ]
     },
     "execution_count": 167,
     "metadata": {},
     "output_type": "execute_result"
    }
   ],
   "source": [
    "my_string"
   ]
  },
  {
   "cell_type": "code",
   "execution_count": 169,
   "metadata": {
    "id": "Ar1w-FP1IrMg"
   },
   "outputs": [
    {
     "data": {
      "text/plain": [
       "0"
      ]
     },
     "execution_count": 169,
     "metadata": {},
     "output_type": "execute_result"
    }
   ],
   "source": [
    "my_string.count('A')"
   ]
  },
  {
   "cell_type": "code",
   "execution_count": 171,
   "metadata": {
    "id": "iEuQrOqA7R4I"
   },
   "outputs": [
    {
     "data": {
      "text/plain": [
       "5"
      ]
     },
     "execution_count": 171,
     "metadata": {},
     "output_type": "execute_result"
    }
   ],
   "source": [
    "my_string.count(' ')"
   ]
  },
  {
   "cell_type": "code",
   "execution_count": 173,
   "metadata": {
    "id": "V-NnacR37R4I"
   },
   "outputs": [
    {
     "data": {
      "text/plain": [
       "1"
      ]
     },
     "execution_count": 173,
     "metadata": {},
     "output_type": "execute_result"
    }
   ],
   "source": [
    "my_string.count('p')"
   ]
  },
  {
   "cell_type": "code",
   "execution_count": 175,
   "metadata": {
    "id": "lDRlsXtT7R4I"
   },
   "outputs": [
    {
     "data": {
      "text/plain": [
       "4"
      ]
     },
     "execution_count": 175,
     "metadata": {},
     "output_type": "execute_result"
    }
   ],
   "source": [
    "my_string.count('i')"
   ]
  },
  {
   "cell_type": "code",
   "execution_count": 177,
   "metadata": {
    "id": "cULTrWYp7R4I"
   },
   "outputs": [
    {
     "data": {
      "text/plain": [
       "4"
      ]
     },
     "execution_count": 177,
     "metadata": {},
     "output_type": "execute_result"
    }
   ],
   "source": [
    "my_string.count('in')"
   ]
  },
  {
   "cell_type": "markdown",
   "metadata": {
    "id": "2i_o65RX-NHk"
   },
   "source": [
    "### Example\n",
    "\"ASCII\" stands for \"American Standard Code for Information Interchange.\" ASCII assigns numeric values to letters, characters, numbers and other special symbols in order to standardise them across platforms, and allow for a system which can be just as readily understood by humans as by computers.\n",
    "\n",
    "Obtaining ASCII values of string characters and comparing strings lexicographically"
   ]
  },
  {
   "cell_type": "code",
   "execution_count": null,
   "metadata": {
    "id": "HzSqrmEz7R4J"
   },
   "outputs": [],
   "source": [
    "ord('a')"
   ]
  },
  {
   "cell_type": "code",
   "execution_count": null,
   "metadata": {
    "id": "LNpSY-DW7R4M"
   },
   "outputs": [],
   "source": [
    "ord('b')"
   ]
  },
  {
   "cell_type": "code",
   "execution_count": null,
   "metadata": {
    "id": "RlRQ6sg77R4M"
   },
   "outputs": [],
   "source": [
    "ord('z')"
   ]
  },
  {
   "cell_type": "code",
   "execution_count": 183,
   "metadata": {
    "id": "UypsamtK7R4M"
   },
   "outputs": [
    {
     "data": {
      "text/plain": [
       "33"
      ]
     },
     "execution_count": 183,
     "metadata": {},
     "output_type": "execute_result"
    }
   ],
   "source": [
    "ord('!')"
   ]
  },
  {
   "cell_type": "code",
   "execution_count": null,
   "metadata": {
    "id": "tcRixuVC7R4N"
   },
   "outputs": [],
   "source": [
    "ord('B')"
   ]
  },
  {
   "cell_type": "code",
   "execution_count": null,
   "metadata": {
    "id": "aAId28hf7R4N"
   },
   "outputs": [],
   "source": [
    "ord('Z')"
   ]
  },
  {
   "cell_type": "code",
   "execution_count": null,
   "metadata": {
    "id": "5T7u_C_k7R4N"
   },
   "outputs": [],
   "source": [
    "ord(' ')"
   ]
  },
  {
   "cell_type": "code",
   "execution_count": null,
   "metadata": {
    "id": "jK9kEJ2Fg5ra"
   },
   "outputs": [],
   "source": [
    "ord('!')"
   ]
  },
  {
   "cell_type": "code",
   "execution_count": null,
   "metadata": {
    "id": "HHZ5Rs6k7R4N"
   },
   "outputs": [],
   "source": [
    "ord('\\'')"
   ]
  },
  {
   "cell_type": "code",
   "execution_count": 185,
   "metadata": {
    "id": "DQzdvaVE7R4N"
   },
   "outputs": [
    {
     "data": {
      "text/plain": [
       "False"
      ]
     },
     "execution_count": 185,
     "metadata": {},
     "output_type": "execute_result"
    }
   ],
   "source": [
    "ord('a') > ord('b')"
   ]
  },
  {
   "cell_type": "code",
   "execution_count": 189,
   "metadata": {},
   "outputs": [
    {
     "data": {
      "text/plain": [
       "97"
      ]
     },
     "execution_count": 189,
     "metadata": {},
     "output_type": "execute_result"
    }
   ],
   "source": [
    "ord('a')"
   ]
  },
  {
   "cell_type": "code",
   "execution_count": 191,
   "metadata": {},
   "outputs": [
    {
     "data": {
      "text/plain": [
       "98"
      ]
     },
     "execution_count": 191,
     "metadata": {},
     "output_type": "execute_result"
    }
   ],
   "source": [
    "ord('b')"
   ]
  },
  {
   "cell_type": "code",
   "execution_count": 193,
   "metadata": {},
   "outputs": [
    {
     "data": {
      "text/plain": [
       "True"
      ]
     },
     "execution_count": 193,
     "metadata": {},
     "output_type": "execute_result"
    }
   ],
   "source": [
    "97 < 98"
   ]
  },
  {
   "cell_type": "code",
   "execution_count": 195,
   "metadata": {
    "id": "zUlsfJ-i7R4N"
   },
   "outputs": [
    {
     "data": {
      "text/plain": [
       "True"
      ]
     },
     "execution_count": 195,
     "metadata": {},
     "output_type": "execute_result"
    }
   ],
   "source": [
    "'a' < 'b'"
   ]
  },
  {
   "cell_type": "code",
   "execution_count": 197,
   "metadata": {
    "id": "G3cvtpoP7R4N"
   },
   "outputs": [
    {
     "data": {
      "text/plain": [
       "False"
      ]
     },
     "execution_count": 197,
     "metadata": {},
     "output_type": "execute_result"
    }
   ],
   "source": [
    "'a' > 'b'"
   ]
  },
  {
   "cell_type": "code",
   "execution_count": 209,
   "metadata": {
    "id": "ErqerCMx7R4O"
   },
   "outputs": [
    {
     "data": {
      "text/plain": [
       "False"
      ]
     },
     "execution_count": 209,
     "metadata": {},
     "output_type": "execute_result"
    }
   ],
   "source": [
    "'Pa' > 'Python'"
   ]
  },
  {
   "cell_type": "code",
   "execution_count": 201,
   "metadata": {
    "id": "r0NVRBYH7R4P"
   },
   "outputs": [
    {
     "data": {
      "text/plain": [
       "True"
      ]
     },
     "execution_count": 201,
     "metadata": {},
     "output_type": "execute_result"
    }
   ],
   "source": [
    "'P' > 'M'"
   ]
  },
  {
   "cell_type": "markdown",
   "metadata": {
    "id": "JFpV5vGFF0mV"
   },
   "source": [
    "## Operation on strings - manipulating strings"
   ]
  },
  {
   "cell_type": "markdown",
   "metadata": {
    "id": "kNTgmCAXEDAY"
   },
   "source": [
    "### Example\n",
    "Concatenating strings"
   ]
  },
  {
   "cell_type": "code",
   "execution_count": 211,
   "metadata": {
    "id": "kJoylRmBmHhN"
   },
   "outputs": [],
   "source": [
    "first_name = 'Rahul'\n",
    "last_name = 'Dravid'"
   ]
  },
  {
   "cell_type": "code",
   "execution_count": 213,
   "metadata": {
    "id": "oiSlkp9_7R4Q"
   },
   "outputs": [
    {
     "data": {
      "text/plain": [
       "'RahulDravid'"
      ]
     },
     "execution_count": 213,
     "metadata": {},
     "output_type": "execute_result"
    }
   ],
   "source": [
    "first_name + last_name"
   ]
  },
  {
   "cell_type": "code",
   "execution_count": 215,
   "metadata": {
    "id": "vhOj0MbMEKdQ"
   },
   "outputs": [
    {
     "data": {
      "text/plain": [
       "'Rahul Dravid'"
      ]
     },
     "execution_count": 215,
     "metadata": {},
     "output_type": "execute_result"
    }
   ],
   "source": [
    "first_name + ' ' + last_name"
   ]
  },
  {
   "cell_type": "code",
   "execution_count": 217,
   "metadata": {
    "id": "3C56PgMCZnAO"
   },
   "outputs": [],
   "source": [
    "middle_name = 'Sharad'"
   ]
  },
  {
   "cell_type": "code",
   "execution_count": 219,
   "metadata": {
    "id": "s1lsJyOKZuUy"
   },
   "outputs": [
    {
     "data": {
      "text/plain": [
       "'Rahul Sharad Dravid'"
      ]
     },
     "execution_count": 219,
     "metadata": {},
     "output_type": "execute_result"
    }
   ],
   "source": [
    "first_name + ' ' + middle_name + ' ' + last_name"
   ]
  },
  {
   "cell_type": "markdown",
   "metadata": {
    "id": "fS5F5KbbTaUG"
   },
   "source": [
    "### Example\n",
    "Changing the case of a string"
   ]
  },
  {
   "cell_type": "code",
   "execution_count": 239,
   "metadata": {
    "id": "H8holHwgTe_5"
   },
   "outputs": [],
   "source": [
    "my_string = 'My name is Umang. I find Python programming very interesting!'"
   ]
  },
  {
   "cell_type": "code",
   "execution_count": 241,
   "metadata": {
    "id": "ruzCTxvo7R4R"
   },
   "outputs": [
    {
     "data": {
      "text/plain": [
       "'My name is Umang. I find Python programming very interesting!'"
      ]
     },
     "execution_count": 241,
     "metadata": {},
     "output_type": "execute_result"
    }
   ],
   "source": [
    "my_string"
   ]
  },
  {
   "cell_type": "code",
   "execution_count": 253,
   "metadata": {
    "id": "6i9Xoi-mg0LI"
   },
   "outputs": [],
   "source": [
    "my_string = my_string.lower()"
   ]
  },
  {
   "cell_type": "code",
   "execution_count": 451,
   "metadata": {
    "id": "gQYn14_ITi6_"
   },
   "outputs": [
    {
     "data": {
      "text/plain": [
       "'I FIND PYTHON PROGRAMMING VERY INTERESTING!'"
      ]
     },
     "execution_count": 451,
     "metadata": {},
     "output_type": "execute_result"
    }
   ],
   "source": [
    "my_string.upper()"
   ]
  },
  {
   "cell_type": "code",
   "execution_count": 429,
   "metadata": {},
   "outputs": [
    {
     "data": {
      "text/plain": [
       "\u001b[0;31mDocstring:\u001b[0m\n",
       "S.find(sub[, start[, end]]) -> int\n",
       "\n",
       "Return the lowest index in S where substring sub is found,\n",
       "such that sub is contained within S[start:end].  Optional\n",
       "arguments start and end are interpreted as in slice notation.\n",
       "\n",
       "Return -1 on failure.\n",
       "\u001b[0;31mType:\u001b[0m      builtin_function_or_method"
      ]
     },
     "metadata": {},
     "output_type": "display_data"
    }
   ],
   "source": [
    "my_string.find?"
   ]
  },
  {
   "cell_type": "code",
   "execution_count": 255,
   "metadata": {},
   "outputs": [
    {
     "data": {
      "text/plain": [
       "'my name is umang. i find python programming very interesting!'"
      ]
     },
     "execution_count": 255,
     "metadata": {},
     "output_type": "execute_result"
    }
   ],
   "source": [
    "my_string"
   ]
  },
  {
   "cell_type": "code",
   "execution_count": null,
   "metadata": {},
   "outputs": [],
   "source": []
  },
  {
   "cell_type": "code",
   "execution_count": 257,
   "metadata": {
    "id": "KJCLqEDU_JBj"
   },
   "outputs": [
    {
     "data": {
      "text/plain": [
       "'My name is umang. i find python programming very interesting!'"
      ]
     },
     "execution_count": 257,
     "metadata": {},
     "output_type": "execute_result"
    }
   ],
   "source": [
    "my_string.capitalize()"
   ]
  },
  {
   "cell_type": "code",
   "execution_count": 259,
   "metadata": {
    "id": "0DOjVhYLhFvJ"
   },
   "outputs": [
    {
     "data": {
      "text/plain": [
       "'My Name Is Umang. I Find Python Programming Very Interesting!'"
      ]
     },
     "execution_count": 259,
     "metadata": {},
     "output_type": "execute_result"
    }
   ],
   "source": [
    "my_string.title()"
   ]
  },
  {
   "cell_type": "markdown",
   "metadata": {
    "id": "cW6ZoauIw94s"
   },
   "source": [
    "A lot of these operations do not edit the original object in memory."
   ]
  },
  {
   "cell_type": "code",
   "execution_count": null,
   "metadata": {
    "id": "1iR-ffVomibe"
   },
   "outputs": [],
   "source": [
    "my_string"
   ]
  },
  {
   "cell_type": "code",
   "execution_count": null,
   "metadata": {
    "id": "w79Gx_Vemr7J"
   },
   "outputs": [],
   "source": [
    "my_string = my_string.title()"
   ]
  },
  {
   "cell_type": "code",
   "execution_count": null,
   "metadata": {
    "id": "iI13ky0Lmt5X"
   },
   "outputs": [],
   "source": [
    "my_string"
   ]
  },
  {
   "cell_type": "markdown",
   "metadata": {
    "id": "jkbkky_1TqFA"
   },
   "source": [
    "### Example\n",
    "Removing whitespaces"
   ]
  },
  {
   "cell_type": "code",
   "execution_count": 421,
   "metadata": {
    "id": "MqpWhNjrf8t8"
   },
   "outputs": [],
   "source": [
    "my_string = '##> ####Python is fun #_ # # # #'"
   ]
  },
  {
   "cell_type": "code",
   "execution_count": 423,
   "metadata": {
    "id": "oDT2KkfUmRKx"
   },
   "outputs": [
    {
     "data": {
      "text/plain": [
       "'##> ####Python is fun #_ # # # #'"
      ]
     },
     "execution_count": 423,
     "metadata": {},
     "output_type": "execute_result"
    }
   ],
   "source": [
    "my_string"
   ]
  },
  {
   "cell_type": "code",
   "execution_count": 425,
   "metadata": {
    "id": "BKMl4ie8gCJX"
   },
   "outputs": [
    {
     "data": {
      "text/plain": [
       "'Python is fun #_'"
      ]
     },
     "execution_count": 425,
     "metadata": {},
     "output_type": "execute_result"
    }
   ],
   "source": [
    "my_string.strip('# >')"
   ]
  },
  {
   "cell_type": "code",
   "execution_count": 413,
   "metadata": {
    "id": "qJuTiX4V7R4T"
   },
   "outputs": [
    {
     "data": {
      "text/plain": [
       "'##> ####Python is fun # # # # # '"
      ]
     },
     "execution_count": 413,
     "metadata": {},
     "output_type": "execute_result"
    }
   ],
   "source": [
    "my_string"
   ]
  },
  {
   "cell_type": "code",
   "execution_count": null,
   "metadata": {
    "id": "Ac0PAMTC7R4T"
   },
   "outputs": [],
   "source": [
    "my_string = my_string.strip()"
   ]
  },
  {
   "cell_type": "code",
   "execution_count": null,
   "metadata": {
    "id": "cBPuzVkt7R4T"
   },
   "outputs": [],
   "source": [
    "my_string"
   ]
  },
  {
   "cell_type": "markdown",
   "metadata": {
    "id": "STPtUih1T56b"
   },
   "source": [
    "### Example\n",
    "Replacing substrings"
   ]
  },
  {
   "cell_type": "code",
   "execution_count": 379,
   "metadata": {
    "id": "pnyaOFCjT1_o"
   },
   "outputs": [],
   "source": [
    "my_string = 'I find Python programming very interesting!'"
   ]
  },
  {
   "cell_type": "code",
   "execution_count": 381,
   "metadata": {
    "id": "9XjVJX2k7R4T"
   },
   "outputs": [
    {
     "data": {
      "text/plain": [
       "'I find Python programming very interesting!'"
      ]
     },
     "execution_count": 381,
     "metadata": {},
     "output_type": "execute_result"
    }
   ],
   "source": [
    "my_string"
   ]
  },
  {
   "cell_type": "code",
   "execution_count": 385,
   "metadata": {
    "id": "xoSs39AcjoEf"
   },
   "outputs": [
    {
     "data": {
      "text/plain": [
       "'I fWend Python programmWeng very WenterestWeng!'"
      ]
     },
     "execution_count": 385,
     "metadata": {},
     "output_type": "execute_result"
    }
   ],
   "source": [
    "my_string.replace('i', 'We')"
   ]
  },
  {
   "cell_type": "code",
   "execution_count": null,
   "metadata": {
    "id": "EMdZUU3W7R4T"
   },
   "outputs": [],
   "source": [
    "my_string"
   ]
  },
  {
   "cell_type": "code",
   "execution_count": 387,
   "metadata": {
    "id": "IrsvboTi7R4U"
   },
   "outputs": [],
   "source": [
    "my_string = my_string.replace('I', 'We')"
   ]
  },
  {
   "cell_type": "code",
   "execution_count": 389,
   "metadata": {
    "id": "dLSWe_ImkB0y"
   },
   "outputs": [
    {
     "data": {
      "text/plain": [
       "'We find Python programming very interesting!'"
      ]
     },
     "execution_count": 389,
     "metadata": {},
     "output_type": "execute_result"
    }
   ],
   "source": [
    "my_string"
   ]
  },
  {
   "cell_type": "markdown",
   "metadata": {
    "id": "QTiqiKud2Lwb"
   },
   "source": [
    "### Quiz\n",
    " Find the length of the string `'Python programming is fun!'` and count the occurrences of `'n'` in the string."
   ]
  },
  {
   "cell_type": "code",
   "execution_count": null,
   "metadata": {
    "id": "ziQV2RAi2Lwc"
   },
   "outputs": [],
   "source": [
    "### YOUR CODE HERE ###"
   ]
  },
  {
   "cell_type": "code",
   "execution_count": null,
   "metadata": {
    "id": "OqS5Yh_P1R6M"
   },
   "outputs": [],
   "source": [
    "### YOUR CODE HERE ###"
   ]
  },
  {
   "cell_type": "markdown",
   "metadata": {
    "id": "WEwhRp3T-9rY"
   },
   "source": [
    "# Lists\n",
    "A list is a built-in Python data structure which is used to store a collection of items. The items stored can be of any type, and more than one type can be used in a list. Lists are ordered, and the elements within a list can be accessed by indexing. Lists are mutable or can be changed."
   ]
  },
  {
   "cell_type": "markdown",
   "metadata": {
    "id": "ey6ycfpfAigb"
   },
   "source": [
    "## Creating lists"
   ]
  },
  {
   "cell_type": "markdown",
   "metadata": {
    "id": "T1ldMtOfBKbH"
   },
   "source": [
    "### Example\n",
    "Creating an empty list"
   ]
  },
  {
   "cell_type": "code",
   "execution_count": 453,
   "metadata": {
    "id": "e4MLw3F4-4m9"
   },
   "outputs": [],
   "source": [
    "my_list = []"
   ]
  },
  {
   "cell_type": "code",
   "execution_count": 455,
   "metadata": {
    "id": "FhwQzH0BuPa5"
   },
   "outputs": [
    {
     "data": {
      "text/plain": [
       "[]"
      ]
     },
     "execution_count": 455,
     "metadata": {},
     "output_type": "execute_result"
    }
   ],
   "source": [
    "my_list"
   ]
  },
  {
   "cell_type": "code",
   "execution_count": 457,
   "metadata": {
    "id": "8RBh0Bh-AfHT"
   },
   "outputs": [
    {
     "name": "stdout",
     "output_type": "stream",
     "text": [
      "[]\n"
     ]
    }
   ],
   "source": [
    "print(my_list)"
   ]
  },
  {
   "cell_type": "code",
   "execution_count": 459,
   "metadata": {},
   "outputs": [
    {
     "data": {
      "text/plain": [
       "list"
      ]
     },
     "execution_count": 459,
     "metadata": {},
     "output_type": "execute_result"
    }
   ],
   "source": [
    "type(my_list)"
   ]
  },
  {
   "cell_type": "markdown",
   "metadata": {
    "id": "HhMKfP67Bdgv"
   },
   "source": [
    "### Example\n",
    "Creating lists with elements"
   ]
  },
  {
   "cell_type": "code",
   "execution_count": 493,
   "metadata": {
    "id": "EMm4LS3QBjpW"
   },
   "outputs": [
    {
     "data": {
      "text/plain": [
       "[1, 2, 3, 4, 5]"
      ]
     },
     "execution_count": 493,
     "metadata": {},
     "output_type": "execute_result"
    }
   ],
   "source": [
    "my_list = [1, 2, 3, 4, 5]\n",
    "my_list"
   ]
  },
  {
   "cell_type": "code",
   "execution_count": 489,
   "metadata": {},
   "outputs": [],
   "source": [
    "names = [\"umang\", \"aman\", 1,2 , True, False, my_list ]"
   ]
  },
  {
   "cell_type": "code",
   "execution_count": 497,
   "metadata": {
    "id": "LfaTBTiLuQ_2"
   },
   "outputs": [
    {
     "data": {
      "text/plain": [
       "[1, 2, 3, 4, 5]"
      ]
     },
     "execution_count": 497,
     "metadata": {},
     "output_type": "execute_result"
    }
   ],
   "source": [
    "my_list"
   ]
  },
  {
   "cell_type": "code",
   "execution_count": 499,
   "metadata": {
    "id": "IdKS_MMcBttB"
   },
   "outputs": [
    {
     "name": "stdout",
     "output_type": "stream",
     "text": [
      "[1, 2, 3, 4, 5]\n"
     ]
    }
   ],
   "source": [
    "print(my_list)"
   ]
  },
  {
   "cell_type": "markdown",
   "metadata": {
    "id": "87m_t6DbiOkJ"
   },
   "source": [
    "### Example\n",
    "Creating lists using the `list()` function"
   ]
  },
  {
   "cell_type": "code",
   "execution_count": 501,
   "metadata": {
    "id": "h8h2JV0biiFy"
   },
   "outputs": [],
   "source": [
    "my_list = list()"
   ]
  },
  {
   "cell_type": "code",
   "execution_count": 503,
   "metadata": {
    "id": "PylYntw6uSUU"
   },
   "outputs": [
    {
     "data": {
      "text/plain": [
       "[]"
      ]
     },
     "execution_count": 503,
     "metadata": {},
     "output_type": "execute_result"
    }
   ],
   "source": [
    "my_list"
   ]
  },
  {
   "cell_type": "code",
   "execution_count": 509,
   "metadata": {
    "id": "aVV44vWhpiIn"
   },
   "outputs": [
    {
     "data": {
      "text/plain": [
       "'Hello'"
      ]
     },
     "execution_count": 509,
     "metadata": {},
     "output_type": "execute_result"
    }
   ],
   "source": [
    "string = 'Hello'\n",
    "string"
   ]
  },
  {
   "cell_type": "code",
   "execution_count": 511,
   "metadata": {
    "id": "wZ9diuGOpwVk"
   },
   "outputs": [
    {
     "data": {
      "text/plain": [
       "str"
      ]
     },
     "execution_count": 511,
     "metadata": {},
     "output_type": "execute_result"
    }
   ],
   "source": [
    "type(string)"
   ]
  },
  {
   "cell_type": "code",
   "execution_count": 515,
   "metadata": {
    "id": "e7zTotrypyf3"
   },
   "outputs": [],
   "source": [
    "my_list = list(string)"
   ]
  },
  {
   "cell_type": "code",
   "execution_count": 517,
   "metadata": {
    "id": "DmFU7-mCp2i9"
   },
   "outputs": [
    {
     "data": {
      "text/plain": [
       "['H', 'e', 'l', 'l', 'o']"
      ]
     },
     "execution_count": 517,
     "metadata": {},
     "output_type": "execute_result"
    }
   ],
   "source": [
    "my_list"
   ]
  },
  {
   "cell_type": "code",
   "execution_count": 519,
   "metadata": {
    "id": "FZWvYvP3p5F3"
   },
   "outputs": [
    {
     "data": {
      "text/plain": [
       "list"
      ]
     },
     "execution_count": 519,
     "metadata": {},
     "output_type": "execute_result"
    }
   ],
   "source": [
    "type(my_list)"
   ]
  },
  {
   "cell_type": "markdown",
   "metadata": {
    "id": "zrLdFuCVs6g1"
   },
   "source": [
    "### Example\n",
    "Creating nested lists\n"
   ]
  },
  {
   "cell_type": "code",
   "execution_count": 521,
   "metadata": {
    "id": "zDdzp-pitCt_"
   },
   "outputs": [],
   "source": [
    "nested_list = [[1, 2], [3, 4], [5, 6, 7]]"
   ]
  },
  {
   "cell_type": "code",
   "execution_count": 523,
   "metadata": {
    "id": "fIaRlzvouTxF"
   },
   "outputs": [
    {
     "data": {
      "text/plain": [
       "3"
      ]
     },
     "execution_count": 523,
     "metadata": {},
     "output_type": "execute_result"
    }
   ],
   "source": [
    "len(nested_list)"
   ]
  },
  {
   "cell_type": "code",
   "execution_count": 525,
   "metadata": {
    "id": "q4AhxZ0ptpkf"
   },
   "outputs": [
    {
     "data": {
      "text/plain": [
       "[1, 2]"
      ]
     },
     "execution_count": 525,
     "metadata": {},
     "output_type": "execute_result"
    }
   ],
   "source": [
    "nested_list[0]"
   ]
  },
  {
   "cell_type": "code",
   "execution_count": 527,
   "metadata": {
    "id": "TqprX1gVtuQW"
   },
   "outputs": [
    {
     "data": {
      "text/plain": [
       "list"
      ]
     },
     "execution_count": 527,
     "metadata": {},
     "output_type": "execute_result"
    }
   ],
   "source": [
    "type(nested_list[0])"
   ]
  },
  {
   "cell_type": "markdown",
   "metadata": {
    "id": "4_fnLWRorHRV"
   },
   "source": [
    "### Example\n",
    "Lists can also be created with different data types"
   ]
  },
  {
   "cell_type": "code",
   "execution_count": 529,
   "metadata": {
    "id": "0BiUbVEfr6QG"
   },
   "outputs": [],
   "source": [
    "mixed_list = [1, 'hello', 3.14, True, [5, 6]]"
   ]
  },
  {
   "cell_type": "code",
   "execution_count": 531,
   "metadata": {
    "id": "Qw946vPeuVdi"
   },
   "outputs": [
    {
     "data": {
      "text/plain": [
       "[1, 'hello', 3.14, True, [5, 6]]"
      ]
     },
     "execution_count": 531,
     "metadata": {},
     "output_type": "execute_result"
    }
   ],
   "source": [
    "mixed_list"
   ]
  },
  {
   "cell_type": "code",
   "execution_count": 533,
   "metadata": {
    "id": "74QoQTWlsA68"
   },
   "outputs": [
    {
     "data": {
      "text/plain": [
       "list"
      ]
     },
     "execution_count": 533,
     "metadata": {},
     "output_type": "execute_result"
    }
   ],
   "source": [
    "type(mixed_list)"
   ]
  },
  {
   "cell_type": "code",
   "execution_count": 535,
   "metadata": {
    "id": "j0il-kLxsDch"
   },
   "outputs": [
    {
     "data": {
      "text/plain": [
       "int"
      ]
     },
     "execution_count": 535,
     "metadata": {},
     "output_type": "execute_result"
    }
   ],
   "source": [
    "type(mixed_list[0])"
   ]
  },
  {
   "cell_type": "code",
   "execution_count": 537,
   "metadata": {
    "id": "VhMi2IllsIsB"
   },
   "outputs": [
    {
     "data": {
      "text/plain": [
       "str"
      ]
     },
     "execution_count": 537,
     "metadata": {},
     "output_type": "execute_result"
    }
   ],
   "source": [
    "type(mixed_list[1])"
   ]
  },
  {
   "cell_type": "code",
   "execution_count": 539,
   "metadata": {
    "id": "J2gu24KYsNjo"
   },
   "outputs": [
    {
     "data": {
      "text/plain": [
       "float"
      ]
     },
     "execution_count": 539,
     "metadata": {},
     "output_type": "execute_result"
    }
   ],
   "source": [
    "type(mixed_list[2])"
   ]
  },
  {
   "cell_type": "code",
   "execution_count": 541,
   "metadata": {
    "id": "5rTbhTC9sRDx"
   },
   "outputs": [
    {
     "data": {
      "text/plain": [
       "bool"
      ]
     },
     "execution_count": 541,
     "metadata": {},
     "output_type": "execute_result"
    }
   ],
   "source": [
    "type(mixed_list[3])"
   ]
  },
  {
   "cell_type": "code",
   "execution_count": 543,
   "metadata": {
    "id": "fuIrck4isTFF"
   },
   "outputs": [
    {
     "data": {
      "text/plain": [
       "list"
      ]
     },
     "execution_count": 543,
     "metadata": {},
     "output_type": "execute_result"
    }
   ],
   "source": [
    "type(mixed_list[4])"
   ]
  },
  {
   "cell_type": "markdown",
   "metadata": {
    "id": "vzUqSJ14JlCD"
   },
   "source": [
    "## Indexing and slicing lists"
   ]
  },
  {
   "cell_type": "markdown",
   "metadata": {
    "id": "pHTJAARAD5bU"
   },
   "source": [
    "### Example\n",
    "Indexing a specific element from a list"
   ]
  },
  {
   "cell_type": "code",
   "execution_count": null,
   "metadata": {
    "executionInfo": {
     "elapsed": 604,
     "status": "ok",
     "timestamp": 1723014893934,
     "user": {
      "displayName": "Sohan Hedge",
      "userId": "03545084746990477806"
     },
     "user_tz": -330
    },
    "id": "KBvVGlilEJLa"
   },
   "outputs": [],
   "source": [
    "my_list = [1, 2, 3, 4, 5]"
   ]
  },
  {
   "cell_type": "code",
   "execution_count": null,
   "metadata": {
    "colab": {
     "base_uri": "https://localhost:8080/"
    },
    "executionInfo": {
     "elapsed": 367,
     "status": "ok",
     "timestamp": 1723014901801,
     "user": {
      "displayName": "Sohan Hedge",
      "userId": "03545084746990477806"
     },
     "user_tz": -330
    },
    "id": "b5a_9EIsuXAU",
    "outputId": "0da941f5-b267-45f8-9fd5-050094b974e8"
   },
   "outputs": [],
   "source": [
    "my_list"
   ]
  },
  {
   "cell_type": "code",
   "execution_count": null,
   "metadata": {
    "colab": {
     "base_uri": "https://localhost:8080/"
    },
    "executionInfo": {
     "elapsed": 612,
     "status": "ok",
     "timestamp": 1723014904730,
     "user": {
      "displayName": "Sohan Hedge",
      "userId": "03545084746990477806"
     },
     "user_tz": -330
    },
    "id": "VB08icK1EMw6",
    "outputId": "e1c7a1a5-2392-4b17-9b81-349146134020"
   },
   "outputs": [],
   "source": [
    "my_list[2]"
   ]
  },
  {
   "cell_type": "markdown",
   "metadata": {
    "id": "ZsIu9gadMpcG"
   },
   "source": [
    "### Example\n",
    "Slicing elements from a list"
   ]
  },
  {
   "cell_type": "code",
   "execution_count": 545,
   "metadata": {
    "id": "yLiP3NUkMs-L"
   },
   "outputs": [
    {
     "data": {
      "text/plain": [
       "['H', 'e', 'l', 'l', 'o']"
      ]
     },
     "execution_count": 545,
     "metadata": {},
     "output_type": "execute_result"
    }
   ],
   "source": [
    "my_list"
   ]
  },
  {
   "cell_type": "code",
   "execution_count": 547,
   "metadata": {
    "id": "iGO2QClhMvmN"
   },
   "outputs": [
    {
     "data": {
      "text/plain": [
       "['H', 'e']"
      ]
     },
     "execution_count": 547,
     "metadata": {},
     "output_type": "execute_result"
    }
   ],
   "source": [
    "my_list[0:2]"
   ]
  },
  {
   "cell_type": "code",
   "execution_count": 549,
   "metadata": {
    "id": "35_RUC8bM1a1"
   },
   "outputs": [
    {
     "data": {
      "text/plain": [
       "['H']"
      ]
     },
     "execution_count": 549,
     "metadata": {},
     "output_type": "execute_result"
    }
   ],
   "source": [
    "my_list[0:1]"
   ]
  },
  {
   "cell_type": "code",
   "execution_count": 551,
   "metadata": {
    "id": "YFDYifquM53R"
   },
   "outputs": [
    {
     "data": {
      "text/plain": [
       "['e', 'l', 'l']"
      ]
     },
     "execution_count": 551,
     "metadata": {},
     "output_type": "execute_result"
    }
   ],
   "source": [
    "my_list[1:4]"
   ]
  },
  {
   "cell_type": "code",
   "execution_count": 553,
   "metadata": {
    "id": "ig6HIU9LRTWf"
   },
   "outputs": [
    {
     "data": {
      "text/plain": [
       "['l', 'l', 'o']"
      ]
     },
     "execution_count": 553,
     "metadata": {},
     "output_type": "execute_result"
    }
   ],
   "source": [
    "my_list[2:]"
   ]
  },
  {
   "cell_type": "code",
   "execution_count": 555,
   "metadata": {
    "id": "r1EtONQuRUcY"
   },
   "outputs": [
    {
     "data": {
      "text/plain": [
       "['H', 'e', 'l']"
      ]
     },
     "execution_count": 555,
     "metadata": {},
     "output_type": "execute_result"
    }
   ],
   "source": [
    "my_list[:3]"
   ]
  },
  {
   "cell_type": "markdown",
   "metadata": {
    "id": "_ocmSIzS89WO"
   },
   "source": [
    "### Example\n",
    "Accessing elements inside a nested list"
   ]
  },
  {
   "cell_type": "code",
   "execution_count": 558,
   "metadata": {
    "id": "DdA8IERL9DLa"
   },
   "outputs": [],
   "source": [
    "my_list = [[1, 2, 3], ['apple', 'banana', 'orange'], 3.14, ['dog', 'cat', 'bird']]"
   ]
  },
  {
   "cell_type": "code",
   "execution_count": 572,
   "metadata": {
    "id": "0GojP9Ff9Nbq"
   },
   "outputs": [
    {
     "data": {
      "text/plain": [
       "['apple', 'banana', 'orange']"
      ]
     },
     "execution_count": 572,
     "metadata": {},
     "output_type": "execute_result"
    }
   ],
   "source": [
    "my_list[-3]"
   ]
  },
  {
   "cell_type": "code",
   "execution_count": 588,
   "metadata": {
    "id": "_j1_1K6K9t8G"
   },
   "outputs": [
    {
     "data": {
      "text/plain": [
       "'orange'"
      ]
     },
     "execution_count": 588,
     "metadata": {},
     "output_type": "execute_result"
    }
   ],
   "source": [
    "# Accessing 'dog'\n",
    "my_list[1][2]"
   ]
  },
  {
   "cell_type": "code",
   "execution_count": 586,
   "metadata": {},
   "outputs": [
    {
     "data": {
      "text/plain": [
       "'orange'"
      ]
     },
     "execution_count": 586,
     "metadata": {},
     "output_type": "execute_result"
    }
   ],
   "source": [
    "my_list[-3][-1]"
   ]
  },
  {
   "cell_type": "markdown",
   "metadata": {
    "id": "xbXH6E03Mv10"
   },
   "source": [
    "### Quiz\n",
    "Print `45` from the following list: `[1, -1, 0, [[50, 34], [45]], 23]`."
   ]
  },
  {
   "cell_type": "code",
   "execution_count": null,
   "metadata": {
    "id": "ouPb-KQ6M7J1"
   },
   "outputs": [],
   "source": [
    "some_list = [1, -1, 0, [[50, 34], [45]], 23]\n",
    "some_list[3][1][0]"
   ]
  },
  {
   "cell_type": "markdown",
   "metadata": {
    "id": "6CmZqjg4Mja7"
   },
   "source": [
    "## Operations on lists - getting information about lists"
   ]
  },
  {
   "cell_type": "markdown",
   "metadata": {
    "id": "ypqd8vUpwWt6"
   },
   "source": [
    "The following examples use `my_list` defined below for every operation:"
   ]
  },
  {
   "cell_type": "code",
   "execution_count": 2,
   "metadata": {
    "id": "Krx1FqTfaAmL"
   },
   "outputs": [
    {
     "data": {
      "text/plain": [
       "[1.0,\n",
       " 4.0,\n",
       " 2.0,\n",
       " 3.0,\n",
       " 5.0,\n",
       " 6.0,\n",
       " 3.0,\n",
       " 4.0,\n",
       " 5.0,\n",
       " 7.0,\n",
       " 5.0,\n",
       " 6.0,\n",
       " 7.0,\n",
       " 3.0,\n",
       " 5.0,\n",
       " 6.0,\n",
       " 7.0]"
      ]
     },
     "execution_count": 2,
     "metadata": {},
     "output_type": "execute_result"
    }
   ],
   "source": [
    "my_list = [1.0, 4.0, 2.0, 3.0, 5.0, 6.0, 3.0, 4.0, 5.0, 7.0, 5.0, 6.0, 7.0, 3.0, 5.0, 6.0, 7.0]\n",
    "my_list"
   ]
  },
  {
   "cell_type": "markdown",
   "metadata": {
    "id": "smDUDelBZ8cs"
   },
   "source": [
    "### Example\n",
    "Finding the length of a list"
   ]
  },
  {
   "cell_type": "code",
   "execution_count": 4,
   "metadata": {
    "id": "zQfJEVOOaFNJ"
   },
   "outputs": [
    {
     "data": {
      "text/plain": [
       "17"
      ]
     },
     "execution_count": 4,
     "metadata": {},
     "output_type": "execute_result"
    }
   ],
   "source": [
    "len(my_list)"
   ]
  },
  {
   "cell_type": "markdown",
   "metadata": {
    "id": "0xBJ7dlvJ9iF"
   },
   "source": [
    "### Example\n",
    "Finding the largest and smallest elements in a list"
   ]
  },
  {
   "cell_type": "code",
   "execution_count": 24,
   "metadata": {
    "id": "C1XCPQGqKcrY"
   },
   "outputs": [
    {
     "data": {
      "text/plain": [
       "7.0"
      ]
     },
     "execution_count": 24,
     "metadata": {},
     "output_type": "execute_result"
    }
   ],
   "source": [
    "max_ele = max(my_list)\n",
    "max_ele"
   ]
  },
  {
   "cell_type": "code",
   "execution_count": 8,
   "metadata": {
    "id": "N6PsLHb9Knep"
   },
   "outputs": [
    {
     "data": {
      "text/plain": [
       "7.0"
      ]
     },
     "execution_count": 8,
     "metadata": {},
     "output_type": "execute_result"
    }
   ],
   "source": []
  },
  {
   "cell_type": "code",
   "execution_count": 10,
   "metadata": {
    "id": "eKkdAFjcK1nf"
   },
   "outputs": [],
   "source": [
    "min_ele = min(my_list)"
   ]
  },
  {
   "cell_type": "code",
   "execution_count": 12,
   "metadata": {
    "id": "oUF06OBQK5lJ"
   },
   "outputs": [
    {
     "data": {
      "text/plain": [
       "1.0"
      ]
     },
     "execution_count": 12,
     "metadata": {},
     "output_type": "execute_result"
    }
   ],
   "source": [
    "min_ele"
   ]
  },
  {
   "cell_type": "markdown",
   "metadata": {
    "id": "Bw_u6x5hN_eL"
   },
   "source": [
    "### Example\n",
    "Finding the index of elements in a list"
   ]
  },
  {
   "cell_type": "code",
   "execution_count": 22,
   "metadata": {
    "id": "vI6BCYVoOEPp"
   },
   "outputs": [
    {
     "data": {
      "text/plain": [
       "4"
      ]
     },
     "execution_count": 22,
     "metadata": {},
     "output_type": "execute_result"
    }
   ],
   "source": [
    "my_list.index(5.0)"
   ]
  },
  {
   "cell_type": "code",
   "execution_count": null,
   "metadata": {
    "id": "I1LyjQ0Hxfp8"
   },
   "outputs": [],
   "source": [
    "my_list[my_list.index(5.0)]"
   ]
  },
  {
   "cell_type": "code",
   "execution_count": null,
   "metadata": {
    "id": "mC5GB_K4NkV0"
   },
   "outputs": [],
   "source": [
    "my_list.index(max_ele)"
   ]
  },
  {
   "cell_type": "code",
   "execution_count": null,
   "metadata": {
    "id": "mdOP7jSeN50y"
   },
   "outputs": [],
   "source": [
    "my_list.index(min_ele)"
   ]
  },
  {
   "cell_type": "markdown",
   "metadata": {
    "id": "HGp9XAJCS38s"
   },
   "source": [
    "### Example\n",
    "Finding the frequency of an element in a list"
   ]
  },
  {
   "cell_type": "code",
   "execution_count": 26,
   "metadata": {
    "id": "Cp5-HUwxTBRe"
   },
   "outputs": [
    {
     "data": {
      "text/plain": [
       "4"
      ]
     },
     "execution_count": 26,
     "metadata": {},
     "output_type": "execute_result"
    }
   ],
   "source": [
    "my_list.count(5.0)"
   ]
  },
  {
   "cell_type": "markdown",
   "metadata": {
    "id": "rUiH0v5qH2oM"
   },
   "source": [
    "### Example\n",
    "Finding the sum of all elements in a list"
   ]
  },
  {
   "cell_type": "code",
   "execution_count": 28,
   "metadata": {
    "id": "_wnq2nkhG0nX"
   },
   "outputs": [
    {
     "data": {
      "text/plain": [
       "79.0"
      ]
     },
     "execution_count": 28,
     "metadata": {},
     "output_type": "execute_result"
    }
   ],
   "source": [
    "sum(my_list)"
   ]
  },
  {
   "cell_type": "markdown",
   "metadata": {
    "id": "4dxcXRdWeuhC"
   },
   "source": [
    "### Example\n",
    "Checking whether an element is present in a list"
   ]
  },
  {
   "cell_type": "code",
   "execution_count": 30,
   "metadata": {
    "id": "ec0ZZPjwe1R3"
   },
   "outputs": [
    {
     "data": {
      "text/plain": [
       "True"
      ]
     },
     "execution_count": 30,
     "metadata": {},
     "output_type": "execute_result"
    }
   ],
   "source": [
    "1.0 in my_list"
   ]
  },
  {
   "cell_type": "code",
   "execution_count": 32,
   "metadata": {
    "id": "INsW-tI2e3GA"
   },
   "outputs": [
    {
     "data": {
      "text/plain": [
       "True"
      ]
     },
     "execution_count": 32,
     "metadata": {},
     "output_type": "execute_result"
    }
   ],
   "source": [
    "1 in my_list"
   ]
  },
  {
   "cell_type": "code",
   "execution_count": 34,
   "metadata": {
    "id": "ezbKw0Ype9XR"
   },
   "outputs": [
    {
     "data": {
      "text/plain": [
       "True"
      ]
     },
     "execution_count": 34,
     "metadata": {},
     "output_type": "execute_result"
    }
   ],
   "source": [
    "1.0 in my_list and 5.0 in my_list"
   ]
  },
  {
   "cell_type": "markdown",
   "metadata": {
    "id": "MdhlUqXrPFWN"
   },
   "source": [
    "### Quiz\n",
    "Find the mean of the numbers in the list `[3, 8.5, 2, 11, 6.7, 9, 4.2, 7, 10, 5.5]`.\n",
    "\n",
    "**Hint:** The mean can be calculated by adding all elements in the list and dividing by the length of the list."
   ]
  },
  {
   "cell_type": "code",
   "execution_count": 36,
   "metadata": {
    "id": "U2836rX8Pf-i"
   },
   "outputs": [
    {
     "data": {
      "text/plain": [
       "[3, 8.5, 2, 11, 6.7, 9, 4.2, 7, 10, 5.5]"
      ]
     },
     "execution_count": 36,
     "metadata": {},
     "output_type": "execute_result"
    }
   ],
   "source": [
    "### YOUR CODE HERE ###\n",
    "a = [3, 8.5, 2, 11, 6.7, 9, 4.2, 7, 10, 5.5]\n",
    "a"
   ]
  },
  {
   "cell_type": "code",
   "execution_count": 42,
   "metadata": {},
   "outputs": [
    {
     "data": {
      "text/plain": [
       "6.69"
      ]
     },
     "execution_count": 42,
     "metadata": {},
     "output_type": "execute_result"
    }
   ],
   "source": [
    "sum(a) / len(a)"
   ]
  },
  {
   "cell_type": "markdown",
   "metadata": {
    "id": "3zA_GPiO-il-"
   },
   "source": [
    "## Operations on lists - manipulating lists"
   ]
  },
  {
   "cell_type": "markdown",
   "metadata": {
    "id": "8RLLLQbRyLbs"
   },
   "source": [
    "The following examples use `my_list` defined below for every operation."
   ]
  },
  {
   "cell_type": "code",
   "execution_count": 74,
   "metadata": {
    "id": "BeMIEdl0yBQE"
   },
   "outputs": [
    {
     "data": {
      "text/plain": [
       "['apple', 'banana', 'orange', 'grape', 'kiwi']"
      ]
     },
     "execution_count": 74,
     "metadata": {},
     "output_type": "execute_result"
    }
   ],
   "source": [
    "my_list = [\"apple\", \"banana\", \"orange\", \"grape\", \"kiwi\"]\n",
    "my_list"
   ]
  },
  {
   "cell_type": "markdown",
   "metadata": {
    "id": "soCIH2m8CD9k"
   },
   "source": [
    "### Example\n",
    "Adding elements to a list"
   ]
  },
  {
   "cell_type": "code",
   "execution_count": 50,
   "metadata": {
    "id": "JvV9sJVeDEAW"
   },
   "outputs": [],
   "source": [
    "my_list.append('avocado')"
   ]
  },
  {
   "cell_type": "markdown",
   "metadata": {
    "id": "ejn95daUDeQ7"
   },
   "source": [
    "### Example\n",
    "Deleting last element from a list"
   ]
  },
  {
   "cell_type": "code",
   "execution_count": 136,
   "metadata": {},
   "outputs": [
    {
     "data": {
      "text/plain": [
       "['apple', 'apple', 'banana', 'orange', 'grape', 'kiwi']"
      ]
     },
     "execution_count": 136,
     "metadata": {},
     "output_type": "execute_result"
    }
   ],
   "source": [
    "my_list = [\"apple\", \"banana\", \"orange\", \"grape\", \"kiwi\"]\n",
    "my_list"
   ]
  },
  {
   "cell_type": "code",
   "execution_count": 86,
   "metadata": {
    "id": "UCKSFX1yDl1T"
   },
   "outputs": [],
   "source": [
    "poppedfruit = my_list.pop()"
   ]
  },
  {
   "cell_type": "code",
   "execution_count": 88,
   "metadata": {},
   "outputs": [
    {
     "data": {
      "text/plain": [
       "'kiwi'"
      ]
     },
     "execution_count": 88,
     "metadata": {},
     "output_type": "execute_result"
    }
   ],
   "source": [
    "poppedfruit"
   ]
  },
  {
   "cell_type": "markdown",
   "metadata": {
    "id": "eIuoTX3uzM3m"
   },
   "source": [
    "The `pop` method doesn't just delete the last element from a list, but also extracts it."
   ]
  },
  {
   "cell_type": "code",
   "execution_count": 172,
   "metadata": {},
   "outputs": [
    {
     "data": {
      "text/plain": [
       "[0]"
      ]
     },
     "execution_count": 172,
     "metadata": {},
     "output_type": "execute_result"
    }
   ],
   "source": [
    "[0]"
   ]
  },
  {
   "cell_type": "code",
   "execution_count": 170,
   "metadata": {
    "id": "q55Hs2RrDyI7"
   },
   "outputs": [
    {
     "data": {
      "text/plain": [
       "'apple'"
      ]
     },
     "execution_count": 170,
     "metadata": {},
     "output_type": "execute_result"
    }
   ],
   "source": [
    "my_list[0]"
   ]
  },
  {
   "cell_type": "code",
   "execution_count": 164,
   "metadata": {},
   "outputs": [
    {
     "data": {
      "text/plain": [
       "list"
      ]
     },
     "execution_count": 164,
     "metadata": {},
     "output_type": "execute_result"
    }
   ],
   "source": [
    "type([0])"
   ]
  },
  {
   "cell_type": "code",
   "execution_count": 180,
   "metadata": {},
   "outputs": [
    {
     "data": {
      "text/plain": [
       "'banana'"
      ]
     },
     "execution_count": 180,
     "metadata": {},
     "output_type": "execute_result"
    }
   ],
   "source": [
    "my_list.pop(1)"
   ]
  },
  {
   "cell_type": "code",
   "execution_count": 94,
   "metadata": {},
   "outputs": [
    {
     "data": {
      "text/plain": [
       "['apple', 'orange', 'grape']"
      ]
     },
     "execution_count": 94,
     "metadata": {},
     "output_type": "execute_result"
    }
   ],
   "source": [
    "my_list"
   ]
  },
  {
   "cell_type": "markdown",
   "metadata": {
    "id": "uW52tgpSGZ0P"
   },
   "source": [
    "### Example\n",
    "Deleting an element at specific position"
   ]
  },
  {
   "cell_type": "code",
   "execution_count": 120,
   "metadata": {},
   "outputs": [],
   "source": [
    "a = 5\n",
    "b = 6"
   ]
  },
  {
   "cell_type": "code",
   "execution_count": 128,
   "metadata": {
    "id": "LaVv5S0wG0go"
   },
   "outputs": [
    {
     "ename": "NameError",
     "evalue": "name 'my_list' is not defined",
     "output_type": "error",
     "traceback": [
      "\u001b[0;31m---------------------------------------------------------------------------\u001b[0m",
      "\u001b[0;31mNameError\u001b[0m                                 Traceback (most recent call last)",
      "Cell \u001b[0;32mIn[128], line 1\u001b[0m\n\u001b[0;32m----> 1\u001b[0m \u001b[38;5;28;01mdel\u001b[39;00m my_list[\u001b[38;5;241m1\u001b[39m]\n",
      "\u001b[0;31mNameError\u001b[0m: name 'my_list' is not defined"
     ]
    }
   ],
   "source": [
    "del my_list[1]"
   ]
  },
  {
   "cell_type": "code",
   "execution_count": 126,
   "metadata": {},
   "outputs": [
    {
     "data": {
      "text/plain": [
       "6"
      ]
     },
     "execution_count": 126,
     "metadata": {},
     "output_type": "execute_result"
    }
   ],
   "source": [
    "b"
   ]
  },
  {
   "cell_type": "code",
   "execution_count": 118,
   "metadata": {
    "id": "mT2Z0ePZG-On"
   },
   "outputs": [
    {
     "ename": "NameError",
     "evalue": "name 'my_list' is not defined",
     "output_type": "error",
     "traceback": [
      "\u001b[0;31m---------------------------------------------------------------------------\u001b[0m",
      "\u001b[0;31mNameError\u001b[0m                                 Traceback (most recent call last)",
      "Cell \u001b[0;32mIn[118], line 1\u001b[0m\n\u001b[0;32m----> 1\u001b[0m my_list\n",
      "\u001b[0;31mNameError\u001b[0m: name 'my_list' is not defined"
     ]
    }
   ],
   "source": [
    "my_list"
   ]
  },
  {
   "cell_type": "markdown",
   "metadata": {
    "id": "StHJn9SdQybO"
   },
   "source": [
    "### Example\n",
    "Removing a specific element from a list"
   ]
  },
  {
   "cell_type": "code",
   "execution_count": 144,
   "metadata": {},
   "outputs": [],
   "source": [
    "a = 5"
   ]
  },
  {
   "cell_type": "code",
   "execution_count": 152,
   "metadata": {},
   "outputs": [],
   "source": [
    "def my_func():\n",
    "    return \"Umang\""
   ]
  },
  {
   "cell_type": "code",
   "execution_count": 158,
   "metadata": {},
   "outputs": [
    {
     "ename": "NameError",
     "evalue": "name 'my_func' is not defined",
     "output_type": "error",
     "traceback": [
      "\u001b[0;31m---------------------------------------------------------------------------\u001b[0m",
      "\u001b[0;31mNameError\u001b[0m                                 Traceback (most recent call last)",
      "Cell \u001b[0;32mIn[158], line 1\u001b[0m\n\u001b[0;32m----> 1\u001b[0m my_func()\n",
      "\u001b[0;31mNameError\u001b[0m: name 'my_func' is not defined"
     ]
    }
   ],
   "source": [
    "my_func()"
   ]
  },
  {
   "cell_type": "code",
   "execution_count": 156,
   "metadata": {},
   "outputs": [],
   "source": [
    "del my_func"
   ]
  },
  {
   "cell_type": "code",
   "execution_count": 146,
   "metadata": {
    "id": "uL_4LQTfQ4sB"
   },
   "outputs": [
    {
     "ename": "AttributeError",
     "evalue": "'int' object has no attribute 'remove'",
     "output_type": "error",
     "traceback": [
      "\u001b[0;31m---------------------------------------------------------------------------\u001b[0m",
      "\u001b[0;31mAttributeError\u001b[0m                            Traceback (most recent call last)",
      "Cell \u001b[0;32mIn[146], line 1\u001b[0m\n\u001b[0;32m----> 1\u001b[0m a\u001b[38;5;241m.\u001b[39mremove()\n",
      "\u001b[0;31mAttributeError\u001b[0m: 'int' object has no attribute 'remove'"
     ]
    }
   ],
   "source": [
    "a.remove()"
   ]
  },
  {
   "cell_type": "code",
   "execution_count": 140,
   "metadata": {
    "id": "DKfSVmQPQ-E6"
   },
   "outputs": [
    {
     "data": {
      "text/plain": [
       "['apple', 'banana', 'orange', 'grape', 'kiwi']"
      ]
     },
     "execution_count": 140,
     "metadata": {},
     "output_type": "execute_result"
    }
   ],
   "source": [
    "my_list"
   ]
  },
  {
   "cell_type": "markdown",
   "metadata": {
    "id": "VIu1MoQpRcG9"
   },
   "source": [
    "Note how the above operations act in-place, that is, they do not require reassignment to a variable to modify the original lists."
   ]
  },
  {
   "cell_type": "markdown",
   "metadata": {
    "id": "xadm8KYVOPN0"
   },
   "source": [
    "### Example\n",
    "Sorting a list"
   ]
  },
  {
   "cell_type": "code",
   "execution_count": 236,
   "metadata": {
    "id": "s5uEzdm0ORv1"
   },
   "outputs": [
    {
     "data": {
      "text/plain": [
       "['apple', 'banana', 'orange', 'grape', 'kiwi', 'pineapple']"
      ]
     },
     "execution_count": 236,
     "metadata": {},
     "output_type": "execute_result"
    }
   ],
   "source": [
    "my_list = [\"apple\", \"banana\", \"orange\", \"grape\", \"kiwi\", \"pineapple\"]\n",
    "my_list"
   ]
  },
  {
   "cell_type": "code",
   "execution_count": 250,
   "metadata": {},
   "outputs": [
    {
     "data": {
      "text/plain": [
       "\u001b[0;31mSignature:\u001b[0m \u001b[0mmy_list\u001b[0m\u001b[0;34m.\u001b[0m\u001b[0msort\u001b[0m\u001b[0;34m(\u001b[0m\u001b[0;34m*\u001b[0m\u001b[0;34m,\u001b[0m \u001b[0mkey\u001b[0m\u001b[0;34m=\u001b[0m\u001b[0;32mNone\u001b[0m\u001b[0;34m,\u001b[0m \u001b[0mreverse\u001b[0m\u001b[0;34m=\u001b[0m\u001b[0;32mFalse\u001b[0m\u001b[0;34m)\u001b[0m\u001b[0;34m\u001b[0m\u001b[0;34m\u001b[0m\u001b[0m\n",
       "\u001b[0;31mDocstring:\u001b[0m\n",
       "Sort the list in ascending order and return None.\n",
       "\n",
       "The sort is in-place (i.e. the list itself is modified) and stable (i.e. the\n",
       "order of two equal elements is maintained).\n",
       "\n",
       "If a key function is given, apply it once to each list item and sort them,\n",
       "ascending or descending, according to their function values.\n",
       "\n",
       "The reverse flag can be set to sort in descending order.\n",
       "\u001b[0;31mType:\u001b[0m      builtin_function_or_method"
      ]
     },
     "metadata": {},
     "output_type": "display_data"
    }
   ],
   "source": [
    "sorted_list = my_list.sort?"
   ]
  },
  {
   "cell_type": "code",
   "execution_count": 248,
   "metadata": {},
   "outputs": [
    {
     "data": {
      "text/plain": [
       "False"
      ]
     },
     "execution_count": 248,
     "metadata": {},
     "output_type": "execute_result"
    }
   ],
   "source": [
    "my_list is None"
   ]
  },
  {
   "cell_type": "code",
   "execution_count": 246,
   "metadata": {},
   "outputs": [
    {
     "data": {
      "text/plain": [
       "True"
      ]
     },
     "execution_count": 246,
     "metadata": {},
     "output_type": "execute_result"
    }
   ],
   "source": [
    "sorted_list is None"
   ]
  },
  {
   "cell_type": "code",
   "execution_count": 202,
   "metadata": {},
   "outputs": [
    {
     "data": {
      "text/plain": [
       "\u001b[0;31mSignature:\u001b[0m \u001b[0mmy_list\u001b[0m\u001b[0;34m.\u001b[0m\u001b[0msort\u001b[0m\u001b[0;34m(\u001b[0m\u001b[0;34m*\u001b[0m\u001b[0;34m,\u001b[0m \u001b[0mkey\u001b[0m\u001b[0;34m=\u001b[0m\u001b[0;32mNone\u001b[0m\u001b[0;34m,\u001b[0m \u001b[0mreverse\u001b[0m\u001b[0;34m=\u001b[0m\u001b[0;32mFalse\u001b[0m\u001b[0;34m)\u001b[0m\u001b[0;34m\u001b[0m\u001b[0;34m\u001b[0m\u001b[0m\n",
       "\u001b[0;31mDocstring:\u001b[0m\n",
       "Sort the list in ascending order and return None.\n",
       "\n",
       "The sort is in-place (i.e. the list itself is modified) and stable (i.e. the\n",
       "order of two equal elements is maintained).\n",
       "\n",
       "If a key function is given, apply it once to each list item and sort them,\n",
       "ascending or descending, according to their function values.\n",
       "\n",
       "The reverse flag can be set to sort in descending order.\n",
       "\u001b[0;31mType:\u001b[0m      builtin_function_or_method"
      ]
     },
     "metadata": {},
     "output_type": "display_data"
    }
   ],
   "source": [
    "my_list.sort?"
   ]
  },
  {
   "cell_type": "code",
   "execution_count": 200,
   "metadata": {},
   "outputs": [
    {
     "data": {
      "text/plain": [
       "\u001b[0;31mSignature:\u001b[0m \u001b[0msorted\u001b[0m\u001b[0;34m(\u001b[0m\u001b[0miterable\u001b[0m\u001b[0;34m,\u001b[0m \u001b[0;34m/\u001b[0m\u001b[0;34m,\u001b[0m \u001b[0;34m*\u001b[0m\u001b[0;34m,\u001b[0m \u001b[0mkey\u001b[0m\u001b[0;34m=\u001b[0m\u001b[0;32mNone\u001b[0m\u001b[0;34m,\u001b[0m \u001b[0mreverse\u001b[0m\u001b[0;34m=\u001b[0m\u001b[0;32mFalse\u001b[0m\u001b[0;34m)\u001b[0m\u001b[0;34m\u001b[0m\u001b[0;34m\u001b[0m\u001b[0m\n",
       "\u001b[0;31mDocstring:\u001b[0m\n",
       "Return a new list containing all items from the iterable in ascending order.\n",
       "\n",
       "A custom key function can be supplied to customize the sort order, and the\n",
       "reverse flag can be set to request the result in descending order.\n",
       "\u001b[0;31mType:\u001b[0m      builtin_function_or_method"
      ]
     },
     "metadata": {},
     "output_type": "display_data"
    }
   ],
   "source": [
    "sorted?"
   ]
  },
  {
   "cell_type": "code",
   "execution_count": 214,
   "metadata": {
    "id": "msQlgkpROSzU"
   },
   "outputs": [],
   "source": [
    "ascending_list = sorted(my_list, key = lambda a: len(a), reverse=True)"
   ]
  },
  {
   "cell_type": "code",
   "execution_count": 216,
   "metadata": {
    "id": "-iVVuVdpOV29"
   },
   "outputs": [
    {
     "data": {
      "text/plain": [
       "['pineapple', 'banana', 'orange', 'apple', 'grape', 'kiwi']"
      ]
     },
     "execution_count": 216,
     "metadata": {},
     "output_type": "execute_result"
    }
   ],
   "source": [
    "ascending_list"
   ]
  },
  {
   "cell_type": "code",
   "execution_count": 198,
   "metadata": {},
   "outputs": [
    {
     "data": {
      "text/plain": [
       "['apple', 'banana', 'orange', 'grape', 'kiwi']"
      ]
     },
     "execution_count": 198,
     "metadata": {},
     "output_type": "execute_result"
    }
   ],
   "source": [
    "my_list"
   ]
  },
  {
   "cell_type": "code",
   "execution_count": 204,
   "metadata": {
    "id": "_zIE3wm0OXFZ"
   },
   "outputs": [],
   "source": [
    "descending_list = sorted(my_list, reverse = True)"
   ]
  },
  {
   "cell_type": "code",
   "execution_count": 206,
   "metadata": {
    "id": "ihvdyshuOaou"
   },
   "outputs": [
    {
     "data": {
      "text/plain": [
       "['orange', 'kiwi', 'grape', 'banana', 'apple']"
      ]
     },
     "execution_count": 206,
     "metadata": {},
     "output_type": "execute_result"
    }
   ],
   "source": [
    "descending_list"
   ]
  },
  {
   "cell_type": "markdown",
   "metadata": {
    "id": "XSPlsXLIRl6X"
   },
   "source": [
    "### Quiz\n",
    "Find the second smallest element in the list `[10, 20, 5, 30, 40, 15]`."
   ]
  },
  {
   "cell_type": "code",
   "execution_count": 256,
   "metadata": {
    "id": "EYXttX5dR3Wg"
   },
   "outputs": [
    {
     "name": "stdout",
     "output_type": "stream",
     "text": [
      "[5, 10, 15, 20, 30, 40]\n"
     ]
    },
    {
     "data": {
      "text/plain": [
       "5"
      ]
     },
     "execution_count": 256,
     "metadata": {},
     "output_type": "execute_result"
    }
   ],
   "source": [
    "### YOUR CODE HERE ###\n",
    "a = [10, 20, 5, 30, 40, 15]\n",
    "a.sort()\n",
    "print(a)\n",
    "a[0]\n"
   ]
  },
  {
   "cell_type": "code",
   "execution_count": 258,
   "metadata": {},
   "outputs": [
    {
     "data": {
      "text/plain": [
       "(5, 40, 20.0)"
      ]
     },
     "execution_count": 258,
     "metadata": {},
     "output_type": "execute_result"
    }
   ],
   "source": [
    "min(a), max(a), sum(a)/len(a)"
   ]
  },
  {
   "cell_type": "markdown",
   "metadata": {
    "id": "DHAvauRnRHRj"
   },
   "source": [
    "### Example\n",
    "Reversing a list"
   ]
  },
  {
   "cell_type": "code",
   "execution_count": 260,
   "metadata": {
    "id": "L1_eDXlyRK7j"
   },
   "outputs": [
    {
     "data": {
      "text/plain": [
       "['apple', 'banana', 'grape', 'kiwi', 'orange', 'pineapple']"
      ]
     },
     "execution_count": 260,
     "metadata": {},
     "output_type": "execute_result"
    }
   ],
   "source": [
    "my_list"
   ]
  },
  {
   "cell_type": "code",
   "execution_count": 262,
   "metadata": {
    "colab": {
     "base_uri": "https://localhost:8080/"
    },
    "executionInfo": {
     "elapsed": 627,
     "status": "ok",
     "timestamp": 1723015386658,
     "user": {
      "displayName": "Sohan Hedge",
      "userId": "03545084746990477806"
     },
     "user_tz": -330
    },
    "id": "-1Gu7svGRKo3",
    "outputId": "e301232a-396b-441c-92fa-9a88492a939b"
   },
   "outputs": [
    {
     "data": {
      "text/plain": [
       "['pineapple', 'orange', 'kiwi', 'grape', 'banana', 'apple']"
      ]
     },
     "execution_count": 262,
     "metadata": {},
     "output_type": "execute_result"
    }
   ],
   "source": [
    "my_list[::-1]"
   ]
  },
  {
   "cell_type": "markdown",
   "metadata": {
    "id": "eaToMpjZaQCk"
   },
   "source": [
    "### Example\n",
    "Repeating a list"
   ]
  },
  {
   "cell_type": "code",
   "execution_count": 264,
   "metadata": {
    "id": "T6Eoeix5aT-d"
   },
   "outputs": [
    {
     "data": {
      "text/plain": [
       "['apple', 'banana', 'grape', 'kiwi', 'orange', 'pineapple']"
      ]
     },
     "execution_count": 264,
     "metadata": {},
     "output_type": "execute_result"
    }
   ],
   "source": [
    "my_list"
   ]
  },
  {
   "cell_type": "code",
   "execution_count": 266,
   "metadata": {
    "id": "0HcbHHa0aUpB"
   },
   "outputs": [],
   "source": [
    "my_new_list = my_list * 5"
   ]
  },
  {
   "cell_type": "code",
   "execution_count": 268,
   "metadata": {
    "id": "WqGezkEKaXEw"
   },
   "outputs": [
    {
     "data": {
      "text/plain": [
       "['apple',\n",
       " 'banana',\n",
       " 'grape',\n",
       " 'kiwi',\n",
       " 'orange',\n",
       " 'pineapple',\n",
       " 'apple',\n",
       " 'banana',\n",
       " 'grape',\n",
       " 'kiwi',\n",
       " 'orange',\n",
       " 'pineapple',\n",
       " 'apple',\n",
       " 'banana',\n",
       " 'grape',\n",
       " 'kiwi',\n",
       " 'orange',\n",
       " 'pineapple',\n",
       " 'apple',\n",
       " 'banana',\n",
       " 'grape',\n",
       " 'kiwi',\n",
       " 'orange',\n",
       " 'pineapple',\n",
       " 'apple',\n",
       " 'banana',\n",
       " 'grape',\n",
       " 'kiwi',\n",
       " 'orange',\n",
       " 'pineapple']"
      ]
     },
     "execution_count": 268,
     "metadata": {},
     "output_type": "execute_result"
    }
   ],
   "source": [
    "my_new_list"
   ]
  },
  {
   "cell_type": "markdown",
   "metadata": {
    "id": "iiytoGKdC1tU"
   },
   "source": [
    "### Example\n",
    "Extending lists"
   ]
  },
  {
   "cell_type": "code",
   "execution_count": 288,
   "metadata": {
    "colab": {
     "base_uri": "https://localhost:8080/"
    },
    "executionInfo": {
     "elapsed": 704,
     "status": "ok",
     "timestamp": 1723012168244,
     "user": {
      "displayName": "Sohan Hedge",
      "userId": "03545084746990477806"
     },
     "user_tz": -330
    },
    "id": "jtYwx_7xDK-M",
    "outputId": "71082c2a-0c04-478a-b4d6-538c1f730b26"
   },
   "outputs": [
    {
     "data": {
      "text/plain": [
       "['apple', 'banana', 'grape', 'kiwi', 'orange', 'pineapple']"
      ]
     },
     "execution_count": 288,
     "metadata": {},
     "output_type": "execute_result"
    }
   ],
   "source": [
    "my_list = ['apple', 'banana', 'grape', 'kiwi', 'orange', 'pineapple']\n",
    "my_list"
   ]
  },
  {
   "cell_type": "code",
   "execution_count": 290,
   "metadata": {
    "executionInfo": {
     "elapsed": 683,
     "status": "ok",
     "timestamp": 1723012173667,
     "user": {
      "displayName": "Sohan Hedge",
      "userId": "03545084746990477806"
     },
     "user_tz": -330
    },
    "id": "2KgpaszMDPGJ"
   },
   "outputs": [],
   "source": [
    "my_other_list = ['guava', 'pineapple', 'plum', 'pear']"
   ]
  },
  {
   "cell_type": "code",
   "execution_count": 292,
   "metadata": {
    "executionInfo": {
     "elapsed": 2,
     "status": "ok",
     "timestamp": 1723012175124,
     "user": {
      "displayName": "Sohan Hedge",
      "userId": "03545084746990477806"
     },
     "user_tz": -330
    },
    "id": "av5gOwVMDSHm"
   },
   "outputs": [],
   "source": [
    "extended_list = my_list + my_other_list"
   ]
  },
  {
   "cell_type": "code",
   "execution_count": 276,
   "metadata": {
    "colab": {
     "base_uri": "https://localhost:8080/"
    },
    "executionInfo": {
     "elapsed": 561,
     "status": "ok",
     "timestamp": 1723012178048,
     "user": {
      "displayName": "Sohan Hedge",
      "userId": "03545084746990477806"
     },
     "user_tz": -330
    },
    "id": "1v4XT5eUDfks",
    "outputId": "0be1d2e8-200d-4cab-84bf-e3439688d9d7"
   },
   "outputs": [
    {
     "data": {
      "text/plain": [
       "['apple',\n",
       " 'banana',\n",
       " 'grape',\n",
       " 'kiwi',\n",
       " 'orange',\n",
       " 'pineapple',\n",
       " 'guava',\n",
       " 'pineapple',\n",
       " 'plum',\n",
       " 'pear']"
      ]
     },
     "execution_count": 276,
     "metadata": {},
     "output_type": "execute_result"
    }
   ],
   "source": [
    "extended_list"
   ]
  },
  {
   "cell_type": "code",
   "execution_count": 278,
   "metadata": {
    "id": "AR_lGvFj2iwJ"
   },
   "outputs": [
    {
     "data": {
      "text/plain": [
       "['apple', 'banana', 'grape', 'kiwi', 'orange', 'pineapple']"
      ]
     },
     "execution_count": 278,
     "metadata": {},
     "output_type": "execute_result"
    }
   ],
   "source": [
    "my_list"
   ]
  },
  {
   "cell_type": "code",
   "execution_count": 286,
   "metadata": {},
   "outputs": [
    {
     "data": {
      "text/plain": [
       "\u001b[0;31mSignature:\u001b[0m \u001b[0mmy_list\u001b[0m\u001b[0;34m.\u001b[0m\u001b[0mextend\u001b[0m\u001b[0;34m(\u001b[0m\u001b[0miterable\u001b[0m\u001b[0;34m,\u001b[0m \u001b[0;34m/\u001b[0m\u001b[0;34m)\u001b[0m\u001b[0;34m\u001b[0m\u001b[0;34m\u001b[0m\u001b[0m\n",
       "\u001b[0;31mDocstring:\u001b[0m Extend list by appending elements from the iterable.\n",
       "\u001b[0;31mType:\u001b[0m      builtin_function_or_method"
      ]
     },
     "metadata": {},
     "output_type": "display_data"
    }
   ],
   "source": [
    "my_list.extend?"
   ]
  },
  {
   "cell_type": "code",
   "execution_count": 294,
   "metadata": {
    "id": "zLHqybkJD55y"
   },
   "outputs": [],
   "source": [
    "new_list = my_list.extend(my_other_list)"
   ]
  },
  {
   "cell_type": "code",
   "execution_count": 296,
   "metadata": {
    "id": "l-74F946D-nM"
   },
   "outputs": [
    {
     "name": "stdout",
     "output_type": "stream",
     "text": [
      "None\n"
     ]
    }
   ],
   "source": [
    "print(new_list)"
   ]
  },
  {
   "cell_type": "code",
   "execution_count": 298,
   "metadata": {
    "id": "lf5cqBz-FI3L"
   },
   "outputs": [
    {
     "data": {
      "text/plain": [
       "['apple',\n",
       " 'banana',\n",
       " 'grape',\n",
       " 'kiwi',\n",
       " 'orange',\n",
       " 'pineapple',\n",
       " 'guava',\n",
       " 'pineapple',\n",
       " 'plum',\n",
       " 'pear']"
      ]
     },
     "execution_count": 298,
     "metadata": {},
     "output_type": "execute_result"
    }
   ],
   "source": [
    "my_list"
   ]
  },
  {
   "cell_type": "markdown",
   "metadata": {
    "id": "LxdbxVcqE1Ul"
   },
   "source": [
    "Note that the `.extend()` method, like `.append()` and `.pop()`, works in-place, that is, it does not create a new list. Instead it modifies the list upon which it was called."
   ]
  },
  {
   "cell_type": "markdown",
   "metadata": {
    "id": "DUj_mVkWa0OM"
   },
   "source": [
    "### Example\n",
    "Splitting strings into lists of substrings and joining them back together"
   ]
  },
  {
   "cell_type": "code",
   "execution_count": 300,
   "metadata": {},
   "outputs": [],
   "source": [
    "a = \"umang\""
   ]
  },
  {
   "cell_type": "code",
   "execution_count": null,
   "metadata": {},
   "outputs": [],
   "source": [
    "a."
   ]
  },
  {
   "cell_type": "code",
   "execution_count": 302,
   "metadata": {},
   "outputs": [
    {
     "data": {
      "text/plain": [
       "'apple'"
      ]
     },
     "execution_count": 302,
     "metadata": {},
     "output_type": "execute_result"
    }
   ],
   "source": [
    "my_list[0]"
   ]
  },
  {
   "cell_type": "code",
   "execution_count": 306,
   "metadata": {},
   "outputs": [
    {
     "data": {
      "text/plain": [
       "list"
      ]
     },
     "execution_count": 306,
     "metadata": {},
     "output_type": "execute_result"
    }
   ],
   "source": [
    "type(my_list)"
   ]
  },
  {
   "cell_type": "code",
   "execution_count": 304,
   "metadata": {},
   "outputs": [
    {
     "data": {
      "text/plain": [
       "str"
      ]
     },
     "execution_count": 304,
     "metadata": {},
     "output_type": "execute_result"
    }
   ],
   "source": [
    "type(my_list[0])"
   ]
  },
  {
   "cell_type": "code",
   "execution_count": null,
   "metadata": {},
   "outputs": [],
   "source": [
    "my_list[0]."
   ]
  },
  {
   "cell_type": "code",
   "execution_count": null,
   "metadata": {
    "executionInfo": {
     "elapsed": 409,
     "status": "ok",
     "timestamp": 1723015406122,
     "user": {
      "displayName": "Sohan Hedge",
      "userId": "03545084746990477806"
     },
     "user_tz": -330
    },
    "id": "ZEGrejJRks-3"
   },
   "outputs": [],
   "source": [
    "my_string = 'I find Python programming very interesting!'"
   ]
  },
  {
   "cell_type": "code",
   "execution_count": null,
   "metadata": {
    "id": "KG3lnrtz7R4U"
   },
   "outputs": [],
   "source": [
    "my_string"
   ]
  },
  {
   "cell_type": "code",
   "execution_count": null,
   "metadata": {
    "id": "QSFSePq07R4U"
   },
   "outputs": [],
   "source": [
    "my_string.split()"
   ]
  },
  {
   "cell_type": "code",
   "execution_count": null,
   "metadata": {
    "id": "pq160DtI7R4U"
   },
   "outputs": [],
   "source": [
    "my_string"
   ]
  },
  {
   "cell_type": "code",
   "execution_count": null,
   "metadata": {
    "colab": {
     "base_uri": "https://localhost:8080/"
    },
    "executionInfo": {
     "elapsed": 392,
     "status": "ok",
     "timestamp": 1723015409634,
     "user": {
      "displayName": "Sohan Hedge",
      "userId": "03545084746990477806"
     },
     "user_tz": -330
    },
    "id": "tn33y71h7R4V",
    "outputId": "3f97b839-e9ae-43da-c2e4-f6a475e26d35"
   },
   "outputs": [],
   "source": [
    "my_string.split(' ')"
   ]
  },
  {
   "cell_type": "code",
   "execution_count": null,
   "metadata": {
    "id": "dIIxtqir7R4V"
   },
   "outputs": [],
   "source": [
    "my_string"
   ]
  },
  {
   "cell_type": "markdown",
   "metadata": {
    "id": "Qraivkb5POBS"
   },
   "source": [
    "Note how `my_string` hasn't changed in spite of applying the `.split()` method on it. One would have to reassign the output to a variable for the changes to stick."
   ]
  },
  {
   "cell_type": "code",
   "execution_count": null,
   "metadata": {
    "executionInfo": {
     "elapsed": 650,
     "status": "ok",
     "timestamp": 1723012184749,
     "user": {
      "displayName": "Sohan Hedge",
      "userId": "03545084746990477806"
     },
     "user_tz": -330
    },
    "id": "8aYB1E5PkwZr"
   },
   "outputs": [],
   "source": [
    "my_string_list = my_string.split(' ')"
   ]
  },
  {
   "cell_type": "code",
   "execution_count": null,
   "metadata": {
    "colab": {
     "base_uri": "https://localhost:8080/"
    },
    "executionInfo": {
     "elapsed": 427,
     "status": "ok",
     "timestamp": 1723012200363,
     "user": {
      "displayName": "Sohan Hedge",
      "userId": "03545084746990477806"
     },
     "user_tz": -330
    },
    "id": "rkiZ--pBlULR",
    "outputId": "f051b767-018d-426c-ba47-6e1e5d044949"
   },
   "outputs": [],
   "source": [
    "my_string_list"
   ]
  },
  {
   "cell_type": "code",
   "execution_count": null,
   "metadata": {
    "colab": {
     "base_uri": "https://localhost:8080/"
    },
    "executionInfo": {
     "elapsed": 584,
     "status": "ok",
     "timestamp": 1723012189831,
     "user": {
      "displayName": "Sohan Hedge",
      "userId": "03545084746990477806"
     },
     "user_tz": -330
    },
    "id": "GP83cp0Ilmr_",
    "outputId": "c5ccc023-8117-45a0-f3ad-21e37b85dd0c"
   },
   "outputs": [],
   "source": [
    "type(my_string_list)"
   ]
  },
  {
   "cell_type": "code",
   "execution_count": null,
   "metadata": {
    "id": "zNfOicG37R4V"
   },
   "outputs": [],
   "source": [
    "my_string"
   ]
  },
  {
   "cell_type": "code",
   "execution_count": null,
   "metadata": {
    "id": "dFZqyOlPk3fD"
   },
   "outputs": [],
   "source": [
    "my_string.split('i')"
   ]
  },
  {
   "cell_type": "code",
   "execution_count": null,
   "metadata": {
    "id": "IqeylQGfU4WU"
   },
   "outputs": [],
   "source": [
    "my_string_list"
   ]
  },
  {
   "cell_type": "code",
   "execution_count": null,
   "metadata": {
    "id": "e2DzjoCNlfrd"
   },
   "outputs": [],
   "source": [
    "''.join(my_string_list)"
   ]
  },
  {
   "cell_type": "code",
   "execution_count": null,
   "metadata": {
    "id": "rrFScc497R4V"
   },
   "outputs": [],
   "source": [
    "'#'.join(my_string_list)"
   ]
  },
  {
   "cell_type": "code",
   "execution_count": null,
   "metadata": {
    "id": "mcaOwRzQlja1"
   },
   "outputs": [],
   "source": [
    "' '.join(my_string_list)"
   ]
  },
  {
   "cell_type": "code",
   "execution_count": null,
   "metadata": {},
   "outputs": [],
   "source": []
  }
 ],
 "metadata": {
  "colab": {
   "provenance": [],
   "toc_visible": true
  },
  "kernelspec": {
   "display_name": "Python 3 (ipykernel)",
   "language": "python",
   "name": "python3"
  },
  "language_info": {
   "codemirror_mode": {
    "name": "ipython",
    "version": 3
   },
   "file_extension": ".py",
   "mimetype": "text/x-python",
   "name": "python",
   "nbconvert_exporter": "python",
   "pygments_lexer": "ipython3",
   "version": "3.12.4"
  }
 },
 "nbformat": 4,
 "nbformat_minor": 4
}
