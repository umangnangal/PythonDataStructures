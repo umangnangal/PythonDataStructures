{
 "cells": [
  {
   "cell_type": "markdown",
   "metadata": {
    "id": "c2F4wtow-9-Z"
   },
   "source": [
    "# Strings\n",
    "Strings are fundamental data structures in Python, widely utilized across diverse domains such as software development, data science, and machine learning. They are essentially sequences of characters, typically associated with one or more languages, both natural and technical."
   ]
  },
  {
   "cell_type": "markdown",
   "metadata": {
    "id": "LnDkx4jgI4iY"
   },
   "source": [
    "## Creating strings"
   ]
  },
  {
   "cell_type": "markdown",
   "metadata": {
    "id": "nf10VmhjYA_U"
   },
   "source": [
    "Strings can be created by wrapping the desired text in single `''` or double `\"\"` quotes."
   ]
  },
  {
   "cell_type": "markdown",
   "metadata": {
    "id": "2NzM4v4v4fsH"
   },
   "source": [
    "### Example\n",
    "Creating empty strings\n"
   ]
  },
  {
   "cell_type": "code",
   "execution_count": null,
   "metadata": {
    "id": "eHu5WgbJ4nh9"
   },
   "outputs": [],
   "source": [
    "empty_string_1 = ''"
   ]
  },
  {
   "cell_type": "code",
   "execution_count": null,
   "metadata": {
    "id": "Q6r-wVWqtove"
   },
   "outputs": [],
   "source": [
    "empty_string_1"
   ]
  },
  {
   "cell_type": "code",
   "execution_count": null,
   "metadata": {
    "id": "dduOMB-n4wc3"
   },
   "outputs": [],
   "source": [
    "type(empty_string_1)"
   ]
  },
  {
   "cell_type": "code",
   "execution_count": null,
   "metadata": {
    "id": "EQo_95EN5aoD"
   },
   "outputs": [],
   "source": [
    "print(empty_string_1)"
   ]
  },
  {
   "cell_type": "code",
   "execution_count": null,
   "metadata": {
    "id": "sRQG2yiH4wWw"
   },
   "outputs": [],
   "source": [
    "empty_string_2 = \"\""
   ]
  },
  {
   "cell_type": "code",
   "execution_count": null,
   "metadata": {
    "id": "lobV66cxtrvk"
   },
   "outputs": [],
   "source": [
    "empty_string_2"
   ]
  },
  {
   "cell_type": "code",
   "execution_count": null,
   "metadata": {
    "id": "pVHWjwql4zue"
   },
   "outputs": [],
   "source": [
    "type(empty_string_2)"
   ]
  },
  {
   "cell_type": "code",
   "execution_count": null,
   "metadata": {
    "id": "t8efjVry5lDf"
   },
   "outputs": [],
   "source": [
    "print(empty_string_2)"
   ]
  },
  {
   "cell_type": "markdown",
   "metadata": {
    "id": "5J8SAui8_pHD"
   },
   "source": [
    "### Example\n",
    "Creating non-empty strings"
   ]
  },
  {
   "cell_type": "code",
   "execution_count": null,
   "metadata": {
    "id": "O7Rp6I2G7R3u"
   },
   "outputs": [],
   "source": [
    "my_string = 'dog'"
   ]
  },
  {
   "cell_type": "code",
   "execution_count": null,
   "metadata": {
    "id": "OfeKTwI_ttnf"
   },
   "outputs": [],
   "source": [
    "my_string"
   ]
  },
  {
   "cell_type": "code",
   "execution_count": null,
   "metadata": {
    "id": "b9-Z94dJsg0n"
   },
   "outputs": [],
   "source": [
    "print(my_string)"
   ]
  },
  {
   "cell_type": "code",
   "execution_count": null,
   "metadata": {
    "id": "0qCajIfs7R3u"
   },
   "outputs": [],
   "source": [
    "type(my_string)"
   ]
  },
  {
   "cell_type": "code",
   "execution_count": null,
   "metadata": {
    "id": "VavbaLex7R3v"
   },
   "outputs": [],
   "source": [
    "some_string = '25'"
   ]
  },
  {
   "cell_type": "code",
   "execution_count": null,
   "metadata": {
    "id": "HL-Vb0Dptv2u"
   },
   "outputs": [],
   "source": [
    "some_string"
   ]
  },
  {
   "cell_type": "code",
   "execution_count": null,
   "metadata": {
    "id": "smcCw04Qsijc"
   },
   "outputs": [],
   "source": [
    "print(some_string)"
   ]
  },
  {
   "cell_type": "code",
   "execution_count": null,
   "metadata": {
    "id": "3PNBGBP97R3v"
   },
   "outputs": [],
   "source": [
    "type(some_string)"
   ]
  },
  {
   "cell_type": "code",
   "execution_count": null,
   "metadata": {
    "id": "Mbet6hvxJczz"
   },
   "outputs": [],
   "source": [
    "single_quotes_in_string = \"'Python'\""
   ]
  },
  {
   "cell_type": "code",
   "execution_count": null,
   "metadata": {
    "id": "QC9xx1e_Jlue"
   },
   "outputs": [],
   "source": [
    "print(single_quotes_in_string)"
   ]
  },
  {
   "cell_type": "code",
   "execution_count": null,
   "metadata": {
    "id": "1xaHSCOFJo8-"
   },
   "outputs": [],
   "source": [
    "double_quotes_in_string = '\"Python\"'"
   ]
  },
  {
   "cell_type": "code",
   "execution_count": null,
   "metadata": {
    "id": "qW5JZ41WJsZ1"
   },
   "outputs": [],
   "source": [
    "print(double_quotes_in_string)"
   ]
  },
  {
   "cell_type": "markdown",
   "metadata": {
    "id": "tAKpF2n57TXY"
   },
   "source": [
    "### Example\n",
    "Creating multiline strings"
   ]
  },
  {
   "cell_type": "code",
   "execution_count": null,
   "metadata": {
    "id": "IwmwRQ3cJqeJ"
   },
   "outputs": [],
   "source": [
    "multiline_string = '''\n",
    "This is a multiline\n",
    "string created using\n",
    "triple quotes.\n",
    "'''"
   ]
  },
  {
   "cell_type": "code",
   "execution_count": null,
   "metadata": {
    "id": "xaZrroWwhd3I"
   },
   "outputs": [],
   "source": [
    "type(multiline_string)"
   ]
  },
  {
   "cell_type": "code",
   "execution_count": null,
   "metadata": {
    "id": "DrP6gR_t7a8N"
   },
   "outputs": [],
   "source": [
    "multiline_string"
   ]
  },
  {
   "cell_type": "code",
   "execution_count": null,
   "metadata": {
    "id": "7Ircu9IJWFgN"
   },
   "outputs": [],
   "source": [
    "print(multiline_string)"
   ]
  },
  {
   "cell_type": "markdown",
   "metadata": {
    "id": "y9VuNG6AoJdT"
   },
   "source": [
    "We will look at `'\\n'` and other escape sequences later."
   ]
  },
  {
   "cell_type": "markdown",
   "metadata": {
    "id": "Sdl5r_oq3rl8"
   },
   "source": [
    "### Example\n",
    "Creating strings using the `str()` function"
   ]
  },
  {
   "cell_type": "code",
   "execution_count": null,
   "metadata": {
    "id": "xC8folaM7R3w"
   },
   "outputs": [],
   "source": [
    "age = 42"
   ]
  },
  {
   "cell_type": "code",
   "execution_count": null,
   "metadata": {
    "id": "thImFRwo7R32"
   },
   "outputs": [],
   "source": [
    "type(age)"
   ]
  },
  {
   "cell_type": "code",
   "execution_count": null,
   "metadata": {
    "id": "AlI9LTEc7R32"
   },
   "outputs": [],
   "source": [
    "age"
   ]
  },
  {
   "cell_type": "code",
   "execution_count": null,
   "metadata": {
    "id": "NhJSNbkV7R32"
   },
   "outputs": [],
   "source": [
    "print(age)"
   ]
  },
  {
   "cell_type": "code",
   "execution_count": null,
   "metadata": {
    "id": "YGLZmnuR31Gf"
   },
   "outputs": [],
   "source": [
    "string_age = str(age)"
   ]
  },
  {
   "cell_type": "code",
   "execution_count": null,
   "metadata": {
    "id": "awrQ901X4AtK"
   },
   "outputs": [],
   "source": [
    "type(string_age)"
   ]
  },
  {
   "cell_type": "code",
   "execution_count": null,
   "metadata": {
    "id": "Y6Nj4cW06kKz"
   },
   "outputs": [],
   "source": [
    "string_age"
   ]
  },
  {
   "cell_type": "code",
   "execution_count": null,
   "metadata": {
    "id": "-0YuC7se7R32"
   },
   "outputs": [],
   "source": [
    "print(string_age)"
   ]
  },
  {
   "cell_type": "markdown",
   "metadata": {
    "id": "VoXnZkvdN5b3"
   },
   "source": [
    "## Indexing and slicing strings\n",
    "Indexing operations can be performed on all Python data structures, and allow one to access elements within that data structure by using its position or index number. Note that in Python, indexing starts from $0$, i.e. the element in the first position is accessed with index $0$."
   ]
  },
  {
   "cell_type": "markdown",
   "metadata": {
    "id": "gQ_6-31yOPWv"
   },
   "source": [
    "### Example\n",
    "Accessing individual characters in a string"
   ]
  },
  {
   "cell_type": "code",
   "execution_count": null,
   "metadata": {
    "id": "dJV_BOsrOWNZ"
   },
   "outputs": [],
   "source": [
    "my_string = 'Python Programming'"
   ]
  },
  {
   "cell_type": "code",
   "execution_count": null,
   "metadata": {
    "id": "Mqo-hNNjt01Z"
   },
   "outputs": [],
   "source": [
    "my_string"
   ]
  },
  {
   "cell_type": "code",
   "execution_count": null,
   "metadata": {
    "id": "DvJr-BM-7R38"
   },
   "outputs": [],
   "source": [
    "my_string[0]"
   ]
  },
  {
   "cell_type": "code",
   "execution_count": null,
   "metadata": {
    "id": "Q8mZRYcIC2hN"
   },
   "outputs": [],
   "source": [
    "my_string[1]"
   ]
  },
  {
   "cell_type": "code",
   "execution_count": null,
   "metadata": {
    "id": "8WQE-EDLDWY-"
   },
   "outputs": [],
   "source": [
    "my_string[17]"
   ]
  },
  {
   "cell_type": "code",
   "execution_count": null,
   "metadata": {
    "id": "E7ibsenCDX-_"
   },
   "outputs": [],
   "source": [
    "my_string[-1]"
   ]
  },
  {
   "cell_type": "code",
   "execution_count": null,
   "metadata": {
    "id": "v-Qeu-EeD3Ea"
   },
   "outputs": [],
   "source": [
    "my_string[-2]"
   ]
  },
  {
   "cell_type": "markdown",
   "metadata": {
    "id": "dfn0qmRd5M3X"
   },
   "source": [
    "### Example\n",
    "Slice strings to extract substrings"
   ]
  },
  {
   "cell_type": "code",
   "execution_count": null,
   "metadata": {
    "id": "osW8D1OtFJ9f"
   },
   "outputs": [],
   "source": [
    "my_string = 'Python Programming'"
   ]
  },
  {
   "cell_type": "code",
   "execution_count": null,
   "metadata": {
    "colab": {
     "base_uri": "https://localhost:8080/",
     "height": 35
    },
    "executionInfo": {
     "elapsed": 11,
     "status": "ok",
     "timestamp": 1723010408124,
     "user": {
      "displayName": "Sohan Hedge",
      "userId": "03545084746990477806"
     },
     "user_tz": -330
    },
    "id": "jrG76CNat4yz",
    "outputId": "e1bd079c-5d2a-4647-8289-c1767bbecd5f"
   },
   "outputs": [],
   "source": [
    "my_string"
   ]
  },
  {
   "cell_type": "code",
   "execution_count": null,
   "metadata": {
    "colab": {
     "base_uri": "https://localhost:8080/",
     "height": 35
    },
    "executionInfo": {
     "elapsed": 423,
     "status": "ok",
     "timestamp": 1723010417407,
     "user": {
      "displayName": "Sohan Hedge",
      "userId": "03545084746990477806"
     },
     "user_tz": -330
    },
    "id": "_w1TbxUlFYLP",
    "outputId": "15131028-9093-4394-f6fd-d305f7bdb590"
   },
   "outputs": [],
   "source": [
    "my_string [0:1]"
   ]
  },
  {
   "cell_type": "code",
   "execution_count": null,
   "metadata": {
    "colab": {
     "base_uri": "https://localhost:8080/",
     "height": 35
    },
    "executionInfo": {
     "elapsed": 4,
     "status": "ok",
     "timestamp": 1723010423682,
     "user": {
      "displayName": "Sohan Hedge",
      "userId": "03545084746990477806"
     },
     "user_tz": -330
    },
    "id": "0-02UyZE7R3_",
    "outputId": "f338810a-ab58-46d4-fc6e-ad3a4ca58f6b"
   },
   "outputs": [],
   "source": [
    "my_string [0:2]"
   ]
  },
  {
   "cell_type": "code",
   "execution_count": null,
   "metadata": {
    "colab": {
     "base_uri": "https://localhost:8080/",
     "height": 35
    },
    "executionInfo": {
     "elapsed": 436,
     "status": "ok",
     "timestamp": 1723010421341,
     "user": {
      "displayName": "Sohan Hedge",
      "userId": "03545084746990477806"
     },
     "user_tz": -330
    },
    "id": "u_veiiVjFcqA",
    "outputId": "1a59fd39-cdd1-4f15-b010-e3518c04919f"
   },
   "outputs": [],
   "source": [
    "my_string [:1]"
   ]
  },
  {
   "cell_type": "code",
   "execution_count": null,
   "metadata": {
    "id": "5O7iM2sNFiuh"
   },
   "outputs": [],
   "source": [
    "my_string [:2]"
   ]
  },
  {
   "cell_type": "code",
   "execution_count": null,
   "metadata": {
    "id": "lbgt-uArO3KD"
   },
   "outputs": [],
   "source": [
    "my_string[1:6]"
   ]
  },
  {
   "cell_type": "code",
   "execution_count": null,
   "metadata": {
    "id": "gDbltFso7R4A"
   },
   "outputs": [],
   "source": [
    "my_string[4:11]"
   ]
  },
  {
   "cell_type": "code",
   "execution_count": null,
   "metadata": {
    "id": "O54IiQgX7R4A"
   },
   "outputs": [],
   "source": [
    "my_string[7:18]"
   ]
  },
  {
   "cell_type": "code",
   "execution_count": null,
   "metadata": {
    "id": "Ga_hi8u-7R4A"
   },
   "outputs": [],
   "source": [
    "my_string[7:]"
   ]
  },
  {
   "cell_type": "code",
   "execution_count": null,
   "metadata": {
    "id": "vStiSY_P7R4A"
   },
   "outputs": [],
   "source": [
    "my_string[12:]"
   ]
  },
  {
   "cell_type": "code",
   "execution_count": null,
   "metadata": {
    "colab": {
     "base_uri": "https://localhost:8080/",
     "height": 35
    },
    "executionInfo": {
     "elapsed": 452,
     "status": "ok",
     "timestamp": 1723010444182,
     "user": {
      "displayName": "Sohan Hedge",
      "userId": "03545084746990477806"
     },
     "user_tz": -330
    },
    "id": "1Xkl-fqnF7co",
    "outputId": "0c717b1a-af9a-4410-dbe9-19c8b42b68a1"
   },
   "outputs": [],
   "source": [
    "my_string[:-1]"
   ]
  },
  {
   "cell_type": "code",
   "execution_count": null,
   "metadata": {
    "id": "wlqGLpes7R4A"
   },
   "outputs": [],
   "source": [
    "my_string[:-2]"
   ]
  },
  {
   "cell_type": "code",
   "execution_count": null,
   "metadata": {
    "id": "10tz_GcAGBAM"
   },
   "outputs": [],
   "source": [
    "my_string[1:-1]"
   ]
  },
  {
   "cell_type": "code",
   "execution_count": null,
   "metadata": {
    "id": "NBFNbwBlGEPa"
   },
   "outputs": [],
   "source": [
    "my_string[1:-2]"
   ]
  },
  {
   "cell_type": "markdown",
   "metadata": {
    "id": "fuZxRSfu7R4A"
   },
   "source": [
    "### Example\n",
    "Accessing string characters in a pattern"
   ]
  },
  {
   "cell_type": "code",
   "execution_count": null,
   "metadata": {
    "id": "cCoDstC27R4A"
   },
   "outputs": [],
   "source": [
    "my_string = 'Python Programming'"
   ]
  },
  {
   "cell_type": "code",
   "execution_count": null,
   "metadata": {
    "colab": {
     "base_uri": "https://localhost:8080/",
     "height": 35
    },
    "executionInfo": {
     "elapsed": 426,
     "status": "ok",
     "timestamp": 1723010348405,
     "user": {
      "displayName": "Sohan Hedge",
      "userId": "03545084746990477806"
     },
     "user_tz": -330
    },
    "id": "4lbXlhvst-nO",
    "outputId": "61a77bf0-9cab-4f0a-9ffc-9f687b1ed6b0"
   },
   "outputs": [],
   "source": [
    "my_string"
   ]
  },
  {
   "cell_type": "code",
   "execution_count": null,
   "metadata": {
    "colab": {
     "base_uri": "https://localhost:8080/",
     "height": 35
    },
    "executionInfo": {
     "elapsed": 413,
     "status": "ok",
     "timestamp": 1723010350786,
     "user": {
      "displayName": "Sohan Hedge",
      "userId": "03545084746990477806"
     },
     "user_tz": -330
    },
    "id": "D4EfBIcHGIB-",
    "outputId": "796d1935-8b47-482a-a0ef-91d913e08f87"
   },
   "outputs": [],
   "source": [
    "my_string[::1]"
   ]
  },
  {
   "cell_type": "code",
   "execution_count": null,
   "metadata": {
    "colab": {
     "base_uri": "https://localhost:8080/",
     "height": 35
    },
    "executionInfo": {
     "elapsed": 437,
     "status": "ok",
     "timestamp": 1723010357215,
     "user": {
      "displayName": "Sohan Hedge",
      "userId": "03545084746990477806"
     },
     "user_tz": -330
    },
    "id": "TvCRKLvv7R4B",
    "outputId": "7f85413d-8b2f-4346-a18b-575c8ad9bc64"
   },
   "outputs": [],
   "source": [
    "my_string[::-1]"
   ]
  },
  {
   "cell_type": "code",
   "execution_count": null,
   "metadata": {
    "colab": {
     "base_uri": "https://localhost:8080/",
     "height": 35
    },
    "executionInfo": {
     "elapsed": 418,
     "status": "ok",
     "timestamp": 1723010364296,
     "user": {
      "displayName": "Sohan Hedge",
      "userId": "03545084746990477806"
     },
     "user_tz": -330
    },
    "id": "G7zRTfhlGMh3",
    "outputId": "fd68256f-8720-46c5-8bd6-2464cc425316"
   },
   "outputs": [],
   "source": [
    "my_string[::2]"
   ]
  },
  {
   "cell_type": "code",
   "execution_count": null,
   "metadata": {
    "colab": {
     "base_uri": "https://localhost:8080/",
     "height": 35
    },
    "executionInfo": {
     "elapsed": 483,
     "status": "ok",
     "timestamp": 1723010473169,
     "user": {
      "displayName": "Sohan Hedge",
      "userId": "03545084746990477806"
     },
     "user_tz": -330
    },
    "id": "Pz7ye_ZOY3j0",
    "outputId": "28a6f6b9-ad7c-4471-be4e-af2838f096d9"
   },
   "outputs": [],
   "source": [
    "my_string[::-2]"
   ]
  },
  {
   "cell_type": "code",
   "execution_count": null,
   "metadata": {
    "id": "0x8Xl_QD7R4B"
   },
   "outputs": [],
   "source": [
    "my_string[1:5:1]"
   ]
  },
  {
   "cell_type": "code",
   "execution_count": null,
   "metadata": {
    "id": "AHx3BR7b7R4B"
   },
   "outputs": [],
   "source": [
    "my_string[-1:-6:-2]"
   ]
  },
  {
   "cell_type": "markdown",
   "metadata": {
    "id": "EmIP7KEV7R4B"
   },
   "source": [
    "### Quiz\n",
    "Extract `'EDCBA'` from the string `'AXBXCXDXE'`"
   ]
  },
  {
   "cell_type": "code",
   "execution_count": null,
   "metadata": {
    "id": "iLLvcOQK7R4B"
   },
   "outputs": [],
   "source": [
    "### YOUR CODE HERE ###"
   ]
  },
  {
   "cell_type": "markdown",
   "metadata": {
    "id": "d4AQq5DyDR2q"
   },
   "source": [
    "## Operations on strings - getting information about strings"
   ]
  },
  {
   "cell_type": "markdown",
   "metadata": {
    "id": "-vWWhcqTdbvs"
   },
   "source": [
    "### Example\n",
    "Obtaining the length of a string"
   ]
  },
  {
   "cell_type": "code",
   "execution_count": null,
   "metadata": {
    "id": "0f8bAcH07R4B"
   },
   "outputs": [],
   "source": [
    "my_string = 'A'"
   ]
  },
  {
   "cell_type": "code",
   "execution_count": null,
   "metadata": {
    "id": "CdmNSewM7R4B"
   },
   "outputs": [],
   "source": [
    "len(my_string)"
   ]
  },
  {
   "cell_type": "code",
   "execution_count": null,
   "metadata": {
    "id": "thy9EEhp7R4B"
   },
   "outputs": [],
   "source": [
    "my_string = 'A B'"
   ]
  },
  {
   "cell_type": "code",
   "execution_count": null,
   "metadata": {
    "id": "7pulKGwI7R4C"
   },
   "outputs": [],
   "source": [
    "len(my_string)"
   ]
  },
  {
   "cell_type": "code",
   "execution_count": null,
   "metadata": {
    "id": "mIrZkV5L7R4C"
   },
   "outputs": [],
   "source": [
    "my_string = 'This string is 34 characters long.'"
   ]
  },
  {
   "cell_type": "code",
   "execution_count": null,
   "metadata": {
    "id": "ZKmXYKlK7R4C"
   },
   "outputs": [],
   "source": [
    "len(my_string)"
   ]
  },
  {
   "cell_type": "markdown",
   "metadata": {
    "id": "YWenVm26FO4z"
   },
   "source": [
    "### Example\n",
    "Using the `in` operator to check whether a substring is present in a string"
   ]
  },
  {
   "cell_type": "code",
   "execution_count": null,
   "metadata": {
    "id": "oqu1ryHvebhy"
   },
   "outputs": [],
   "source": [
    "my_string = 'I find Python programming very interesting!'"
   ]
  },
  {
   "cell_type": "code",
   "execution_count": null,
   "metadata": {
    "id": "VlCCIv4GuEfS"
   },
   "outputs": [],
   "source": [
    "my_string"
   ]
  },
  {
   "cell_type": "code",
   "execution_count": null,
   "metadata": {
    "id": "FBtUO4szb13z"
   },
   "outputs": [],
   "source": [
    "'o' in my_string"
   ]
  },
  {
   "cell_type": "code",
   "execution_count": null,
   "metadata": {
    "id": "p7nKGgCjejH0"
   },
   "outputs": [],
   "source": [
    "'O' not in my_string"
   ]
  },
  {
   "cell_type": "code",
   "execution_count": null,
   "metadata": {
    "id": "hWUCFhvDehOf"
   },
   "outputs": [],
   "source": [
    "'python' in my_string"
   ]
  },
  {
   "cell_type": "code",
   "execution_count": null,
   "metadata": {
    "id": "EWJGH_vd7R4F"
   },
   "outputs": [],
   "source": [
    "'Python' in my_string"
   ]
  },
  {
   "cell_type": "code",
   "execution_count": null,
   "metadata": {
    "id": "PSK_SVy3cX_b"
   },
   "outputs": [],
   "source": [
    "'Python' in my_string and 'g!' in my_string"
   ]
  },
  {
   "cell_type": "code",
   "execution_count": null,
   "metadata": {
    "id": "4lCdmsj37R4F"
   },
   "outputs": [],
   "source": [
    "'Python' in my_string and 'g!g' in my_string"
   ]
  },
  {
   "cell_type": "markdown",
   "metadata": {
    "id": "lwa4rxVuJDUJ"
   },
   "source": [
    "### Example\n",
    "Finding the index of any character in a string can be done with the `.index()` or `.find()` methods. The difference between these methods is that `.find()` returns `-1` if the index is not found, whereas `.index()` throws an exception."
   ]
  },
  {
   "cell_type": "code",
   "execution_count": null,
   "metadata": {
    "id": "CDYHDeiUJM-K"
   },
   "outputs": [],
   "source": [
    "my_string = 'I find Python programming very interesting!'"
   ]
  },
  {
   "cell_type": "code",
   "execution_count": null,
   "metadata": {
    "id": "UXCOdzcx7R4G"
   },
   "outputs": [],
   "source": [
    "my_string"
   ]
  },
  {
   "cell_type": "code",
   "execution_count": null,
   "metadata": {
    "id": "bazpEpInJM7b"
   },
   "outputs": [],
   "source": [
    "my_string.index('I')"
   ]
  },
  {
   "cell_type": "code",
   "execution_count": null,
   "metadata": {
    "id": "Gg2He3Zw7R4G"
   },
   "outputs": [],
   "source": [
    "my_string.index('i')"
   ]
  },
  {
   "cell_type": "code",
   "execution_count": null,
   "metadata": {
    "id": "7t-fOSf_JUOC"
   },
   "outputs": [],
   "source": [
    "my_string.index('I find')"
   ]
  },
  {
   "cell_type": "code",
   "execution_count": null,
   "metadata": {
    "id": "Ylv1DR6v7R4G"
   },
   "outputs": [],
   "source": [
    "# my_string.index('R programming')"
   ]
  },
  {
   "cell_type": "code",
   "execution_count": null,
   "metadata": {
    "id": "2GxqS-RIM2GX"
   },
   "outputs": [],
   "source": [
    "my_string.find('I')"
   ]
  },
  {
   "cell_type": "code",
   "execution_count": null,
   "metadata": {
    "id": "h5R5a_Peibn9"
   },
   "outputs": [],
   "source": [
    "my_string.find('i')"
   ]
  },
  {
   "cell_type": "code",
   "execution_count": null,
   "metadata": {
    "id": "2yLyo6_A7R4H"
   },
   "outputs": [],
   "source": [
    "my_string.find('I find')"
   ]
  },
  {
   "cell_type": "code",
   "execution_count": null,
   "metadata": {
    "id": "JxxEm9D-7R4H"
   },
   "outputs": [],
   "source": [
    "my_string.find('Python')"
   ]
  },
  {
   "cell_type": "code",
   "execution_count": null,
   "metadata": {
    "id": "d-TWOPkDNESb"
   },
   "outputs": [],
   "source": [
    "my_string.find('R programming')"
   ]
  },
  {
   "cell_type": "markdown",
   "metadata": {
    "id": "TiyhvYRvUU3J"
   },
   "source": [
    "### Example\n",
    "Counting occurences in a string"
   ]
  },
  {
   "cell_type": "code",
   "execution_count": null,
   "metadata": {
    "id": "7c2KClM4IiJw"
   },
   "outputs": [],
   "source": [
    "my_string = 'I find Python programming very interesting!'"
   ]
  },
  {
   "cell_type": "code",
   "execution_count": null,
   "metadata": {
    "id": "9PnA6PtI7R4I"
   },
   "outputs": [],
   "source": [
    "my_string"
   ]
  },
  {
   "cell_type": "code",
   "execution_count": null,
   "metadata": {
    "id": "Ar1w-FP1IrMg"
   },
   "outputs": [],
   "source": [
    "my_string.count('A')"
   ]
  },
  {
   "cell_type": "code",
   "execution_count": null,
   "metadata": {
    "id": "iEuQrOqA7R4I"
   },
   "outputs": [],
   "source": [
    "my_string.count(' ')"
   ]
  },
  {
   "cell_type": "code",
   "execution_count": null,
   "metadata": {
    "id": "V-NnacR37R4I"
   },
   "outputs": [],
   "source": [
    "my_string.count('p')"
   ]
  },
  {
   "cell_type": "code",
   "execution_count": null,
   "metadata": {
    "id": "lDRlsXtT7R4I"
   },
   "outputs": [],
   "source": [
    "my_string.count('i')"
   ]
  },
  {
   "cell_type": "code",
   "execution_count": null,
   "metadata": {
    "id": "cULTrWYp7R4I"
   },
   "outputs": [],
   "source": [
    "my_string.count('in')"
   ]
  },
  {
   "cell_type": "markdown",
   "metadata": {
    "id": "2i_o65RX-NHk"
   },
   "source": [
    "### Example\n",
    "\"ASCII\" stands for \"American Standard Code for Information Interchange.\" ASCII assigns numeric values to letters, characters, numbers and other special symbols in order to standardise them across platforms, and allow for a system which can be just as readily understood by humans as by computers.\n",
    "\n",
    "Obtaining ASCII values of string characters and comparing strings lexicographically"
   ]
  },
  {
   "cell_type": "code",
   "execution_count": null,
   "metadata": {
    "id": "HzSqrmEz7R4J"
   },
   "outputs": [],
   "source": [
    "ord('a')"
   ]
  },
  {
   "cell_type": "code",
   "execution_count": null,
   "metadata": {
    "id": "LNpSY-DW7R4M"
   },
   "outputs": [],
   "source": [
    "ord('b')"
   ]
  },
  {
   "cell_type": "code",
   "execution_count": null,
   "metadata": {
    "id": "RlRQ6sg77R4M"
   },
   "outputs": [],
   "source": [
    "ord('z')"
   ]
  },
  {
   "cell_type": "code",
   "execution_count": null,
   "metadata": {
    "id": "UypsamtK7R4M"
   },
   "outputs": [],
   "source": [
    "ord('A')"
   ]
  },
  {
   "cell_type": "code",
   "execution_count": null,
   "metadata": {
    "id": "tcRixuVC7R4N"
   },
   "outputs": [],
   "source": [
    "ord('B')"
   ]
  },
  {
   "cell_type": "code",
   "execution_count": null,
   "metadata": {
    "id": "aAId28hf7R4N"
   },
   "outputs": [],
   "source": [
    "ord('Z')"
   ]
  },
  {
   "cell_type": "code",
   "execution_count": null,
   "metadata": {
    "id": "5T7u_C_k7R4N"
   },
   "outputs": [],
   "source": [
    "ord(' ')"
   ]
  },
  {
   "cell_type": "code",
   "execution_count": null,
   "metadata": {
    "id": "jK9kEJ2Fg5ra"
   },
   "outputs": [],
   "source": [
    "ord('!')"
   ]
  },
  {
   "cell_type": "code",
   "execution_count": null,
   "metadata": {
    "id": "HHZ5Rs6k7R4N"
   },
   "outputs": [],
   "source": [
    "ord('\\'')"
   ]
  },
  {
   "cell_type": "code",
   "execution_count": null,
   "metadata": {
    "id": "DQzdvaVE7R4N"
   },
   "outputs": [],
   "source": [
    "ord('a') > ord('b')"
   ]
  },
  {
   "cell_type": "code",
   "execution_count": null,
   "metadata": {
    "id": "zUlsfJ-i7R4N"
   },
   "outputs": [],
   "source": [
    "'a' < 'b'"
   ]
  },
  {
   "cell_type": "code",
   "execution_count": null,
   "metadata": {
    "id": "G3cvtpoP7R4N"
   },
   "outputs": [],
   "source": [
    "'a' > 'b'"
   ]
  },
  {
   "cell_type": "code",
   "execution_count": null,
   "metadata": {
    "id": "ErqerCMx7R4O"
   },
   "outputs": [],
   "source": [
    "'Python' > 'Matlab'"
   ]
  },
  {
   "cell_type": "code",
   "execution_count": null,
   "metadata": {
    "id": "r0NVRBYH7R4P"
   },
   "outputs": [],
   "source": [
    "'P' > 'M'"
   ]
  },
  {
   "cell_type": "markdown",
   "metadata": {
    "id": "JFpV5vGFF0mV"
   },
   "source": [
    "## Operation on strings - manipulating strings"
   ]
  },
  {
   "cell_type": "markdown",
   "metadata": {
    "id": "kNTgmCAXEDAY"
   },
   "source": [
    "### Example\n",
    "Concatenating strings"
   ]
  },
  {
   "cell_type": "code",
   "execution_count": null,
   "metadata": {
    "id": "kJoylRmBmHhN"
   },
   "outputs": [],
   "source": [
    "first_name = 'Rahul'\n",
    "last_name = 'Dravid'"
   ]
  },
  {
   "cell_type": "code",
   "execution_count": null,
   "metadata": {
    "id": "oiSlkp9_7R4Q"
   },
   "outputs": [],
   "source": [
    "first_name + last_name"
   ]
  },
  {
   "cell_type": "code",
   "execution_count": null,
   "metadata": {
    "id": "vhOj0MbMEKdQ"
   },
   "outputs": [],
   "source": [
    "first_name + ' ' + last_name"
   ]
  },
  {
   "cell_type": "code",
   "execution_count": null,
   "metadata": {
    "id": "3C56PgMCZnAO"
   },
   "outputs": [],
   "source": [
    "middle_name = 'Sharad'"
   ]
  },
  {
   "cell_type": "code",
   "execution_count": null,
   "metadata": {
    "id": "s1lsJyOKZuUy"
   },
   "outputs": [],
   "source": [
    "first_name + ' ' + middle_name + ' ' + last_name"
   ]
  },
  {
   "cell_type": "markdown",
   "metadata": {
    "id": "fS5F5KbbTaUG"
   },
   "source": [
    "### Example\n",
    "Changing the case of a string"
   ]
  },
  {
   "cell_type": "code",
   "execution_count": null,
   "metadata": {
    "id": "H8holHwgTe_5"
   },
   "outputs": [],
   "source": [
    "my_string = 'I find Python programming very interesting!'"
   ]
  },
  {
   "cell_type": "code",
   "execution_count": null,
   "metadata": {
    "id": "ruzCTxvo7R4R"
   },
   "outputs": [],
   "source": [
    "my_string"
   ]
  },
  {
   "cell_type": "code",
   "execution_count": null,
   "metadata": {
    "id": "6i9Xoi-mg0LI"
   },
   "outputs": [],
   "source": [
    "my_string.lower()"
   ]
  },
  {
   "cell_type": "code",
   "execution_count": null,
   "metadata": {
    "id": "gQYn14_ITi6_"
   },
   "outputs": [],
   "source": [
    "my_string.upper()"
   ]
  },
  {
   "cell_type": "code",
   "execution_count": null,
   "metadata": {
    "id": "KJCLqEDU_JBj"
   },
   "outputs": [],
   "source": [
    "my_string.capitalize()"
   ]
  },
  {
   "cell_type": "code",
   "execution_count": null,
   "metadata": {
    "id": "0DOjVhYLhFvJ"
   },
   "outputs": [],
   "source": [
    "my_string.title()"
   ]
  },
  {
   "cell_type": "markdown",
   "metadata": {
    "id": "cW6ZoauIw94s"
   },
   "source": [
    "A lot of these operations do not edit the original object in memory."
   ]
  },
  {
   "cell_type": "code",
   "execution_count": null,
   "metadata": {
    "id": "1iR-ffVomibe"
   },
   "outputs": [],
   "source": [
    "my_string"
   ]
  },
  {
   "cell_type": "code",
   "execution_count": null,
   "metadata": {
    "id": "w79Gx_Vemr7J"
   },
   "outputs": [],
   "source": [
    "my_string = my_string.title()"
   ]
  },
  {
   "cell_type": "code",
   "execution_count": null,
   "metadata": {
    "id": "iI13ky0Lmt5X"
   },
   "outputs": [],
   "source": [
    "my_string"
   ]
  },
  {
   "cell_type": "markdown",
   "metadata": {
    "id": "jkbkky_1TqFA"
   },
   "source": [
    "### Example\n",
    "Removing whitespaces"
   ]
  },
  {
   "cell_type": "code",
   "execution_count": null,
   "metadata": {
    "id": "MqpWhNjrf8t8"
   },
   "outputs": [],
   "source": [
    "my_string = '   Python is fun!   '"
   ]
  },
  {
   "cell_type": "code",
   "execution_count": null,
   "metadata": {
    "id": "oDT2KkfUmRKx"
   },
   "outputs": [],
   "source": [
    "my_string"
   ]
  },
  {
   "cell_type": "code",
   "execution_count": null,
   "metadata": {
    "id": "20Sj8WxOhRhW"
   },
   "outputs": [],
   "source": [
    "my_string.lstrip()"
   ]
  },
  {
   "cell_type": "code",
   "execution_count": null,
   "metadata": {
    "id": "Lc7RRNDkTkvf"
   },
   "outputs": [],
   "source": [
    "my_string.rstrip()"
   ]
  },
  {
   "cell_type": "code",
   "execution_count": null,
   "metadata": {
    "id": "BKMl4ie8gCJX"
   },
   "outputs": [],
   "source": [
    "my_string.strip()"
   ]
  },
  {
   "cell_type": "code",
   "execution_count": null,
   "metadata": {
    "id": "qJuTiX4V7R4T"
   },
   "outputs": [],
   "source": [
    "my_string"
   ]
  },
  {
   "cell_type": "code",
   "execution_count": null,
   "metadata": {
    "id": "Ac0PAMTC7R4T"
   },
   "outputs": [],
   "source": [
    "my_string = my_string.strip()"
   ]
  },
  {
   "cell_type": "code",
   "execution_count": null,
   "metadata": {
    "id": "cBPuzVkt7R4T"
   },
   "outputs": [],
   "source": [
    "my_string"
   ]
  },
  {
   "cell_type": "markdown",
   "metadata": {
    "id": "STPtUih1T56b"
   },
   "source": [
    "### Example\n",
    "Replacing substrings"
   ]
  },
  {
   "cell_type": "code",
   "execution_count": null,
   "metadata": {
    "id": "pnyaOFCjT1_o"
   },
   "outputs": [],
   "source": [
    "my_string = 'I find Python programming very interesting!'"
   ]
  },
  {
   "cell_type": "code",
   "execution_count": null,
   "metadata": {
    "id": "9XjVJX2k7R4T"
   },
   "outputs": [],
   "source": [
    "my_string"
   ]
  },
  {
   "cell_type": "code",
   "execution_count": null,
   "metadata": {
    "id": "xoSs39AcjoEf"
   },
   "outputs": [],
   "source": [
    "my_string.replace('I', 'We')"
   ]
  },
  {
   "cell_type": "code",
   "execution_count": null,
   "metadata": {
    "id": "EMdZUU3W7R4T"
   },
   "outputs": [],
   "source": [
    "my_string"
   ]
  },
  {
   "cell_type": "code",
   "execution_count": null,
   "metadata": {
    "id": "IrsvboTi7R4U"
   },
   "outputs": [],
   "source": [
    "my_string = my_string.replace('I', 'We')"
   ]
  },
  {
   "cell_type": "code",
   "execution_count": null,
   "metadata": {
    "id": "dLSWe_ImkB0y"
   },
   "outputs": [],
   "source": [
    "my_string"
   ]
  },
  {
   "cell_type": "markdown",
   "metadata": {
    "id": "QTiqiKud2Lwb"
   },
   "source": [
    "### Quiz\n",
    " Find the length of the string `'Python programming is fun!'` and count the occurrences of `'n'` in the string."
   ]
  },
  {
   "cell_type": "code",
   "execution_count": null,
   "metadata": {
    "id": "ziQV2RAi2Lwc"
   },
   "outputs": [],
   "source": [
    "### YOUR CODE HERE ###"
   ]
  },
  {
   "cell_type": "code",
   "execution_count": null,
   "metadata": {
    "id": "OqS5Yh_P1R6M"
   },
   "outputs": [],
   "source": [
    "### YOUR CODE HERE ###"
   ]
  },
  {
   "cell_type": "markdown",
   "metadata": {
    "id": "WEwhRp3T-9rY"
   },
   "source": [
    "# Lists\n",
    "A list is a built-in Python data structure which is used to store a collection of items. The items stored can be of any type, and more than one type can be used in a list. Lists are ordered, and the elements within a list can be accessed by indexing. Lists are mutable or can be changed."
   ]
  },
  {
   "cell_type": "markdown",
   "metadata": {
    "id": "ey6ycfpfAigb"
   },
   "source": [
    "## Creating lists"
   ]
  },
  {
   "cell_type": "markdown",
   "metadata": {
    "id": "T1ldMtOfBKbH"
   },
   "source": [
    "### Example\n",
    "Creating an empty list"
   ]
  },
  {
   "cell_type": "code",
   "execution_count": null,
   "metadata": {
    "id": "e4MLw3F4-4m9"
   },
   "outputs": [],
   "source": [
    "my_list = []"
   ]
  },
  {
   "cell_type": "code",
   "execution_count": null,
   "metadata": {
    "id": "FhwQzH0BuPa5"
   },
   "outputs": [],
   "source": [
    "my_list"
   ]
  },
  {
   "cell_type": "code",
   "execution_count": null,
   "metadata": {
    "id": "8RBh0Bh-AfHT"
   },
   "outputs": [],
   "source": [
    "print(my_list)"
   ]
  },
  {
   "cell_type": "markdown",
   "metadata": {
    "id": "HhMKfP67Bdgv"
   },
   "source": [
    "### Example\n",
    "Creating lists with elements"
   ]
  },
  {
   "cell_type": "code",
   "execution_count": null,
   "metadata": {
    "id": "EMm4LS3QBjpW"
   },
   "outputs": [],
   "source": [
    "my_list = [1, 2, 3, 4, 5]"
   ]
  },
  {
   "cell_type": "code",
   "execution_count": null,
   "metadata": {
    "id": "LfaTBTiLuQ_2"
   },
   "outputs": [],
   "source": [
    "my_list"
   ]
  },
  {
   "cell_type": "code",
   "execution_count": null,
   "metadata": {
    "id": "IdKS_MMcBttB"
   },
   "outputs": [],
   "source": [
    "print(my_list)"
   ]
  },
  {
   "cell_type": "markdown",
   "metadata": {
    "id": "87m_t6DbiOkJ"
   },
   "source": [
    "### Example\n",
    "Creating lists using the `list()` function"
   ]
  },
  {
   "cell_type": "code",
   "execution_count": null,
   "metadata": {
    "id": "h8h2JV0biiFy"
   },
   "outputs": [],
   "source": [
    "my_list = list()"
   ]
  },
  {
   "cell_type": "code",
   "execution_count": null,
   "metadata": {
    "id": "PylYntw6uSUU"
   },
   "outputs": [],
   "source": [
    "my_list"
   ]
  },
  {
   "cell_type": "code",
   "execution_count": null,
   "metadata": {
    "id": "aVV44vWhpiIn"
   },
   "outputs": [],
   "source": [
    "string = 'Hello'"
   ]
  },
  {
   "cell_type": "code",
   "execution_count": null,
   "metadata": {
    "id": "wZ9diuGOpwVk"
   },
   "outputs": [],
   "source": [
    "type(string)"
   ]
  },
  {
   "cell_type": "code",
   "execution_count": null,
   "metadata": {
    "id": "e7zTotrypyf3"
   },
   "outputs": [],
   "source": [
    "my_list = list(string)"
   ]
  },
  {
   "cell_type": "code",
   "execution_count": null,
   "metadata": {
    "id": "DmFU7-mCp2i9"
   },
   "outputs": [],
   "source": [
    "my_list"
   ]
  },
  {
   "cell_type": "code",
   "execution_count": null,
   "metadata": {
    "id": "FZWvYvP3p5F3"
   },
   "outputs": [],
   "source": [
    "type(my_list)"
   ]
  },
  {
   "cell_type": "markdown",
   "metadata": {
    "id": "zrLdFuCVs6g1"
   },
   "source": [
    "### Example\n",
    "Creating nested lists\n"
   ]
  },
  {
   "cell_type": "code",
   "execution_count": null,
   "metadata": {
    "id": "zDdzp-pitCt_"
   },
   "outputs": [],
   "source": [
    "nested_list = [[1, 2], [3, 4], [5, 6, 7]]"
   ]
  },
  {
   "cell_type": "code",
   "execution_count": null,
   "metadata": {
    "id": "fIaRlzvouTxF"
   },
   "outputs": [],
   "source": [
    "nested_list"
   ]
  },
  {
   "cell_type": "code",
   "execution_count": null,
   "metadata": {
    "id": "q4AhxZ0ptpkf"
   },
   "outputs": [],
   "source": [
    "nested_list[0]"
   ]
  },
  {
   "cell_type": "code",
   "execution_count": null,
   "metadata": {
    "id": "TqprX1gVtuQW"
   },
   "outputs": [],
   "source": [
    "type(nested_list[0])"
   ]
  },
  {
   "cell_type": "markdown",
   "metadata": {
    "id": "4_fnLWRorHRV"
   },
   "source": [
    "### Example\n",
    "Lists can also be created with different data types"
   ]
  },
  {
   "cell_type": "code",
   "execution_count": null,
   "metadata": {
    "id": "0BiUbVEfr6QG"
   },
   "outputs": [],
   "source": [
    "mixed_list = [1, 'hello', 3.14, True, [5, 6]]"
   ]
  },
  {
   "cell_type": "code",
   "execution_count": null,
   "metadata": {
    "id": "Qw946vPeuVdi"
   },
   "outputs": [],
   "source": [
    "mixed_list"
   ]
  },
  {
   "cell_type": "code",
   "execution_count": null,
   "metadata": {
    "id": "74QoQTWlsA68"
   },
   "outputs": [],
   "source": [
    "type(mixed_list)"
   ]
  },
  {
   "cell_type": "code",
   "execution_count": null,
   "metadata": {
    "id": "j0il-kLxsDch"
   },
   "outputs": [],
   "source": [
    "type(mixed_list[0])"
   ]
  },
  {
   "cell_type": "code",
   "execution_count": null,
   "metadata": {
    "id": "VhMi2IllsIsB"
   },
   "outputs": [],
   "source": [
    "type(mixed_list[1])"
   ]
  },
  {
   "cell_type": "code",
   "execution_count": null,
   "metadata": {
    "id": "J2gu24KYsNjo"
   },
   "outputs": [],
   "source": [
    "type(mixed_list[2])"
   ]
  },
  {
   "cell_type": "code",
   "execution_count": null,
   "metadata": {
    "id": "5rTbhTC9sRDx"
   },
   "outputs": [],
   "source": [
    "type(mixed_list[3])"
   ]
  },
  {
   "cell_type": "code",
   "execution_count": null,
   "metadata": {
    "id": "fuIrck4isTFF"
   },
   "outputs": [],
   "source": [
    "type(mixed_list[4])"
   ]
  },
  {
   "cell_type": "markdown",
   "metadata": {
    "id": "vzUqSJ14JlCD"
   },
   "source": [
    "## Indexing and slicing lists"
   ]
  },
  {
   "cell_type": "markdown",
   "metadata": {
    "id": "pHTJAARAD5bU"
   },
   "source": [
    "### Example\n",
    "Indexing a specific element from a list"
   ]
  },
  {
   "cell_type": "code",
   "execution_count": null,
   "metadata": {
    "executionInfo": {
     "elapsed": 604,
     "status": "ok",
     "timestamp": 1723014893934,
     "user": {
      "displayName": "Sohan Hedge",
      "userId": "03545084746990477806"
     },
     "user_tz": -330
    },
    "id": "KBvVGlilEJLa"
   },
   "outputs": [],
   "source": [
    "my_list = [1, 2, 3, 4, 5]"
   ]
  },
  {
   "cell_type": "code",
   "execution_count": null,
   "metadata": {
    "colab": {
     "base_uri": "https://localhost:8080/"
    },
    "executionInfo": {
     "elapsed": 367,
     "status": "ok",
     "timestamp": 1723014901801,
     "user": {
      "displayName": "Sohan Hedge",
      "userId": "03545084746990477806"
     },
     "user_tz": -330
    },
    "id": "b5a_9EIsuXAU",
    "outputId": "0da941f5-b267-45f8-9fd5-050094b974e8"
   },
   "outputs": [],
   "source": [
    "my_list"
   ]
  },
  {
   "cell_type": "code",
   "execution_count": null,
   "metadata": {
    "colab": {
     "base_uri": "https://localhost:8080/"
    },
    "executionInfo": {
     "elapsed": 612,
     "status": "ok",
     "timestamp": 1723014904730,
     "user": {
      "displayName": "Sohan Hedge",
      "userId": "03545084746990477806"
     },
     "user_tz": -330
    },
    "id": "VB08icK1EMw6",
    "outputId": "e1c7a1a5-2392-4b17-9b81-349146134020"
   },
   "outputs": [],
   "source": [
    "my_list[2]"
   ]
  },
  {
   "cell_type": "markdown",
   "metadata": {
    "id": "ZsIu9gadMpcG"
   },
   "source": [
    "### Example\n",
    "Slicing elements from a list"
   ]
  },
  {
   "cell_type": "code",
   "execution_count": null,
   "metadata": {
    "id": "yLiP3NUkMs-L"
   },
   "outputs": [],
   "source": [
    "my_list"
   ]
  },
  {
   "cell_type": "code",
   "execution_count": null,
   "metadata": {
    "id": "iGO2QClhMvmN"
   },
   "outputs": [],
   "source": [
    "my_list[0:2]"
   ]
  },
  {
   "cell_type": "code",
   "execution_count": null,
   "metadata": {
    "id": "35_RUC8bM1a1"
   },
   "outputs": [],
   "source": [
    "my_list[0:1]"
   ]
  },
  {
   "cell_type": "code",
   "execution_count": null,
   "metadata": {
    "id": "YFDYifquM53R"
   },
   "outputs": [],
   "source": [
    "my_list[1:4]"
   ]
  },
  {
   "cell_type": "code",
   "execution_count": null,
   "metadata": {
    "id": "ig6HIU9LRTWf"
   },
   "outputs": [],
   "source": [
    "my_list[2:]"
   ]
  },
  {
   "cell_type": "code",
   "execution_count": null,
   "metadata": {
    "id": "r1EtONQuRUcY"
   },
   "outputs": [],
   "source": [
    "my_list[:3]"
   ]
  },
  {
   "cell_type": "markdown",
   "metadata": {
    "id": "_ocmSIzS89WO"
   },
   "source": [
    "### Example\n",
    "Accessing elements inside a nested list"
   ]
  },
  {
   "cell_type": "code",
   "execution_count": null,
   "metadata": {
    "id": "DdA8IERL9DLa"
   },
   "outputs": [],
   "source": [
    "my_list = [[1, 2, 3], ['apple', 'banana', 'orange'], 3.14, ['dog', 'cat', 'bird']]"
   ]
  },
  {
   "cell_type": "code",
   "execution_count": null,
   "metadata": {
    "id": "0GojP9Ff9Nbq"
   },
   "outputs": [],
   "source": [
    "my_list"
   ]
  },
  {
   "cell_type": "code",
   "execution_count": null,
   "metadata": {
    "id": "_j1_1K6K9t8G"
   },
   "outputs": [],
   "source": [
    "# Accessing 'dog'\n",
    "my_list[3][0]"
   ]
  },
  {
   "cell_type": "markdown",
   "metadata": {
    "id": "xbXH6E03Mv10"
   },
   "source": [
    "### Quiz\n",
    "Print `45` from the following list: `[1, -1, 0, [[50, 34], [45]], 23]`."
   ]
  },
  {
   "cell_type": "code",
   "execution_count": null,
   "metadata": {
    "id": "ouPb-KQ6M7J1"
   },
   "outputs": [],
   "source": [
    "some_list = [1, -1, 0, [[50, 34], [45]], 23]\n",
    "some_list[3][1][0]"
   ]
  },
  {
   "cell_type": "markdown",
   "metadata": {
    "id": "6CmZqjg4Mja7"
   },
   "source": [
    "## Operations on lists - getting information about lists"
   ]
  },
  {
   "cell_type": "markdown",
   "metadata": {
    "id": "ypqd8vUpwWt6"
   },
   "source": [
    "The following examples use `my_list` defined below for every operation:"
   ]
  },
  {
   "cell_type": "code",
   "execution_count": null,
   "metadata": {
    "id": "Krx1FqTfaAmL"
   },
   "outputs": [],
   "source": [
    "my_list = [1.0, 4.0, 2.0, 3.0, 5.0, 6.0, 3.0, 4.0, 5.0, 7.0, 5.0, 6.0, 7.0, 3.0, 5.0, 6.0, 7.0]\n",
    "my_list"
   ]
  },
  {
   "cell_type": "markdown",
   "metadata": {
    "id": "smDUDelBZ8cs"
   },
   "source": [
    "### Example\n",
    "Finding the length of a list"
   ]
  },
  {
   "cell_type": "code",
   "execution_count": null,
   "metadata": {
    "id": "zQfJEVOOaFNJ"
   },
   "outputs": [],
   "source": [
    "len(my_list)"
   ]
  },
  {
   "cell_type": "markdown",
   "metadata": {
    "id": "0xBJ7dlvJ9iF"
   },
   "source": [
    "### Example\n",
    "Finding the largest and smallest elements in a list"
   ]
  },
  {
   "cell_type": "code",
   "execution_count": null,
   "metadata": {
    "id": "C1XCPQGqKcrY"
   },
   "outputs": [],
   "source": [
    "max_ele = max(my_list)"
   ]
  },
  {
   "cell_type": "code",
   "execution_count": null,
   "metadata": {
    "id": "N6PsLHb9Knep"
   },
   "outputs": [],
   "source": [
    "max_ele"
   ]
  },
  {
   "cell_type": "code",
   "execution_count": null,
   "metadata": {
    "id": "eKkdAFjcK1nf"
   },
   "outputs": [],
   "source": [
    "min_ele = min(my_list)"
   ]
  },
  {
   "cell_type": "code",
   "execution_count": null,
   "metadata": {
    "id": "oUF06OBQK5lJ"
   },
   "outputs": [],
   "source": [
    "min_ele"
   ]
  },
  {
   "cell_type": "markdown",
   "metadata": {
    "id": "Bw_u6x5hN_eL"
   },
   "source": [
    "### Example\n",
    "Finding the index of elements in a list"
   ]
  },
  {
   "cell_type": "code",
   "execution_count": null,
   "metadata": {
    "id": "vI6BCYVoOEPp"
   },
   "outputs": [],
   "source": [
    "my_list.index(5.0)"
   ]
  },
  {
   "cell_type": "code",
   "execution_count": null,
   "metadata": {
    "id": "I1LyjQ0Hxfp8"
   },
   "outputs": [],
   "source": [
    "my_list[my_list.index(5.0)]"
   ]
  },
  {
   "cell_type": "code",
   "execution_count": null,
   "metadata": {
    "id": "mC5GB_K4NkV0"
   },
   "outputs": [],
   "source": [
    "my_list.index(max_ele)"
   ]
  },
  {
   "cell_type": "code",
   "execution_count": null,
   "metadata": {
    "id": "mdOP7jSeN50y"
   },
   "outputs": [],
   "source": [
    "my_list.index(min_ele)"
   ]
  },
  {
   "cell_type": "markdown",
   "metadata": {
    "id": "HGp9XAJCS38s"
   },
   "source": [
    "### Example\n",
    "Finding the frequency of an element in a list"
   ]
  },
  {
   "cell_type": "code",
   "execution_count": null,
   "metadata": {
    "id": "Cp5-HUwxTBRe"
   },
   "outputs": [],
   "source": [
    "my_list.count(5.0)"
   ]
  },
  {
   "cell_type": "markdown",
   "metadata": {
    "id": "rUiH0v5qH2oM"
   },
   "source": [
    "### Example\n",
    "Finding the sum of all elements in a list"
   ]
  },
  {
   "cell_type": "code",
   "execution_count": null,
   "metadata": {
    "id": "_wnq2nkhG0nX"
   },
   "outputs": [],
   "source": [
    "sum(my_list)"
   ]
  },
  {
   "cell_type": "markdown",
   "metadata": {
    "id": "4dxcXRdWeuhC"
   },
   "source": [
    "### Example\n",
    "Checking whether an element is present in a list"
   ]
  },
  {
   "cell_type": "code",
   "execution_count": null,
   "metadata": {
    "id": "ec0ZZPjwe1R3"
   },
   "outputs": [],
   "source": [
    "1.0 in my_list"
   ]
  },
  {
   "cell_type": "code",
   "execution_count": null,
   "metadata": {
    "id": "INsW-tI2e3GA"
   },
   "outputs": [],
   "source": [
    "1 in my_list"
   ]
  },
  {
   "cell_type": "code",
   "execution_count": null,
   "metadata": {
    "id": "ezbKw0Ype9XR"
   },
   "outputs": [],
   "source": [
    "1.0 in my_list and 5.0 in my_list"
   ]
  },
  {
   "cell_type": "markdown",
   "metadata": {
    "id": "MdhlUqXrPFWN"
   },
   "source": [
    "### Quiz\n",
    "Find the mean of the numbers in the list `[3, 8.5, 2, 11, 6.7, 9, 4.2, 7, 10, 5.5]`.\n",
    "\n",
    "**Hint:** The mean can be calculated by adding all elements in the list and dividing by the length of the list."
   ]
  },
  {
   "cell_type": "code",
   "execution_count": null,
   "metadata": {
    "id": "U2836rX8Pf-i"
   },
   "outputs": [],
   "source": [
    "### YOUR CODE HERE ###"
   ]
  },
  {
   "cell_type": "markdown",
   "metadata": {
    "id": "3zA_GPiO-il-"
   },
   "source": [
    "## Operations on lists - manipulating lists"
   ]
  },
  {
   "cell_type": "markdown",
   "metadata": {
    "id": "8RLLLQbRyLbs"
   },
   "source": [
    "The following examples use `my_list` defined below for every operation."
   ]
  },
  {
   "cell_type": "code",
   "execution_count": null,
   "metadata": {
    "id": "BeMIEdl0yBQE"
   },
   "outputs": [],
   "source": [
    "my_list = [\"apple\", \"banana\", \"orange\", \"grape\", \"kiwi\"]\n",
    "my_list"
   ]
  },
  {
   "cell_type": "markdown",
   "metadata": {
    "id": "soCIH2m8CD9k"
   },
   "source": [
    "### Example\n",
    "Adding elements to a list"
   ]
  },
  {
   "cell_type": "code",
   "execution_count": null,
   "metadata": {
    "id": "JvV9sJVeDEAW"
   },
   "outputs": [],
   "source": [
    "my_list.append('avocado')"
   ]
  },
  {
   "cell_type": "code",
   "execution_count": null,
   "metadata": {
    "id": "EJbKrfuZDQrq"
   },
   "outputs": [],
   "source": [
    "my_list"
   ]
  },
  {
   "cell_type": "markdown",
   "metadata": {
    "id": "ejn95daUDeQ7"
   },
   "source": [
    "### Example\n",
    "Deleting last element from a list"
   ]
  },
  {
   "cell_type": "code",
   "execution_count": null,
   "metadata": {
    "id": "UCKSFX1yDl1T"
   },
   "outputs": [],
   "source": [
    "my_list.pop()"
   ]
  },
  {
   "cell_type": "markdown",
   "metadata": {
    "id": "eIuoTX3uzM3m"
   },
   "source": [
    "The `pop` method doesn't just delete the last element from a list, but also extracts it."
   ]
  },
  {
   "cell_type": "code",
   "execution_count": null,
   "metadata": {
    "id": "q55Hs2RrDyI7"
   },
   "outputs": [],
   "source": [
    "my_list"
   ]
  },
  {
   "cell_type": "markdown",
   "metadata": {
    "id": "uW52tgpSGZ0P"
   },
   "source": [
    "### Example\n",
    "Deleting an element at specific position"
   ]
  },
  {
   "cell_type": "code",
   "execution_count": null,
   "metadata": {
    "id": "LaVv5S0wG0go"
   },
   "outputs": [],
   "source": [
    "del my_list[3]"
   ]
  },
  {
   "cell_type": "code",
   "execution_count": null,
   "metadata": {
    "id": "mT2Z0ePZG-On"
   },
   "outputs": [],
   "source": [
    "my_list"
   ]
  },
  {
   "cell_type": "markdown",
   "metadata": {
    "id": "StHJn9SdQybO"
   },
   "source": [
    "### Example\n",
    "Removing a specific element from a list"
   ]
  },
  {
   "cell_type": "code",
   "execution_count": null,
   "metadata": {
    "id": "uL_4LQTfQ4sB"
   },
   "outputs": [],
   "source": [
    "my_list.remove('banana')"
   ]
  },
  {
   "cell_type": "code",
   "execution_count": null,
   "metadata": {
    "id": "DKfSVmQPQ-E6"
   },
   "outputs": [],
   "source": [
    "my_list"
   ]
  },
  {
   "cell_type": "markdown",
   "metadata": {
    "id": "VIu1MoQpRcG9"
   },
   "source": [
    "Note how the above operations act in-place, that is, they do not require reassignment to a variable to modify the original lists."
   ]
  },
  {
   "cell_type": "markdown",
   "metadata": {
    "id": "xadm8KYVOPN0"
   },
   "source": [
    "### Example\n",
    "Sorting a list"
   ]
  },
  {
   "cell_type": "code",
   "execution_count": null,
   "metadata": {
    "id": "s5uEzdm0ORv1"
   },
   "outputs": [],
   "source": [
    "my_list"
   ]
  },
  {
   "cell_type": "code",
   "execution_count": null,
   "metadata": {
    "id": "msQlgkpROSzU"
   },
   "outputs": [],
   "source": [
    "ascending_list = sorted(my_list)"
   ]
  },
  {
   "cell_type": "code",
   "execution_count": null,
   "metadata": {
    "id": "-iVVuVdpOV29"
   },
   "outputs": [],
   "source": [
    "ascending_list"
   ]
  },
  {
   "cell_type": "code",
   "execution_count": null,
   "metadata": {
    "id": "_zIE3wm0OXFZ"
   },
   "outputs": [],
   "source": [
    "descending_list = sorted(my_list, reverse = True)"
   ]
  },
  {
   "cell_type": "code",
   "execution_count": null,
   "metadata": {
    "id": "ihvdyshuOaou"
   },
   "outputs": [],
   "source": [
    "descending_list"
   ]
  },
  {
   "cell_type": "markdown",
   "metadata": {
    "id": "XSPlsXLIRl6X"
   },
   "source": [
    "### Quiz\n",
    "Find the second smallest element in the list `[10, 20, 5, 30, 40, 15]`."
   ]
  },
  {
   "cell_type": "code",
   "execution_count": null,
   "metadata": {
    "id": "EYXttX5dR3Wg"
   },
   "outputs": [],
   "source": [
    "### YOUR CODE HERE ###\n",
    "a = [10, 20, 5, 30, 40, 15]"
   ]
  },
  {
   "cell_type": "code",
   "execution_count": null,
   "metadata": {},
   "outputs": [],
   "source": [
    "min(a), max(a), sum(a)/len(a)"
   ]
  },
  {
   "cell_type": "markdown",
   "metadata": {
    "id": "DHAvauRnRHRj"
   },
   "source": [
    "### Example\n",
    "Reversing a list"
   ]
  },
  {
   "cell_type": "code",
   "execution_count": null,
   "metadata": {
    "id": "L1_eDXlyRK7j"
   },
   "outputs": [],
   "source": [
    "my_list"
   ]
  },
  {
   "cell_type": "code",
   "execution_count": null,
   "metadata": {
    "colab": {
     "base_uri": "https://localhost:8080/"
    },
    "executionInfo": {
     "elapsed": 627,
     "status": "ok",
     "timestamp": 1723015386658,
     "user": {
      "displayName": "Sohan Hedge",
      "userId": "03545084746990477806"
     },
     "user_tz": -330
    },
    "id": "-1Gu7svGRKo3",
    "outputId": "e301232a-396b-441c-92fa-9a88492a939b"
   },
   "outputs": [],
   "source": [
    "my_list[::-1]"
   ]
  },
  {
   "cell_type": "markdown",
   "metadata": {
    "id": "eaToMpjZaQCk"
   },
   "source": [
    "### Example\n",
    "Repeating a list"
   ]
  },
  {
   "cell_type": "code",
   "execution_count": null,
   "metadata": {
    "id": "T6Eoeix5aT-d"
   },
   "outputs": [],
   "source": [
    "my_list"
   ]
  },
  {
   "cell_type": "code",
   "execution_count": null,
   "metadata": {
    "id": "0HcbHHa0aUpB"
   },
   "outputs": [],
   "source": [
    "my_new_list = my_list * 5"
   ]
  },
  {
   "cell_type": "code",
   "execution_count": null,
   "metadata": {
    "id": "WqGezkEKaXEw"
   },
   "outputs": [],
   "source": [
    "my_new_list"
   ]
  },
  {
   "cell_type": "markdown",
   "metadata": {
    "id": "iiytoGKdC1tU"
   },
   "source": [
    "### Example\n",
    "Extending lists"
   ]
  },
  {
   "cell_type": "code",
   "execution_count": null,
   "metadata": {
    "colab": {
     "base_uri": "https://localhost:8080/"
    },
    "executionInfo": {
     "elapsed": 704,
     "status": "ok",
     "timestamp": 1723012168244,
     "user": {
      "displayName": "Sohan Hedge",
      "userId": "03545084746990477806"
     },
     "user_tz": -330
    },
    "id": "jtYwx_7xDK-M",
    "outputId": "71082c2a-0c04-478a-b4d6-538c1f730b26"
   },
   "outputs": [],
   "source": [
    "my_list"
   ]
  },
  {
   "cell_type": "code",
   "execution_count": null,
   "metadata": {
    "executionInfo": {
     "elapsed": 683,
     "status": "ok",
     "timestamp": 1723012173667,
     "user": {
      "displayName": "Sohan Hedge",
      "userId": "03545084746990477806"
     },
     "user_tz": -330
    },
    "id": "2KgpaszMDPGJ"
   },
   "outputs": [],
   "source": [
    "my_other_list = ['guava', 'pineapple', 'plum', 'pear']"
   ]
  },
  {
   "cell_type": "code",
   "execution_count": null,
   "metadata": {
    "executionInfo": {
     "elapsed": 2,
     "status": "ok",
     "timestamp": 1723012175124,
     "user": {
      "displayName": "Sohan Hedge",
      "userId": "03545084746990477806"
     },
     "user_tz": -330
    },
    "id": "av5gOwVMDSHm"
   },
   "outputs": [],
   "source": [
    "extended_list = my_list + my_other_list"
   ]
  },
  {
   "cell_type": "code",
   "execution_count": null,
   "metadata": {
    "colab": {
     "base_uri": "https://localhost:8080/"
    },
    "executionInfo": {
     "elapsed": 561,
     "status": "ok",
     "timestamp": 1723012178048,
     "user": {
      "displayName": "Sohan Hedge",
      "userId": "03545084746990477806"
     },
     "user_tz": -330
    },
    "id": "1v4XT5eUDfks",
    "outputId": "0be1d2e8-200d-4cab-84bf-e3439688d9d7"
   },
   "outputs": [],
   "source": [
    "extended_list"
   ]
  },
  {
   "cell_type": "code",
   "execution_count": null,
   "metadata": {
    "id": "AR_lGvFj2iwJ"
   },
   "outputs": [],
   "source": [
    "my_list"
   ]
  },
  {
   "cell_type": "code",
   "execution_count": null,
   "metadata": {
    "id": "zLHqybkJD55y"
   },
   "outputs": [],
   "source": [
    "new_list = my_list.extend(my_other_list)"
   ]
  },
  {
   "cell_type": "code",
   "execution_count": null,
   "metadata": {
    "id": "l-74F946D-nM"
   },
   "outputs": [],
   "source": [
    "print(new_list)"
   ]
  },
  {
   "cell_type": "code",
   "execution_count": null,
   "metadata": {
    "id": "lf5cqBz-FI3L"
   },
   "outputs": [],
   "source": [
    "my_list"
   ]
  },
  {
   "cell_type": "markdown",
   "metadata": {
    "id": "LxdbxVcqE1Ul"
   },
   "source": [
    "Note that the `.extend()` method, like `.append()` and `.pop()`, works in-place, that is, it does not create a new list. Instead it modifies the list upon which it was called."
   ]
  },
  {
   "cell_type": "markdown",
   "metadata": {
    "id": "DUj_mVkWa0OM"
   },
   "source": [
    "### Example\n",
    "Splitting strings into lists of substrings and joining them back together"
   ]
  },
  {
   "cell_type": "code",
   "execution_count": null,
   "metadata": {
    "executionInfo": {
     "elapsed": 409,
     "status": "ok",
     "timestamp": 1723015406122,
     "user": {
      "displayName": "Sohan Hedge",
      "userId": "03545084746990477806"
     },
     "user_tz": -330
    },
    "id": "ZEGrejJRks-3"
   },
   "outputs": [],
   "source": [
    "my_string = 'I find Python programming very interesting!'"
   ]
  },
  {
   "cell_type": "code",
   "execution_count": null,
   "metadata": {
    "id": "KG3lnrtz7R4U"
   },
   "outputs": [],
   "source": [
    "my_string"
   ]
  },
  {
   "cell_type": "code",
   "execution_count": null,
   "metadata": {
    "id": "QSFSePq07R4U"
   },
   "outputs": [],
   "source": [
    "my_string.split()"
   ]
  },
  {
   "cell_type": "code",
   "execution_count": null,
   "metadata": {
    "id": "pq160DtI7R4U"
   },
   "outputs": [],
   "source": [
    "my_string"
   ]
  },
  {
   "cell_type": "code",
   "execution_count": null,
   "metadata": {
    "colab": {
     "base_uri": "https://localhost:8080/"
    },
    "executionInfo": {
     "elapsed": 392,
     "status": "ok",
     "timestamp": 1723015409634,
     "user": {
      "displayName": "Sohan Hedge",
      "userId": "03545084746990477806"
     },
     "user_tz": -330
    },
    "id": "tn33y71h7R4V",
    "outputId": "3f97b839-e9ae-43da-c2e4-f6a475e26d35"
   },
   "outputs": [],
   "source": [
    "my_string.split(' ')"
   ]
  },
  {
   "cell_type": "code",
   "execution_count": null,
   "metadata": {
    "id": "dIIxtqir7R4V"
   },
   "outputs": [],
   "source": [
    "my_string"
   ]
  },
  {
   "cell_type": "markdown",
   "metadata": {
    "id": "Qraivkb5POBS"
   },
   "source": [
    "Note how `my_string` hasn't changed in spite of applying the `.split()` method on it. One would have to reassign the output to a variable for the changes to stick."
   ]
  },
  {
   "cell_type": "code",
   "execution_count": null,
   "metadata": {
    "executionInfo": {
     "elapsed": 650,
     "status": "ok",
     "timestamp": 1723012184749,
     "user": {
      "displayName": "Sohan Hedge",
      "userId": "03545084746990477806"
     },
     "user_tz": -330
    },
    "id": "8aYB1E5PkwZr"
   },
   "outputs": [],
   "source": [
    "my_string_list = my_string.split(' ')"
   ]
  },
  {
   "cell_type": "code",
   "execution_count": null,
   "metadata": {
    "colab": {
     "base_uri": "https://localhost:8080/"
    },
    "executionInfo": {
     "elapsed": 427,
     "status": "ok",
     "timestamp": 1723012200363,
     "user": {
      "displayName": "Sohan Hedge",
      "userId": "03545084746990477806"
     },
     "user_tz": -330
    },
    "id": "rkiZ--pBlULR",
    "outputId": "f051b767-018d-426c-ba47-6e1e5d044949"
   },
   "outputs": [],
   "source": [
    "my_string_list"
   ]
  },
  {
   "cell_type": "code",
   "execution_count": null,
   "metadata": {
    "colab": {
     "base_uri": "https://localhost:8080/"
    },
    "executionInfo": {
     "elapsed": 584,
     "status": "ok",
     "timestamp": 1723012189831,
     "user": {
      "displayName": "Sohan Hedge",
      "userId": "03545084746990477806"
     },
     "user_tz": -330
    },
    "id": "GP83cp0Ilmr_",
    "outputId": "c5ccc023-8117-45a0-f3ad-21e37b85dd0c"
   },
   "outputs": [],
   "source": [
    "type(my_string_list)"
   ]
  },
  {
   "cell_type": "code",
   "execution_count": null,
   "metadata": {
    "id": "zNfOicG37R4V"
   },
   "outputs": [],
   "source": [
    "my_string"
   ]
  },
  {
   "cell_type": "code",
   "execution_count": null,
   "metadata": {
    "id": "dFZqyOlPk3fD"
   },
   "outputs": [],
   "source": [
    "my_string.split('i')"
   ]
  },
  {
   "cell_type": "code",
   "execution_count": null,
   "metadata": {
    "id": "IqeylQGfU4WU"
   },
   "outputs": [],
   "source": [
    "my_string_list"
   ]
  },
  {
   "cell_type": "code",
   "execution_count": null,
   "metadata": {
    "id": "e2DzjoCNlfrd"
   },
   "outputs": [],
   "source": [
    "''.join(my_string_list)"
   ]
  },
  {
   "cell_type": "code",
   "execution_count": null,
   "metadata": {
    "id": "rrFScc497R4V"
   },
   "outputs": [],
   "source": [
    "'#'.join(my_string_list)"
   ]
  },
  {
   "cell_type": "code",
   "execution_count": null,
   "metadata": {
    "id": "mcaOwRzQlja1"
   },
   "outputs": [],
   "source": [
    "' '.join(my_string_list)"
   ]
  },
  {
   "cell_type": "code",
   "execution_count": null,
   "metadata": {},
   "outputs": [],
   "source": []
  }
 ],
 "metadata": {
  "colab": {
   "provenance": [],
   "toc_visible": true
  },
  "kernelspec": {
   "display_name": "Python 3 (ipykernel)",
   "language": "python",
   "name": "python3"
  },
  "language_info": {
   "codemirror_mode": {
    "name": "ipython",
    "version": 3
   },
   "file_extension": ".py",
   "mimetype": "text/x-python",
   "name": "python",
   "nbconvert_exporter": "python",
   "pygments_lexer": "ipython3",
   "version": "3.12.4"
  }
 },
 "nbformat": 4,
 "nbformat_minor": 4
}
